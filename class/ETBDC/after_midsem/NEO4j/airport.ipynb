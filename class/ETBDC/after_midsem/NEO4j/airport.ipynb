{
 "cells": [
  {
   "cell_type": "code",
   "execution_count": 1,
   "id": "f1afb469",
   "metadata": {},
   "outputs": [
    {
     "name": "stdout",
     "output_type": "stream",
     "text": [
      "root\n",
      " |-- DAY_OF_MONTH: integer (nullable = true)\n",
      " |-- DAY_OF_WEEK: integer (nullable = true)\n",
      " |-- OP_UNIQUE_CARRIER: string (nullable = true)\n",
      " |-- OP_CARRIER_AIRLINE_ID: integer (nullable = true)\n",
      " |-- OP_CARRIER: string (nullable = true)\n",
      " |-- TAIL_NUM: string (nullable = true)\n",
      " |-- OP_CARRIER_FL_NUM: integer (nullable = true)\n",
      " |-- ORIGIN_AIRPORT_ID: integer (nullable = true)\n",
      " |-- ORIGIN_AIRPORT_SEQ_ID: integer (nullable = true)\n",
      " |-- ORIGIN: string (nullable = true)\n",
      " |-- DEST_AIRPORT_ID: integer (nullable = true)\n",
      " |-- DEST_AIRPORT_SEQ_ID: integer (nullable = true)\n",
      " |-- DEST: string (nullable = true)\n",
      " |-- DEP_TIME: integer (nullable = true)\n",
      " |-- DEP_DEL15: integer (nullable = true)\n",
      " |-- DEP_TIME_BLK: string (nullable = true)\n",
      " |-- ARR_TIME: integer (nullable = true)\n",
      " |-- ARR_DEL15: integer (nullable = true)\n",
      " |-- CANCELLED: integer (nullable = true)\n",
      " |-- DIVERTED: integer (nullable = true)\n",
      " |-- DISTANCE: integer (nullable = true)\n",
      "\n"
     ]
    }
   ],
   "source": [
    "# import findspark\n",
    "# findspark.init()\n",
    "import pyspark # Call this only after findspark.init()\n",
    "from pyspark.context import SparkContext\n",
    "from pyspark.sql.session import SparkSession\n",
    "\n",
    "sc = SparkContext.getOrCreate()\n",
    "spark = SparkSession(sc)\n",
    "\n",
    "df = spark.read.csv('Jan_2019_ontime.csv', header = True, inferSchema = True)\n",
    "df.printSchema()"
   ]
  },
  {
   "cell_type": "code",
   "execution_count": 2,
   "id": "7befd4d4",
   "metadata": {},
   "outputs": [],
   "source": [
    "df_vertices = df.select('ORIGIN', 'ORIGIN_AIRPORT_ID').dropDuplicates(['ORIGIN']).withColumnRenamed('ORIGIN', 'id')"
   ]
  },
  {
   "cell_type": "code",
   "execution_count": 3,
   "id": "2bb72c18",
   "metadata": {},
   "outputs": [],
   "source": [
    "df_edges = df.withColumnRenamed('ORIGIN', 'src').withColumnRenamed('DEST', 'dst')"
   ]
  },
  {
   "cell_type": "code",
   "execution_count": 4,
   "id": "134943d3",
   "metadata": {
    "scrolled": true
   },
   "outputs": [
    {
     "name": "stderr",
     "output_type": "stream",
     "text": [
      "/opt/spark/python/pyspark/sql/dataframe.py:168: UserWarning: DataFrame.sql_ctx is an internal property, and will be removed in future releases. Use DataFrame.sparkSession instead.\n",
      "  warnings.warn(\n"
     ]
    }
   ],
   "source": [
    "from graphframes import *\n",
    "\n",
    "g = GraphFrame(df_vertices, df_edges)"
   ]
  },
  {
   "cell_type": "code",
   "execution_count": 7,
   "id": "4a5d7fde",
   "metadata": {},
   "outputs": [
    {
     "data": {
      "text/plain": [
       "GraphFrame(v:[id: string, ORIGIN_AIRPORT_ID: int], e:[src: string, dst: string ... 19 more fields])"
      ]
     },
     "execution_count": 7,
     "metadata": {},
     "output_type": "execute_result"
    }
   ],
   "source": [
    "g"
   ]
  },
  {
   "cell_type": "code",
   "execution_count": 20,
   "id": "07b44461",
   "metadata": {},
   "outputs": [],
   "source": [
    "factor_more_than_1 = g.edges.filter('DEP_DEL15 == 1')\n",
    "df3 = factor_more_than_1.select('src', 'DEP_DEL15').distinct().orderBy('src', ascending=False)\n",
    "factor_more_than_12 = g.edges.filter('ARR_DEL15 == 1')\n",
    "df4 = factor_more_than_12.select('dst', 'ARR_DEL15').distinct().orderBy('dst', ascending=False)"
   ]
  },
  {
   "cell_type": "code",
   "execution_count": 21,
   "id": "44dd26b9",
   "metadata": {},
   "outputs": [
    {
     "name": "stdout",
     "output_type": "stream",
     "text": [
      "+---+---------+---+---------+\n",
      "|dst|ARR_DEL15|src|DEP_DEL15|\n",
      "+---+---------+---+---------+\n",
      "|MSP|        1|MSP|        1|\n",
      "|DTW|        1|DTW|        1|\n",
      "|CVG|        1|CVG|        1|\n",
      "|ATL|        1|ATL|        1|\n",
      "+---+---------+---+---------+\n",
      "\n"
     ]
    }
   ],
   "source": [
    "inner = df4.join(df3, df3.src == df4.dst)\n",
    "inner.show()"
   ]
  },
  {
   "cell_type": "code",
   "execution_count": 22,
   "id": "25e00b00",
   "metadata": {},
   "outputs": [
    {
     "name": "stdout",
     "output_type": "stream",
     "text": [
      "+---+-----+\n",
      "|dst|count|\n",
      "+---+-----+\n",
      "|ATL|   38|\n",
      "|MSP|   14|\n",
      "|DTW|   12|\n",
      "|CVG|    5|\n",
      "|TYS|    4|\n",
      "|JFK|    4|\n",
      "|LGA|    3|\n",
      "|CAE|    3|\n",
      "|AGS|    3|\n",
      "|SHV|    2|\n",
      "|AVL|    2|\n",
      "|BOS|    2|\n",
      "|SDF|    2|\n",
      "|RIC|    2|\n",
      "|DAY|    2|\n",
      "|ILM|    2|\n",
      "|PIA|    2|\n",
      "|MGM|    2|\n",
      "|GNV|    2|\n",
      "|GTF|    1|\n",
      "+---+-----+\n",
      "only showing top 20 rows\n",
      "\n"
     ]
    }
   ],
   "source": [
    "g.edges.groupBy('dst').count().orderBy('count', ascending=False).show()"
   ]
  },
  {
   "cell_type": "code",
   "execution_count": 23,
   "id": "4b87f855",
   "metadata": {},
   "outputs": [
    {
     "name": "stdout",
     "output_type": "stream",
     "text": [
      "+---+-----+\n",
      "|src|count|\n",
      "+---+-----+\n",
      "|ATL|   42|\n",
      "|DTW|   13|\n",
      "|MSP|   10|\n",
      "|DSM|    4|\n",
      "|CVG|    3|\n",
      "|LGA|    3|\n",
      "|AGS|    3|\n",
      "|MSN|    2|\n",
      "|CWA|    2|\n",
      "|JAN|    2|\n",
      "|SDF|    2|\n",
      "|ELM|    2|\n",
      "|RIC|    2|\n",
      "|CAE|    2|\n",
      "|ILM|    2|\n",
      "|PIA|    2|\n",
      "|MGM|    2|\n",
      "|TYS|    2|\n",
      "|MDT|    2|\n",
      "|JAX|    2|\n",
      "+---+-----+\n",
      "only showing top 20 rows\n",
      "\n"
     ]
    }
   ],
   "source": [
    "g.edges.groupBy('src').count().orderBy('count', ascending=False).show()"
   ]
  },
  {
   "cell_type": "code",
   "execution_count": 24,
   "id": "8a1e94f7",
   "metadata": {},
   "outputs": [
    {
     "name": "stdout",
     "output_type": "stream",
     "text": [
      "+---+------+\n",
      "| id|degree|\n",
      "+---+------+\n",
      "|ATL|    80|\n",
      "|DTW|    25|\n",
      "|MSP|    24|\n",
      "+---+------+\n",
      "only showing top 3 rows\n",
      "\n"
     ]
    }
   ],
   "source": [
    "g.degrees.orderBy('degree', ascending=False).show(3)"
   ]
  },
  {
   "cell_type": "code",
   "execution_count": 25,
   "id": "de66037a",
   "metadata": {},
   "outputs": [
    {
     "name": "stdout",
     "output_type": "stream",
     "text": [
      "+---+---+--------+\n",
      "|src|dst|DISTANCE|\n",
      "+---+---+--------+\n",
      "|SAT|DTW|    1214|\n",
      "|SAT|MSP|    1097|\n",
      "|BDL|MSP|    1050|\n",
      "|DFW|DTW|     986|\n",
      "|MSP|RDU|     980|\n",
      "|MSP|RIC|     970|\n",
      "|BNA|BOS|     942|\n",
      "|BOS|BNA|     942|\n",
      "|MSP|GTF|     887|\n",
      "|ATL|LNK|     841|\n",
      "|JAX|LGA|     833|\n",
      "|LGA|JAX|     833|\n",
      "|ELM|ATL|     717|\n",
      "|ATL|ABE|     692|\n",
      "|ABE|ATL|     692|\n",
      "|ATL|TUL|     674|\n",
      "|TUL|ATL|     674|\n",
      "|ATL|EYW|     646|\n",
      "|EYW|ATL|     646|\n",
      "|CLE|MSP|     622|\n",
      "+---+---+--------+\n",
      "only showing top 20 rows\n",
      "\n"
     ]
    }
   ],
   "source": [
    "distance_greater = g.edges.select('src', 'dst', 'DISTANCE').filter('DISTANCE > 500').distinct().orderBy('DISTANCE', ascending=False)\n",
    "distance_greater.show()"
   ]
  },
  {
   "cell_type": "code",
   "execution_count": 26,
   "id": "ca14b773",
   "metadata": {},
   "outputs": [
    {
     "name": "stdout",
     "output_type": "stream",
     "text": [
      "+---+---+--------+\n",
      "|src|dst|DISTANCE|\n",
      "+---+---+--------+\n",
      "|SAT|DTW|    1214|\n",
      "|SAT|MSP|    1097|\n",
      "|BDL|MSP|    1050|\n",
      "|DFW|DTW|     986|\n",
      "|MSP|RDU|     980|\n",
      "|MSP|RIC|     970|\n",
      "|BOS|BNA|     942|\n",
      "|BNA|BOS|     942|\n",
      "|MSP|GTF|     887|\n",
      "|ATL|LNK|     841|\n",
      "|JAX|LGA|     833|\n",
      "|LGA|JAX|     833|\n",
      "|ELM|ATL|     717|\n",
      "|ATL|ABE|     692|\n",
      "|ABE|ATL|     692|\n",
      "|ATL|TUL|     674|\n",
      "|TUL|ATL|     674|\n",
      "|ATL|EYW|     646|\n",
      "|EYW|ATL|     646|\n",
      "|CLE|MSP|     622|\n",
      "+---+---+--------+\n",
      "only showing top 20 rows\n",
      "\n"
     ]
    }
   ],
   "source": [
    "from pyspark.sql.functions import desc\n",
    "distance = g.edges.select('src', 'dst', 'DISTANCE').distinct().sort(desc('DISTANCE'))\n",
    "distance.show()"
   ]
  },
  {
   "cell_type": "code",
   "execution_count": 27,
   "id": "67c9f427",
   "metadata": {},
   "outputs": [
    {
     "name": "stdout",
     "output_type": "stream",
     "text": [
      "+---+---+-----------------+\n",
      "| id| id|max(sum_distance)|\n",
      "+---+---+-----------------+\n",
      "|SAT|RIC|             2067|\n",
      "|BDL|RIC|             2020|\n",
      "|SAT|JFK|             1723|\n",
      "|SAT|CVG|             1693|\n",
      "|SAT|DAY|             1671|\n",
      "|SAT|TYS|             1657|\n",
      "|BDL|CVG|             1646|\n",
      "|BDL|DAY|             1624|\n",
      "|CLE|RIC|             1592|\n",
      "|SAT|EVV|             1577|\n",
      "|SDF|RIC|             1574|\n",
      "|CVG|RIC|             1566|\n",
      "|SAT|ELM|             1546|\n",
      "|DAY|RIC|             1544|\n",
      "|DFW|JFK|             1495|\n",
      "|IND|RIC|             1473|\n",
      "|RAP|RIC|             1459|\n",
      "|PIT|BNA|             1438|\n",
      "|DFW|TYS|             1429|\n",
      "|SAT|TVC|             1421|\n",
      "+---+---+-----------------+\n",
      "only showing top 20 rows\n",
      "\n"
     ]
    }
   ],
   "source": [
    "import pyspark.sql.functions as F\n",
    "sub = GraphFrame(g.vertices, distance)\n",
    "r = sub.find(\"(a)-[ab]->(b); (b)-[bc]->(c); !(a)-[]->(c)\").filter('c.id != a.id')\n",
    "r2 = r.withColumn(\"sum_distance\", r.ab.DISTANCE + r.bc.DISTANCE).groupby('a.id','c.id').max('sum_distance').sort(desc('max(sum_distance)')).show()\n"
   ]
  },
  {
   "cell_type": "code",
   "execution_count": 28,
   "id": "d3a39ab6",
   "metadata": {},
   "outputs": [
    {
     "data": {
      "text/plain": [
       "837"
      ]
     },
     "execution_count": 28,
     "metadata": {},
     "output_type": "execute_result"
    }
   ],
   "source": [
    "r.count()"
   ]
  },
  {
   "cell_type": "code",
   "execution_count": 15,
   "id": "19cfa40e",
   "metadata": {
    "scrolled": true
   },
   "outputs": [
    {
     "name": "stdout",
     "output_type": "stream",
     "text": [
      "+---+---+---+---+---+\n",
      "|  a| ab|  b| bc|  c|\n",
      "+---+---+---+---+---+\n",
      "+---+---+---+---+---+\n",
      "\n"
     ]
    }
   ],
   "source": [
    "sub2 = GraphFrame(g.vertices, distance)\n",
    "result = sub2.find(\"(a)-[ab]->(b); (b)-[bc]->(c); !(a)-[]->(c)\").filter(\"a.id = 'JFK'\").filter(\"c.id = 'EWR'\")\n",
    "result.show(100)"
   ]
  },
  {
   "cell_type": "code",
   "execution_count": null,
   "id": "3fe67951",
   "metadata": {},
   "outputs": [],
   "source": []
  },
  {
   "cell_type": "code",
   "execution_count": null,
   "id": "2234206c",
   "metadata": {},
   "outputs": [],
   "source": []
  }
 ],
 "metadata": {
  "kernelspec": {
   "display_name": "Python 3 (ipykernel)",
   "language": "python",
   "name": "python3"
  },
  "language_info": {
   "codemirror_mode": {
    "name": "ipython",
    "version": 3
   },
   "file_extension": ".py",
   "mimetype": "text/x-python",
   "name": "python",
   "nbconvert_exporter": "python",
   "pygments_lexer": "ipython3",
   "version": "3.10.12"
  }
 },
 "nbformat": 4,
 "nbformat_minor": 5
}
