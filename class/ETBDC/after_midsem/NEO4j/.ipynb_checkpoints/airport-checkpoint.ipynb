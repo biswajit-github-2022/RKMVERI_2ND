{
 "cells": [
  {
   "cell_type": "code",
   "execution_count": 1,
   "id": "f1afb469",
   "metadata": {},
   "outputs": [
    {
     "name": "stdout",
     "output_type": "stream",
     "text": [
      "root\n",
      " |-- DAY_OF_MONTH: integer (nullable = true)\n",
      " |-- DAY_OF_WEEK: integer (nullable = true)\n",
      " |-- OP_UNIQUE_CARRIER: string (nullable = true)\n",
      " |-- OP_CARRIER_AIRLINE_ID: integer (nullable = true)\n",
      " |-- OP_CARRIER: string (nullable = true)\n",
      " |-- TAIL_NUM: string (nullable = true)\n",
      " |-- OP_CARRIER_FL_NUM: integer (nullable = true)\n",
      " |-- ORIGIN_AIRPORT_ID: integer (nullable = true)\n",
      " |-- ORIGIN_AIRPORT_SEQ_ID: integer (nullable = true)\n",
      " |-- ORIGIN: string (nullable = true)\n",
      " |-- DEST_AIRPORT_ID: integer (nullable = true)\n",
      " |-- DEST_AIRPORT_SEQ_ID: integer (nullable = true)\n",
      " |-- DEST: string (nullable = true)\n",
      " |-- DEP_TIME: integer (nullable = true)\n",
      " |-- DEP_DEL15: integer (nullable = true)\n",
      " |-- DEP_TIME_BLK: string (nullable = true)\n",
      " |-- ARR_TIME: integer (nullable = true)\n",
      " |-- ARR_DEL15: integer (nullable = true)\n",
      " |-- CANCELLED: integer (nullable = true)\n",
      " |-- DIVERTED: integer (nullable = true)\n",
      " |-- DISTANCE: integer (nullable = true)\n",
      "\n"
     ]
    }
   ],
   "source": [
    "# import findspark\n",
    "# findspark.init()\n",
    "import pyspark # Call this only after findspark.init()\n",
    "from pyspark.context import SparkContext\n",
    "from pyspark.sql.session import SparkSession\n",
    "\n",
    "sc = SparkContext.getOrCreate()\n",
    "spark = SparkSession(sc)\n",
    "\n",
    "df = spark.read.csv('Jan_2019_ontime.csv', header = True, inferSchema = True)\n",
    "df.printSchema()"
   ]
  },
  {
   "cell_type": "code",
   "execution_count": 2,
   "id": "7befd4d4",
   "metadata": {},
   "outputs": [],
   "source": [
    "df_vertices = df.select('ORIGIN', 'ORIGIN_AIRPORT_ID').dropDuplicates(['ORIGIN']).withColumnRenamed('ORIGIN', 'id')"
   ]
  },
  {
   "cell_type": "code",
   "execution_count": 3,
   "id": "2bb72c18",
   "metadata": {},
   "outputs": [],
   "source": [
    "df_edges = df.withColumnRenamed('ORIGIN', 'src').withColumnRenamed('DEST', 'dst')"
   ]
  },
  {
   "cell_type": "code",
   "execution_count": 4,
   "id": "134943d3",
   "metadata": {
    "scrolled": true
   },
   "outputs": [
    {
     "ename": "ModuleNotFoundError",
     "evalue": "No module named 'graphframes'",
     "output_type": "error",
     "traceback": [
      "\u001b[0;31m---------------------------------------------------------------------------\u001b[0m",
      "\u001b[0;31mModuleNotFoundError\u001b[0m                       Traceback (most recent call last)",
      "\u001b[0;32m/tmp/ipykernel_10075/58126420.py\u001b[0m in \u001b[0;36m<module>\u001b[0;34m\u001b[0m\n\u001b[0;32m----> 1\u001b[0;31m \u001b[0;32mfrom\u001b[0m \u001b[0mgraphframes\u001b[0m \u001b[0;32mimport\u001b[0m \u001b[0;34m*\u001b[0m\u001b[0;34m\u001b[0m\u001b[0;34m\u001b[0m\u001b[0m\n\u001b[0m\u001b[1;32m      2\u001b[0m \u001b[0;34m\u001b[0m\u001b[0m\n\u001b[1;32m      3\u001b[0m \u001b[0mg\u001b[0m \u001b[0;34m=\u001b[0m \u001b[0mGraphFrame\u001b[0m\u001b[0;34m(\u001b[0m\u001b[0mdf_vertices\u001b[0m\u001b[0;34m,\u001b[0m \u001b[0mdf_edges\u001b[0m\u001b[0;34m)\u001b[0m\u001b[0;34m\u001b[0m\u001b[0;34m\u001b[0m\u001b[0m\n",
      "\u001b[0;31mModuleNotFoundError\u001b[0m: No module named 'graphframes'"
     ]
    }
   ],
   "source": [
    "from graphframes import *\n",
    "\n",
    "g = GraphFrame(df_vertices, df_edges)"
   ]
  },
  {
   "cell_type": "code",
   "execution_count": 10,
   "id": "07b44461",
   "metadata": {},
   "outputs": [],
   "source": [
    "factor_more_than_1 = g.edges.filter('DEP_DEL15 == 1')\n",
    "df3 = factor_more_than_1.select('src', 'DEP_DEL15').distinct().orderBy('src', ascending=False)\n",
    "factor_more_than_12 = g.edges.filter('ARR_DEL15 == 1')\n",
    "df4 = factor_more_than_12.select('dst', 'ARR_DEL15').distinct().orderBy('dst', ascending=False)"
   ]
  },
  {
   "cell_type": "code",
   "execution_count": 11,
   "id": "44dd26b9",
   "metadata": {},
   "outputs": [
    {
     "name": "stderr",
     "output_type": "stream",
     "text": [
      "                                                                                \r"
     ]
    },
    {
     "name": "stdout",
     "output_type": "stream",
     "text": [
      "+---+---------+---+---------+\n",
      "|dst|ARR_DEL15|src|DEP_DEL15|\n",
      "+---+---------+---+---------+\n",
      "|SMX|        1|SMX|        1|\n",
      "|RHI|        1|RHI|        1|\n",
      "|CAK|        1|CAK|        1|\n",
      "|HPN|        1|HPN|        1|\n",
      "|GUC|        1|GUC|        1|\n",
      "|LAN|        1|LAN|        1|\n",
      "|MBS|        1|MBS|        1|\n",
      "|RAP|        1|RAP|        1|\n",
      "|RNO|        1|RNO|        1|\n",
      "|OTZ|        1|OTZ|        1|\n",
      "|IMT|        1|IMT|        1|\n",
      "|BLV|        1|BLV|        1|\n",
      "|CDV|        1|CDV|        1|\n",
      "|LEX|        1|LEX|        1|\n",
      "|LGA|        1|LGA|        1|\n",
      "|PNS|        1|PNS|        1|\n",
      "|IAD|        1|IAD|        1|\n",
      "|JMS|        1|JMS|        1|\n",
      "|MSP|        1|MSP|        1|\n",
      "|PHX|        1|PHX|        1|\n",
      "+---+---------+---+---------+\n",
      "only showing top 20 rows\n",
      "\n"
     ]
    }
   ],
   "source": [
    "inner = df4.join(df3, df3.src == df4.dst)\n",
    "inner.show()"
   ]
  },
  {
   "cell_type": "code",
   "execution_count": 12,
   "id": "25e00b00",
   "metadata": {},
   "outputs": [
    {
     "name": "stderr",
     "output_type": "stream",
     "text": [
      "\r",
      "[Stage 8:>                                                          (0 + 4) / 4]\r"
     ]
    },
    {
     "name": "stdout",
     "output_type": "stream",
     "text": [
      "+---+-----+\n",
      "|dst|count|\n",
      "+---+-----+\n",
      "|ATL|31151|\n",
      "|ORD|26212|\n",
      "|DFW|23078|\n",
      "|CLT|19105|\n",
      "|DEN|18498|\n",
      "|LAX|17977|\n",
      "|PHX|14764|\n",
      "|IAH|14586|\n",
      "|LGA|13882|\n",
      "|SFO|13702|\n",
      "|LAS|13219|\n",
      "|MSP|12184|\n",
      "|DTW|12160|\n",
      "|MCO|12042|\n",
      "|DCA|11851|\n",
      "|BOS|11429|\n",
      "|EWR|10536|\n",
      "|JFK|10483|\n",
      "|SEA|10227|\n",
      "|SLC| 9360|\n",
      "+---+-----+\n",
      "only showing top 20 rows\n",
      "\n"
     ]
    },
    {
     "name": "stderr",
     "output_type": "stream",
     "text": [
      "\r",
      "                                                                                \r"
     ]
    }
   ],
   "source": [
    "g.edges.groupBy('dst').count().orderBy('count', ascending=False).show()"
   ]
  },
  {
   "cell_type": "code",
   "execution_count": 13,
   "id": "4b87f855",
   "metadata": {},
   "outputs": [
    {
     "name": "stdout",
     "output_type": "stream",
     "text": [
      "+---+-----+\n",
      "|src|count|\n",
      "+---+-----+\n",
      "|ATL|31155|\n",
      "|ORD|26216|\n",
      "|DFW|23063|\n",
      "|CLT|19100|\n",
      "|DEN|18507|\n",
      "|LAX|17988|\n",
      "|PHX|14761|\n",
      "|IAH|14598|\n",
      "|LGA|13872|\n",
      "|SFO|13689|\n",
      "|LAS|13209|\n",
      "|MSP|12180|\n",
      "|DTW|12172|\n",
      "|MCO|12045|\n",
      "|DCA|11839|\n",
      "|BOS|11430|\n",
      "|EWR|10522|\n",
      "|JFK|10485|\n",
      "|SEA|10230|\n",
      "|SLC| 9339|\n",
      "+---+-----+\n",
      "only showing top 20 rows\n",
      "\n"
     ]
    },
    {
     "name": "stderr",
     "output_type": "stream",
     "text": [
      "\r",
      "[Stage 11:===========================================>              (3 + 1) / 4]\r",
      "\r",
      "                                                                                \r"
     ]
    }
   ],
   "source": [
    "g.edges.groupBy('src').count().orderBy('count', ascending=False).show()"
   ]
  },
  {
   "cell_type": "code",
   "execution_count": 14,
   "id": "8a1e94f7",
   "metadata": {},
   "outputs": [
    {
     "name": "stderr",
     "output_type": "stream",
     "text": [
      "/opt/spark/python/pyspark/sql/dataframe.py:147: UserWarning: DataFrame constructor is internal. Do not directly use it.\n",
      "  warnings.warn(\"DataFrame constructor is internal. Do not directly use it.\")\n",
      "[Stage 14:>                                                         (0 + 4) / 4]\r"
     ]
    },
    {
     "name": "stdout",
     "output_type": "stream",
     "text": [
      "+---+------+\n",
      "| id|degree|\n",
      "+---+------+\n",
      "|ATL| 62306|\n",
      "|ORD| 52428|\n",
      "|DFW| 46141|\n",
      "+---+------+\n",
      "only showing top 3 rows\n",
      "\n"
     ]
    },
    {
     "name": "stderr",
     "output_type": "stream",
     "text": [
      "\r",
      "                                                                                \r"
     ]
    }
   ],
   "source": [
    "g.degrees.orderBy('degree', ascending=False).show(3)"
   ]
  },
  {
   "cell_type": "code",
   "execution_count": 15,
   "id": "de66037a",
   "metadata": {},
   "outputs": [
    {
     "name": "stderr",
     "output_type": "stream",
     "text": [
      "[Stage 17:=============================>                            (2 + 2) / 4]\r"
     ]
    },
    {
     "name": "stdout",
     "output_type": "stream",
     "text": [
      "+---+---+--------+\n",
      "|src|dst|DISTANCE|\n",
      "+---+---+--------+\n",
      "|HNL|JFK|    4983|\n",
      "|JFK|HNL|    4983|\n",
      "|HNL|EWR|    4962|\n",
      "|EWR|HNL|    4962|\n",
      "|IAD|HNL|    4817|\n",
      "|HNL|IAD|    4817|\n",
      "|HNL|ATL|    4502|\n",
      "|ATL|HNL|    4502|\n",
      "|ORD|HNL|    4243|\n",
      "|HNL|ORD|    4243|\n",
      "|OGG|ORD|    4184|\n",
      "|ORD|OGG|    4184|\n",
      "|MSP|HNL|    3972|\n",
      "|HNL|MSP|    3972|\n",
      "|IAH|HNL|    3904|\n",
      "|HNL|IAH|    3904|\n",
      "|HNL|GUM|    3801|\n",
      "|GUM|HNL|    3801|\n",
      "|DFW|HNL|    3784|\n",
      "|HNL|DFW|    3784|\n",
      "+---+---+--------+\n",
      "only showing top 20 rows\n",
      "\n"
     ]
    },
    {
     "name": "stderr",
     "output_type": "stream",
     "text": [
      "\r",
      "                                                                                \r"
     ]
    }
   ],
   "source": [
    "distance_greater = g.edges.select('src', 'dst', 'DISTANCE').filter('DISTANCE > 500').distinct().orderBy('DISTANCE', ascending=False)\n",
    "distance_greater.show()"
   ]
  },
  {
   "cell_type": "code",
   "execution_count": 16,
   "id": "ca14b773",
   "metadata": {},
   "outputs": [
    {
     "name": "stdout",
     "output_type": "stream",
     "text": [
      "+---+---+--------+\n",
      "|src|dst|DISTANCE|\n",
      "+---+---+--------+\n",
      "|HNL|JFK|    4983|\n",
      "|JFK|HNL|    4983|\n",
      "|HNL|EWR|    4962|\n",
      "|EWR|HNL|    4962|\n",
      "|IAD|HNL|    4817|\n",
      "|HNL|IAD|    4817|\n",
      "|HNL|ATL|    4502|\n",
      "|ATL|HNL|    4502|\n",
      "|ORD|HNL|    4243|\n",
      "|HNL|ORD|    4243|\n",
      "|OGG|ORD|    4184|\n",
      "|ORD|OGG|    4184|\n",
      "|MSP|HNL|    3972|\n",
      "|HNL|MSP|    3972|\n",
      "|IAH|HNL|    3904|\n",
      "|HNL|IAH|    3904|\n",
      "|HNL|GUM|    3801|\n",
      "|GUM|HNL|    3801|\n",
      "|DFW|HNL|    3784|\n",
      "|HNL|DFW|    3784|\n",
      "+---+---+--------+\n",
      "only showing top 20 rows\n",
      "\n"
     ]
    },
    {
     "name": "stderr",
     "output_type": "stream",
     "text": [
      "\r",
      "[Stage 20:>                                                         (0 + 4) / 4]\r",
      "\r",
      "                                                                                \r"
     ]
    }
   ],
   "source": [
    "from pyspark.sql.functions import desc\n",
    "distance = g.edges.select('src', 'dst', 'DISTANCE').distinct().sort(desc('DISTANCE'))\n",
    "distance.show()"
   ]
  },
  {
   "cell_type": "code",
   "execution_count": 17,
   "id": "67c9f427",
   "metadata": {},
   "outputs": [
    {
     "name": "stderr",
     "output_type": "stream",
     "text": [
      "[Stage 36:==============>                                           (1 + 3) / 4]\r"
     ]
    },
    {
     "name": "stdout",
     "output_type": "stream",
     "text": [
      "+---+---+-----------------+\n",
      "| id| id|max(sum_distance)|\n",
      "+---+---+-----------------+\n",
      "|EWR|JFK|             9945|\n",
      "|JFK|EWR|             9945|\n",
      "|JFK|IAH|             8887|\n",
      "|IAH|JFK|             8887|\n",
      "|JFK|GUM|             8784|\n",
      "|GUM|JFK|             8784|\n",
      "|GUM|EWR|             8763|\n",
      "|EWR|GUM|             8763|\n",
      "|IAD|GUM|             8618|\n",
      "|GUM|IAD|             8618|\n",
      "|GUM|ATL|             8303|\n",
      "|ATL|GUM|             8303|\n",
      "|ORD|GUM|             8044|\n",
      "|GUM|ORD|             8044|\n",
      "|GUM|MSP|             7773|\n",
      "|MSP|GUM|             7773|\n",
      "|JFK|ANC|             7760|\n",
      "|ANC|JFK|             7760|\n",
      "|EWR|ANC|             7739|\n",
      "|ANC|EWR|             7739|\n",
      "+---+---+-----------------+\n",
      "only showing top 20 rows\n",
      "\n"
     ]
    },
    {
     "name": "stderr",
     "output_type": "stream",
     "text": [
      "\r",
      "                                                                                \r"
     ]
    }
   ],
   "source": [
    "import pyspark.sql.functions as F\n",
    "sub = GraphFrame(g.vertices, distance)\n",
    "r = sub.find(\"(a)-[ab]->(b); (b)-[bc]->(c); !(a)-[]->(c)\").filter('c.id != a.id')\n",
    "r2 = r.withColumn(\"sum_distance\", r.ab.DISTANCE + r.bc.DISTANCE).groupby('a.id','c.id').max('sum_distance').sort(desc('max(sum_distance)')).show()\n"
   ]
  },
  {
   "cell_type": "code",
   "execution_count": 19,
   "id": "d3a39ab6",
   "metadata": {},
   "outputs": [
    {
     "name": "stderr",
     "output_type": "stream",
     "text": [
      "                                                                                \r"
     ]
    },
    {
     "data": {
      "text/plain": [
       "222753"
      ]
     },
     "execution_count": 19,
     "metadata": {},
     "output_type": "execute_result"
    }
   ],
   "source": [
    "r.count()"
   ]
  },
  {
   "cell_type": "code",
   "execution_count": 18,
   "id": "19cfa40e",
   "metadata": {
    "scrolled": true
   },
   "outputs": [
    {
     "name": "stderr",
     "output_type": "stream",
     "text": [
      "                                                                                \r"
     ]
    },
    {
     "name": "stdout",
     "output_type": "stream",
     "text": [
      "+------------+----------------+------------+----------------+------------+\n",
      "|           a|              ab|           b|              bc|           c|\n",
      "+------------+----------------+------------+----------------+------------+\n",
      "|{JFK, 12478}| {JFK, CLE, 425}|{CLE, 11042}| {CLE, EWR, 404}|{EWR, 11618}|\n",
      "|{JFK, 12478}|{JFK, STT, 1623}|{STT, 15024}|{STT, EWR, 1634}|{EWR, 11618}|\n",
      "|{JFK, 12478}|{JFK, EGE, 1746}|{EGE, 11503}|{EGE, EWR, 1725}|{EWR, 11618}|\n",
      "|{JFK, 12478}| {JFK, RDU, 427}|{RDU, 14492}| {RDU, EWR, 416}|{EWR, 11618}|\n",
      "|{JFK, 12478}|{JFK, PBI, 1028}|{PBI, 14027}|{PBI, EWR, 1023}|{EWR, 11618}|\n",
      "|{JFK, 12478}|{JFK, MSY, 1182}|{MSY, 13495}|{MSY, EWR, 1167}|{EWR, 11618}|\n",
      "|{JFK, 12478}|{JFK, JAC, 1894}|{JAC, 12441}|{JAC, EWR, 1874}|{EWR, 11618}|\n",
      "|{JFK, 12478}| {JFK, ROC, 264}|{ROC, 14576}| {ROC, EWR, 246}|{EWR, 11618}|\n",
      "|{JFK, 12478}| {JFK, ORF, 290}|{ORF, 13931}| {ORF, EWR, 284}|{EWR, 11618}|\n",
      "|{JFK, 12478}|{JFK, SJC, 2569}|{SJC, 14831}|{SJC, EWR, 2548}|{EWR, 11618}|\n",
      "|{JFK, 12478}| {JFK, ORD, 740}|{ORD, 13930}| {ORD, EWR, 719}|{EWR, 11618}|\n",
      "|{JFK, 12478}| {JFK, JAX, 828}|{JAX, 12451}| {JAX, EWR, 820}|{EWR, 11618}|\n",
      "|{JFK, 12478}|{JFK, PDX, 2454}|{PDX, 14057}|{PDX, EWR, 2434}|{EWR, 11618}|\n",
      "|{JFK, 12478}| {JFK, MCO, 944}|{MCO, 13204}| {MCO, EWR, 937}|{EWR, 11618}|\n",
      "|{JFK, 12478}|{JFK, SEA, 2422}|{SEA, 14747}|{SEA, EWR, 2402}|{EWR, 11618}|\n",
      "|{JFK, 12478}|{JFK, TPA, 1005}|{TPA, 15304}| {TPA, EWR, 997}|{EWR, 11618}|\n",
      "|{JFK, 12478}| {JFK, SYR, 209}|{SYR, 15096}| {SYR, EWR, 195}|{EWR, 11618}|\n",
      "|{JFK, 12478}|{JFK, RSW, 1074}|{RSW, 14635}|{RSW, EWR, 1068}|{EWR, 11618}|\n",
      "|{JFK, 12478}|{JFK, LAX, 2475}|{LAX, 12892}|{LAX, EWR, 2454}|{EWR, 11618}|\n",
      "|{JFK, 12478}|{JFK, SAN, 2446}|{SAN, 14679}|{SAN, EWR, 2425}|{EWR, 11618}|\n",
      "|{JFK, 12478}| {JFK, CLT, 541}|{CLT, 11057}| {CLT, EWR, 529}|{EWR, 11618}|\n",
      "|{JFK, 12478}|{JFK, OAK, 2576}|{OAK, 13796}|{OAK, EWR, 2555}|{EWR, 11618}|\n",
      "|{JFK, 12478}|{JFK, MSP, 1029}|{MSP, 13487}|{MSP, EWR, 1008}|{EWR, 11618}|\n",
      "|{JFK, 12478}| {JFK, CVG, 589}|{CVG, 11193}| {CVG, EWR, 569}|{EWR, 11618}|\n",
      "|{JFK, 12478}| {JFK, CMH, 483}|{CMH, 11066}| {CMH, EWR, 463}|{EWR, 11618}|\n",
      "|{JFK, 12478}|{JFK, SMF, 2521}|{SMF, 14893}|{SMF, EWR, 2500}|{EWR, 11618}|\n",
      "|{JFK, 12478}| {JFK, BOS, 187}|{BOS, 10721}| {BOS, EWR, 200}|{EWR, 11618}|\n",
      "|{JFK, 12478}| {JFK, BNA, 765}|{BNA, 10693}| {BNA, EWR, 748}|{EWR, 11618}|\n",
      "|{JFK, 12478}| {JFK, DCA, 213}|{DCA, 11278}| {DCA, EWR, 199}|{EWR, 11618}|\n",
      "|{JFK, 12478}|{JFK, SLC, 1990}|{SLC, 14869}|{SLC, EWR, 1969}|{EWR, 11618}|\n",
      "|{JFK, 12478}| {JFK, PWM, 273}|{PWM, 14321}| {PWM, EWR, 284}|{EWR, 11618}|\n",
      "|{JFK, 12478}|{JFK, LAS, 2248}|{LAS, 12889}|{LAS, EWR, 2227}|{EWR, 11618}|\n",
      "|{JFK, 12478}| {JFK, BUF, 301}|{BUF, 10792}| {BUF, EWR, 282}|{EWR, 11618}|\n",
      "|{JFK, 12478}|{JFK, AUS, 1521}|{AUS, 10423}|{AUS, EWR, 1504}|{EWR, 11618}|\n",
      "|{JFK, 12478}|{JFK, FLL, 1069}|{FLL, 11697}|{FLL, EWR, 1065}|{EWR, 11618}|\n",
      "|{JFK, 12478}|{JFK, SRQ, 1041}|{SRQ, 14986}|{SRQ, EWR, 1034}|{EWR, 11618}|\n",
      "|{JFK, 12478}|{JFK, HNL, 4983}|{HNL, 12173}|{HNL, EWR, 4962}|{EWR, 11618}|\n",
      "|{JFK, 12478}| {JFK, ATL, 760}|{ATL, 10397}| {ATL, EWR, 746}|{EWR, 11618}|\n",
      "|{JFK, 12478}|{JFK, DFW, 1391}|{DFW, 11298}|{DFW, EWR, 1372}|{EWR, 11618}|\n",
      "|{JFK, 12478}|{JFK, SAT, 1587}|{SAT, 14683}|{SAT, EWR, 1569}|{EWR, 11618}|\n",
      "|{JFK, 12478}|{JFK, SJU, 1598}|{SJU, 14843}|{SJU, EWR, 1608}|{EWR, 11618}|\n",
      "|{JFK, 12478}| {JFK, IAD, 228}|{IAD, 12264}| {IAD, EWR, 212}|{EWR, 11618}|\n",
      "|{JFK, 12478}| {JFK, SAV, 718}|{SAV, 14685}| {SAV, EWR, 708}|{EWR, 11618}|\n",
      "|{JFK, 12478}|{JFK, BQN, 1576}|{BQN, 10732}|{BQN, EWR, 1585}|{EWR, 11618}|\n",
      "|{JFK, 12478}| {JFK, RIC, 288}|{RIC, 14524}| {RIC, EWR, 277}|{EWR, 11618}|\n",
      "|{JFK, 12478}| {JFK, PIT, 340}|{PIT, 14122}| {PIT, EWR, 319}|{EWR, 11618}|\n",
      "|{JFK, 12478}|{JFK, SNA, 2454}|{SNA, 14908}|{SNA, EWR, 2434}|{EWR, 11618}|\n",
      "|{JFK, 12478}|{JFK, MIA, 1089}|{MIA, 13303}|{MIA, EWR, 1085}|{EWR, 11618}|\n",
      "|{JFK, 12478}| {JFK, DTW, 509}|{DTW, 11433}| {DTW, EWR, 488}|{EWR, 11618}|\n",
      "|{JFK, 12478}|{JFK, PSP, 2378}|{PSP, 14262}|{PSP, EWR, 2358}|{EWR, 11618}|\n",
      "|{JFK, 12478}|{JFK, DEN, 1626}|{DEN, 11292}|{DEN, EWR, 1605}|{EWR, 11618}|\n",
      "|{JFK, 12478}| {JFK, IND, 665}|{IND, 12339}| {IND, EWR, 645}|{EWR, 11618}|\n",
      "|{JFK, 12478}| {JFK, BTV, 266}|{BTV, 10785}| {BTV, EWR, 266}|{EWR, 11618}|\n",
      "|{JFK, 12478}| {JFK, CHS, 636}|{CHS, 10994}| {CHS, EWR, 628}|{EWR, 11618}|\n",
      "|{JFK, 12478}|{JFK, SFO, 2586}|{SFO, 14771}|{SFO, EWR, 2565}|{EWR, 11618}|\n",
      "|{JFK, 12478}|{JFK, PHX, 2153}|{PHX, 14107}|{PHX, EWR, 2133}|{EWR, 11618}|\n",
      "+------------+----------------+------------+----------------+------------+\n",
      "\n"
     ]
    }
   ],
   "source": [
    "sub2 = GraphFrame(g.vertices, distance)\n",
    "result = sub2.find(\"(a)-[ab]->(b); (b)-[bc]->(c); !(a)-[]->(c)\").filter(\"a.id = 'JFK'\").filter(\"c.id = 'EWR'\")\n",
    "result.show(100)"
   ]
  },
  {
   "cell_type": "code",
   "execution_count": null,
   "id": "3fe67951",
   "metadata": {},
   "outputs": [],
   "source": []
  },
  {
   "cell_type": "code",
   "execution_count": null,
   "id": "2234206c",
   "metadata": {},
   "outputs": [],
   "source": []
  }
 ],
 "metadata": {
  "kernelspec": {
   "display_name": "Python 3 (ipykernel)",
   "language": "python",
   "name": "python3"
  },
  "language_info": {
   "codemirror_mode": {
    "name": "ipython",
    "version": 3
   },
   "file_extension": ".py",
   "mimetype": "text/x-python",
   "name": "python",
   "nbconvert_exporter": "python",
   "pygments_lexer": "ipython3",
   "version": "3.10.12"
  }
 },
 "nbformat": 4,
 "nbformat_minor": 5
}
