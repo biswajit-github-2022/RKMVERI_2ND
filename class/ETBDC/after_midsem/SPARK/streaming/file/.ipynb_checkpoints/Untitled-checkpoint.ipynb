{
 "cells": [
  {
   "cell_type": "code",
   "execution_count": null,
   "id": "b880c2e6-0b3f-417b-84d6-2f28967d81f5",
   "metadata": {},
   "outputs": [
    {
     "name": "stderr",
     "output_type": "stream",
     "text": [
      "24/04/05 11:58:57 WARN ResolveWriteToStream: Temporary checkpoint location created which is deleted normally when the query didn't fail: /tmp/temporary-4b324351-6363-426e-b337-f1829ae446ff. If it's required to delete it under any circumstances, please set spark.sql.streaming.forceDeleteTempCheckpointLocation to true. Important to know deleting temp checkpoint folder is best effort.\n",
      "24/04/05 11:58:57 WARN ResolveWriteToStream: spark.sql.adaptive.enabled is not supported in streaming DataFrames/Datasets and will be disabled.\n",
      "                                                                                \r"
     ]
    },
    {
     "name": "stdout",
     "output_type": "stream",
     "text": [
      "-------------------------------------------\n",
      "Batch: 0\n",
      "-------------------------------------------\n",
      "+--------------------+------------------+\n",
      "|              window|  avg(vowel_count)|\n",
      "+--------------------+------------------+\n",
      "|{2024-04-05 11:58...|1.6860587002096437|\n",
      "|{2024-04-05 11:58...|1.6860587002096437|\n",
      "+--------------------+------------------+\n",
      "\n"
     ]
    }
   ],
   "source": [
    "from pyspark.sql import SparkSession\n",
    "from pyspark.sql.functions import split, explode, window, current_timestamp, udf\n",
    "from pyspark.sql.types import IntegerType\n",
    "\n",
    "# Create SparkSession\n",
    "spark = SparkSession.builder \\\n",
    "    .appName(\"MovingAverageStreamingFromFile\") \\\n",
    "    .getOrCreate()\n",
    "\n",
    "# Define a custom function to count vowels in a word\n",
    "def count_vowels(word):\n",
    "    vowels = \"aeiouAEIOU\"\n",
    "    return sum(1 for letter in word if letter in vowels)\n",
    "\n",
    "# Register the custom function as a UDF\n",
    "count_vowels_udf = udf(count_vowels, IntegerType())\n",
    "\n",
    "# Read streaming data from a file (initial path)\n",
    "initial_path = \"./\"\n",
    "lines = spark.readStream \\\n",
    "    .format(\"text\") \\\n",
    "    .load(initial_path)\n",
    "\n",
    "# Split the lines into words and add a timestamp\n",
    "words = lines.select(explode(split(lines.value, \" \")).alias(\"word\"), current_timestamp().alias(\"timestamp\"))\n",
    "\n",
    "# Apply the custom function to count vowels in each word\n",
    "words_with_vowel_count = words.withColumn(\"vowel_count\", count_vowels_udf(words.word))\n",
    "\n",
    "# Define a sliding window of 10 seconds with a slide duration of 5 seconds\n",
    "windowedAvgVowelCount = words_with_vowel_count \\\n",
    "    .groupBy(window(words_with_vowel_count.timestamp, \"10 seconds\", \"5 seconds\")) \\\n",
    "    .agg({\"vowel_count\": \"avg\"})\n",
    "\n",
    "# Output the moving average of vowel counts to the console\n",
    "query = windowedAvgVowelCount \\\n",
    "    .writeStream \\\n",
    "    .outputMode(\"complete\") \\\n",
    "    .format(\"console\") \\\n",
    "    .start()\n",
    "\n",
    "# Wait for the streaming to finish\n",
    "query.awaitTermination()\n",
    "\n",
    "# Stop the SparkSession\n",
    "spark.stop()\n"
   ]
  },
  {
   "cell_type": "code",
   "execution_count": null,
   "id": "d48169a3-2687-43ea-a1a9-060f01c1c26b",
   "metadata": {},
   "outputs": [],
   "source": []
  }
 ],
 "metadata": {
  "kernelspec": {
   "display_name": "Python 3 (ipykernel)",
   "language": "python",
   "name": "python3"
  },
  "language_info": {
   "codemirror_mode": {
    "name": "ipython",
    "version": 3
   },
   "file_extension": ".py",
   "mimetype": "text/x-python",
   "name": "python",
   "nbconvert_exporter": "python",
   "pygments_lexer": "ipython3",
   "version": "3.10.12"
  }
 },
 "nbformat": 4,
 "nbformat_minor": 5
}
