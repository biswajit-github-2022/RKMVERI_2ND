{
 "cells": [
  {
   "cell_type": "code",
   "execution_count": null,
   "id": "8d4a6b6b-9f61-468f-9617-cc4246c0d491",
   "metadata": {},
   "outputs": [],
   "source": [
    "from pyspark.sql import SparkSession\n",
    "from pyspark.sql.functions import split, explode, window, current_timestamp\n",
    "\n",
    "# Create SparkSession\n",
    "spark = SparkSession.builder \\\n",
    "    .appName(\"SlidingWindowExample\") \\\n",
    "    .getOrCreate()\n",
    "\n",
    "# Read streaming data from a TCP socket\n",
    "lines = spark.readStream \\\n",
    "    .format(\"socket\") \\\n",
    "    .option(\"host\", \"localhost\") \\\n",
    "    .option(\"port\", 9999) \\\n",
    "    .load()\n",
    "\n",
    "# Split the lines into words and add a timestamp\n",
    "words = lines.select(explode(split(lines.value, \" \")).alias(\"word\"), current_timestamp().alias(\"timestamp\"))\n",
    "\n",
    "# Define a sliding window of 10 seconds with a slide duration of 5 seconds\n",
    "windowedCounts = words \\\n",
    "    .groupBy(window(words.timestamp, \"10 seconds\", \"5 seconds\"), words.word) \\\n",
    "    .count()\n",
    "\n",
    "# Output the word counts to the console\n",
    "query = windowedCounts \\\n",
    "    .writeStream \\\n",
    "    .outputMode(\"complete\") \\\n",
    "    .format(\"console\") \\\n",
    "    .option(\"truncate\", False) \\\n",
    "    .start()\n",
    "\n",
    "\n",
    "# Wait for the streaming to finish\n",
    "query.awaitTermination()\n",
    "\n",
    "# Stop the SparkSession\n",
    "spark.stop()\n"
   ]
  },
  {
   "cell_type": "code",
   "execution_count": null,
   "id": "c5d8d919",
   "metadata": {},
   "outputs": [],
   "source": []
  },
  {
   "cell_type": "code",
   "execution_count": 2,
   "id": "45bc47e5",
   "metadata": {},
   "outputs": [],
   "source": [
    "## Stock\n"
   ]
  },
  {
   "cell_type": "code",
   "execution_count": null,
   "id": "cf4ccbe9-7f3e-4120-ba6a-373f6fdcc772",
   "metadata": {},
   "outputs": [
    {
     "name": "stderr",
     "output_type": "stream",
     "text": [
      "24/05/13 00:55:50 WARN TextSocketSourceProvider: The socket source should not be used for production applications! It does not support recovery.\n",
      "24/05/13 00:55:50 WARN ResolveWriteToStream: Temporary checkpoint location created which is deleted normally when the query didn't fail: /tmp/temporary-72c9003b-46db-4e6b-9126-0c72186f975e. If it's required to delete it under any circumstances, please set spark.sql.streaming.forceDeleteTempCheckpointLocation to true. Important to know deleting temp checkpoint folder is best effort.\n",
      "24/05/13 00:55:50 WARN ResolveWriteToStream: spark.sql.adaptive.enabled is not supported in streaming DataFrames/Datasets and will be disabled.\n",
      "                                                                                \r"
     ]
    },
    {
     "name": "stdout",
     "output_type": "stream",
     "text": [
      "-------------------------------------------\n",
      "Batch: 0\n",
      "-------------------------------------------\n",
      "+------+---------+\n",
      "|window|avg(word)|\n",
      "+------+---------+\n",
      "+------+---------+\n",
      "\n"
     ]
    },
    {
     "name": "stderr",
     "output_type": "stream",
     "text": [
      "                                                                                \r"
     ]
    },
    {
     "name": "stdout",
     "output_type": "stream",
     "text": [
      "-------------------------------------------\n",
      "Batch: 1\n",
      "-------------------------------------------\n",
      "+------------------------------------------+---------+\n",
      "|window                                    |avg(word)|\n",
      "+------------------------------------------+---------+\n",
      "|{2024-05-13 00:55:50, 2024-05-13 00:56:00}|1.0      |\n",
      "|{2024-05-13 00:55:55, 2024-05-13 00:56:05}|1.0      |\n",
      "+------------------------------------------+---------+\n",
      "\n"
     ]
    },
    {
     "name": "stderr",
     "output_type": "stream",
     "text": [
      "                                                                                \r"
     ]
    },
    {
     "name": "stdout",
     "output_type": "stream",
     "text": [
      "-------------------------------------------\n",
      "Batch: 2\n",
      "-------------------------------------------\n",
      "+------------------------------------------+---------+\n",
      "|window                                    |avg(word)|\n",
      "+------------------------------------------+---------+\n",
      "|{2024-05-13 00:55:50, 2024-05-13 00:56:00}|2.5      |\n",
      "|{2024-05-13 00:55:55, 2024-05-13 00:56:05}|2.5      |\n",
      "+------------------------------------------+---------+\n",
      "\n"
     ]
    },
    {
     "name": "stderr",
     "output_type": "stream",
     "text": [
      "                                                                                \r"
     ]
    },
    {
     "name": "stdout",
     "output_type": "stream",
     "text": [
      "-------------------------------------------\n",
      "Batch: 3\n",
      "-------------------------------------------\n",
      "+------------------------------------------+---------+\n",
      "|window                                    |avg(word)|\n",
      "+------------------------------------------+---------+\n",
      "|{2024-05-13 00:56:10, 2024-05-13 00:56:20}|3.0      |\n",
      "|{2024-05-13 00:56:05, 2024-05-13 00:56:15}|3.0      |\n",
      "|{2024-05-13 00:55:50, 2024-05-13 00:56:00}|2.5      |\n",
      "|{2024-05-13 00:55:55, 2024-05-13 00:56:05}|2.5      |\n",
      "+------------------------------------------+---------+\n",
      "\n"
     ]
    },
    {
     "name": "stderr",
     "output_type": "stream",
     "text": [
      "                                                                                \r"
     ]
    },
    {
     "name": "stdout",
     "output_type": "stream",
     "text": [
      "-------------------------------------------\n",
      "Batch: 4\n",
      "-------------------------------------------\n",
      "+------------------------------------------+---------+\n",
      "|window                                    |avg(word)|\n",
      "+------------------------------------------+---------+\n",
      "|{2024-05-13 00:56:10, 2024-05-13 00:56:20}|3.5      |\n",
      "|{2024-05-13 00:56:05, 2024-05-13 00:56:15}|3.5      |\n",
      "|{2024-05-13 00:55:50, 2024-05-13 00:56:00}|2.5      |\n",
      "|{2024-05-13 00:55:55, 2024-05-13 00:56:05}|2.5      |\n",
      "+------------------------------------------+---------+\n",
      "\n"
     ]
    },
    {
     "name": "stderr",
     "output_type": "stream",
     "text": [
      "                                                                                \r"
     ]
    },
    {
     "name": "stdout",
     "output_type": "stream",
     "text": [
      "-------------------------------------------\n",
      "Batch: 5\n",
      "-------------------------------------------\n",
      "+------------------------------------------+---------+\n",
      "|window                                    |avg(word)|\n",
      "+------------------------------------------+---------+\n",
      "|{2024-05-13 00:56:10, 2024-05-13 00:56:20}|3.5      |\n",
      "|{2024-05-13 00:56:20, 2024-05-13 00:56:30}|100.0    |\n",
      "|{2024-05-13 00:56:05, 2024-05-13 00:56:15}|3.5      |\n",
      "|{2024-05-13 00:56:15, 2024-05-13 00:56:25}|100.0    |\n",
      "|{2024-05-13 00:55:50, 2024-05-13 00:56:00}|2.5      |\n",
      "|{2024-05-13 00:55:55, 2024-05-13 00:56:05}|2.5      |\n",
      "+------------------------------------------+---------+\n",
      "\n"
     ]
    },
    {
     "name": "stderr",
     "output_type": "stream",
     "text": [
      "                                                                                \r"
     ]
    },
    {
     "name": "stdout",
     "output_type": "stream",
     "text": [
      "-------------------------------------------\n",
      "Batch: 6\n",
      "-------------------------------------------\n",
      "+------------------------------------------+---------+\n",
      "|window                                    |avg(word)|\n",
      "+------------------------------------------+---------+\n",
      "|{2024-05-13 00:56:10, 2024-05-13 00:56:20}|3.5      |\n",
      "|{2024-05-13 00:56:35, 2024-05-13 00:56:45}|200.0    |\n",
      "|{2024-05-13 00:56:20, 2024-05-13 00:56:30}|100.0    |\n",
      "|{2024-05-13 00:56:05, 2024-05-13 00:56:15}|3.5      |\n",
      "|{2024-05-13 00:56:40, 2024-05-13 00:56:50}|200.0    |\n",
      "|{2024-05-13 00:56:15, 2024-05-13 00:56:25}|100.0    |\n",
      "|{2024-05-13 00:55:50, 2024-05-13 00:56:00}|2.5      |\n",
      "|{2024-05-13 00:55:55, 2024-05-13 00:56:05}|2.5      |\n",
      "+------------------------------------------+---------+\n",
      "\n"
     ]
    },
    {
     "name": "stderr",
     "output_type": "stream",
     "text": [
      "                                                                                \r"
     ]
    },
    {
     "name": "stdout",
     "output_type": "stream",
     "text": [
      "-------------------------------------------\n",
      "Batch: 7\n",
      "-------------------------------------------\n",
      "+------------------------------------------+---------+\n",
      "|window                                    |avg(word)|\n",
      "+------------------------------------------+---------+\n",
      "|{2024-05-13 00:56:10, 2024-05-13 00:56:20}|3.5      |\n",
      "|{2024-05-13 00:56:35, 2024-05-13 00:56:45}|200.0    |\n",
      "|{2024-05-13 00:56:50, 2024-05-13 00:57:00}|300.0    |\n",
      "|{2024-05-13 00:56:45, 2024-05-13 00:56:55}|300.0    |\n",
      "|{2024-05-13 00:56:20, 2024-05-13 00:56:30}|100.0    |\n",
      "|{2024-05-13 00:56:05, 2024-05-13 00:56:15}|3.5      |\n",
      "|{2024-05-13 00:56:40, 2024-05-13 00:56:50}|200.0    |\n",
      "|{2024-05-13 00:56:15, 2024-05-13 00:56:25}|100.0    |\n",
      "|{2024-05-13 00:55:50, 2024-05-13 00:56:00}|2.5      |\n",
      "|{2024-05-13 00:55:55, 2024-05-13 00:56:05}|2.5      |\n",
      "+------------------------------------------+---------+\n",
      "\n"
     ]
    },
    {
     "name": "stderr",
     "output_type": "stream",
     "text": [
      "                                                                                \r"
     ]
    },
    {
     "name": "stdout",
     "output_type": "stream",
     "text": [
      "-------------------------------------------\n",
      "Batch: 8\n",
      "-------------------------------------------\n",
      "+------------------------------------------+---------+\n",
      "|window                                    |avg(word)|\n",
      "+------------------------------------------+---------+\n",
      "|{2024-05-13 00:56:10, 2024-05-13 00:56:20}|3.5      |\n",
      "|{2024-05-13 00:56:35, 2024-05-13 00:56:45}|200.0    |\n",
      "|{2024-05-13 00:56:50, 2024-05-13 00:57:00}|350.0    |\n",
      "|{2024-05-13 00:56:45, 2024-05-13 00:56:55}|350.0    |\n",
      "|{2024-05-13 00:56:20, 2024-05-13 00:56:30}|100.0    |\n",
      "|{2024-05-13 00:56:05, 2024-05-13 00:56:15}|3.5      |\n",
      "|{2024-05-13 00:56:40, 2024-05-13 00:56:50}|200.0    |\n",
      "|{2024-05-13 00:56:15, 2024-05-13 00:56:25}|100.0    |\n",
      "|{2024-05-13 00:55:50, 2024-05-13 00:56:00}|2.5      |\n",
      "|{2024-05-13 00:55:55, 2024-05-13 00:56:05}|2.5      |\n",
      "+------------------------------------------+---------+\n",
      "\n"
     ]
    }
   ],
   "source": [
    "from pyspark.sql import SparkSession\n",
    "from pyspark.sql.functions import split, explode, window, current_timestamp, col\n",
    "from pyspark.sql.types import IntegerType\n",
    "\n",
    "# Create SparkSession\n",
    "spark = SparkSession.builder \\\n",
    "    .appName(\"SlidingWindowExample\") \\\n",
    "    .getOrCreate()\n",
    "\n",
    "# Read streaming data from a TCP socket\n",
    "lines = spark.readStream \\\n",
    "    .format(\"socket\") \\\n",
    "    .option(\"host\", \"localhost\") \\\n",
    "    .option(\"port\", 9999) \\\n",
    "    .load()\n",
    "\n",
    "# Split the lines into words and add a timestamp\n",
    "words = lines.select(explode(split(lines.value, \" \")).alias(\"word\"), current_timestamp().alias(\"timestamp\"))\n",
    "words = words.withColumn(\"word\", col(\"word\").cast(IntegerType()))\n",
    "\n",
    "# Define the initial sliding window of 10 seconds with a slide duration of 1 second\n",
    "windowedCounts = words \\\n",
    "    .groupBy(window(words.timestamp, \"10 seconds\", \"5 seconds\")) \\\n",
    "    .agg({\"word\": \"avg\"})\n",
    "\n",
    "# Output the initial windowed averages to the console\n",
    "query1 = windowedCounts \\\n",
    "    .writeStream \\\n",
    "    .outputMode(\"complete\") \\\n",
    "    .format(\"console\") \\\n",
    "    .option(\"truncate\", False) \\\n",
    "    .start()\n",
    "\n",
    "# Define a new sliding window with a smaller slide duration (e.g., 5 seconds)\n",
    "# windowedCounts2 = words \\\n",
    "#     .groupBy(window(words.timestamp, \"10 seconds\", \"5 seconds\")) \\\n",
    "#     .agg({\"word\": \"avg\"})\n",
    "\n",
    "# # Output the new windowed averages to the console\n",
    "# query2 = windowedCounts2 \\\n",
    "#     .writeStream \\\n",
    "#     .outputMode(\"complete\") \\\n",
    "#     .format(\"console\") \\\n",
    "#     .option(\"truncate\", False) \\\n",
    "#     .start()\n",
    "\n",
    "# Wait for the streaming to finish\n",
    "query1.awaitTermination()\n",
    "# query2.awaitTermination()\n",
    "\n",
    "# Stop the SparkSession\n",
    "spark.stop()\n"
   ]
  },
  {
   "cell_type": "code",
   "execution_count": null,
   "id": "757e5deb",
   "metadata": {},
   "outputs": [],
   "source": []
  }
 ],
 "metadata": {
  "kernelspec": {
   "display_name": "Python 3 (ipykernel)",
   "language": "python",
   "name": "python3"
  },
  "language_info": {
   "codemirror_mode": {
    "name": "ipython",
    "version": 3
   },
   "file_extension": ".py",
   "mimetype": "text/x-python",
   "name": "python",
   "nbconvert_exporter": "python",
   "pygments_lexer": "ipython3",
   "version": "3.10.12"
  }
 },
 "nbformat": 4,
 "nbformat_minor": 5
}
