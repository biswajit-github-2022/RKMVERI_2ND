{
 "cells": [
  {
   "cell_type": "code",
   "execution_count": 1,
   "metadata": {
    "scrolled": true
   },
   "outputs": [
    {
     "name": "stdout",
     "output_type": "stream",
     "text": [
      "3\n",
      "3\n",
      "5\n"
     ]
    }
   ],
   "source": [
    "import sys\n",
    " \n",
    "from pyspark import SparkContext, SparkConf\n",
    " \n",
    "if __name__ == \"__main__\":\n",
    " \n",
    "  # create Spark context with Spark configuration\n",
    "  conf = SparkConf().setAppName(\"Read Text to RDD - Python\")\n",
    "  sc = SparkContext(conf=conf)\n",
    " \n",
    "  # read input text file to RDD\n",
    "  lines = sc.textFile(\"data/rdd/input/sample.txt\")\n",
    " \n",
    "  # map lines to n_words\n",
    "  n_words = lines.map(lambda line : len(line.split()))\n",
    " \n",
    "  # collect the RDD to a list\n",
    "  llist = n_words.collect()\n",
    " \n",
    "  # print the list\n",
    "  for line in llist:\n",
    "    print (line)\n"
   ]
  },
  {
   "cell_type": "code",
   "execution_count": null,
   "metadata": {},
   "outputs": [],
   "source": []
  }
 ],
 "metadata": {
  "kernelspec": {
   "display_name": "Python 3",
   "language": "python",
   "name": "python3"
  },
  "language_info": {
   "codemirror_mode": {
    "name": "ipython",
    "version": 3
   },
   "file_extension": ".py",
   "mimetype": "text/x-python",
   "name": "python",
   "nbconvert_exporter": "python",
   "pygments_lexer": "ipython3",
   "version": "3.6.9"
  }
 },
 "nbformat": 4,
 "nbformat_minor": 4
}
