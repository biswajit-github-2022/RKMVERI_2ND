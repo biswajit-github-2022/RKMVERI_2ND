{
 "cells": [
  {
   "cell_type": "code",
   "execution_count": 2,
   "id": "f1afb469",
   "metadata": {},
   "outputs": [
    {
     "name": "stderr",
     "output_type": "stream",
     "text": [
      "\r",
      "[Stage 1:>                                                          (0 + 4) / 4]\r"
     ]
    },
    {
     "name": "stdout",
     "output_type": "stream",
     "text": [
      "root\n",
      " |-- DAY_OF_MONTH: integer (nullable = true)\n",
      " |-- DAY_OF_WEEK: integer (nullable = true)\n",
      " |-- OP_UNIQUE_CARRIER: string (nullable = true)\n",
      " |-- OP_CARRIER_AIRLINE_ID: integer (nullable = true)\n",
      " |-- OP_CARRIER: string (nullable = true)\n",
      " |-- TAIL_NUM: string (nullable = true)\n",
      " |-- OP_CARRIER_FL_NUM: integer (nullable = true)\n",
      " |-- ORIGIN_AIRPORT_ID: integer (nullable = true)\n",
      " |-- ORIGIN_AIRPORT_SEQ_ID: integer (nullable = true)\n",
      " |-- ORIGIN: string (nullable = true)\n",
      " |-- DEST_AIRPORT_ID: integer (nullable = true)\n",
      " |-- DEST_AIRPORT_SEQ_ID: integer (nullable = true)\n",
      " |-- DEST: string (nullable = true)\n",
      " |-- DEP_TIME: integer (nullable = true)\n",
      " |-- DEP_DEL15: double (nullable = true)\n",
      " |-- DEP_TIME_BLK: string (nullable = true)\n",
      " |-- ARR_TIME: integer (nullable = true)\n",
      " |-- ARR_DEL15: double (nullable = true)\n",
      " |-- CANCELLED: double (nullable = true)\n",
      " |-- DIVERTED: double (nullable = true)\n",
      " |-- DISTANCE: double (nullable = true)\n",
      " |-- _c21: string (nullable = true)\n",
      "\n"
     ]
    },
    {
     "name": "stderr",
     "output_type": "stream",
     "text": [
      "\r",
      "[Stage 1:==============>                                            (1 + 3) / 4]\r",
      "\r",
      "                                                                                \r"
     ]
    }
   ],
   "source": [
    "df = spark.read.csv('Jan_2020_ontime.csv', header = True, inferSchema = True)\n",
    "df.printSchema()"
   ]
  },
  {
   "cell_type": "code",
   "execution_count": 3,
   "id": "7befd4d4",
   "metadata": {},
   "outputs": [],
   "source": [
    "df_vertices = df.select('ORIGIN', 'ORIGIN_AIRPORT_ID').dropDuplicates(['ORIGIN']).withColumnRenamed('ORIGIN', 'id')"
   ]
  },
  {
   "cell_type": "code",
   "execution_count": 4,
   "id": "2bb72c18",
   "metadata": {},
   "outputs": [],
   "source": [
    "df_edges = df.withColumnRenamed('ORIGIN', 'src').withColumnRenamed('DEST', 'dst')"
   ]
  },
  {
   "cell_type": "code",
   "execution_count": 5,
   "id": "134943d3",
   "metadata": {},
   "outputs": [
    {
     "name": "stderr",
     "output_type": "stream",
     "text": [
      "/opt/spark/python/pyspark/sql/dataframe.py:168: UserWarning: DataFrame.sql_ctx is an internal property, and will be removed in future releases. Use DataFrame.sparkSession instead.\n",
      "  warnings.warn(\n"
     ]
    },
    {
     "ename": "Py4JJavaError",
     "evalue": "An error occurred while calling o65.loadClass.\n: java.lang.ClassNotFoundException: org.graphframes.GraphFramePythonAPI\n\tat java.base/java.net.URLClassLoader.findClass(URLClassLoader.java:476)\n\tat java.base/java.lang.ClassLoader.loadClass(ClassLoader.java:594)\n\tat java.base/java.lang.ClassLoader.loadClass(ClassLoader.java:527)\n\tat java.base/jdk.internal.reflect.NativeMethodAccessorImpl.invoke0(Native Method)\n\tat java.base/jdk.internal.reflect.NativeMethodAccessorImpl.invoke(NativeMethodAccessorImpl.java:62)\n\tat java.base/jdk.internal.reflect.DelegatingMethodAccessorImpl.invoke(DelegatingMethodAccessorImpl.java:43)\n\tat java.base/java.lang.reflect.Method.invoke(Method.java:566)\n\tat py4j.reflection.MethodInvoker.invoke(MethodInvoker.java:244)\n\tat py4j.reflection.ReflectionEngine.invoke(ReflectionEngine.java:374)\n\tat py4j.Gateway.invoke(Gateway.java:282)\n\tat py4j.commands.AbstractCommand.invokeMethod(AbstractCommand.java:132)\n\tat py4j.commands.CallCommand.execute(CallCommand.java:79)\n\tat py4j.ClientServerConnection.waitForCommands(ClientServerConnection.java:182)\n\tat py4j.ClientServerConnection.run(ClientServerConnection.java:106)\n\tat java.base/java.lang.Thread.run(Thread.java:829)\n",
     "output_type": "error",
     "traceback": [
      "\u001b[0;31m---------------------------------------------------------------------------\u001b[0m",
      "\u001b[0;31mPy4JJavaError\u001b[0m                             Traceback (most recent call last)",
      "\u001b[0;32m/tmp/ipykernel_12043/58126420.py\u001b[0m in \u001b[0;36m<module>\u001b[0;34m\u001b[0m\n\u001b[1;32m      1\u001b[0m \u001b[0;32mfrom\u001b[0m \u001b[0mgraphframes\u001b[0m \u001b[0;32mimport\u001b[0m \u001b[0;34m*\u001b[0m\u001b[0;34m\u001b[0m\u001b[0;34m\u001b[0m\u001b[0m\n\u001b[1;32m      2\u001b[0m \u001b[0;34m\u001b[0m\u001b[0m\n\u001b[0;32m----> 3\u001b[0;31m \u001b[0mg\u001b[0m \u001b[0;34m=\u001b[0m \u001b[0mGraphFrame\u001b[0m\u001b[0;34m(\u001b[0m\u001b[0mdf_vertices\u001b[0m\u001b[0;34m,\u001b[0m \u001b[0mdf_edges\u001b[0m\u001b[0;34m)\u001b[0m\u001b[0;34m\u001b[0m\u001b[0;34m\u001b[0m\u001b[0m\n\u001b[0m",
      "\u001b[0;32m~/.local/lib/python3.10/site-packages/graphframes/graphframe.py\u001b[0m in \u001b[0;36m__init__\u001b[0;34m(self, v, e)\u001b[0m\n\u001b[1;32m     63\u001b[0m         \u001b[0mself\u001b[0m\u001b[0;34m.\u001b[0m\u001b[0m_sqlContext\u001b[0m \u001b[0;34m=\u001b[0m \u001b[0mv\u001b[0m\u001b[0;34m.\u001b[0m\u001b[0msql_ctx\u001b[0m\u001b[0;34m\u001b[0m\u001b[0;34m\u001b[0m\u001b[0m\n\u001b[1;32m     64\u001b[0m         \u001b[0mself\u001b[0m\u001b[0;34m.\u001b[0m\u001b[0m_sc\u001b[0m \u001b[0;34m=\u001b[0m \u001b[0mself\u001b[0m\u001b[0;34m.\u001b[0m\u001b[0m_sqlContext\u001b[0m\u001b[0;34m.\u001b[0m\u001b[0m_sc\u001b[0m\u001b[0;34m\u001b[0m\u001b[0;34m\u001b[0m\u001b[0m\n\u001b[0;32m---> 65\u001b[0;31m         \u001b[0mself\u001b[0m\u001b[0;34m.\u001b[0m\u001b[0m_jvm_gf_api\u001b[0m \u001b[0;34m=\u001b[0m \u001b[0m_java_api\u001b[0m\u001b[0;34m(\u001b[0m\u001b[0mself\u001b[0m\u001b[0;34m.\u001b[0m\u001b[0m_sc\u001b[0m\u001b[0;34m)\u001b[0m\u001b[0;34m\u001b[0m\u001b[0;34m\u001b[0m\u001b[0m\n\u001b[0m\u001b[1;32m     66\u001b[0m \u001b[0;34m\u001b[0m\u001b[0m\n\u001b[1;32m     67\u001b[0m         \u001b[0mself\u001b[0m\u001b[0;34m.\u001b[0m\u001b[0mID\u001b[0m \u001b[0;34m=\u001b[0m \u001b[0mself\u001b[0m\u001b[0;34m.\u001b[0m\u001b[0m_jvm_gf_api\u001b[0m\u001b[0;34m.\u001b[0m\u001b[0mID\u001b[0m\u001b[0;34m(\u001b[0m\u001b[0;34m)\u001b[0m\u001b[0;34m\u001b[0m\u001b[0;34m\u001b[0m\u001b[0m\n",
      "\u001b[0;32m~/.local/lib/python3.10/site-packages/graphframes/graphframe.py\u001b[0m in \u001b[0;36m_java_api\u001b[0;34m(jsc)\u001b[0m\n\u001b[1;32m     36\u001b[0m \u001b[0;32mdef\u001b[0m \u001b[0m_java_api\u001b[0m\u001b[0;34m(\u001b[0m\u001b[0mjsc\u001b[0m\u001b[0;34m)\u001b[0m\u001b[0;34m:\u001b[0m\u001b[0;34m\u001b[0m\u001b[0;34m\u001b[0m\u001b[0m\n\u001b[1;32m     37\u001b[0m     \u001b[0mjavaClassName\u001b[0m \u001b[0;34m=\u001b[0m \u001b[0;34m\"org.graphframes.GraphFramePythonAPI\"\u001b[0m\u001b[0;34m\u001b[0m\u001b[0;34m\u001b[0m\u001b[0m\n\u001b[0;32m---> 38\u001b[0;31m     \u001b[0;32mreturn\u001b[0m \u001b[0mjsc\u001b[0m\u001b[0;34m.\u001b[0m\u001b[0m_jvm\u001b[0m\u001b[0;34m.\u001b[0m\u001b[0mThread\u001b[0m\u001b[0;34m.\u001b[0m\u001b[0mcurrentThread\u001b[0m\u001b[0;34m(\u001b[0m\u001b[0;34m)\u001b[0m\u001b[0;34m.\u001b[0m\u001b[0mgetContextClassLoader\u001b[0m\u001b[0;34m(\u001b[0m\u001b[0;34m)\u001b[0m\u001b[0;34m.\u001b[0m\u001b[0mloadClass\u001b[0m\u001b[0;34m(\u001b[0m\u001b[0mjavaClassName\u001b[0m\u001b[0;34m)\u001b[0m\u001b[0;31m \u001b[0m\u001b[0;31m\\\u001b[0m\u001b[0;34m\u001b[0m\u001b[0;34m\u001b[0m\u001b[0m\n\u001b[0m\u001b[1;32m     39\u001b[0m             \u001b[0;34m.\u001b[0m\u001b[0mnewInstance\u001b[0m\u001b[0;34m(\u001b[0m\u001b[0;34m)\u001b[0m\u001b[0;34m\u001b[0m\u001b[0;34m\u001b[0m\u001b[0m\n\u001b[1;32m     40\u001b[0m \u001b[0;34m\u001b[0m\u001b[0m\n",
      "\u001b[0;32m/opt/spark/python/lib/py4j-0.10.9.7-src.zip/py4j/java_gateway.py\u001b[0m in \u001b[0;36m__call__\u001b[0;34m(self, *args)\u001b[0m\n\u001b[1;32m   1320\u001b[0m \u001b[0;34m\u001b[0m\u001b[0m\n\u001b[1;32m   1321\u001b[0m         \u001b[0manswer\u001b[0m \u001b[0;34m=\u001b[0m \u001b[0mself\u001b[0m\u001b[0;34m.\u001b[0m\u001b[0mgateway_client\u001b[0m\u001b[0;34m.\u001b[0m\u001b[0msend_command\u001b[0m\u001b[0;34m(\u001b[0m\u001b[0mcommand\u001b[0m\u001b[0;34m)\u001b[0m\u001b[0;34m\u001b[0m\u001b[0;34m\u001b[0m\u001b[0m\n\u001b[0;32m-> 1322\u001b[0;31m         return_value = get_return_value(\n\u001b[0m\u001b[1;32m   1323\u001b[0m             answer, self.gateway_client, self.target_id, self.name)\n\u001b[1;32m   1324\u001b[0m \u001b[0;34m\u001b[0m\u001b[0m\n",
      "\u001b[0;32m/opt/spark/python/pyspark/errors/exceptions/captured.py\u001b[0m in \u001b[0;36mdeco\u001b[0;34m(*a, **kw)\u001b[0m\n\u001b[1;32m    177\u001b[0m     \u001b[0;32mdef\u001b[0m \u001b[0mdeco\u001b[0m\u001b[0;34m(\u001b[0m\u001b[0;34m*\u001b[0m\u001b[0ma\u001b[0m\u001b[0;34m:\u001b[0m \u001b[0mAny\u001b[0m\u001b[0;34m,\u001b[0m \u001b[0;34m**\u001b[0m\u001b[0mkw\u001b[0m\u001b[0;34m:\u001b[0m \u001b[0mAny\u001b[0m\u001b[0;34m)\u001b[0m \u001b[0;34m->\u001b[0m \u001b[0mAny\u001b[0m\u001b[0;34m:\u001b[0m\u001b[0;34m\u001b[0m\u001b[0;34m\u001b[0m\u001b[0m\n\u001b[1;32m    178\u001b[0m         \u001b[0;32mtry\u001b[0m\u001b[0;34m:\u001b[0m\u001b[0;34m\u001b[0m\u001b[0;34m\u001b[0m\u001b[0m\n\u001b[0;32m--> 179\u001b[0;31m             \u001b[0;32mreturn\u001b[0m \u001b[0mf\u001b[0m\u001b[0;34m(\u001b[0m\u001b[0;34m*\u001b[0m\u001b[0ma\u001b[0m\u001b[0;34m,\u001b[0m \u001b[0;34m**\u001b[0m\u001b[0mkw\u001b[0m\u001b[0;34m)\u001b[0m\u001b[0;34m\u001b[0m\u001b[0;34m\u001b[0m\u001b[0m\n\u001b[0m\u001b[1;32m    180\u001b[0m         \u001b[0;32mexcept\u001b[0m \u001b[0mPy4JJavaError\u001b[0m \u001b[0;32mas\u001b[0m \u001b[0me\u001b[0m\u001b[0;34m:\u001b[0m\u001b[0;34m\u001b[0m\u001b[0;34m\u001b[0m\u001b[0m\n\u001b[1;32m    181\u001b[0m             \u001b[0mconverted\u001b[0m \u001b[0;34m=\u001b[0m \u001b[0mconvert_exception\u001b[0m\u001b[0;34m(\u001b[0m\u001b[0me\u001b[0m\u001b[0;34m.\u001b[0m\u001b[0mjava_exception\u001b[0m\u001b[0;34m)\u001b[0m\u001b[0;34m\u001b[0m\u001b[0;34m\u001b[0m\u001b[0m\n",
      "\u001b[0;32m/opt/spark/python/lib/py4j-0.10.9.7-src.zip/py4j/protocol.py\u001b[0m in \u001b[0;36mget_return_value\u001b[0;34m(answer, gateway_client, target_id, name)\u001b[0m\n\u001b[1;32m    324\u001b[0m             \u001b[0mvalue\u001b[0m \u001b[0;34m=\u001b[0m \u001b[0mOUTPUT_CONVERTER\u001b[0m\u001b[0;34m[\u001b[0m\u001b[0mtype\u001b[0m\u001b[0;34m]\u001b[0m\u001b[0;34m(\u001b[0m\u001b[0manswer\u001b[0m\u001b[0;34m[\u001b[0m\u001b[0;36m2\u001b[0m\u001b[0;34m:\u001b[0m\u001b[0;34m]\u001b[0m\u001b[0;34m,\u001b[0m \u001b[0mgateway_client\u001b[0m\u001b[0;34m)\u001b[0m\u001b[0;34m\u001b[0m\u001b[0;34m\u001b[0m\u001b[0m\n\u001b[1;32m    325\u001b[0m             \u001b[0;32mif\u001b[0m \u001b[0manswer\u001b[0m\u001b[0;34m[\u001b[0m\u001b[0;36m1\u001b[0m\u001b[0;34m]\u001b[0m \u001b[0;34m==\u001b[0m \u001b[0mREFERENCE_TYPE\u001b[0m\u001b[0;34m:\u001b[0m\u001b[0;34m\u001b[0m\u001b[0;34m\u001b[0m\u001b[0m\n\u001b[0;32m--> 326\u001b[0;31m                 raise Py4JJavaError(\n\u001b[0m\u001b[1;32m    327\u001b[0m                     \u001b[0;34m\"An error occurred while calling {0}{1}{2}.\\n\"\u001b[0m\u001b[0;34m.\u001b[0m\u001b[0;34m\u001b[0m\u001b[0;34m\u001b[0m\u001b[0m\n\u001b[1;32m    328\u001b[0m                     format(target_id, \".\", name), value)\n",
      "\u001b[0;31mPy4JJavaError\u001b[0m: An error occurred while calling o65.loadClass.\n: java.lang.ClassNotFoundException: org.graphframes.GraphFramePythonAPI\n\tat java.base/java.net.URLClassLoader.findClass(URLClassLoader.java:476)\n\tat java.base/java.lang.ClassLoader.loadClass(ClassLoader.java:594)\n\tat java.base/java.lang.ClassLoader.loadClass(ClassLoader.java:527)\n\tat java.base/jdk.internal.reflect.NativeMethodAccessorImpl.invoke0(Native Method)\n\tat java.base/jdk.internal.reflect.NativeMethodAccessorImpl.invoke(NativeMethodAccessorImpl.java:62)\n\tat java.base/jdk.internal.reflect.DelegatingMethodAccessorImpl.invoke(DelegatingMethodAccessorImpl.java:43)\n\tat java.base/java.lang.reflect.Method.invoke(Method.java:566)\n\tat py4j.reflection.MethodInvoker.invoke(MethodInvoker.java:244)\n\tat py4j.reflection.ReflectionEngine.invoke(ReflectionEngine.java:374)\n\tat py4j.Gateway.invoke(Gateway.java:282)\n\tat py4j.commands.AbstractCommand.invokeMethod(AbstractCommand.java:132)\n\tat py4j.commands.CallCommand.execute(CallCommand.java:79)\n\tat py4j.ClientServerConnection.waitForCommands(ClientServerConnection.java:182)\n\tat py4j.ClientServerConnection.run(ClientServerConnection.java:106)\n\tat java.base/java.lang.Thread.run(Thread.java:829)\n"
     ]
    }
   ],
   "source": [
    "from graphframes import *\n",
    "\n",
    "g = GraphFrame(df_vertices, df_edges)"
   ]
  },
  {
   "cell_type": "code",
   "execution_count": 9,
   "id": "07b44461",
   "metadata": {},
   "outputs": [],
   "source": [
    "factor_more_than_1 = g.edges.filter('DEP_DEL15 == 1')\n",
    "df3 = factor_more_than_1.select('src', 'DEP_DEL15').distinct().orderBy('src', ascending=False)\n",
    "factor_more_than_12 = g.edges.filter('ARR_DEL15 == 1')\n",
    "df4 = factor_more_than_12.select('dst', 'ARR_DEL15').distinct().orderBy('dst', ascending=False)"
   ]
  },
  {
   "cell_type": "code",
   "execution_count": 10,
   "id": "44dd26b9",
   "metadata": {},
   "outputs": [
    {
     "name": "stderr",
     "output_type": "stream",
     "text": [
      "[Stage 10:===================================================>  (190 + 9) / 200]"
     ]
    },
    {
     "name": "stdout",
     "output_type": "stream",
     "text": [
      "+---+---------+---+---------+\n",
      "|dst|ARR_DEL15|src|DEP_DEL15|\n",
      "+---+---------+---+---------+\n",
      "|BGM|      1.0|BGM|      1.0|\n",
      "|INL|      1.0|INL|      1.0|\n",
      "|PSE|      1.0|PSE|      1.0|\n",
      "|MSY|      1.0|MSY|      1.0|\n",
      "|PPG|      1.0|PPG|      1.0|\n",
      "|DRT|      1.0|DRT|      1.0|\n",
      "|GEG|      1.0|GEG|      1.0|\n",
      "|BUR|      1.0|BUR|      1.0|\n",
      "|SNA|      1.0|SNA|      1.0|\n",
      "|GRB|      1.0|GRB|      1.0|\n",
      "|GTF|      1.0|GTF|      1.0|\n",
      "|IDA|      1.0|IDA|      1.0|\n",
      "|GRR|      1.0|GRR|      1.0|\n",
      "|LWB|      1.0|LWB|      1.0|\n",
      "|JLN|      1.0|JLN|      1.0|\n",
      "|PVU|      1.0|PVU|      1.0|\n",
      "|EUG|      1.0|EUG|      1.0|\n",
      "|PSG|      1.0|PSG|      1.0|\n",
      "|ATY|      1.0|ATY|      1.0|\n",
      "|GSO|      1.0|GSO|      1.0|\n",
      "+---+---------+---+---------+\n",
      "only showing top 20 rows\n",
      "\n"
     ]
    },
    {
     "name": "stderr",
     "output_type": "stream",
     "text": [
      "\r",
      "                                                                                \r"
     ]
    }
   ],
   "source": [
    "inner = df4.join(df3, df3.src == df4.dst)\n",
    "inner.show()"
   ]
  },
  {
   "cell_type": "code",
   "execution_count": 11,
   "id": "25e00b00",
   "metadata": {},
   "outputs": [
    {
     "name": "stdout",
     "output_type": "stream",
     "text": [
      "+---+-----+\n",
      "|dst|count|\n",
      "+---+-----+\n",
      "|ATL|32187|\n",
      "|ORD|25687|\n",
      "|DFW|24354|\n",
      "|DEN|20405|\n",
      "|CLT|20002|\n",
      "|LAX|17794|\n",
      "|PHX|15333|\n",
      "|IAH|14793|\n",
      "|LAS|14184|\n",
      "|LGA|13836|\n",
      "|SFO|13686|\n",
      "|DTW|13190|\n",
      "|MCO|12816|\n",
      "|MSP|12428|\n",
      "|BOS|12190|\n",
      "|SEA|11585|\n",
      "|DCA|11575|\n",
      "|EWR|11420|\n",
      "|JFK|10302|\n",
      "|SLC|10213|\n",
      "+---+-----+\n",
      "only showing top 20 rows\n",
      "\n"
     ]
    }
   ],
   "source": [
    "g.edges.groupBy('dst').count().orderBy('count', ascending=False).show()"
   ]
  },
  {
   "cell_type": "code",
   "execution_count": 12,
   "id": "4b87f855",
   "metadata": {},
   "outputs": [
    {
     "name": "stdout",
     "output_type": "stream",
     "text": [
      "+---+-----+\n",
      "|src|count|\n",
      "+---+-----+\n",
      "|ATL|32190|\n",
      "|ORD|25661|\n",
      "|DFW|24339|\n",
      "|DEN|20398|\n",
      "|CLT|19995|\n",
      "|LAX|17799|\n",
      "|PHX|15325|\n",
      "|IAH|14792|\n",
      "|LAS|14186|\n",
      "|LGA|13836|\n",
      "|SFO|13684|\n",
      "|DTW|13195|\n",
      "|MCO|12820|\n",
      "|MSP|12429|\n",
      "|BOS|12182|\n",
      "|SEA|11583|\n",
      "|DCA|11575|\n",
      "|EWR|11415|\n",
      "|JFK|10312|\n",
      "|SLC|10196|\n",
      "+---+-----+\n",
      "only showing top 20 rows\n",
      "\n"
     ]
    }
   ],
   "source": [
    "g.edges.groupBy('src').count().orderBy('count', ascending=False).show()"
   ]
  },
  {
   "cell_type": "code",
   "execution_count": 13,
   "id": "8a1e94f7",
   "metadata": {},
   "outputs": [
    {
     "name": "stderr",
     "output_type": "stream",
     "text": [
      "[Stage 31:==============>                                           (2 + 6) / 8]"
     ]
    },
    {
     "name": "stdout",
     "output_type": "stream",
     "text": [
      "+---+------+\n",
      "| id|degree|\n",
      "+---+------+\n",
      "|ATL| 64377|\n",
      "|ORD| 51348|\n",
      "|DFW| 48693|\n",
      "+---+------+\n",
      "only showing top 3 rows\n",
      "\n"
     ]
    },
    {
     "name": "stderr",
     "output_type": "stream",
     "text": [
      "\r",
      "                                                                                \r"
     ]
    }
   ],
   "source": [
    "g.degrees.orderBy('degree', ascending=False).show(3)"
   ]
  },
  {
   "cell_type": "code",
   "execution_count": 15,
   "id": "de66037a",
   "metadata": {},
   "outputs": [
    {
     "name": "stderr",
     "output_type": "stream",
     "text": [
      "[Stage 33:====================================>                     (5 + 3) / 8]"
     ]
    },
    {
     "name": "stdout",
     "output_type": "stream",
     "text": [
      "+---+---+--------+\n",
      "|src|dst|DISTANCE|\n",
      "+---+---+--------+\n",
      "|BOS|HNL|  5095.0|\n",
      "|HNL|BOS|  5095.0|\n",
      "|JFK|HNL|  4983.0|\n",
      "|HNL|JFK|  4983.0|\n",
      "|EWR|HNL|  4962.0|\n",
      "|HNL|EWR|  4962.0|\n",
      "|IAD|HNL|  4817.0|\n",
      "|HNL|IAD|  4817.0|\n",
      "|ATL|HNL|  4502.0|\n",
      "|HNL|ATL|  4502.0|\n",
      "|DTW|HNL|  4475.0|\n",
      "|HNL|DTW|  4475.0|\n",
      "|HNL|ORD|  4243.0|\n",
      "|ORD|HNL|  4243.0|\n",
      "|ORD|OGG|  4184.0|\n",
      "|OGG|ORD|  4184.0|\n",
      "|MSP|HNL|  3972.0|\n",
      "|HNL|MSP|  3972.0|\n",
      "|HNL|IAH|  3904.0|\n",
      "|IAH|HNL|  3904.0|\n",
      "+---+---+--------+\n",
      "only showing top 20 rows\n",
      "\n"
     ]
    },
    {
     "name": "stderr",
     "output_type": "stream",
     "text": [
      "\r",
      "                                                                                \r"
     ]
    }
   ],
   "source": [
    "distance_greater = g.edges.select('src', 'dst', 'DISTANCE').filter('DISTANCE > 500').distinct().orderBy('DISTANCE', ascending=False)\n",
    "distance_greater.show()"
   ]
  },
  {
   "cell_type": "code",
   "execution_count": 16,
   "id": "ca14b773",
   "metadata": {},
   "outputs": [
    {
     "name": "stderr",
     "output_type": "stream",
     "text": [
      "\r",
      "[Stage 35:=======>                                                  (1 + 7) / 8]"
     ]
    },
    {
     "name": "stdout",
     "output_type": "stream",
     "text": [
      "+---+---+--------+\n",
      "|src|dst|DISTANCE|\n",
      "+---+---+--------+\n",
      "|BOS|HNL|  5095.0|\n",
      "|HNL|BOS|  5095.0|\n",
      "|HNL|JFK|  4983.0|\n",
      "|JFK|HNL|  4983.0|\n",
      "|HNL|EWR|  4962.0|\n",
      "|EWR|HNL|  4962.0|\n",
      "|IAD|HNL|  4817.0|\n",
      "|HNL|IAD|  4817.0|\n",
      "|ATL|HNL|  4502.0|\n",
      "|HNL|ATL|  4502.0|\n",
      "|HNL|DTW|  4475.0|\n",
      "|DTW|HNL|  4475.0|\n",
      "|HNL|ORD|  4243.0|\n",
      "|ORD|HNL|  4243.0|\n",
      "|ORD|OGG|  4184.0|\n",
      "|OGG|ORD|  4184.0|\n",
      "|HNL|MSP|  3972.0|\n",
      "|MSP|HNL|  3972.0|\n",
      "|HNL|IAH|  3904.0|\n",
      "|IAH|HNL|  3904.0|\n",
      "+---+---+--------+\n",
      "only showing top 20 rows\n",
      "\n"
     ]
    },
    {
     "name": "stderr",
     "output_type": "stream",
     "text": [
      "\r",
      "                                                                                \r"
     ]
    }
   ],
   "source": [
    "from pyspark.sql.functions import desc\n",
    "distance = g.edges.select('src', 'dst', 'DISTANCE').distinct().sort(desc('DISTANCE'))\n",
    "distance.show()"
   ]
  },
  {
   "cell_type": "code",
   "execution_count": 17,
   "id": "67c9f427",
   "metadata": {},
   "outputs": [
    {
     "name": "stderr",
     "output_type": "stream",
     "text": [
      "[Stage 55:==========================================>           (158 + 8) / 200]"
     ]
    },
    {
     "name": "stdout",
     "output_type": "stream",
     "text": [
      "+---+---+-----------------+\n",
      "| id| id|max(sum_distance)|\n",
      "+---+---+-----------------+\n",
      "|EWR|JFK|           9945.0|\n",
      "|JFK|EWR|           9945.0|\n",
      "|GUM|BOS|           8896.0|\n",
      "|BOS|GUM|           8896.0|\n",
      "|GUM|JFK|           8784.0|\n",
      "|JFK|GUM|           8784.0|\n",
      "|EWR|GUM|           8763.0|\n",
      "|GUM|EWR|           8763.0|\n",
      "|GUM|IAD|           8618.0|\n",
      "|IAD|GUM|           8618.0|\n",
      "|GUM|ATL|           8303.0|\n",
      "|ATL|GUM|           8303.0|\n",
      "|GUM|DTW|           8276.0|\n",
      "|DTW|GUM|           8276.0|\n",
      "|ORD|GUM|           8044.0|\n",
      "|GUM|ORD|           8044.0|\n",
      "|BOS|ANC|           7872.0|\n",
      "|ANC|BOS|           7872.0|\n",
      "|GUM|MSP|           7773.0|\n",
      "|MSP|GUM|           7773.0|\n",
      "+---+---+-----------------+\n",
      "only showing top 20 rows\n",
      "\n"
     ]
    },
    {
     "name": "stderr",
     "output_type": "stream",
     "text": [
      "\r",
      "[Stage 55:=================================================>    (185 + 8) / 200]\r",
      "                                                                                \r"
     ]
    }
   ],
   "source": [
    "import pyspark.sql.functions as F\n",
    "sub = GraphFrame(g.vertices, distance)\n",
    "r = sub.find(\"(a)-[ab]->(b); (b)-[bc]->(c); !(a)-[]->(c)\").filter('c.id != a.id')\n",
    "r2 = r.withColumn(\"sum_distance\", r.ab.DISTANCE + r.bc.DISTANCE).groupby('a.id','c.id').max('sum_distance').sort(desc('max(sum_distance)')).show()\n"
   ]
  },
  {
   "cell_type": "code",
   "execution_count": 18,
   "id": "19cfa40e",
   "metadata": {},
   "outputs": [
    {
     "name": "stderr",
     "output_type": "stream",
     "text": [
      "                                                                                \r"
     ]
    },
    {
     "name": "stdout",
     "output_type": "stream",
     "text": [
      "+------------+------------------+------------+------------------+------------+\n",
      "|           a|                ab|           b|                bc|           c|\n",
      "+------------+------------------+------------+------------------+------------+\n",
      "|[JFK, 12478]| [JFK, BUF, 301.0]|[BUF, 10792]| [BUF, EWR, 282.0]|[EWR, 11618]|\n",
      "|[JFK, 12478]|[JFK, SLC, 1990.0]|[SLC, 14869]|[SLC, EWR, 1969.0]|[EWR, 11618]|\n",
      "|[JFK, 12478]| [JFK, PWM, 273.0]|[PWM, 14321]| [PWM, EWR, 284.0]|[EWR, 11618]|\n",
      "|[JFK, 12478]|[JFK, STT, 1623.0]|[STT, 15024]|[STT, EWR, 1634.0]|[EWR, 11618]|\n",
      "|[JFK, 12478]| [JFK, SYR, 209.0]|[SYR, 15096]| [SYR, EWR, 195.0]|[EWR, 11618]|\n",
      "|[JFK, 12478]|[JFK, PBI, 1028.0]|[PBI, 14027]|[PBI, EWR, 1023.0]|[EWR, 11618]|\n",
      "|[JFK, 12478]| [JFK, BNA, 765.0]|[BNA, 10693]| [BNA, EWR, 748.0]|[EWR, 11618]|\n",
      "|[JFK, 12478]| [JFK, DCA, 213.0]|[DCA, 11278]| [DCA, EWR, 199.0]|[EWR, 11618]|\n",
      "|[JFK, 12478]| [JFK, DTW, 509.0]|[DTW, 11433]| [DTW, EWR, 488.0]|[EWR, 11618]|\n",
      "|[JFK, 12478]| [JFK, CLE, 425.0]|[CLE, 11042]| [CLE, EWR, 404.0]|[EWR, 11618]|\n",
      "|[JFK, 12478]| [JFK, CHS, 636.0]|[CHS, 10994]| [CHS, EWR, 628.0]|[EWR, 11618]|\n",
      "|[JFK, 12478]| [JFK, BOS, 187.0]|[BOS, 10721]| [BOS, EWR, 200.0]|[EWR, 11618]|\n",
      "|[JFK, 12478]|[JFK, DEN, 1626.0]|[DEN, 11292]|[DEN, EWR, 1605.0]|[EWR, 11618]|\n",
      "|[JFK, 12478]|[JFK, RSW, 1074.0]|[RSW, 14635]|[RSW, EWR, 1068.0]|[EWR, 11618]|\n",
      "|[JFK, 12478]|[JFK, SRQ, 1041.0]|[SRQ, 14986]|[SRQ, EWR, 1034.0]|[EWR, 11618]|\n",
      "|[JFK, 12478]| [JFK, ATL, 760.0]|[ATL, 10397]| [ATL, EWR, 746.0]|[EWR, 11618]|\n",
      "|[JFK, 12478]|[JFK, SMF, 2521.0]|[SMF, 14893]|[SMF, EWR, 2500.0]|[EWR, 11618]|\n",
      "|[JFK, 12478]| [JFK, SAV, 718.0]|[SAV, 14685]| [SAV, EWR, 708.0]|[EWR, 11618]|\n",
      "|[JFK, 12478]|[JFK, BQN, 1576.0]|[BQN, 10732]|[BQN, EWR, 1585.0]|[EWR, 11618]|\n",
      "|[JFK, 12478]| [JFK, ROC, 264.0]|[ROC, 14576]| [ROC, EWR, 246.0]|[EWR, 11618]|\n",
      "|[JFK, 12478]|[JFK, DFW, 1391.0]|[DFW, 11298]|[DFW, EWR, 1372.0]|[EWR, 11618]|\n",
      "|[JFK, 12478]|[JFK, PHX, 2153.0]|[PHX, 14107]|[PHX, EWR, 2133.0]|[EWR, 11618]|\n",
      "|[JFK, 12478]|[JFK, IAH, 1417.0]|[IAH, 12266]|[IAH, EWR, 1400.0]|[EWR, 11618]|\n",
      "|[JFK, 12478]|[JFK, SFO, 2586.0]|[SFO, 14771]|[SFO, EWR, 2565.0]|[EWR, 11618]|\n",
      "|[JFK, 12478]|[JFK, HNL, 4983.0]|[HNL, 12173]|[HNL, EWR, 4962.0]|[EWR, 11618]|\n",
      "|[JFK, 12478]| [JFK, JAX, 828.0]|[JAX, 12451]| [JAX, EWR, 820.0]|[EWR, 11618]|\n",
      "|[JFK, 12478]| [JFK, BTV, 266.0]|[BTV, 10785]| [BTV, EWR, 266.0]|[EWR, 11618]|\n",
      "|[JFK, 12478]| [JFK, CLT, 541.0]|[CLT, 11057]| [CLT, EWR, 529.0]|[EWR, 11618]|\n",
      "|[JFK, 12478]|[JFK, FLL, 1069.0]|[FLL, 11697]|[FLL, EWR, 1065.0]|[EWR, 11618]|\n",
      "|[JFK, 12478]| [JFK, RIC, 288.0]|[RIC, 14524]| [RIC, EWR, 277.0]|[EWR, 11618]|\n",
      "|[JFK, 12478]|[JFK, SJC, 2569.0]|[SJC, 14831]|[SJC, EWR, 2548.0]|[EWR, 11618]|\n",
      "|[JFK, 12478]|[JFK, JAC, 1894.0]|[JAC, 12441]|[JAC, EWR, 1874.0]|[EWR, 11618]|\n",
      "|[JFK, 12478]|[JFK, SAT, 1587.0]|[SAT, 14683]|[SAT, EWR, 1569.0]|[EWR, 11618]|\n",
      "|[JFK, 12478]| [JFK, ORF, 290.0]|[ORF, 13931]| [ORF, EWR, 284.0]|[EWR, 11618]|\n",
      "|[JFK, 12478]| [JFK, MCO, 944.0]|[MCO, 13204]| [MCO, EWR, 937.0]|[EWR, 11618]|\n",
      "|[JFK, 12478]|[JFK, SJU, 1598.0]|[SJU, 14843]|[SJU, EWR, 1608.0]|[EWR, 11618]|\n",
      "|[JFK, 12478]| [JFK, IND, 665.0]|[IND, 12339]| [IND, EWR, 645.0]|[EWR, 11618]|\n",
      "|[JFK, 12478]|[JFK, MSY, 1182.0]|[MSY, 13495]|[MSY, EWR, 1167.0]|[EWR, 11618]|\n",
      "|[JFK, 12478]| [JFK, IAD, 228.0]|[IAD, 12264]| [IAD, EWR, 212.0]|[EWR, 11618]|\n",
      "|[JFK, 12478]| [JFK, PIT, 340.0]|[PIT, 14122]| [PIT, EWR, 319.0]|[EWR, 11618]|\n",
      "|[JFK, 12478]| [JFK, ORD, 740.0]|[ORD, 13930]| [ORD, EWR, 719.0]|[EWR, 11618]|\n",
      "|[JFK, 12478]|[JFK, LAS, 2248.0]|[LAS, 12889]|[LAS, EWR, 2227.0]|[EWR, 11618]|\n",
      "|[JFK, 12478]|[JFK, MSP, 1029.0]|[MSP, 13487]|[MSP, EWR, 1008.0]|[EWR, 11618]|\n",
      "|[JFK, 12478]| [JFK, RDU, 427.0]|[RDU, 14492]| [RDU, EWR, 416.0]|[EWR, 11618]|\n",
      "|[JFK, 12478]|[JFK, PSP, 2378.0]|[PSP, 14262]|[PSP, EWR, 2358.0]|[EWR, 11618]|\n",
      "|[JFK, 12478]|[JFK, SAN, 2446.0]|[SAN, 14679]|[SAN, EWR, 2425.0]|[EWR, 11618]|\n",
      "|[JFK, 12478]|[JFK, EGE, 1746.0]|[EGE, 11503]|[EGE, EWR, 1725.0]|[EWR, 11618]|\n",
      "|[JFK, 12478]|[JFK, MIA, 1089.0]|[MIA, 13303]|[MIA, EWR, 1085.0]|[EWR, 11618]|\n",
      "|[JFK, 12478]|[JFK, TPA, 1005.0]|[TPA, 15304]| [TPA, EWR, 997.0]|[EWR, 11618]|\n",
      "|[JFK, 12478]| [JFK, CMH, 483.0]|[CMH, 11066]| [CMH, EWR, 463.0]|[EWR, 11618]|\n",
      "|[JFK, 12478]|[JFK, LAX, 2475.0]|[LAX, 12892]|[LAX, EWR, 2454.0]|[EWR, 11618]|\n",
      "|[JFK, 12478]| [JFK, CVG, 589.0]|[CVG, 11193]| [CVG, EWR, 569.0]|[EWR, 11618]|\n",
      "|[JFK, 12478]|[JFK, AUS, 1521.0]|[AUS, 10423]|[AUS, EWR, 1504.0]|[EWR, 11618]|\n",
      "|[JFK, 12478]|[JFK, SEA, 2422.0]|[SEA, 14747]|[SEA, EWR, 2402.0]|[EWR, 11618]|\n",
      "|[JFK, 12478]|[JFK, PDX, 2454.0]|[PDX, 14057]|[PDX, EWR, 2434.0]|[EWR, 11618]|\n",
      "+------------+------------------+------------+------------------+------------+\n",
      "\n"
     ]
    }
   ],
   "source": [
    "sub2 = GraphFrame(g.vertices, distance)\n",
    "result = sub2.find(\"(a)-[ab]->(b); (b)-[bc]->(c); !(a)-[]->(c)\").filter(\"a.id = 'JFK'\").filter(\"c.id = 'EWR'\")\n",
    "result.show(100)"
   ]
  },
  {
   "cell_type": "code",
   "execution_count": null,
   "id": "3fe67951",
   "metadata": {},
   "outputs": [],
   "source": []
  }
 ],
 "metadata": {
  "kernelspec": {
   "display_name": "Python 3 (ipykernel)",
   "language": "python",
   "name": "python3"
  },
  "language_info": {
   "codemirror_mode": {
    "name": "ipython",
    "version": 3
   },
   "file_extension": ".py",
   "mimetype": "text/x-python",
   "name": "python",
   "nbconvert_exporter": "python",
   "pygments_lexer": "ipython3",
   "version": "3.10.12"
  }
 },
 "nbformat": 4,
 "nbformat_minor": 5
}
