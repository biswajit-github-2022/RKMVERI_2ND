{
 "cells": [
  {
   "cell_type": "code",
   "execution_count": 1,
   "id": "0e74d739",
   "metadata": {
    "scrolled": true
   },
   "outputs": [
    {
     "name": "stderr",
     "output_type": "stream",
     "text": [
      "24/05/12 20:04:43 WARN SparkSession: Using an existing Spark session; only runtime SQL configurations will take effect.\n"
     ]
    },
    {
     "name": "stdout",
     "output_type": "stream",
     "text": [
      "Original DataFrame:\n",
      "+---+-------+---+\n",
      "| id|   name|age|\n",
      "+---+-------+---+\n",
      "|  1|  Alice| 30|\n",
      "|  2|    Bob| 25|\n",
      "|  3|Charlie| 35|\n",
      "+---+-------+---+\n",
      "\n"
     ]
    },
    {
     "name": "stderr",
     "output_type": "stream",
     "text": [
      "                                                                                \r"
     ]
    },
    {
     "name": "stdout",
     "output_type": "stream",
     "text": [
      "Modified DataFrame:\n",
      "+---+-------+------------+\n",
      "| id|   name|modified_age|\n",
      "+---+-------+------------+\n",
      "|  1|  Alice|          35|\n",
      "|  2|    Bob|          30|\n",
      "|  3|Charlie|          40|\n",
      "+---+-------+------------+\n",
      "\n"
     ]
    }
   ],
   "source": [
    "# Importing necessary modules\n",
    "from pyspark.sql import SparkSession\n",
    "\n",
    "# Creating a SparkSession\n",
    "spark = SparkSession.builder \\\n",
    "    .appName(\"CSV Mapping Example\") \\\n",
    "    .getOrCreate()\n",
    "\n",
    "# Reading the CSV file into a DataFrame\n",
    "df = spark.read.csv(\"simple_map.csv\", header=True)\n",
    "\n",
    "# Displaying the DataFrame\n",
    "print(\"Original DataFrame:\")\n",
    "df.show()\n",
    "\n",
    "# Mapping operation: Adding 5 to each age\n",
    "mapped_df = df.rdd.map(lambda row: (row['id'], row['name'], int(row['age']) + 5))\n",
    "\n",
    "# Converting back to DataFrame\n",
    "mapped_df = mapped_df.toDF([\"id\", \"name\", \"modified_age\"])\n",
    "\n",
    "# Displaying the modified DataFrame\n",
    "print(\"Modified DataFrame:\")\n",
    "mapped_df.show()\n",
    "\n",
    "# Stopping the SparkSession\n",
    "spark.stop()\n"
   ]
  },
  {
   "cell_type": "code",
   "execution_count": null,
   "id": "3a874611",
   "metadata": {},
   "outputs": [],
   "source": []
  }
 ],
 "metadata": {
  "kernelspec": {
   "display_name": "Python 3 (ipykernel)",
   "language": "python",
   "name": "python3"
  },
  "language_info": {
   "codemirror_mode": {
    "name": "ipython",
    "version": 3
   },
   "file_extension": ".py",
   "mimetype": "text/x-python",
   "name": "python",
   "nbconvert_exporter": "python",
   "pygments_lexer": "ipython3",
   "version": "3.10.12"
  }
 },
 "nbformat": 4,
 "nbformat_minor": 5
}
