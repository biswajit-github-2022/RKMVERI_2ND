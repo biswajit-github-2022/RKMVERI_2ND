{
 "cells": [
  {
   "cell_type": "code",
   "execution_count": 1,
   "metadata": {},
   "outputs": [
    {
     "name": "stdout",
     "output_type": "stream",
     "text": [
      "root\n",
      " |-- Programme: string (nullable = true)\n",
      " |-- Category: string (nullable = true)\n",
      " |-- Male: string (nullable = true)\n",
      " |-- Female: string (nullable = true)\n",
      " |-- Others: string (nullable = true)\n",
      " |-- Total: string (nullable = true)\n",
      "\n"
     ]
    }
   ],
   "source": [
    "spark = SparkSession.builder.master(\"local[1]\").appName(\"SparkByExamples.com\").getOrCreate()\n",
    "df = spark.read.option(\"header\",True).csv(\"data/Programme_Wise_Graduated_Student_Category_Stats-19-20.csv\")\n",
    "df.printSchema()"
   ]
  },
  {
   "cell_type": "code",
   "execution_count": 2,
   "metadata": {},
   "outputs": [],
   "source": [
    "from pyspark.sql.functions import col\n",
    "from pyspark.sql.types import StringType,BooleanType,DateType,IntegerType\n",
    "df2 = df.withColumn(\"total_new\",col(\"Total\").cast(IntegerType()))"
   ]
  },
  {
   "cell_type": "code",
   "execution_count": 3,
   "metadata": {},
   "outputs": [
    {
     "name": "stdout",
     "output_type": "stream",
     "text": [
      "+---------------------------------------------------------+--------------+\n",
      "|programme                                                |sum(total_new)|\n",
      "+---------------------------------------------------------+--------------+\n",
      "|Total                                                    |458           |\n",
      "|MSc in Agriculture and Rural Development                 |15            |\n",
      "|PG Diploma in Post Harvest & Food Technology             |6             |\n",
      "|Diploma in Organic Farming                               |4             |\n",
      "|B.Ed in Special Education (HI)                           |6             |\n",
      "|MSc in Physics                                           |18            |\n",
      "|BSc in Physical Education, Health Education and Sports   |3             |\n",
      "|null                                                     |257           |\n",
      "|Intd B.Ed-M.Ed Special Education(ID)                     |3             |\n",
      "|PG Diploma in Yoga                                       |7             |\n",
      "|PhD in Yoga                                              |1             |\n",
      "|MSc in Mathematics                                       |9             |\n",
      "|MSc in Agricultural Biotechnology                        |11            |\n",
      "|MSc in Environment and Disaster Management               |8             |\n",
      "|Certificate Course in BAPN                               |9             |\n",
      "|PhD in Sports Science                                    |1             |\n",
      "|5 yr Intd. MSc in Agriculture, Rural & Tribal Development|17            |\n",
      "|MSc in Big Data Analytics                                |15            |\n",
      "|B.Ed in Special Education(VI)                            |4             |\n",
      "|Bachelor of Physical Education (BPED)                    |5             |\n",
      "+---------------------------------------------------------+--------------+\n",
      "only showing top 20 rows\n",
      "\n"
     ]
    }
   ],
   "source": [
    "df2.groupBy(\"programme\").sum(\"total_new\").show(truncate=False)"
   ]
  },
  {
   "cell_type": "code",
   "execution_count": 4,
   "metadata": {},
   "outputs": [
    {
     "name": "stdout",
     "output_type": "stream",
     "text": [
      "+-----------------------------------------+--------+----+------+------+-----+---------+-----------------------------------------+\n",
      "|Programme                                |Category|Male|Female|Others|Total|total_new|Name                                     |\n",
      "+-----------------------------------------+--------+----+------+------+-----+---------+-----------------------------------------+\n",
      "|Diploma in Indian Heritage and Philosophy|GENERAL |1   |0     |0     |1    |1        |Diploma in Indian Heritage and Philosophy|\n",
      "|null                                     |SC      |1   |0     |0     |1    |1        |Diploma in Indian Heritage and Philosophy|\n",
      "|MSc in Computer Science                  |GENERAL |9   |0     |0     |9    |9        |MSc in Computer Science                  |\n",
      "|null                                     |OBC     |2   |0     |0     |2    |2        |MSc in Computer Science                  |\n",
      "|MSc in Big Data Analytics                |GENERAL |13  |2     |0     |15   |15       |MSc in Big Data Analytics                |\n",
      "|null                                     |OBC     |2   |0     |0     |2    |2        |MSc in Big Data Analytics                |\n",
      "|null                                     |SC      |1   |0     |0     |1    |1        |MSc in Big Data Analytics                |\n",
      "|MSc in Physics                           |GENERAL |17  |1     |0     |18   |18       |MSc in Physics                           |\n",
      "|null                                     |OBC     |1   |0     |0     |1    |1        |MSc in Physics                           |\n",
      "|Integrated 5 Year MA in Sanskrit(M)      |GENERAL |4   |0     |0     |4    |4        |Integrated 5 Year MA in Sanskrit(M)      |\n",
      "|null                                     |OBC     |5   |0     |0     |5    |5        |Integrated 5 Year MA in Sanskrit(M)      |\n",
      "|null                                     |SC      |8   |0     |0     |8    |8        |Integrated 5 Year MA in Sanskrit(M)      |\n",
      "|MSc in Mathematics                       |GENERAL |5   |4     |0     |9    |9        |MSc in Mathematics                       |\n",
      "|null                                     |OBC     |1   |0     |0     |1    |1        |MSc in Mathematics                       |\n",
      "|PhD in Yoga                              |GENERAL |1   |0     |0     |1    |1        |PhD in Yoga                              |\n",
      "|null                                     |SC      |1   |0     |0     |1    |1        |PhD in Yoga                              |\n",
      "|PhD in Physics                           |GENERAL |3   |0     |0     |3    |3        |PhD in Physics                           |\n",
      "|PhD in Sports Science                    |GENERAL |1   |0     |0     |1    |1        |PhD in Sports Science                    |\n",
      "|null                                     |SC      |3   |0     |0     |3    |3        |PhD in Sports Science                    |\n",
      "|PG Diploma in Yoga                       |GENERAL |7   |0     |0     |7    |7        |PG Diploma in Yoga                       |\n",
      "+-----------------------------------------+--------+----+------+------+-----+---------+-----------------------------------------+\n",
      "only showing top 20 rows\n",
      "\n"
     ]
    }
   ],
   "source": [
    "from pyspark.sql.functions import col, udf\n",
    "from pyspark.sql.types import StringType\n",
    "acc = spark.sparkContext.accumulator(0)\n",
    "#spark.udf.register(\"recreate_table\", repeatName, StringType())\n",
    "\n",
    "@udf(returnType=StringType()) \n",
    "def repeatName(str):\n",
    "    global acc\n",
    "    #return str\n",
    "    print (str)\n",
    "    if (not str):\n",
    "        return acc\n",
    "    else:\n",
    "        acc = str\n",
    "        return acc\n",
    "\n",
    "df3 = df2.withColumn(\"Name\", repeatName(col(\"Programme\")))\n",
    "df3.show(truncate=False)"
   ]
  },
  {
   "cell_type": "code",
   "execution_count": 5,
   "metadata": {},
   "outputs": [
    {
     "name": "stdout",
     "output_type": "stream",
     "text": [
      "+-----------------------------------------+--------+-----+\n",
      "|Name                                     |Category|Total|\n",
      "+-----------------------------------------+--------+-----+\n",
      "|Diploma in Indian Heritage and Philosophy|GENERAL |1    |\n",
      "|Diploma in Indian Heritage and Philosophy|SC      |1    |\n",
      "|MSc in Computer Science                  |GENERAL |9    |\n",
      "|MSc in Computer Science                  |OBC     |2    |\n",
      "|MSc in Big Data Analytics                |GENERAL |15   |\n",
      "|MSc in Big Data Analytics                |OBC     |2    |\n",
      "|MSc in Big Data Analytics                |SC      |1    |\n",
      "|MSc in Physics                           |GENERAL |18   |\n",
      "|MSc in Physics                           |OBC     |1    |\n",
      "|Integrated 5 Year MA in Sanskrit(M)      |GENERAL |4    |\n",
      "|Integrated 5 Year MA in Sanskrit(M)      |OBC     |5    |\n",
      "|Integrated 5 Year MA in Sanskrit(M)      |SC      |8    |\n",
      "|MSc in Mathematics                       |GENERAL |9    |\n",
      "|MSc in Mathematics                       |OBC     |1    |\n",
      "|PhD in Yoga                              |GENERAL |1    |\n",
      "|PhD in Yoga                              |SC      |1    |\n",
      "|PhD in Physics                           |GENERAL |3    |\n",
      "|PhD in Sports Science                    |GENERAL |1    |\n",
      "|PhD in Sports Science                    |SC      |3    |\n",
      "|PG Diploma in Yoga                       |GENERAL |7    |\n",
      "+-----------------------------------------+--------+-----+\n",
      "only showing top 20 rows\n",
      "\n"
     ]
    }
   ],
   "source": [
    "df4 = df3.select(\"Name\", \"Category\", \"Total\")\n",
    "df4.show(truncate=False)"
   ]
  },
  {
   "cell_type": "code",
   "execution_count": 6,
   "metadata": {},
   "outputs": [
    {
     "name": "stdout",
     "output_type": "stream",
     "text": [
      "+--------------------+-------------+-------------+-------------+------------+----------+--------+--------------+--------------+\n",
      "|           Programme|         Code|Duration (Yr)|Maximum Marks|      Campus|Department|  Degree|Faculty Center|No of Students|\n",
      "+--------------------+-------------+-------------+-------------+------------+----------+--------+--------------+--------------+\n",
      "|Integrated 5 Year...|      SAN-MA5|        5 - 6|          100|Belur Campus|      SANS|5YrIntMA|          null|            73|\n",
      "|      MSc in Physics|         PHY1|        2 - 2|          100|Belur Campus|      PHYS|     MSC|          null|            63|\n",
      "|MSc in Big Data A...|          BDA|        2 - 3|          100|Belur Campus|    COMPSC|     MSC|          null|            37|\n",
      "|MSc in Computer S...|          CS1|        2 - 3|          100|Belur Campus|    COMPSC|     MSC|          null|            24|\n",
      "|Integrated MPhil-...|SANS-Intd.PHD|       5 - 10|          100|Belur Campus|      SANS|     PhD|          null|            28|\n",
      "|  PG Diploma in Yoga|        PGDY1|        1 - 2|          100|Belur Campus|    SSYOGA|     PGD|          null|             0|\n",
      "|         PhD in Yoga|     YOGA-PHD|        5 - 7|          100|Belur Campus|    SSYOGA|     PhD|          null|             1|\n",
      "|    MA / MSc in Yoga|   SS-MA-YOGA|        2 - 3|          100|Belur Campus|    SSYOGA|     MSC|          null|             6|\n",
      "|  MSc in Mathematics|    MATHS-MSc|        2 - 3|          100|Belur Campus|     MATHS|     MSC|          null|            49|\n",
      "|MSc in Sports Sci...|       SS-MSC|        2 - 3|          100|Belur Campus|    SSYOGA|     MSC|          null|            10|\n",
      "|      PhD in Physics|      PHY-PHD|        5 - 7|          100|Belur Campus|      PHYS|     PhD|          null|             9|\n",
      "|Certificate Cours...|         CCY1|        1 - 1|          100|Belur Campus|    SSYOGA|      CP|          null|             3|\n",
      "|Certificate Cours...|       BAPNCC|        1 - 1|          100|Belur Campus|    SSYOGA|      CP|          null|             0|\n",
      "|  PhD in Mathematics|      PHDMATH|        5 - 7|          100|Belur Campus|     MATHS|     PhD|          null|            22|\n",
      "|PhD in Sports Sci...|        PHDSS|        5 - 7|          100|Belur Campus|    SSYOGA|     PhD|          null|             5|\n",
      "|Integrated 5 Year...|      SANMA5W|        5 - 6|          100|Belur Campus|      SANS|5YrIntMA|          null|             7|\n",
      "|   PhD in Philosophy|      PhDPhil|        5 - 7|          100|Belur Campus|      SANS|     PhD|          null|             2|\n",
      "|BA in Indian Heri...|         BAIH|        3 - 3|          100|Belur Campus|      SANS|      BA|          null|             0|\n",
      "|PhD in Computer S...|        PHDCS|        5 - 6|          100|Belur Campus|    COMPSC|     PhD|          null|             1|\n",
      "|MPhil in Sports S...|      MPHILSS|        1 - 2|          100|Belur Campus|    SSYOGA|   MPhil|          null|             0|\n",
      "+--------------------+-------------+-------------+-------------+------------+----------+--------+--------------+--------------+\n",
      "only showing top 20 rows\n",
      "\n"
     ]
    }
   ],
   "source": [
    "df_dept = spark.read.option(\"header\",True).csv(\"data/Programme_List.csv\")\n",
    "df_dept.show()"
   ]
  },
  {
   "cell_type": "code",
   "execution_count": 7,
   "metadata": {},
   "outputs": [],
   "source": [
    "df_dept_stat = df4.join(df_dept,df4.Name ==  df_dept.Programme,\"inner\")"
   ]
  },
  {
   "cell_type": "code",
   "execution_count": 8,
   "metadata": {},
   "outputs": [
    {
     "name": "stdout",
     "output_type": "stream",
     "text": [
      "+----------+--------------------+--------+-----+\n",
      "|Department|           Programme|Category|Total|\n",
      "+----------+--------------------+--------+-----+\n",
      "|      SANS|Integrated 5 Year...|      SC|    8|\n",
      "|      SANS|Integrated 5 Year...|     OBC|    5|\n",
      "|      SANS|Integrated 5 Year...| GENERAL|    4|\n",
      "|      PHYS|      MSc in Physics|     OBC|    1|\n",
      "|      PHYS|      MSc in Physics| GENERAL|   18|\n",
      "|    COMPSC|MSc in Big Data A...|      SC|    1|\n",
      "|    COMPSC|MSc in Big Data A...|     OBC|    2|\n",
      "|    COMPSC|MSc in Big Data A...| GENERAL|   15|\n",
      "|    COMPSC|MSc in Computer S...|     OBC|    2|\n",
      "|    COMPSC|MSc in Computer S...| GENERAL|    9|\n",
      "|    SSYOGA|  PG Diploma in Yoga|      SC|    3|\n",
      "|    SSYOGA|  PG Diploma in Yoga|     OBC|    1|\n",
      "|    SSYOGA|  PG Diploma in Yoga| GENERAL|    7|\n",
      "|    SSYOGA|         PhD in Yoga|      SC|    1|\n",
      "|    SSYOGA|         PhD in Yoga| GENERAL|    1|\n",
      "|     MATHS|  MSc in Mathematics|     OBC|    1|\n",
      "|     MATHS|  MSc in Mathematics| GENERAL|    9|\n",
      "|      PHYS|      PhD in Physics| GENERAL|    3|\n",
      "|    SSYOGA|Certificate Cours...|      SC|    1|\n",
      "|    SSYOGA|Certificate Cours...|     OBC|    1|\n",
      "+----------+--------------------+--------+-----+\n",
      "only showing top 20 rows\n",
      "\n"
     ]
    }
   ],
   "source": [
    "df_data = df_dept_stat.select(\"Department\", \"Programme\", \"Category\",\"Total\")\n",
    "df_data.show()"
   ]
  },
  {
   "cell_type": "code",
   "execution_count": 9,
   "metadata": {},
   "outputs": [
    {
     "name": "stdout",
     "output_type": "stream",
     "text": [
      "+----------+--------------------+--------+-----+---------+\n",
      "|Department|           Programme|Category|total|total_new|\n",
      "+----------+--------------------+--------+-----+---------+\n",
      "|      SANS|Integrated 5 Year...|      SC|    8|        8|\n",
      "|      SANS|Integrated 5 Year...|     OBC|    5|        5|\n",
      "|      SANS|Integrated 5 Year...| GENERAL|    4|        4|\n",
      "|      PHYS|      MSc in Physics|     OBC|    1|        1|\n",
      "|      PHYS|      MSc in Physics| GENERAL|   18|       18|\n",
      "|    COMPSC|MSc in Big Data A...|      SC|    1|        1|\n",
      "|    COMPSC|MSc in Big Data A...|     OBC|    2|        2|\n",
      "|    COMPSC|MSc in Big Data A...| GENERAL|   15|       15|\n",
      "|    COMPSC|MSc in Computer S...|     OBC|    2|        2|\n",
      "|    COMPSC|MSc in Computer S...| GENERAL|    9|        9|\n",
      "|    SSYOGA|  PG Diploma in Yoga|      SC|    3|        3|\n",
      "|    SSYOGA|  PG Diploma in Yoga|     OBC|    1|        1|\n",
      "|    SSYOGA|  PG Diploma in Yoga| GENERAL|    7|        7|\n",
      "|    SSYOGA|         PhD in Yoga|      SC|    1|        1|\n",
      "|    SSYOGA|         PhD in Yoga| GENERAL|    1|        1|\n",
      "|     MATHS|  MSc in Mathematics|     OBC|    1|        1|\n",
      "|     MATHS|  MSc in Mathematics| GENERAL|    9|        9|\n",
      "|      PHYS|      PhD in Physics| GENERAL|    3|        3|\n",
      "|    SSYOGA|Certificate Cours...|      SC|    1|        1|\n",
      "|    SSYOGA|Certificate Cours...|     OBC|    1|        1|\n",
      "+----------+--------------------+--------+-----+---------+\n",
      "only showing top 20 rows\n",
      "\n"
     ]
    }
   ],
   "source": [
    "df_data2 = df_data.withColumn(\"total_new\",col(\"Total\").cast(IntegerType()))\n",
    "df_data2.coalesce(1).write.option(\"header\",True).csv('out/19-20/tmp')\n",
    "df_data3 = spark.read.option(\"header\",True).csv(\"out/19-20/tmp/*.csv\")\n",
    "\n",
    "#spark.udf.register(\"recreate_table\", repeatName, StringType())\n",
    "df_trimmed = df_data3.withColumn(\"total\",col(\"total_new\").cast(IntegerType()))\n",
    "df_trimmed.show()"
   ]
  },
  {
   "cell_type": "code",
   "execution_count": 10,
   "metadata": {},
   "outputs": [],
   "source": [
    "df_Gen_data = df_trimmed.filter(df_trimmed.Category == \"GENERAL\")\n",
    "df_Gen_Ews_data = df_trimmed.filter(df_trimmed.Category == \"GENERAL-EWS\")\n",
    "df_Sc_data = df_trimmed.filter(df_trimmed.Category == \"SC\")\n",
    "df_St_data = df_trimmed.filter(df_trimmed.Category == \"ST\")\n",
    "df_Obc_data = df_trimmed.filter(df_trimmed.Category == \"OBC\")\n",
    "\n",
    "#df_Gen_data.show(truncate=False)\n",
    "#df_Gen_Ews_data.show()\n",
    "#df_Sc_data.show()\n",
    "#df_St_data.show()\n",
    "#df_Obc_data.show()"
   ]
  },
  {
   "cell_type": "code",
   "execution_count": 11,
   "metadata": {},
   "outputs": [
    {
     "name": "stdout",
     "output_type": "stream",
     "text": [
      "+----------+----------+\n",
      "|Department|sum(total)|\n",
      "+----------+----------+\n",
      "+----------+----------+\n",
      "\n"
     ]
    }
   ],
   "source": [
    "df_Gen = df_Gen_data.groupBy(\"Department\").sum(\"total\")\n",
    "df_Gen_Ews = df_Gen_Ews_data.groupBy(\"Department\").sum(\"total\")\n",
    "df_Sc = df_Sc_data.groupBy(\"Department\").sum(\"total\")\n",
    "df_St = df_St_data.groupBy(\"Department\").sum(\"total\")\n",
    "df_Obc = df_Obc_data.groupBy(\"Department\").sum(\"total\")\n",
    "df_St.show(truncate=False)"
   ]
  },
  {
   "cell_type": "code",
   "execution_count": 12,
   "metadata": {},
   "outputs": [],
   "source": [
    "df_Gen.coalesce(1).write.csv('out/19-20/Gen.csv')"
   ]
  },
  {
   "cell_type": "code",
   "execution_count": 13,
   "metadata": {},
   "outputs": [],
   "source": [
    "df_Gen_Ews.coalesce(1).write.csv('out/19-20/Gen_Ews.csv')\n",
    "df_Sc.coalesce(1).write.csv('out/19-20/Sc.csv')\n",
    "df_St.coalesce(1).write.csv('out/19-20/St.csv')\n",
    "df_Obc.coalesce(1).write.csv('out/19-20/Obc.csv')"
   ]
  },
  {
   "cell_type": "code",
   "execution_count": null,
   "metadata": {},
   "outputs": [],
   "source": []
  }
 ],
 "metadata": {
  "kernelspec": {
   "display_name": "Python 3",
   "language": "python",
   "name": "python3"
  },
  "language_info": {
   "codemirror_mode": {
    "name": "ipython",
    "version": 3
   },
   "file_extension": ".py",
   "mimetype": "text/x-python",
   "name": "python",
   "nbconvert_exporter": "python",
   "pygments_lexer": "ipython3",
   "version": "3.6.9"
  }
 },
 "nbformat": 4,
 "nbformat_minor": 4
}
