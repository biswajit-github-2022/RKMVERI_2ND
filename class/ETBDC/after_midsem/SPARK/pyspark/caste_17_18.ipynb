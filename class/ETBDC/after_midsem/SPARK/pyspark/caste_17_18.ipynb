{
 "cells": [
  {
   "cell_type": "code",
   "execution_count": 1,
   "metadata": {},
   "outputs": [
    {
     "name": "stderr",
     "output_type": "stream",
     "text": [
      "24/03/22 12:58:48 WARN SparkSession: Using an existing Spark session; only runtime SQL configurations will take effect.\n"
     ]
    },
    {
     "name": "stdout",
     "output_type": "stream",
     "text": [
      "root\n",
      " |-- Programme: string (nullable = true)\n",
      " |-- Category: string (nullable = true)\n",
      " |-- Male: string (nullable = true)\n",
      " |-- Female: string (nullable = true)\n",
      " |-- Others: string (nullable = true)\n",
      " |-- Total: string (nullable = true)\n",
      "\n"
     ]
    }
   ],
   "source": [
    "spark = SparkSession.builder.master(\"local[1]\").appName(\"SparkByExamples.com\").getOrCreate()\n",
    "df = spark.read.option(\"header\",True).csv(\"data/Programme_Wise_Graduated_Student_Category_Stats-17-18.csv\")\n",
    "df.printSchema()"
   ]
  },
  {
   "cell_type": "code",
   "execution_count": 3,
   "metadata": {},
   "outputs": [],
   "source": [
    "from pyspark.sql.functions import col\n",
    "from pyspark.sql.types import StringType,BooleanType,DateType,IntegerType\n",
    "df2 = df.withColumn(\"total_new\",col(\"Total\").cast(IntegerType()))"
   ]
  },
  {
   "cell_type": "code",
   "execution_count": 4,
   "metadata": {},
   "outputs": [
    {
     "name": "stdout",
     "output_type": "stream",
     "text": [
      "+---------------------------------------------------------+--------------+\n",
      "|programme                                                |sum(total_new)|\n",
      "+---------------------------------------------------------+--------------+\n",
      "|Total                                                    |39            |\n",
      "|MPhil in Sports Science                                  |2             |\n",
      "|NULL                                                     |15            |\n",
      "|PhD in Sports Science                                    |1             |\n",
      "|5 yr Intd. MSc in Agriculture, Rural & Tribal Development|9             |\n",
      "|Diploma in Agriculture & Rural Development               |9             |\n",
      "|PhD in Agriculture, Rural & Tribal Development           |2             |\n",
      "|Intd. MPhil-PhD in Special Education                     |1             |\n",
      "+---------------------------------------------------------+--------------+\n",
      "\n"
     ]
    }
   ],
   "source": [
    "df2.groupBy(\"programme\").sum(\"total_new\").show(truncate=False)"
   ]
  },
  {
   "cell_type": "code",
   "execution_count": 5,
   "metadata": {},
   "outputs": [
    {
     "name": "stdout",
     "output_type": "stream",
     "text": [
      "+---------------------------------------------------------+--------+----+------+------+-----+---------+---------------------------------------------------------+\n",
      "|Programme                                                |Category|Male|Female|Others|Total|total_new|Name                                                     |\n",
      "+---------------------------------------------------------+--------+----+------+------+-----+---------+---------------------------------------------------------+\n",
      "|MPhil in Sports Science                                  |GENERAL |1   |1     |0     |2    |2        |MPhil in Sports Science                                  |\n",
      "|NULL                                                     |OBC     |0   |1     |0     |1    |1        |MPhil in Sports Science                                  |\n",
      "|NULL                                                     |SC      |3   |0     |0     |3    |3        |MPhil in Sports Science                                  |\n",
      "|PhD in Sports Science                                    |OBC     |1   |0     |0     |1    |1        |PhD in Sports Science                                    |\n",
      "|Diploma in Agriculture & Rural Development               |OBC     |5   |4     |0     |9    |9        |Diploma in Agriculture & Rural Development               |\n",
      "|NULL                                                     |ST      |4   |4     |0     |8    |8        |Diploma in Agriculture & Rural Development               |\n",
      "|5 yr Intd. MSc in Agriculture, Rural & Tribal Development|GENERAL |6   |3     |0     |9    |9        |5 yr Intd. MSc in Agriculture, Rural & Tribal Development|\n",
      "|NULL                                                     |OBC     |0   |1     |0     |1    |1        |5 yr Intd. MSc in Agriculture, Rural & Tribal Development|\n",
      "|NULL                                                     |SC      |1   |0     |0     |1    |1        |5 yr Intd. MSc in Agriculture, Rural & Tribal Development|\n",
      "|PhD in Agriculture, Rural & Tribal Development           |GENERAL |2   |0     |0     |2    |2        |PhD in Agriculture, Rural & Tribal Development           |\n",
      "|Intd. MPhil-PhD in Special Education                     |GENERAL |1   |0     |0     |1    |1        |Intd. MPhil-PhD in Special Education                     |\n",
      "|NULL                                                     |UNKNOWN |1   |0     |0     |1    |1        |Intd. MPhil-PhD in Special Education                     |\n",
      "|Total                                                    |NULL    |25  |14    |0     |39   |39       |Total                                                    |\n",
      "+---------------------------------------------------------+--------+----+------+------+-----+---------+---------------------------------------------------------+\n",
      "\n"
     ]
    },
    {
     "name": "stderr",
     "output_type": "stream",
     "text": [
      "\r",
      "[Stage 4:>                                                          (0 + 1) / 1]\r",
      "MPhil in Sports Science\n",
      "None\n",
      "None\n",
      "PhD in Sports Science\n",
      "Diploma in Agriculture & Rural Development\n",
      "None\n",
      "5 yr Intd. MSc in Agriculture, Rural & Tribal Development\n",
      "None\n",
      "None\n",
      "PhD in Agriculture, Rural & Tribal Development\n",
      "Intd. MPhil-PhD in Special Education\n",
      "None\n",
      "Total\n",
      "\r",
      "                                                                                \r"
     ]
    }
   ],
   "source": [
    "from pyspark.sql.functions import col, udf\n",
    "from pyspark.sql.types import StringType\n",
    "acc = spark.sparkContext.accumulator(0)\n",
    "#spark.udf.register(\"recreate_table\", repeatName, StringType())\n",
    "\n",
    "@udf(returnType=StringType()) \n",
    "def repeatName(str):\n",
    "    global acc\n",
    "    #return str\n",
    "    print (str)\n",
    "    if (not str):\n",
    "        return acc\n",
    "    else:\n",
    "        acc = str\n",
    "        return acc\n",
    "\n",
    "df3 = df2.withColumn(\"Name\", repeatName(col(\"Programme\")))\n",
    "df3.show(truncate=False)"
   ]
  },
  {
   "cell_type": "code",
   "execution_count": 10,
   "metadata": {},
   "outputs": [
    {
     "name": "stdout",
     "output_type": "stream",
     "text": [
      "+---------------------------------------------------------+--------+-----+\n",
      "|Name                                                     |Category|Total|\n",
      "+---------------------------------------------------------+--------+-----+\n",
      "|MPhil in Sports Science                                  |GENERAL |2    |\n",
      "|MPhil in Sports Science                                  |OBC     |1    |\n",
      "|MPhil in Sports Science                                  |SC      |3    |\n",
      "|PhD in Sports Science                                    |OBC     |1    |\n",
      "|Diploma in Agriculture & Rural Development               |OBC     |9    |\n",
      "|Diploma in Agriculture & Rural Development               |ST      |8    |\n",
      "|5 yr Intd. MSc in Agriculture, Rural & Tribal Development|GENERAL |9    |\n",
      "|5 yr Intd. MSc in Agriculture, Rural & Tribal Development|OBC     |1    |\n",
      "|5 yr Intd. MSc in Agriculture, Rural & Tribal Development|SC      |1    |\n",
      "|PhD in Agriculture, Rural & Tribal Development           |GENERAL |2    |\n",
      "|Intd. MPhil-PhD in Special Education                     |GENERAL |1    |\n",
      "|Intd. MPhil-PhD in Special Education                     |UNKNOWN |1    |\n",
      "|Total                                                    |NULL    |39   |\n",
      "+---------------------------------------------------------+--------+-----+\n",
      "\n"
     ]
    },
    {
     "name": "stderr",
     "output_type": "stream",
     "text": [
      "MPhil in Sports Science\n",
      "None\n",
      "None\n",
      "PhD in Sports Science\n",
      "Diploma in Agriculture & Rural Development\n",
      "None\n",
      "5 yr Intd. MSc in Agriculture, Rural & Tribal Development\n",
      "None\n",
      "None\n",
      "PhD in Agriculture, Rural & Tribal Development\n",
      "Intd. MPhil-PhD in Special Education\n",
      "None\n",
      "Total\n"
     ]
    }
   ],
   "source": [
    "df4 = df3.select(\"Name\", \"Category\", \"Total\")\n",
    "df4.show(truncate=False)"
   ]
  },
  {
   "cell_type": "code",
   "execution_count": 8,
   "metadata": {},
   "outputs": [
    {
     "name": "stdout",
     "output_type": "stream",
     "text": [
      "+--------------------+-------------+-------------+-------------+------------+----------+--------+--------------+--------------+\n",
      "|           Programme|         Code|Duration (Yr)|Maximum Marks|      Campus|Department|  Degree|Faculty Center|No of Students|\n",
      "+--------------------+-------------+-------------+-------------+------------+----------+--------+--------------+--------------+\n",
      "|Integrated 5 Year...|      SAN-MA5|        5 - 6|          100|Belur Campus|      SANS|5YrIntMA|          NULL|            73|\n",
      "|      MSc in Physics|         PHY1|        2 - 2|          100|Belur Campus|      PHYS|     MSC|          NULL|            63|\n",
      "|MSc in Big Data A...|          BDA|        2 - 3|          100|Belur Campus|    COMPSC|     MSC|          NULL|            37|\n",
      "|MSc in Computer S...|          CS1|        2 - 3|          100|Belur Campus|    COMPSC|     MSC|          NULL|            24|\n",
      "|Integrated MPhil-...|SANS-Intd.PHD|       5 - 10|          100|Belur Campus|      SANS|     PhD|          NULL|            28|\n",
      "|  PG Diploma in Yoga|        PGDY1|        1 - 2|          100|Belur Campus|    SSYOGA|     PGD|          NULL|             0|\n",
      "|         PhD in Yoga|     YOGA-PHD|        5 - 7|          100|Belur Campus|    SSYOGA|     PhD|          NULL|             1|\n",
      "|    MA / MSc in Yoga|   SS-MA-YOGA|        2 - 3|          100|Belur Campus|    SSYOGA|     MSC|          NULL|             6|\n",
      "|  MSc in Mathematics|    MATHS-MSc|        2 - 3|          100|Belur Campus|     MATHS|     MSC|          NULL|            49|\n",
      "|MSc in Sports Sci...|       SS-MSC|        2 - 3|          100|Belur Campus|    SSYOGA|     MSC|          NULL|            10|\n",
      "|      PhD in Physics|      PHY-PHD|        5 - 7|          100|Belur Campus|      PHYS|     PhD|          NULL|             9|\n",
      "|Certificate Cours...|         CCY1|        1 - 1|          100|Belur Campus|    SSYOGA|      CP|          NULL|             3|\n",
      "|Certificate Cours...|       BAPNCC|        1 - 1|          100|Belur Campus|    SSYOGA|      CP|          NULL|             0|\n",
      "|  PhD in Mathematics|      PHDMATH|        5 - 7|          100|Belur Campus|     MATHS|     PhD|          NULL|            22|\n",
      "|PhD in Sports Sci...|        PHDSS|        5 - 7|          100|Belur Campus|    SSYOGA|     PhD|          NULL|             5|\n",
      "|Integrated 5 Year...|      SANMA5W|        5 - 6|          100|Belur Campus|      SANS|5YrIntMA|          NULL|             7|\n",
      "|   PhD in Philosophy|      PhDPhil|        5 - 7|          100|Belur Campus|      SANS|     PhD|          NULL|             2|\n",
      "|BA in Indian Heri...|         BAIH|        3 - 3|          100|Belur Campus|      SANS|      BA|          NULL|             0|\n",
      "|PhD in Computer S...|        PHDCS|        5 - 6|          100|Belur Campus|    COMPSC|     PhD|          NULL|             1|\n",
      "|MPhil in Sports S...|      MPHILSS|        1 - 2|          100|Belur Campus|    SSYOGA|   MPhil|          NULL|             0|\n",
      "+--------------------+-------------+-------------+-------------+------------+----------+--------+--------------+--------------+\n",
      "only showing top 20 rows\n",
      "\n"
     ]
    }
   ],
   "source": [
    "df_dept = spark.read.option(\"header\",True).csv(\"data/Programme_List.csv\")\n",
    "df_dept.show()"
   ]
  },
  {
   "cell_type": "code",
   "execution_count": 7,
   "metadata": {},
   "outputs": [],
   "source": [
    "df_dept_stat = df4.join(df_dept,df4.Name ==  df_dept.Programme,\"inner\")"
   ]
  },
  {
   "cell_type": "code",
   "execution_count": 8,
   "metadata": {},
   "outputs": [
    {
     "name": "stderr",
     "output_type": "stream",
     "text": [
      "MPhil in Sports Science\n",
      "None\n",
      "None\n",
      "PhD in Sports Science\n",
      "Diploma in Agriculture & Rural Development\n",
      "None\n",
      "5 yr Intd. MSc in Agriculture, Rural & Tribal Development\n",
      "None\n",
      "None\n",
      "PhD in Agriculture, Rural & Tribal Development\n",
      "Intd. MPhil-PhD in Special Education\n",
      "None\n",
      "Total\n",
      "MPhil in Sports Science\n",
      "None\n",
      "None\n",
      "PhD in Sports Science\n",
      "Diploma in Agriculture & Rural Development\n",
      "None\n",
      "5 yr Intd. MSc in Agriculture, Rural & Tribal Development\n",
      "None\n",
      "None\n",
      "PhD in Agriculture, Rural & Tribal Development\n",
      "Intd. MPhil-PhD in Special Education\n",
      "None\n",
      "Total\n"
     ]
    },
    {
     "name": "stdout",
     "output_type": "stream",
     "text": [
      "+----------+--------------------+--------+-----+\n",
      "|Department|           Programme|Category|Total|\n",
      "+----------+--------------------+--------+-----+\n",
      "|    SSYOGA|PhD in Sports Sci...|     OBC|    1|\n",
      "|    SSYOGA|MPhil in Sports S...|      SC|    3|\n",
      "|    SSYOGA|MPhil in Sports S...|     OBC|    1|\n",
      "|    SSYOGA|MPhil in Sports S...| GENERAL|    2|\n",
      "+----------+--------------------+--------+-----+\n",
      "\n"
     ]
    }
   ],
   "source": [
    "df_data = df_dept_stat.select(\"Department\", \"Programme\", \"Category\",\"Total\")\n",
    "df_data.show()"
   ]
  },
  {
   "cell_type": "code",
   "execution_count": 13,
   "metadata": {},
   "outputs": [
    {
     "name": "stderr",
     "output_type": "stream",
     "text": [
      "MPhil in Sports Science\n",
      "None\n",
      "None\n",
      "PhD in Sports Science\n",
      "Diploma in Agriculture & Rural Development\n",
      "None\n",
      "5 yr Intd. MSc in Agriculture, Rural & Tribal Development\n",
      "None\n",
      "None\n",
      "PhD in Agriculture, Rural & Tribal Development\n",
      "Intd. MPhil-PhD in Special Education\n",
      "None\n",
      "Total\n",
      "MPhil in Sports Science\n",
      "None\n",
      "None\n",
      "PhD in Sports Science\n",
      "Diploma in Agriculture & Rural Development\n",
      "None\n",
      "5 yr Intd. MSc in Agriculture, Rural & Tribal Development\n",
      "None\n",
      "None\n",
      "PhD in Agriculture, Rural & Tribal Development\n",
      "Intd. MPhil-PhD in Special Education\n",
      "None\n",
      "Total\n"
     ]
    },
    {
     "name": "stdout",
     "output_type": "stream",
     "text": [
      "+----------+--------------------+--------+-----+---------+\n",
      "|Department|           Programme|Category|total|total_new|\n",
      "+----------+--------------------+--------+-----+---------+\n",
      "|    SSYOGA|PhD in Sports Sci...|     OBC|    1|        1|\n",
      "|    SSYOGA|MPhil in Sports S...|      SC|    3|        3|\n",
      "|    SSYOGA|MPhil in Sports S...|     OBC|    1|        1|\n",
      "|    SSYOGA|MPhil in Sports S...| GENERAL|    2|        2|\n",
      "+----------+--------------------+--------+-----+---------+\n",
      "\n"
     ]
    }
   ],
   "source": [
    "df_data2 = df_data.withColumn(\"total_new\",col(\"Total\").cast(IntegerType()))\n",
    "df_data2.coalesce(1).write.mode('overwrite').option(\"header\",True).csv('out/17-18/tmp')\n",
    "df_data3 = spark.read.option(\"header\",True).csv(\"out/17-18/tmp/*.csv\")\n",
    "\n",
    "#spark.udf.register(\"recreate_table\", repeatName, StringType())\n",
    "df_trimmed = df_data3.withColumn(\"total\",col(\"total_new\").cast(IntegerType()))\n",
    "df_trimmed.show()"
   ]
  },
  {
   "cell_type": "code",
   "execution_count": 14,
   "metadata": {},
   "outputs": [],
   "source": [
    "df_Gen_data = df_trimmed.filter(df_trimmed.Category == \"GENERAL\")\n",
    "df_Gen_Ews_data = df_trimmed.filter(df_trimmed.Category == \"GENERAL-EWS\")\n",
    "df_Sc_data = df_trimmed.filter(df_trimmed.Category == \"SC\")\n",
    "df_St_data = df_trimmed.filter(df_trimmed.Category == \"ST\")\n",
    "df_Obc_data = df_trimmed.filter(df_trimmed.Category == \"OBC\")\n",
    "\n",
    "#df_Gen_data.show(truncate=False)\n",
    "#df_Gen_Ews_data.show()\n",
    "#df_Sc_data.show()\n",
    "#df_St_data.show()\n",
    "#df_Obc_data.show()"
   ]
  },
  {
   "cell_type": "code",
   "execution_count": 15,
   "metadata": {},
   "outputs": [
    {
     "name": "stdout",
     "output_type": "stream",
     "text": [
      "+----------+----------+\n",
      "|Department|sum(total)|\n",
      "+----------+----------+\n",
      "+----------+----------+\n",
      "\n"
     ]
    }
   ],
   "source": [
    "df_Gen = df_Gen_data.groupBy(\"Department\").sum(\"total\")\n",
    "df_Gen_Ews = df_Gen_Ews_data.groupBy(\"Department\").sum(\"total\")\n",
    "df_Sc = df_Sc_data.groupBy(\"Department\").sum(\"total\")\n",
    "df_St = df_St_data.groupBy(\"Department\").sum(\"total\")\n",
    "df_Obc = df_Obc_data.groupBy(\"Department\").sum(\"total\")\n",
    "df_St.show(truncate=False)"
   ]
  },
  {
   "cell_type": "code",
   "execution_count": 17,
   "metadata": {},
   "outputs": [],
   "source": [
    "df_Gen.coalesce(1).write.mode('overwrite').csv('out/17-18/Gen.csv')"
   ]
  },
  {
   "cell_type": "code",
   "execution_count": 19,
   "metadata": {},
   "outputs": [],
   "source": [
    "df_Gen_Ews.coalesce(1).write.mode('overwrite').csv('out/17-18/Gen_Ews.csv')\n",
    "df_Sc.coalesce(1).write.mode('overwrite').csv('out/17-18/Sc.csv')\n",
    "df_St.coalesce(1).write.mode('overwrite').csv('out/17-18/St.csv')\n",
    "df_Obc.coalesce(1).write.mode('overwrite').csv('out/17-18/Obc.csv')"
   ]
  },
  {
   "cell_type": "code",
   "execution_count": null,
   "metadata": {},
   "outputs": [],
   "source": []
  }
 ],
 "metadata": {
  "kernelspec": {
   "display_name": "Python 3 (ipykernel)",
   "language": "python",
   "name": "python3"
  },
  "language_info": {
   "codemirror_mode": {
    "name": "ipython",
    "version": 3
   },
   "file_extension": ".py",
   "mimetype": "text/x-python",
   "name": "python",
   "nbconvert_exporter": "python",
   "pygments_lexer": "ipython3",
   "version": "3.10.12"
  }
 },
 "nbformat": 4,
 "nbformat_minor": 4
}
