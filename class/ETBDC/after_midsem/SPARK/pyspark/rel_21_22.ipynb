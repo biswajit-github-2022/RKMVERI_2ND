{
 "cells": [
  {
   "cell_type": "code",
   "execution_count": 3,
   "metadata": {},
   "outputs": [
    {
     "name": "stdout",
     "output_type": "stream",
     "text": [
      "+--------------------+---------+----+------+------+-----+\n",
      "|           Programme| Religion|Male|Female|Others|Total|\n",
      "+--------------------+---------+----+------+------+-----+\n",
      "|MSc in Computer S...|    Hindu|   5|     0|     0|    5|\n",
      "|                null|   Others|   1|     0|     0|    1|\n",
      "|      MSc in Physics|    Hindu|  22|     8|     0|   30|\n",
      "|                null|Not Known|   1|     0|     0|    1|\n",
      "|    MA / MSc in Yoga|    Hindu|   5|     0|     0|    5|\n",
      "|Integrated 5 Year...|    Hindu|  17|     0|     0|   17|\n",
      "|MSc in Big Data A...|    Hindu|  12|     0|     0|   12|\n",
      "|                null|Not Known|   2|     0|     0|    2|\n",
      "|  MSc in Mathematics|    Hindu|  19|     0|     0|   19|\n",
      "|                null|Not Known|   3|     0|     0|    3|\n",
      "|Integrated MPhil-...|    Hindu|   8|     0|     0|    8|\n",
      "|         PhD in Yoga|    Hindu|   2|     0|     0|    2|\n",
      "|      PhD in Physics|    Hindu|   1|     0|     0|    1|\n",
      "|  PG Diploma in Yoga|    Hindu|   2|     0|     0|    2|\n",
      "|                null|Not Known|   1|     0|     0|    1|\n",
      "|Certificate Cours...|Not Known|   2|     0|     0|    2|\n",
      "|Certificate Cours...|     null|null|  null|  null| null|\n",
      "|Certificate Cours...|    Hindu|   0|     6|     0|    6|\n",
      "|Diploma in Organi...|    Hindu|   2|     1|     0|    3|\n",
      "|                null|   Others|   1|     2|     0|    3|\n",
      "+--------------------+---------+----+------+------+-----+\n",
      "only showing top 20 rows\n",
      "\n"
     ]
    }
   ],
   "source": [
    "spark = SparkSession.builder.master(\"local[1]\").appName(\"SparkByExamples.com\").getOrCreate()\n",
    "df = spark.read.option(\"header\",True).csv(\"data/Programme_Wise_Graduated_Student_Religion_Stats-21-22.csv\")\n",
    "#df.printSchema()\n",
    "df.show()"
   ]
  },
  {
   "cell_type": "code",
   "execution_count": 4,
   "metadata": {},
   "outputs": [],
   "source": [
    "from pyspark.sql.functions import col\n",
    "from pyspark.sql.types import StringType,BooleanType,DateType,IntegerType\n",
    "df2 = df.withColumn(\"total_new\",col(\"Total\").cast(IntegerType()))"
   ]
  },
  {
   "cell_type": "code",
   "execution_count": 5,
   "metadata": {},
   "outputs": [
    {
     "name": "stdout",
     "output_type": "stream",
     "text": [
      "+---------------------------------------------------------+--------------+\n",
      "|programme                                                |sum(total_new)|\n",
      "+---------------------------------------------------------+--------------+\n",
      "|Total                                                    |494           |\n",
      "|MSc in Agriculture and Rural Development                 |23            |\n",
      "|PG Diploma in Post Harvest & Food Technology             |19            |\n",
      "|Diploma in Organic Farming                               |3             |\n",
      "|B.Ed in Special Education (HI)                           |4             |\n",
      "|MSc in Physics                                           |30            |\n",
      "|BSc in Physical Education, Health Education and Sports   |50            |\n",
      "|PhD in Medical Biotechnology                             |1             |\n",
      "|null                                                     |85            |\n",
      "|Intd B.Ed-M.Ed Special Education(ID)                     |7             |\n",
      "|PG Diploma in Yoga                                       |2             |\n",
      "|PhD in Yoga                                              |2             |\n",
      "|MSc in Mathematics                                       |19            |\n",
      "|Integrated MPhil-PhD in Sanskrit                         |8             |\n",
      "|MSc in Data Science                                      |8             |\n",
      "|MSc in Agricultural Biotechnology                        |11            |\n",
      "|B.Ed in Special Education(ID)                            |10            |\n",
      "|MSc in Environment and Disaster Management               |9             |\n",
      "|5 yr Intd. MSc in Agriculture, Rural & Tribal Development|35            |\n",
      "|MSc in Big Data Analytics                                |12            |\n",
      "+---------------------------------------------------------+--------------+\n",
      "only showing top 20 rows\n",
      "\n"
     ]
    }
   ],
   "source": [
    "df2.groupBy(\"programme\").sum(\"total_new\").show(truncate=False)"
   ]
  },
  {
   "cell_type": "code",
   "execution_count": 6,
   "metadata": {},
   "outputs": [
    {
     "name": "stdout",
     "output_type": "stream",
     "text": [
      "+-----------------------------------------------------------+---------+----+------+------+-----+---------+-----------------------------------------------------------+\n",
      "|Programme                                                  |Religion |Male|Female|Others|Total|total_new|Name                                                       |\n",
      "+-----------------------------------------------------------+---------+----+------+------+-----+---------+-----------------------------------------------------------+\n",
      "|MSc in Computer Science                                    |Hindu    |5   |0     |0     |5    |5        |MSc in Computer Science                                    |\n",
      "|null                                                       |Others   |1   |0     |0     |1    |1        |MSc in Computer Science                                    |\n",
      "|MSc in Physics                                             |Hindu    |22  |8     |0     |30   |30       |MSc in Physics                                             |\n",
      "|null                                                       |Not Known|1   |0     |0     |1    |1        |MSc in Physics                                             |\n",
      "|MA / MSc in Yoga                                           |Hindu    |5   |0     |0     |5    |5        |MA / MSc in Yoga                                           |\n",
      "|Integrated 5 Year MA in Sanskrit(M)                        |Hindu    |17  |0     |0     |17   |17       |Integrated 5 Year MA in Sanskrit(M)                        |\n",
      "|MSc in Big Data Analytics                                  |Hindu    |12  |0     |0     |12   |12       |MSc in Big Data Analytics                                  |\n",
      "|null                                                       |Not Known|2   |0     |0     |2    |2        |MSc in Big Data Analytics                                  |\n",
      "|MSc in Mathematics                                         |Hindu    |19  |0     |0     |19   |19       |MSc in Mathematics                                         |\n",
      "|null                                                       |Not Known|3   |0     |0     |3    |3        |MSc in Mathematics                                         |\n",
      "|Integrated MPhil-PhD in Sanskrit                           |Hindu    |8   |0     |0     |8    |8        |Integrated MPhil-PhD in Sanskrit                           |\n",
      "|PhD in Yoga                                                |Hindu    |2   |0     |0     |2    |2        |PhD in Yoga                                                |\n",
      "|PhD in Physics                                             |Hindu    |1   |0     |0     |1    |1        |PhD in Physics                                             |\n",
      "|PG Diploma in Yoga                                         |Hindu    |2   |0     |0     |2    |2        |PG Diploma in Yoga                                         |\n",
      "|null                                                       |Not Known|1   |0     |0     |1    |1        |PG Diploma in Yoga                                         |\n",
      "|Certificate Course in Yoga                                 |Not Known|2   |0     |0     |2    |2        |Certificate Course in Yoga                                 |\n",
      "|Certificate Course in Communicative Sanskrit - Preliminary |null     |null|null  |null  |null |null     |Certificate Course in Communicative Sanskrit - Preliminary |\n",
      "|Certificate Course in Communicative Sanskrit - Intermediate|Hindu    |0   |6     |0     |6    |6        |Certificate Course in Communicative Sanskrit - Intermediate|\n",
      "|Diploma in Organic Farming                                 |Hindu    |2   |1     |0     |3    |3        |Diploma in Organic Farming                                 |\n",
      "|null                                                       |Others   |1   |2     |0     |3    |3        |Diploma in Organic Farming                                 |\n",
      "+-----------------------------------------------------------+---------+----+------+------+-----+---------+-----------------------------------------------------------+\n",
      "only showing top 20 rows\n",
      "\n"
     ]
    }
   ],
   "source": [
    "from pyspark.sql.functions import col, udf\n",
    "from pyspark.sql.types import StringType\n",
    "acc = spark.sparkContext.accumulator(0)\n",
    "#spark.udf.register(\"recreate_table\", repeatName, StringType())\n",
    "\n",
    "@udf(returnType=StringType()) \n",
    "def repeatName(str):\n",
    "    global acc\n",
    "    #return str\n",
    "    print (str)\n",
    "    if (not str):\n",
    "        return acc\n",
    "    else:\n",
    "        acc = str\n",
    "        return acc\n",
    "\n",
    "df3 = df2.withColumn(\"Name\", repeatName(col(\"Programme\")))\n",
    "df3.show(truncate=False)"
   ]
  },
  {
   "cell_type": "code",
   "execution_count": 7,
   "metadata": {},
   "outputs": [
    {
     "name": "stdout",
     "output_type": "stream",
     "text": [
      "+-----------------------------------------------------------+---------+-----+\n",
      "|Name                                                       |Religion |Total|\n",
      "+-----------------------------------------------------------+---------+-----+\n",
      "|MSc in Computer Science                                    |Hindu    |5    |\n",
      "|MSc in Computer Science                                    |Others   |1    |\n",
      "|MSc in Physics                                             |Hindu    |30   |\n",
      "|MSc in Physics                                             |Not Known|1    |\n",
      "|MA / MSc in Yoga                                           |Hindu    |5    |\n",
      "|Integrated 5 Year MA in Sanskrit(M)                        |Hindu    |17   |\n",
      "|MSc in Big Data Analytics                                  |Hindu    |12   |\n",
      "|MSc in Big Data Analytics                                  |Not Known|2    |\n",
      "|MSc in Mathematics                                         |Hindu    |19   |\n",
      "|MSc in Mathematics                                         |Not Known|3    |\n",
      "|Integrated MPhil-PhD in Sanskrit                           |Hindu    |8    |\n",
      "|PhD in Yoga                                                |Hindu    |2    |\n",
      "|PhD in Physics                                             |Hindu    |1    |\n",
      "|PG Diploma in Yoga                                         |Hindu    |2    |\n",
      "|PG Diploma in Yoga                                         |Not Known|1    |\n",
      "|Certificate Course in Yoga                                 |Not Known|2    |\n",
      "|Certificate Course in Communicative Sanskrit - Preliminary |null     |null |\n",
      "|Certificate Course in Communicative Sanskrit - Intermediate|Hindu    |6    |\n",
      "|Diploma in Organic Farming                                 |Hindu    |3    |\n",
      "|Diploma in Organic Farming                                 |Others   |3    |\n",
      "+-----------------------------------------------------------+---------+-----+\n",
      "only showing top 20 rows\n",
      "\n"
     ]
    }
   ],
   "source": [
    "df4 = df3.select(\"Name\", \"Religion\", \"Total\")\n",
    "df4.show(truncate=False)"
   ]
  },
  {
   "cell_type": "code",
   "execution_count": 8,
   "metadata": {},
   "outputs": [
    {
     "name": "stdout",
     "output_type": "stream",
     "text": [
      "+--------------------+-------------+-------------+-------------+------------+----------+--------+--------------+--------------+\n",
      "|           Programme|         Code|Duration (Yr)|Maximum Marks|      Campus|Department|  Degree|Faculty Center|No of Students|\n",
      "+--------------------+-------------+-------------+-------------+------------+----------+--------+--------------+--------------+\n",
      "|Integrated 5 Year...|      SAN-MA5|        5 - 6|          100|Belur Campus|      SANS|5YrIntMA|          null|            73|\n",
      "|      MSc in Physics|         PHY1|        2 - 2|          100|Belur Campus|      PHYS|     MSC|          null|            63|\n",
      "|MSc in Big Data A...|          BDA|        2 - 3|          100|Belur Campus|    COMPSC|     MSC|          null|            37|\n",
      "|MSc in Computer S...|          CS1|        2 - 3|          100|Belur Campus|    COMPSC|     MSC|          null|            24|\n",
      "|Integrated MPhil-...|SANS-Intd.PHD|       5 - 10|          100|Belur Campus|      SANS|     PhD|          null|            28|\n",
      "|  PG Diploma in Yoga|        PGDY1|        1 - 2|          100|Belur Campus|    SSYOGA|     PGD|          null|             0|\n",
      "|         PhD in Yoga|     YOGA-PHD|        5 - 7|          100|Belur Campus|    SSYOGA|     PhD|          null|             1|\n",
      "|    MA / MSc in Yoga|   SS-MA-YOGA|        2 - 3|          100|Belur Campus|    SSYOGA|     MSC|          null|             6|\n",
      "|  MSc in Mathematics|    MATHS-MSc|        2 - 3|          100|Belur Campus|     MATHS|     MSC|          null|            49|\n",
      "|MSc in Sports Sci...|       SS-MSC|        2 - 3|          100|Belur Campus|    SSYOGA|     MSC|          null|            10|\n",
      "|      PhD in Physics|      PHY-PHD|        5 - 7|          100|Belur Campus|      PHYS|     PhD|          null|             9|\n",
      "|Certificate Cours...|         CCY1|        1 - 1|          100|Belur Campus|    SSYOGA|      CP|          null|             3|\n",
      "|Certificate Cours...|       BAPNCC|        1 - 1|          100|Belur Campus|    SSYOGA|      CP|          null|             0|\n",
      "|  PhD in Mathematics|      PHDMATH|        5 - 7|          100|Belur Campus|     MATHS|     PhD|          null|            22|\n",
      "|PhD in Sports Sci...|        PHDSS|        5 - 7|          100|Belur Campus|    SSYOGA|     PhD|          null|             5|\n",
      "|Integrated 5 Year...|      SANMA5W|        5 - 6|          100|Belur Campus|      SANS|5YrIntMA|          null|             7|\n",
      "|   PhD in Philosophy|      PhDPhil|        5 - 7|          100|Belur Campus|      SANS|     PhD|          null|             2|\n",
      "|BA in Indian Heri...|         BAIH|        3 - 3|          100|Belur Campus|      SANS|      BA|          null|             0|\n",
      "|PhD in Computer S...|        PHDCS|        5 - 6|          100|Belur Campus|    COMPSC|     PhD|          null|             1|\n",
      "|MPhil in Sports S...|      MPHILSS|        1 - 2|          100|Belur Campus|    SSYOGA|   MPhil|          null|             0|\n",
      "+--------------------+-------------+-------------+-------------+------------+----------+--------+--------------+--------------+\n",
      "only showing top 20 rows\n",
      "\n"
     ]
    }
   ],
   "source": [
    "df_dept = spark.read.option(\"header\",True).csv(\"data/Programme_List.csv\")\n",
    "df_dept.show()"
   ]
  },
  {
   "cell_type": "code",
   "execution_count": 9,
   "metadata": {},
   "outputs": [],
   "source": [
    "df_dept_stat = df4.join(df_dept,df4.Name ==  df_dept.Programme,\"inner\")"
   ]
  },
  {
   "cell_type": "code",
   "execution_count": 10,
   "metadata": {},
   "outputs": [
    {
     "name": "stdout",
     "output_type": "stream",
     "text": [
      "+----------+--------------------+---------+-----+\n",
      "|Department|           Programme| Religion|Total|\n",
      "+----------+--------------------+---------+-----+\n",
      "|      SANS|Integrated 5 Year...|    Hindu|   17|\n",
      "|      PHYS|      MSc in Physics|Not Known|    1|\n",
      "|      PHYS|      MSc in Physics|    Hindu|   30|\n",
      "|    COMPSC|MSc in Big Data A...|Not Known|    2|\n",
      "|    COMPSC|MSc in Big Data A...|    Hindu|   12|\n",
      "|    COMPSC|MSc in Computer S...|   Others|    1|\n",
      "|    COMPSC|MSc in Computer S...|    Hindu|    5|\n",
      "|      SANS|Integrated MPhil-...|    Hindu|    8|\n",
      "|    SSYOGA|  PG Diploma in Yoga|Not Known|    1|\n",
      "|    SSYOGA|  PG Diploma in Yoga|    Hindu|    2|\n",
      "|    SSYOGA|         PhD in Yoga|    Hindu|    2|\n",
      "|    SSYOGA|    MA / MSc in Yoga|    Hindu|    5|\n",
      "|     MATHS|  MSc in Mathematics|Not Known|    3|\n",
      "|     MATHS|  MSc in Mathematics|    Hindu|   19|\n",
      "|      PHYS|      PhD in Physics|    Hindu|    1|\n",
      "|    SSYOGA|Certificate Cours...|Not Known|    2|\n",
      "|      SANS|Certificate Cours...|     null| null|\n",
      "|      SANS|Certificate Cours...|    Hindu|    6|\n",
      "+----------+--------------------+---------+-----+\n",
      "\n"
     ]
    }
   ],
   "source": [
    "df_data = df_dept_stat.select(\"Department\", \"Programme\", \"Religion\",\"Total\")\n",
    "df_data.show()"
   ]
  },
  {
   "cell_type": "code",
   "execution_count": 11,
   "metadata": {},
   "outputs": [
    {
     "name": "stdout",
     "output_type": "stream",
     "text": [
      "+----------+--------------------+---------+-----+---------+\n",
      "|Department|           Programme| Religion|total|total_new|\n",
      "+----------+--------------------+---------+-----+---------+\n",
      "|      SANS|Integrated 5 Year...|    Hindu|   17|       17|\n",
      "|      PHYS|      MSc in Physics|Not Known|    1|        1|\n",
      "|      PHYS|      MSc in Physics|    Hindu|   30|       30|\n",
      "|    COMPSC|MSc in Big Data A...|Not Known|    2|        2|\n",
      "|    COMPSC|MSc in Big Data A...|    Hindu|   12|       12|\n",
      "|    COMPSC|MSc in Computer S...|   Others|    1|        1|\n",
      "|    COMPSC|MSc in Computer S...|    Hindu|    5|        5|\n",
      "|      SANS|Integrated MPhil-...|    Hindu|    8|        8|\n",
      "|    SSYOGA|  PG Diploma in Yoga|Not Known|    1|        1|\n",
      "|    SSYOGA|  PG Diploma in Yoga|    Hindu|    2|        2|\n",
      "|    SSYOGA|         PhD in Yoga|    Hindu|    2|        2|\n",
      "|    SSYOGA|    MA / MSc in Yoga|    Hindu|    5|        5|\n",
      "|     MATHS|  MSc in Mathematics|Not Known|    3|        3|\n",
      "|     MATHS|  MSc in Mathematics|    Hindu|   19|       19|\n",
      "|      PHYS|      PhD in Physics|    Hindu|    1|        1|\n",
      "|    SSYOGA|Certificate Cours...|Not Known|    2|        2|\n",
      "|      SANS|Certificate Cours...|     null| null|     null|\n",
      "|      SANS|Certificate Cours...|    Hindu|    6|        6|\n",
      "+----------+--------------------+---------+-----+---------+\n",
      "\n"
     ]
    }
   ],
   "source": [
    "df_data2 = df_data.withColumn(\"total_new\",col(\"Total\").cast(IntegerType()))\n",
    "df_data2.coalesce(1).write.option(\"header\",True).csv('out/21-22/rel/tmp')\n",
    "df_data3 = spark.read.option(\"header\",True).csv(\"out/21-22/rel/tmp/*.csv\")\n",
    "\n",
    "#spark.udf.register(\"recreate_table\", repeatName, StringType())\n",
    "df_trimmed = df_data3.withColumn(\"total\",col(\"total_new\").cast(IntegerType()))\n",
    "df_trimmed.show()"
   ]
  },
  {
   "cell_type": "code",
   "execution_count": 13,
   "metadata": {},
   "outputs": [
    {
     "name": "stdout",
     "output_type": "stream",
     "text": [
      "+----------+-----------------------------------------------------------+--------+-----+---------+\n",
      "|Department|Programme                                                  |Religion|total|total_new|\n",
      "+----------+-----------------------------------------------------------+--------+-----+---------+\n",
      "|SANS      |Integrated 5 Year MA in Sanskrit(M)                        |Hindu   |17   |17       |\n",
      "|PHYS      |MSc in Physics                                             |Hindu   |30   |30       |\n",
      "|COMPSC    |MSc in Big Data Analytics                                  |Hindu   |12   |12       |\n",
      "|COMPSC    |MSc in Computer Science                                    |Hindu   |5    |5        |\n",
      "|SANS      |Integrated MPhil-PhD in Sanskrit                           |Hindu   |8    |8        |\n",
      "|SSYOGA    |PG Diploma in Yoga                                         |Hindu   |2    |2        |\n",
      "|SSYOGA    |PhD in Yoga                                                |Hindu   |2    |2        |\n",
      "|SSYOGA    |MA / MSc in Yoga                                           |Hindu   |5    |5        |\n",
      "|MATHS     |MSc in Mathematics                                         |Hindu   |19   |19       |\n",
      "|PHYS      |PhD in Physics                                             |Hindu   |1    |1        |\n",
      "|SANS      |Certificate Course in Communicative Sanskrit - Intermediate|Hindu   |6    |6        |\n",
      "+----------+-----------------------------------------------------------+--------+-----+---------+\n",
      "\n"
     ]
    }
   ],
   "source": [
    "df_Hindu_data = df_trimmed.filter(df_trimmed.Religion == \"Hindu\")\n",
    "df_Others_data = df_trimmed.filter(df_trimmed.Religion == \"Others\")\n",
    "df_NK_data = df_trimmed.filter(df_trimmed.Religion == \"Not Known\")\n",
    "\n",
    "\n",
    "df_Hindu_data.show(truncate=False)\n"
   ]
  },
  {
   "cell_type": "code",
   "execution_count": 15,
   "metadata": {},
   "outputs": [
    {
     "name": "stdout",
     "output_type": "stream",
     "text": [
      "+----------+----------+\n",
      "|Department|sum(total)|\n",
      "+----------+----------+\n",
      "|COMPSC    |17        |\n",
      "|MATHS     |19        |\n",
      "|PHYS      |31        |\n",
      "|SSYOGA    |9         |\n",
      "|SANS      |31        |\n",
      "+----------+----------+\n",
      "\n"
     ]
    }
   ],
   "source": [
    "df_Hindu = df_Hindu_data.groupBy(\"Department\").sum(\"total\")\n",
    "df_Others = df_Others_data.groupBy(\"Department\").sum(\"total\")\n",
    "df_Nk = df_NK_data.groupBy(\"Department\").sum(\"total\")\n",
    "\n",
    "df_Hindu.show(truncate=False)"
   ]
  },
  {
   "cell_type": "code",
   "execution_count": 16,
   "metadata": {},
   "outputs": [],
   "source": [
    "df_Hindu.coalesce(1).write.csv('out/21-22/rel/Hindu.csv')"
   ]
  },
  {
   "cell_type": "code",
   "execution_count": 17,
   "metadata": {},
   "outputs": [],
   "source": [
    "df_Others.coalesce(1).write.csv('out/21-22/rel/Others.csv')\n",
    "df_Nk.coalesce(1).write.csv('out/21-22/rel/Nk.csv')"
   ]
  },
  {
   "cell_type": "code",
   "execution_count": null,
   "metadata": {},
   "outputs": [],
   "source": []
  }
 ],
 "metadata": {
  "kernelspec": {
   "display_name": "Python 3 (ipykernel)",
   "language": "python",
   "name": "python3"
  },
  "language_info": {
   "codemirror_mode": {
    "name": "ipython",
    "version": 3
   },
   "file_extension": ".py",
   "mimetype": "text/x-python",
   "name": "python",
   "nbconvert_exporter": "python",
   "pygments_lexer": "ipython3",
   "version": "3.10.12"
  }
 },
 "nbformat": 4,
 "nbformat_minor": 4
}
