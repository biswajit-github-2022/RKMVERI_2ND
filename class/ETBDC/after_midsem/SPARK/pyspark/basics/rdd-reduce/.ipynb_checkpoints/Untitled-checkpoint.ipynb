{
 "cells": [
  {
   "cell_type": "code",
   "execution_count": 1,
   "metadata": {},
   "outputs": [
    {
     "name": "stdout",
     "output_type": "stream",
     "text": [
      "sum is : 155\n"
     ]
    }
   ],
   "source": [
    "import sys\n",
    " \n",
    "from pyspark import SparkContext, SparkConf\n",
    " \n",
    "if __name__ == \"__main__\":\n",
    " \n",
    "  # create Spark context with Spark configuration\n",
    "  conf = SparkConf().setAppName(\"Read Text to RDD - Python\")\n",
    "  sc = SparkContext(conf=conf)\n",
    " \n",
    "  # read input text file to RDD\n",
    "  numbers = sc.parallelize([1,7,8,9,5,77,48])\n",
    " \n",
    "  # aggregate RDD elements using addition function\n",
    "  sum = numbers.reduce(lambda a,b:a+b)\n",
    " \n",
    "  print(\"sum is : \" + str(sum))\n"
   ]
  },
  {
   "cell_type": "code",
   "execution_count": null,
   "metadata": {},
   "outputs": [],
   "source": []
  }
 ],
 "metadata": {
  "kernelspec": {
   "display_name": "Python 3",
   "language": "python",
   "name": "python3"
  },
  "language_info": {
   "codemirror_mode": {
    "name": "ipython",
    "version": 3
   },
   "file_extension": ".py",
   "mimetype": "text/x-python",
   "name": "python",
   "nbconvert_exporter": "python",
   "pygments_lexer": "ipython3",
   "version": "3.6.9"
  }
 },
 "nbformat": 4,
 "nbformat_minor": 4
}
