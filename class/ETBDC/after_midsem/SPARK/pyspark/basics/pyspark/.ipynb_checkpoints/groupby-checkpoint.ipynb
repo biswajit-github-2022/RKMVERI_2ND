{
 "cells": [
  {
   "cell_type": "code",
   "execution_count": 7,
   "metadata": {},
   "outputs": [],
   "source": [
    "import sys\n",
    " \n",
    "from pyspark import SparkContext, SparkConf\n",
    "\n",
    " \n",
    "# create Spark context with Spark configuration\n",
    "conf = SparkConf().setAppName(\"Word Count - Python\").set(\"spark.hadoop.yarn.resourcemanager.address\", \"192.168.0.104:8032\")\n",
    "sc = SparkContext.getOrCreate();\n",
    "\n",
    "# read in text file and split each document into words\n",
    "words = sc.textFile(\"sample.txt\").flatMap(lambda line: line.split(\" \"))\n",
    " \n",
    "# count the occurrence of each word\n",
    "wordCounts = words.map(lambda word: (word, 1)).reduceByKey(lambda a,b:a +b)\n",
    " \n",
    "wordCounts.saveAsTextFile(\"output/\")\n",
    " \n",
    "  "
   ]
  },
  {
   "cell_type": "code",
   "execution_count": null,
   "metadata": {},
   "outputs": [],
   "source": []
  },
  {
   "cell_type": "code",
   "execution_count": null,
   "metadata": {},
   "outputs": [],
   "source": []
  }
 ],
 "metadata": {
  "kernelspec": {
   "display_name": "Python 3",
   "language": "python",
   "name": "python3"
  },
  "language_info": {
   "codemirror_mode": {
    "name": "ipython",
    "version": 3
   },
   "file_extension": ".py",
   "mimetype": "text/x-python",
   "name": "python",
   "nbconvert_exporter": "python",
   "pygments_lexer": "ipython3",
   "version": "3.6.9"
  }
 },
 "nbformat": 4,
 "nbformat_minor": 4
}
