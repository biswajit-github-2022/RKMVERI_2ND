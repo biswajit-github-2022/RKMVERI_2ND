{
 "cells": [
  {
   "cell_type": "code",
   "execution_count": 1,
   "metadata": {
    "scrolled": true
   },
   "outputs": [
    {
     "name": "stdout",
     "output_type": "stream",
     "text": [
      "1.146128035678238\n",
      "1.3222192947339193\n",
      "1.9444826721501687\n",
      "1.99563519459755\n",
      "2.6580113966571126\n"
     ]
    }
   ],
   "source": [
    "import sys, math\n",
    " \n",
    "from pyspark import SparkContext, SparkConf\n",
    " \n",
    "if __name__ == \"__main__\":\n",
    " \n",
    "  # create Spark context with Spark configuration\n",
    "  conf = SparkConf().setAppName(\"Map Numbers to their Log Values - Python\")\n",
    "  sc = SparkContext(conf=conf)\n",
    " \n",
    "  # read input text file to RDD\n",
    "  numbers = sc.parallelize([14,21,88,99,455])\n",
    " \n",
    "  # map lines to n_words\n",
    "  log_values = numbers.map(lambda n : math.log10(n))\n",
    " \n",
    "  # collect the RDD to a list\n",
    "  llist = log_values.collect()\n",
    " \n",
    "  # print the list\n",
    "  for line in llist:\n",
    "    print (line)"
   ]
  },
  {
   "cell_type": "code",
   "execution_count": null,
   "metadata": {},
   "outputs": [],
   "source": []
  }
 ],
 "metadata": {
  "kernelspec": {
   "display_name": "Python 3",
   "language": "python",
   "name": "python3"
  },
  "language_info": {
   "codemirror_mode": {
    "name": "ipython",
    "version": 3
   },
   "file_extension": ".py",
   "mimetype": "text/x-python",
   "name": "python",
   "nbconvert_exporter": "python",
   "pygments_lexer": "ipython3",
   "version": "3.6.9"
  }
 },
 "nbformat": 4,
 "nbformat_minor": 4
}
