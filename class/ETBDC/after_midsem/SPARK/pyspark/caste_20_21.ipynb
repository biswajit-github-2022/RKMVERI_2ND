{
 "cells": [
  {
   "cell_type": "code",
   "execution_count": 1,
   "metadata": {},
   "outputs": [
    {
     "name": "stdout",
     "output_type": "stream",
     "text": [
      "root\n",
      " |-- Programme: string (nullable = true)\n",
      " |-- Category: string (nullable = true)\n",
      " |-- Male: string (nullable = true)\n",
      " |-- Female: string (nullable = true)\n",
      " |-- Others: string (nullable = true)\n",
      " |-- Total: string (nullable = true)\n",
      "\n"
     ]
    }
   ],
   "source": [
    "spark = SparkSession.builder.master(\"local[1]\").appName(\"SparkByExamples.com\").getOrCreate()\n",
    "df = spark.read.option(\"header\",True).csv(\"data/Programme_Wise_Graduated_Student_Category_Stats-20-21.csv\")\n",
    "df.printSchema()"
   ]
  },
  {
   "cell_type": "code",
   "execution_count": 2,
   "metadata": {},
   "outputs": [],
   "source": [
    "from pyspark.sql.functions import col\n",
    "from pyspark.sql.types import StringType,BooleanType,DateType,IntegerType\n",
    "df2 = df.withColumn(\"total_new\",col(\"Total\").cast(IntegerType()))"
   ]
  },
  {
   "cell_type": "code",
   "execution_count": 3,
   "metadata": {},
   "outputs": [
    {
     "name": "stdout",
     "output_type": "stream",
     "text": [
      "+---------------------------------------------------------+--------------+\n",
      "|programme                                                |sum(total_new)|\n",
      "+---------------------------------------------------------+--------------+\n",
      "|MSc in Agriculture and Rural Development                 |16            |\n",
      "|PG Diploma in Post Harvest & Food Technology             |7             |\n",
      "|B.Ed in Special Education (HI)                           |1             |\n",
      "|MSc in Physics                                           |21            |\n",
      "|BSc in Physical Education, Health Education and Sports   |34            |\n",
      "|null                                                     |192           |\n",
      "|Intd B.Ed-M.Ed Special Education(ID)                     |1             |\n",
      "|MSc in Sports Science                                    |5             |\n",
      "|PG Diploma in Yoga                                       |7             |\n",
      "|MSc in Mathematics                                       |11            |\n",
      "|Integrated MPhil-PhD in Sanskrit                         |2             |\n",
      "|MSc in Data Science                                      |6             |\n",
      "|MSc in Agricultural Biotechnology                        |15            |\n",
      "|B.Ed in Special Education(ID)                            |2             |\n",
      "|MSc in Environment and Disaster Management               |11            |\n",
      "|Certificate Course in BAPN                               |5             |\n",
      "|5 yr Intd. MSc in Agriculture, Rural & Tribal Development|13            |\n",
      "|MSc in Big Data Analytics                                |16            |\n",
      "|Bachelor of Physical Education (BPED)                    |1             |\n",
      "|MA/MSc in Rural Development & Management                 |4             |\n",
      "+---------------------------------------------------------+--------------+\n",
      "only showing top 20 rows\n",
      "\n"
     ]
    }
   ],
   "source": [
    "df2.groupBy(\"programme\").sum(\"total_new\").show(truncate=False)"
   ]
  },
  {
   "cell_type": "code",
   "execution_count": 4,
   "metadata": {},
   "outputs": [
    {
     "name": "stdout",
     "output_type": "stream",
     "text": [
      "+-----------------------------------+--------+----+------+------+-----+---------+-----------------------------------+\n",
      "|Programme                          |Category|Male|Female|Others|Total|total_new|Name                               |\n",
      "+-----------------------------------+--------+----+------+------+-----+---------+-----------------------------------+\n",
      "|MSc in Computer Science            |GENERAL |10  |0     |0     |10   |10       |MSc in Computer Science            |\n",
      "|null                               |OBC     |1   |0     |0     |1    |1        |MSc in Computer Science            |\n",
      "|null                               |SC      |1   |0     |0     |1    |1        |MSc in Computer Science            |\n",
      "|MSc in Big Data Analytics          |GENERAL |16  |0     |0     |16   |16       |MSc in Big Data Analytics          |\n",
      "|null                               |OBC     |2   |0     |0     |2    |2        |MSc in Big Data Analytics          |\n",
      "|null                               |SC      |1   |0     |0     |1    |1        |MSc in Big Data Analytics          |\n",
      "|Integrated 5 Year MA in Sanskrit(M)|GENERAL |11  |0     |0     |11   |11       |Integrated 5 Year MA in Sanskrit(M)|\n",
      "|null                               |OBC     |1   |0     |0     |1    |1        |Integrated 5 Year MA in Sanskrit(M)|\n",
      "|null                               |SC      |2   |0     |0     |2    |2        |Integrated 5 Year MA in Sanskrit(M)|\n",
      "|MSc in Physics                     |GENERAL |17  |4     |0     |21   |21       |MSc in Physics                     |\n",
      "|null                               |OBC     |2   |0     |0     |2    |2        |MSc in Physics                     |\n",
      "|null                               |SC      |1   |0     |0     |1    |1        |MSc in Physics                     |\n",
      "|Integrated 5 Year MA in Sanskrit(W)|GENERAL |0   |4     |0     |4    |4        |Integrated 5 Year MA in Sanskrit(W)|\n",
      "|null                               |OBC     |0   |1     |0     |1    |1        |Integrated 5 Year MA in Sanskrit(W)|\n",
      "|MA / MSc in Yoga                   |GENERAL |2   |0     |0     |2    |2        |MA / MSc in Yoga                   |\n",
      "|null                               |OBC     |2   |0     |0     |2    |2        |MA / MSc in Yoga                   |\n",
      "|null                               |SC      |2   |0     |0     |2    |2        |MA / MSc in Yoga                   |\n",
      "|MSc in Mathematics                 |GENERAL |9   |2     |0     |11   |11       |MSc in Mathematics                 |\n",
      "|null                               |OBC     |1   |0     |0     |1    |1        |MSc in Mathematics                 |\n",
      "|null                               |SC      |0   |2     |0     |2    |2        |MSc in Mathematics                 |\n",
      "+-----------------------------------+--------+----+------+------+-----+---------+-----------------------------------+\n",
      "only showing top 20 rows\n",
      "\n"
     ]
    }
   ],
   "source": [
    "from pyspark.sql.functions import col, udf\n",
    "from pyspark.sql.types import StringType\n",
    "acc = spark.sparkContext.accumulator(0)\n",
    "#spark.udf.register(\"recreate_table\", repeatName, StringType())\n",
    "\n",
    "@udf(returnType=StringType()) \n",
    "def repeatName(str):\n",
    "    global acc\n",
    "    #return str\n",
    "    print (str)\n",
    "    if (not str):\n",
    "        return acc\n",
    "    else:\n",
    "        acc = str\n",
    "        return acc\n",
    "\n",
    "df3 = df2.withColumn(\"Name\", repeatName(col(\"Programme\")))\n",
    "df3.show(truncate=False)"
   ]
  },
  {
   "cell_type": "code",
   "execution_count": 5,
   "metadata": {},
   "outputs": [
    {
     "name": "stdout",
     "output_type": "stream",
     "text": [
      "+-----------------------------------+--------+-----+\n",
      "|Name                               |Category|Total|\n",
      "+-----------------------------------+--------+-----+\n",
      "|MSc in Computer Science            |GENERAL |10   |\n",
      "|MSc in Computer Science            |OBC     |1    |\n",
      "|MSc in Computer Science            |SC      |1    |\n",
      "|MSc in Big Data Analytics          |GENERAL |16   |\n",
      "|MSc in Big Data Analytics          |OBC     |2    |\n",
      "|MSc in Big Data Analytics          |SC      |1    |\n",
      "|Integrated 5 Year MA in Sanskrit(M)|GENERAL |11   |\n",
      "|Integrated 5 Year MA in Sanskrit(M)|OBC     |1    |\n",
      "|Integrated 5 Year MA in Sanskrit(M)|SC      |2    |\n",
      "|MSc in Physics                     |GENERAL |21   |\n",
      "|MSc in Physics                     |OBC     |2    |\n",
      "|MSc in Physics                     |SC      |1    |\n",
      "|Integrated 5 Year MA in Sanskrit(W)|GENERAL |4    |\n",
      "|Integrated 5 Year MA in Sanskrit(W)|OBC     |1    |\n",
      "|MA / MSc in Yoga                   |GENERAL |2    |\n",
      "|MA / MSc in Yoga                   |OBC     |2    |\n",
      "|MA / MSc in Yoga                   |SC      |2    |\n",
      "|MSc in Mathematics                 |GENERAL |11   |\n",
      "|MSc in Mathematics                 |OBC     |1    |\n",
      "|MSc in Mathematics                 |SC      |2    |\n",
      "+-----------------------------------+--------+-----+\n",
      "only showing top 20 rows\n",
      "\n"
     ]
    }
   ],
   "source": [
    "df4 = df3.select(\"Name\", \"Category\", \"Total\")\n",
    "df4.show(truncate=False)"
   ]
  },
  {
   "cell_type": "code",
   "execution_count": 6,
   "metadata": {},
   "outputs": [
    {
     "name": "stdout",
     "output_type": "stream",
     "text": [
      "+--------------------+-------------+-------------+-------------+------------+----------+--------+--------------+--------------+\n",
      "|           Programme|         Code|Duration (Yr)|Maximum Marks|      Campus|Department|  Degree|Faculty Center|No of Students|\n",
      "+--------------------+-------------+-------------+-------------+------------+----------+--------+--------------+--------------+\n",
      "|Integrated 5 Year...|      SAN-MA5|        5 - 6|          100|Belur Campus|      SANS|5YrIntMA|          null|            73|\n",
      "|      MSc in Physics|         PHY1|        2 - 2|          100|Belur Campus|      PHYS|     MSC|          null|            63|\n",
      "|MSc in Big Data A...|          BDA|        2 - 3|          100|Belur Campus|    COMPSC|     MSC|          null|            37|\n",
      "|MSc in Computer S...|          CS1|        2 - 3|          100|Belur Campus|    COMPSC|     MSC|          null|            24|\n",
      "|Integrated MPhil-...|SANS-Intd.PHD|       5 - 10|          100|Belur Campus|      SANS|     PhD|          null|            28|\n",
      "|  PG Diploma in Yoga|        PGDY1|        1 - 2|          100|Belur Campus|    SSYOGA|     PGD|          null|             0|\n",
      "|         PhD in Yoga|     YOGA-PHD|        5 - 7|          100|Belur Campus|    SSYOGA|     PhD|          null|             1|\n",
      "|    MA / MSc in Yoga|   SS-MA-YOGA|        2 - 3|          100|Belur Campus|    SSYOGA|     MSC|          null|             6|\n",
      "|  MSc in Mathematics|    MATHS-MSc|        2 - 3|          100|Belur Campus|     MATHS|     MSC|          null|            49|\n",
      "|MSc in Sports Sci...|       SS-MSC|        2 - 3|          100|Belur Campus|    SSYOGA|     MSC|          null|            10|\n",
      "|      PhD in Physics|      PHY-PHD|        5 - 7|          100|Belur Campus|      PHYS|     PhD|          null|             9|\n",
      "|Certificate Cours...|         CCY1|        1 - 1|          100|Belur Campus|    SSYOGA|      CP|          null|             3|\n",
      "|Certificate Cours...|       BAPNCC|        1 - 1|          100|Belur Campus|    SSYOGA|      CP|          null|             0|\n",
      "|  PhD in Mathematics|      PHDMATH|        5 - 7|          100|Belur Campus|     MATHS|     PhD|          null|            22|\n",
      "|PhD in Sports Sci...|        PHDSS|        5 - 7|          100|Belur Campus|    SSYOGA|     PhD|          null|             5|\n",
      "|Integrated 5 Year...|      SANMA5W|        5 - 6|          100|Belur Campus|      SANS|5YrIntMA|          null|             7|\n",
      "|   PhD in Philosophy|      PhDPhil|        5 - 7|          100|Belur Campus|      SANS|     PhD|          null|             2|\n",
      "|BA in Indian Heri...|         BAIH|        3 - 3|          100|Belur Campus|      SANS|      BA|          null|             0|\n",
      "|PhD in Computer S...|        PHDCS|        5 - 6|          100|Belur Campus|    COMPSC|     PhD|          null|             1|\n",
      "|MPhil in Sports S...|      MPHILSS|        1 - 2|          100|Belur Campus|    SSYOGA|   MPhil|          null|             0|\n",
      "+--------------------+-------------+-------------+-------------+------------+----------+--------+--------------+--------------+\n",
      "only showing top 20 rows\n",
      "\n"
     ]
    }
   ],
   "source": [
    "df_dept = spark.read.option(\"header\",True).csv(\"data/Programme_List.csv\")\n",
    "df_dept.show()"
   ]
  },
  {
   "cell_type": "code",
   "execution_count": 7,
   "metadata": {},
   "outputs": [],
   "source": [
    "df_dept_stat = df4.join(df_dept,df4.Name ==  df_dept.Programme,\"inner\")"
   ]
  },
  {
   "cell_type": "code",
   "execution_count": 8,
   "metadata": {},
   "outputs": [
    {
     "name": "stdout",
     "output_type": "stream",
     "text": [
      "+----------+--------------------+--------+-----+\n",
      "|Department|           Programme|Category|Total|\n",
      "+----------+--------------------+--------+-----+\n",
      "|      SANS|Integrated 5 Year...|      SC|    2|\n",
      "|      SANS|Integrated 5 Year...|     OBC|    1|\n",
      "|      SANS|Integrated 5 Year...| GENERAL|   11|\n",
      "|      PHYS|      MSc in Physics|      SC|    1|\n",
      "|      PHYS|      MSc in Physics|     OBC|    2|\n",
      "|      PHYS|      MSc in Physics| GENERAL|   21|\n",
      "|    COMPSC|MSc in Big Data A...|      SC|    1|\n",
      "|    COMPSC|MSc in Big Data A...|     OBC|    2|\n",
      "|    COMPSC|MSc in Big Data A...| GENERAL|   16|\n",
      "|    COMPSC|MSc in Computer S...|      SC|    1|\n",
      "|    COMPSC|MSc in Computer S...|     OBC|    1|\n",
      "|    COMPSC|MSc in Computer S...| GENERAL|   10|\n",
      "|      SANS|Integrated MPhil-...|      SC|    1|\n",
      "|      SANS|Integrated MPhil-...|     OBC|    2|\n",
      "|      SANS|Integrated MPhil-...| GENERAL|    2|\n",
      "|    SSYOGA|  PG Diploma in Yoga|      SC|    3|\n",
      "|    SSYOGA|  PG Diploma in Yoga|     OBC|    1|\n",
      "|    SSYOGA|  PG Diploma in Yoga| GENERAL|    7|\n",
      "|    SSYOGA|    MA / MSc in Yoga|      SC|    2|\n",
      "|    SSYOGA|    MA / MSc in Yoga|     OBC|    2|\n",
      "+----------+--------------------+--------+-----+\n",
      "only showing top 20 rows\n",
      "\n"
     ]
    }
   ],
   "source": [
    "df_data = df_dept_stat.select(\"Department\", \"Programme\", \"Category\",\"Total\")\n",
    "df_data.show()"
   ]
  },
  {
   "cell_type": "code",
   "execution_count": 9,
   "metadata": {},
   "outputs": [
    {
     "name": "stdout",
     "output_type": "stream",
     "text": [
      "+----------+--------------------+--------+-----+---------+\n",
      "|Department|           Programme|Category|total|total_new|\n",
      "+----------+--------------------+--------+-----+---------+\n",
      "|      SANS|Integrated 5 Year...|      SC|    2|        2|\n",
      "|      SANS|Integrated 5 Year...|     OBC|    1|        1|\n",
      "|      SANS|Integrated 5 Year...| GENERAL|   11|       11|\n",
      "|      PHYS|      MSc in Physics|      SC|    1|        1|\n",
      "|      PHYS|      MSc in Physics|     OBC|    2|        2|\n",
      "|      PHYS|      MSc in Physics| GENERAL|   21|       21|\n",
      "|    COMPSC|MSc in Big Data A...|      SC|    1|        1|\n",
      "|    COMPSC|MSc in Big Data A...|     OBC|    2|        2|\n",
      "|    COMPSC|MSc in Big Data A...| GENERAL|   16|       16|\n",
      "|    COMPSC|MSc in Computer S...|      SC|    1|        1|\n",
      "|    COMPSC|MSc in Computer S...|     OBC|    1|        1|\n",
      "|    COMPSC|MSc in Computer S...| GENERAL|   10|       10|\n",
      "|      SANS|Integrated MPhil-...|      SC|    1|        1|\n",
      "|      SANS|Integrated MPhil-...|     OBC|    2|        2|\n",
      "|      SANS|Integrated MPhil-...| GENERAL|    2|        2|\n",
      "|    SSYOGA|  PG Diploma in Yoga|      SC|    3|        3|\n",
      "|    SSYOGA|  PG Diploma in Yoga|     OBC|    1|        1|\n",
      "|    SSYOGA|  PG Diploma in Yoga| GENERAL|    7|        7|\n",
      "|    SSYOGA|    MA / MSc in Yoga|      SC|    2|        2|\n",
      "|    SSYOGA|    MA / MSc in Yoga|     OBC|    2|        2|\n",
      "+----------+--------------------+--------+-----+---------+\n",
      "only showing top 20 rows\n",
      "\n"
     ]
    }
   ],
   "source": [
    "df_data2 = df_data.withColumn(\"total_new\",col(\"Total\").cast(IntegerType()))\n",
    "df_data2.coalesce(1).write.option(\"header\",True).csv('out/20-21/tmp')\n",
    "df_data3 = spark.read.option(\"header\",True).csv(\"out/20-21/tmp/*.csv\")\n",
    "\n",
    "#spark.udf.register(\"recreate_table\", repeatName, StringType())\n",
    "df_trimmed = df_data3.withColumn(\"total\",col(\"total_new\").cast(IntegerType()))\n",
    "df_trimmed.show()"
   ]
  },
  {
   "cell_type": "code",
   "execution_count": 10,
   "metadata": {},
   "outputs": [],
   "source": [
    "df_Gen_data = df_trimmed.filter(df_trimmed.Category == \"GENERAL\")\n",
    "df_Gen_Ews_data = df_trimmed.filter(df_trimmed.Category == \"GENERAL-EWS\")\n",
    "df_Sc_data = df_trimmed.filter(df_trimmed.Category == \"SC\")\n",
    "df_St_data = df_trimmed.filter(df_trimmed.Category == \"ST\")\n",
    "df_Obc_data = df_trimmed.filter(df_trimmed.Category == \"OBC\")\n",
    "\n",
    "#df_Gen_data.show(truncate=False)\n",
    "#df_Gen_Ews_data.show()\n",
    "#df_Sc_data.show()\n",
    "#df_St_data.show()\n",
    "#df_Obc_data.show()"
   ]
  },
  {
   "cell_type": "code",
   "execution_count": 11,
   "metadata": {},
   "outputs": [
    {
     "name": "stdout",
     "output_type": "stream",
     "text": [
      "+----------+----------+\n",
      "|Department|sum(total)|\n",
      "+----------+----------+\n",
      "|SANS      |2         |\n",
      "+----------+----------+\n",
      "\n"
     ]
    }
   ],
   "source": [
    "df_Gen = df_Gen_data.groupBy(\"Department\").sum(\"total\")\n",
    "df_Gen_Ews = df_Gen_Ews_data.groupBy(\"Department\").sum(\"total\")\n",
    "df_Sc = df_Sc_data.groupBy(\"Department\").sum(\"total\")\n",
    "df_St = df_St_data.groupBy(\"Department\").sum(\"total\")\n",
    "df_Obc = df_Obc_data.groupBy(\"Department\").sum(\"total\")\n",
    "df_St.show(truncate=False)"
   ]
  },
  {
   "cell_type": "code",
   "execution_count": 12,
   "metadata": {},
   "outputs": [],
   "source": [
    "df_Gen.coalesce(1).write.csv('out/20-21/Gen.csv')"
   ]
  },
  {
   "cell_type": "code",
   "execution_count": 13,
   "metadata": {},
   "outputs": [],
   "source": [
    "df_Gen_Ews.coalesce(1).write.csv('out/20-21/Gen_Ews.csv')\n",
    "df_Sc.coalesce(1).write.csv('out/20-21/Sc.csv')\n",
    "df_St.coalesce(1).write.csv('out/20-21/St.csv')\n",
    "df_Obc.coalesce(1).write.csv('out/20-21/Obc.csv')"
   ]
  },
  {
   "cell_type": "code",
   "execution_count": null,
   "metadata": {},
   "outputs": [],
   "source": []
  },
  {
   "cell_type": "code",
   "execution_count": null,
   "metadata": {},
   "outputs": [],
   "source": []
  }
 ],
 "metadata": {
  "kernelspec": {
   "display_name": "Python 3",
   "language": "python",
   "name": "python3"
  },
  "language_info": {
   "codemirror_mode": {
    "name": "ipython",
    "version": 3
   },
   "file_extension": ".py",
   "mimetype": "text/x-python",
   "name": "python",
   "nbconvert_exporter": "python",
   "pygments_lexer": "ipython3",
   "version": "3.6.9"
  }
 },
 "nbformat": 4,
 "nbformat_minor": 4
}
