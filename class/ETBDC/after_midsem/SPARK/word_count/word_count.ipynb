{
 "cells": [
  {
   "cell_type": "markdown",
   "id": "e9858498",
   "metadata": {},
   "source": [
    "# Word count"
   ]
  },
  {
   "cell_type": "code",
   "execution_count": null,
   "id": "e8e3dc04",
   "metadata": {},
   "outputs": [],
   "source": [
    "from pyspark.sql import SparkSession\n",
    "\n",
    "# Create SparkSession\n",
    "spark = SparkSession.builder \\\n",
    "    .appName(\"CountryFrequency\") \\\n",
    "    .getOrCreate()\n",
    "\n",
    "# Adjust configuration to display all rows without truncation\n",
    "spark.conf.set(\"spark.sql.repl.eagerEval.enabled\", True)\n",
    "\n",
    "# Read data\n",
    "data = spark.read.option(\"header\", \"true\").csv(\"inputMapReduce\")\n",
    "\n",
    "# Selecting the 'Country' column and counting the occurrences of each unique value\n",
    "country_frequency = data.groupBy(\"Country\").count()\n",
    "\n",
    "# Displaying the result\n",
    "country_frequency.show(100,truncate=50)\n",
    "\n",
    "# rows = country_frequency.collect()\n",
    "\n",
    "# # Print all rows without truncation\n",
    "# for row in rows:\n",
    "#     print(row)\n",
    "# country_frequency_pandas = country_frequency.toPandas()\n",
    "\n",
    "# # Display pandas DataFrame\n",
    "# print(country_frequency_pandas)\n",
    "\n",
    "# Stop SparkSession\n",
    "spark.stop()\n"
   ]
  }
 ],
 "metadata": {
  "kernelspec": {
   "display_name": "Python 3 (ipykernel)",
   "language": "python",
   "name": "python3"
  },
  "language_info": {
   "codemirror_mode": {
    "name": "ipython",
    "version": 3
   },
   "file_extension": ".py",
   "mimetype": "text/x-python",
   "name": "python",
   "nbconvert_exporter": "python",
   "pygments_lexer": "ipython3",
   "version": "3.10.12"
  }
 },
 "nbformat": 4,
 "nbformat_minor": 5
}
