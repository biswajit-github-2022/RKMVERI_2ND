{
 "cells": [
  {
   "cell_type": "markdown",
   "id": "e9858498",
   "metadata": {},
   "source": [
    "# Word count"
   ]
  },
  {
   "cell_type": "code",
   "execution_count": 16,
   "id": "e8e3dc04",
   "metadata": {},
   "outputs": [
    {
     "name": "stderr",
     "output_type": "stream",
     "text": [
      "24/03/26 13:40:36 WARN Utils: Service 'SparkUI' could not bind on port 4040. Attempting port 4041.\n",
      "24/03/26 13:40:36 WARN Utils: Service 'SparkUI' could not bind on port 4041. Attempting port 4042.\n"
     ]
    },
    {
     "name": "stdout",
     "output_type": "stream",
     "text": [
      "+-------------+-----+\n",
      "|      Country|count|\n",
      "+-------------+-----+\n",
      "|       Russia|    1|\n",
      "|       Sweden|   13|\n",
      "|       Jersey|    1|\n",
      "|  Philippines|    2|\n",
      "|     Malaysia|    1|\n",
      "|       Turkey|    6|\n",
      "|      Germany|   25|\n",
      "|       France|   27|\n",
      "|       Greece|    1|\n",
      "|    Argentina|    1|\n",
      "|      Belgium|    8|\n",
      "|      Finland|    2|\n",
      "|United States|  463|\n",
      "|        India|    2|\n",
      "|        China|    1|\n",
      "|       Kuwait|    1|\n",
      "|        Malta|    2|\n",
      "|        Italy|   15|\n",
      "|       Norway|   16|\n",
      "|        Spain|   12|\n",
      "+-------------+-----+\n",
      "only showing top 20 rows\n",
      "\n"
     ]
    }
   ],
   "source": [
    "from pyspark.sql import SparkSession\n",
    "\n",
    "# Create SparkSession\n",
    "spark = SparkSession.builder \\\n",
    "    .appName(\"CountryFrequency\") \\\n",
    "    .getOrCreate()\n",
    "\n",
    "# Adjust configuration to display all rows without truncation\n",
    "spark.conf.set(\"spark.sql.repl.eagerEval.enabled\", True)\n",
    "\n",
    "# Read data\n",
    "data = spark.read.option(\"header\", \"true\").csv(\"path_to_your_data.csv\")\n",
    "\n",
    "# Selecting the 'Country' column and counting the occurrences of each unique value\n",
    "country_frequency = data.groupBy(\"Country\").count()\n",
    "\n",
    "# Displaying the result\n",
    "country_frequency.show(truncate=False)\n",
    "\n",
    "# Stop SparkSession\n",
    "spark.stop()\n"
   ]
  }
 ],
 "metadata": {
  "kernelspec": {
   "display_name": "Python 3 (ipykernel)",
   "language": "python",
   "name": "python3"
  },
  "language_info": {
   "codemirror_mode": {
    "name": "ipython",
    "version": 3
   },
   "file_extension": ".py",
   "mimetype": "text/x-python",
   "name": "python",
   "nbconvert_exporter": "python",
   "pygments_lexer": "ipython3",
   "version": "3.10.12"
  }
 },
 "nbformat": 4,
 "nbformat_minor": 5
}
