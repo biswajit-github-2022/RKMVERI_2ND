{
 "cells": [
  {
   "cell_type": "code",
   "execution_count": 3,
   "metadata": {},
   "outputs": [
    {
     "name": "stdout",
     "output_type": "stream",
     "text": [
      "Checking whether there is an H2O instance running at http://localhost:54321..... not found.\n",
      "Attempting to start a local H2O server...\n",
      "  Java Version: openjdk version \"11.0.22\" 2024-01-16; OpenJDK Runtime Environment (build 11.0.22+7-post-Ubuntu-0ubuntu222.04.1); OpenJDK 64-Bit Server VM (build 11.0.22+7-post-Ubuntu-0ubuntu222.04.1, mixed mode, sharing)\n",
      "  Starting server from /home/biswajitrana/.local/lib/python3.10/site-packages/h2o/backend/bin/h2o.jar\n",
      "  Ice root: /tmp/tmp8b77hg1i\n",
      "  JVM stdout: /tmp/tmp8b77hg1i/h2o_biswajitrana_started_from_python.out\n",
      "  JVM stderr: /tmp/tmp8b77hg1i/h2o_biswajitrana_started_from_python.err\n",
      "  Server is running at http://127.0.0.1:54321\n",
      "Connecting to H2O server at http://127.0.0.1:54321 ... successful.\n"
     ]
    },
    {
     "data": {
      "text/html": [
       "\n",
       "<style>\n",
       "\n",
       "#h2o-table-1.h2o-container {\n",
       "  overflow-x: auto;\n",
       "}\n",
       "#h2o-table-1 .h2o-table {\n",
       "  /* width: 100%; */\n",
       "  margin-top: 1em;\n",
       "  margin-bottom: 1em;\n",
       "}\n",
       "#h2o-table-1 .h2o-table caption {\n",
       "  white-space: nowrap;\n",
       "  caption-side: top;\n",
       "  text-align: left;\n",
       "  /* margin-left: 1em; */\n",
       "  margin: 0;\n",
       "  font-size: larger;\n",
       "}\n",
       "#h2o-table-1 .h2o-table thead {\n",
       "  white-space: nowrap; \n",
       "  position: sticky;\n",
       "  top: 0;\n",
       "  box-shadow: 0 -1px inset;\n",
       "}\n",
       "#h2o-table-1 .h2o-table tbody {\n",
       "  overflow: auto;\n",
       "}\n",
       "#h2o-table-1 .h2o-table th,\n",
       "#h2o-table-1 .h2o-table td {\n",
       "  text-align: right;\n",
       "  /* border: 1px solid; */\n",
       "}\n",
       "#h2o-table-1 .h2o-table tr:nth-child(even) {\n",
       "  /* background: #F5F5F5 */\n",
       "}\n",
       "\n",
       "</style>      \n",
       "<div id=\"h2o-table-1\" class=\"h2o-container\">\n",
       "  <table class=\"h2o-table\">\n",
       "    <caption></caption>\n",
       "    <thead></thead>\n",
       "    <tbody><tr><td>H2O_cluster_uptime:</td>\n",
       "<td>01 secs</td></tr>\n",
       "<tr><td>H2O_cluster_timezone:</td>\n",
       "<td>Asia/Kolkata</td></tr>\n",
       "<tr><td>H2O_data_parsing_timezone:</td>\n",
       "<td>UTC</td></tr>\n",
       "<tr><td>H2O_cluster_version:</td>\n",
       "<td>3.46.0.1</td></tr>\n",
       "<tr><td>H2O_cluster_version_age:</td>\n",
       "<td>8 days</td></tr>\n",
       "<tr><td>H2O_cluster_name:</td>\n",
       "<td>H2O_from_python_biswajitrana_1vjoo7</td></tr>\n",
       "<tr><td>H2O_cluster_total_nodes:</td>\n",
       "<td>1</td></tr>\n",
       "<tr><td>H2O_cluster_free_memory:</td>\n",
       "<td>3.885 Gb</td></tr>\n",
       "<tr><td>H2O_cluster_total_cores:</td>\n",
       "<td>16</td></tr>\n",
       "<tr><td>H2O_cluster_allowed_cores:</td>\n",
       "<td>16</td></tr>\n",
       "<tr><td>H2O_cluster_status:</td>\n",
       "<td>locked, healthy</td></tr>\n",
       "<tr><td>H2O_connection_url:</td>\n",
       "<td>http://127.0.0.1:54321</td></tr>\n",
       "<tr><td>H2O_connection_proxy:</td>\n",
       "<td>{\"http\": null, \"https\": null}</td></tr>\n",
       "<tr><td>H2O_internal_security:</td>\n",
       "<td>False</td></tr>\n",
       "<tr><td>Python_version:</td>\n",
       "<td>3.10.12 final</td></tr></tbody>\n",
       "  </table>\n",
       "</div>\n"
      ],
      "text/plain": [
       "--------------------------  -----------------------------------\n",
       "H2O_cluster_uptime:         01 secs\n",
       "H2O_cluster_timezone:       Asia/Kolkata\n",
       "H2O_data_parsing_timezone:  UTC\n",
       "H2O_cluster_version:        3.46.0.1\n",
       "H2O_cluster_version_age:    8 days\n",
       "H2O_cluster_name:           H2O_from_python_biswajitrana_1vjoo7\n",
       "H2O_cluster_total_nodes:    1\n",
       "H2O_cluster_free_memory:    3.885 Gb\n",
       "H2O_cluster_total_cores:    16\n",
       "H2O_cluster_allowed_cores:  16\n",
       "H2O_cluster_status:         locked, healthy\n",
       "H2O_connection_url:         http://127.0.0.1:54321\n",
       "H2O_connection_proxy:       {\"http\": null, \"https\": null}\n",
       "H2O_internal_security:      False\n",
       "Python_version:             3.10.12 final\n",
       "--------------------------  -----------------------------------"
      ]
     },
     "metadata": {},
     "output_type": "display_data"
    },
    {
     "name": "stdout",
     "output_type": "stream",
     "text": [
      "-------------------------------------------------------------------------------\n",
      "Demo of H2O's Generalized Linear Estimator.\n",
      "\n",
      "This demo uploads a dataset to h2o, parses it, and shows a description.\n",
      "Then it divides the dataset into training and test sets, builds a GLM\n",
      "from the training set, and makes predictions for the test set.\n",
      "Finally, default performance metrics are displayed.\n",
      "-------------------------------------------------------------------------------\n",
      "\n",
      ">>> # Connect to H2O\n",
      ">>> h2o.init()\n",
      "\n",
      "(press any key)"
     ]
    },
    {
     "ename": "error",
     "evalue": "(25, 'Inappropriate ioctl for device')",
     "output_type": "error",
     "traceback": [
      "\u001b[0;31m---------------------------------------------------------------------------\u001b[0m",
      "\u001b[0;31mRuntimeError\u001b[0m                              Traceback (most recent call last)",
      "File \u001b[0;32m~/.local/lib/python3.10/site-packages/h2o/demos.py:239\u001b[0m, in \u001b[0;36m_run_demo.<locals>.controller\u001b[0;34m()\u001b[0m\n\u001b[1;32m    238\u001b[0m \u001b[38;5;28;01mtry\u001b[39;00m:\n\u001b[0;32m--> 239\u001b[0m     \u001b[38;5;28;01mraise\u001b[39;00m \u001b[38;5;167;01mRuntimeError\u001b[39;00m(\u001b[38;5;124m\"\u001b[39m\u001b[38;5;124mCatch me!\u001b[39m\u001b[38;5;124m\"\u001b[39m)\n\u001b[1;32m    240\u001b[0m \u001b[38;5;28;01mexcept\u001b[39;00m \u001b[38;5;167;01mRuntimeError\u001b[39;00m:\n",
      "\u001b[0;31mRuntimeError\u001b[0m: Catch me!",
      "\nDuring handling of the above exception, another exception occurred:\n",
      "\u001b[0;31merror\u001b[0m                                     Traceback (most recent call last)",
      "Cell \u001b[0;32mIn[3], line 3\u001b[0m\n\u001b[1;32m      1\u001b[0m \u001b[38;5;28;01mimport\u001b[39;00m \u001b[38;5;21;01mh2o\u001b[39;00m\n\u001b[1;32m      2\u001b[0m h2o\u001b[38;5;241m.\u001b[39minit()\n\u001b[0;32m----> 3\u001b[0m \u001b[43mh2o\u001b[49m\u001b[38;5;241;43m.\u001b[39;49m\u001b[43mdemo\u001b[49m\u001b[43m(\u001b[49m\u001b[38;5;124;43m\"\u001b[39;49m\u001b[38;5;124;43mglm\u001b[39;49m\u001b[38;5;124;43m\"\u001b[39;49m\u001b[43m)\u001b[49m\n",
      "File \u001b[0;32m~/.local/lib/python3.10/site-packages/h2o/h2o.py:1969\u001b[0m, in \u001b[0;36mdemo\u001b[0;34m(funcname, interactive, echo, test)\u001b[0m\n\u001b[1;32m   1967\u001b[0m demo_function \u001b[38;5;241m=\u001b[39m \u001b[38;5;28mgetattr\u001b[39m(h2odemo, funcname, \u001b[38;5;28;01mNone\u001b[39;00m)\n\u001b[1;32m   1968\u001b[0m \u001b[38;5;28;01mif\u001b[39;00m demo_function \u001b[38;5;129;01mand\u001b[39;00m \u001b[38;5;28mtype\u001b[39m(demo_function) \u001b[38;5;129;01mis\u001b[39;00m \u001b[38;5;28mtype\u001b[39m(demo):\n\u001b[0;32m-> 1969\u001b[0m     \u001b[43mdemo_function\u001b[49m\u001b[43m(\u001b[49m\u001b[43minteractive\u001b[49m\u001b[43m,\u001b[49m\u001b[43m \u001b[49m\u001b[43mecho\u001b[49m\u001b[43m,\u001b[49m\u001b[43m \u001b[49m\u001b[43mtest\u001b[49m\u001b[43m)\u001b[49m\n\u001b[1;32m   1970\u001b[0m \u001b[38;5;28;01melse\u001b[39;00m:\n\u001b[1;32m   1971\u001b[0m     \u001b[38;5;28mprint\u001b[39m(\u001b[38;5;124m\"\u001b[39m\u001b[38;5;124mDemo for \u001b[39m\u001b[38;5;132;01m%s\u001b[39;00m\u001b[38;5;124m is not available.\u001b[39m\u001b[38;5;124m\"\u001b[39m \u001b[38;5;241m%\u001b[39m funcname)\n",
      "File \u001b[0;32m~/.local/lib/python3.10/site-packages/h2o/demos.py:202\u001b[0m, in \u001b[0;36mglm\u001b[0;34m(interactive, echo, testing)\u001b[0m\n\u001b[1;32m    199\u001b[0m     performance\u001b[38;5;241m.\u001b[39mshow()\n\u001b[1;32m    201\u001b[0m \u001b[38;5;66;03m# Execute:\u001b[39;00m\n\u001b[0;32m--> 202\u001b[0m \u001b[43m_run_demo\u001b[49m\u001b[43m(\u001b[49m\u001b[43mdemo_body\u001b[49m\u001b[43m,\u001b[49m\u001b[43m \u001b[49m\u001b[43minteractive\u001b[49m\u001b[43m,\u001b[49m\u001b[43m \u001b[49m\u001b[43mecho\u001b[49m\u001b[43m,\u001b[49m\u001b[43m \u001b[49m\u001b[43mtesting\u001b[49m\u001b[43m)\u001b[49m\n",
      "File \u001b[0;32m~/.local/lib/python3.10/site-packages/h2o/demos.py:286\u001b[0m, in \u001b[0;36m_run_demo\u001b[0;34m(body_fn, interactive, echo, testing)\u001b[0m\n\u001b[1;32m    284\u001b[0m \u001b[38;5;66;03m# Run the test\u001b[39;00m\n\u001b[1;32m    285\u001b[0m \u001b[38;5;28;01mtry\u001b[39;00m:\n\u001b[0;32m--> 286\u001b[0m     \u001b[43mbody_fn\u001b[49m\u001b[43m(\u001b[49m\u001b[43mcontroller\u001b[49m\u001b[43m)\u001b[49m\n\u001b[1;32m    287\u001b[0m     \u001b[38;5;28mprint\u001b[39m(\u001b[38;5;124m\"\u001b[39m\u001b[38;5;130;01m\\n\u001b[39;00m\u001b[38;5;124m---- End of Demo ----\u001b[39m\u001b[38;5;124m\"\u001b[39m)\n\u001b[1;32m    288\u001b[0m \u001b[38;5;28;01mexcept\u001b[39;00m (StopExecution, \u001b[38;5;167;01mKeyboardInterrupt\u001b[39;00m):\n",
      "File \u001b[0;32m~/.local/lib/python3.10/site-packages/h2o/demos.py:159\u001b[0m, in \u001b[0;36mglm.<locals>.demo_body\u001b[0;34m(go)\u001b[0m\n\u001b[1;32m    150\u001b[0m \u001b[38;5;28;01mdef\u001b[39;00m \u001b[38;5;21mdemo_body\u001b[39m(go):\n\u001b[1;32m    151\u001b[0m \u001b[38;5;250m    \u001b[39m\u001b[38;5;124;03m\"\"\"\u001b[39;00m\n\u001b[1;32m    152\u001b[0m \u001b[38;5;124;03m    Demo of H2O's Generalized Linear Estimator.\u001b[39;00m\n\u001b[1;32m    153\u001b[0m \n\u001b[0;32m   (...)\u001b[0m\n\u001b[1;32m    157\u001b[0m \u001b[38;5;124;03m    Finally, default performance metrics are displayed.\u001b[39;00m\n\u001b[1;32m    158\u001b[0m \u001b[38;5;124;03m    \"\"\"\u001b[39;00m\n\u001b[0;32m--> 159\u001b[0m     \u001b[43mgo\u001b[49m\u001b[43m(\u001b[49m\u001b[43m)\u001b[49m\n\u001b[1;32m    160\u001b[0m     \u001b[38;5;66;03m# Connect to H2O\u001b[39;00m\n\u001b[1;32m    161\u001b[0m     h2o\u001b[38;5;241m.\u001b[39minit()\n",
      "File \u001b[0;32m~/.local/lib/python3.10/site-packages/h2o/demos.py:274\u001b[0m, in \u001b[0;36m_run_demo.<locals>.controller\u001b[0;34m()\u001b[0m\n\u001b[1;32m    272\u001b[0m \u001b[38;5;28;01mif\u001b[39;00m interactive:\n\u001b[1;32m    273\u001b[0m     \u001b[38;5;28mprint\u001b[39m(\u001b[38;5;124m\"\u001b[39m\u001b[38;5;130;01m\\n\u001b[39;00m\u001b[38;5;124m(press any key)\u001b[39m\u001b[38;5;124m\"\u001b[39m, end\u001b[38;5;241m=\u001b[39m\u001b[38;5;124m\"\u001b[39m\u001b[38;5;124m\"\u001b[39m)\n\u001b[0;32m--> 274\u001b[0m     key \u001b[38;5;241m=\u001b[39m \u001b[43m_wait_for_keypress\u001b[49m\u001b[43m(\u001b[49m\u001b[43m)\u001b[49m\n\u001b[1;32m    275\u001b[0m     \u001b[38;5;28mprint\u001b[39m(\u001b[38;5;124m\"\u001b[39m\u001b[38;5;130;01m\\r\u001b[39;00m\u001b[38;5;124m                     \u001b[39m\u001b[38;5;130;01m\\r\u001b[39;00m\u001b[38;5;124m\"\u001b[39m, end\u001b[38;5;241m=\u001b[39m\u001b[38;5;124m\"\u001b[39m\u001b[38;5;124m\"\u001b[39m)\n\u001b[1;32m    276\u001b[0m     \u001b[38;5;28;01mif\u001b[39;00m key\u001b[38;5;241m.\u001b[39mlower() \u001b[38;5;241m==\u001b[39m \u001b[38;5;124m\"\u001b[39m\u001b[38;5;124mq\u001b[39m\u001b[38;5;124m\"\u001b[39m:\n",
      "File \u001b[0;32m~/.local/lib/python3.10/site-packages/h2o/demos.py:312\u001b[0m, in \u001b[0;36m_wait_for_keypress\u001b[0;34m()\u001b[0m\n\u001b[1;32m    309\u001b[0m \u001b[38;5;28;01mimport\u001b[39;00m \u001b[38;5;21;01mtermios\u001b[39;00m\n\u001b[1;32m    310\u001b[0m fd \u001b[38;5;241m=\u001b[39m sys\u001b[38;5;241m.\u001b[39mstdin\u001b[38;5;241m.\u001b[39mfileno()\n\u001b[0;32m--> 312\u001b[0m oldterm \u001b[38;5;241m=\u001b[39m \u001b[43mtermios\u001b[49m\u001b[38;5;241;43m.\u001b[39;49m\u001b[43mtcgetattr\u001b[49m\u001b[43m(\u001b[49m\u001b[43mfd\u001b[49m\u001b[43m)\u001b[49m\n\u001b[1;32m    313\u001b[0m newattr \u001b[38;5;241m=\u001b[39m termios\u001b[38;5;241m.\u001b[39mtcgetattr(fd)\n\u001b[1;32m    314\u001b[0m newattr[\u001b[38;5;241m3\u001b[39m] \u001b[38;5;241m=\u001b[39m newattr[\u001b[38;5;241m3\u001b[39m] \u001b[38;5;241m&\u001b[39m \u001b[38;5;241m~\u001b[39mtermios\u001b[38;5;241m.\u001b[39mICANON \u001b[38;5;241m&\u001b[39m \u001b[38;5;241m~\u001b[39mtermios\u001b[38;5;241m.\u001b[39mECHO\n",
      "\u001b[0;31merror\u001b[0m: (25, 'Inappropriate ioctl for device')"
     ]
    }
   ],
   "source": [
    "import h2o\n",
    "h2o.init()\n",
    "h2o.demo(\"glm\")"
   ]
  },
  {
   "cell_type": "code",
   "execution_count": 4,
   "metadata": {},
   "outputs": [
    {
     "name": "stdout",
     "output_type": "stream",
     "text": [
      "Checking whether there is an H2O instance running at http://localhost:54323..... not found.\n",
      "Attempting to start a local H2O server...\n",
      "  Java Version: openjdk version \"11.0.22\" 2024-01-16; OpenJDK Runtime Environment (build 11.0.22+7-post-Ubuntu-0ubuntu222.04.1); OpenJDK 64-Bit Server VM (build 11.0.22+7-post-Ubuntu-0ubuntu222.04.1, mixed mode, sharing)\n",
      "  Starting server from /home/biswajitrana/.local/lib/python3.10/site-packages/h2o/backend/bin/h2o.jar\n",
      "  Ice root: /tmp/tmpe5sx_elv\n",
      "  JVM stdout: /tmp/tmpe5sx_elv/h2o_biswajitrana_started_from_python.out\n",
      "  JVM stderr: /tmp/tmpe5sx_elv/h2o_biswajitrana_started_from_python.err\n",
      "  Server is running at http://127.0.0.1:54323\n",
      "Connecting to H2O server at http://127.0.0.1:54323 ... successful.\n"
     ]
    },
    {
     "data": {
      "text/html": [
       "\n",
       "<style>\n",
       "\n",
       "#h2o-table-2.h2o-container {\n",
       "  overflow-x: auto;\n",
       "}\n",
       "#h2o-table-2 .h2o-table {\n",
       "  /* width: 100%; */\n",
       "  margin-top: 1em;\n",
       "  margin-bottom: 1em;\n",
       "}\n",
       "#h2o-table-2 .h2o-table caption {\n",
       "  white-space: nowrap;\n",
       "  caption-side: top;\n",
       "  text-align: left;\n",
       "  /* margin-left: 1em; */\n",
       "  margin: 0;\n",
       "  font-size: larger;\n",
       "}\n",
       "#h2o-table-2 .h2o-table thead {\n",
       "  white-space: nowrap; \n",
       "  position: sticky;\n",
       "  top: 0;\n",
       "  box-shadow: 0 -1px inset;\n",
       "}\n",
       "#h2o-table-2 .h2o-table tbody {\n",
       "  overflow: auto;\n",
       "}\n",
       "#h2o-table-2 .h2o-table th,\n",
       "#h2o-table-2 .h2o-table td {\n",
       "  text-align: right;\n",
       "  /* border: 1px solid; */\n",
       "}\n",
       "#h2o-table-2 .h2o-table tr:nth-child(even) {\n",
       "  /* background: #F5F5F5 */\n",
       "}\n",
       "\n",
       "</style>      \n",
       "<div id=\"h2o-table-2\" class=\"h2o-container\">\n",
       "  <table class=\"h2o-table\">\n",
       "    <caption></caption>\n",
       "    <thead></thead>\n",
       "    <tbody><tr><td>H2O_cluster_uptime:</td>\n",
       "<td>01 secs</td></tr>\n",
       "<tr><td>H2O_cluster_timezone:</td>\n",
       "<td>Asia/Kolkata</td></tr>\n",
       "<tr><td>H2O_data_parsing_timezone:</td>\n",
       "<td>UTC</td></tr>\n",
       "<tr><td>H2O_cluster_version:</td>\n",
       "<td>3.46.0.1</td></tr>\n",
       "<tr><td>H2O_cluster_version_age:</td>\n",
       "<td>8 days</td></tr>\n",
       "<tr><td>H2O_cluster_name:</td>\n",
       "<td>H2O_from_python_biswajitrana_32gaqm</td></tr>\n",
       "<tr><td>H2O_cluster_total_nodes:</td>\n",
       "<td>1</td></tr>\n",
       "<tr><td>H2O_cluster_free_memory:</td>\n",
       "<td>3.885 Gb</td></tr>\n",
       "<tr><td>H2O_cluster_total_cores:</td>\n",
       "<td>16</td></tr>\n",
       "<tr><td>H2O_cluster_allowed_cores:</td>\n",
       "<td>16</td></tr>\n",
       "<tr><td>H2O_cluster_status:</td>\n",
       "<td>locked, healthy</td></tr>\n",
       "<tr><td>H2O_connection_url:</td>\n",
       "<td>http://127.0.0.1:54323</td></tr>\n",
       "<tr><td>H2O_connection_proxy:</td>\n",
       "<td>{\"http\": null, \"https\": null}</td></tr>\n",
       "<tr><td>H2O_internal_security:</td>\n",
       "<td>False</td></tr>\n",
       "<tr><td>Python_version:</td>\n",
       "<td>3.10.12 final</td></tr></tbody>\n",
       "  </table>\n",
       "</div>\n"
      ],
      "text/plain": [
       "--------------------------  -----------------------------------\n",
       "H2O_cluster_uptime:         01 secs\n",
       "H2O_cluster_timezone:       Asia/Kolkata\n",
       "H2O_data_parsing_timezone:  UTC\n",
       "H2O_cluster_version:        3.46.0.1\n",
       "H2O_cluster_version_age:    8 days\n",
       "H2O_cluster_name:           H2O_from_python_biswajitrana_32gaqm\n",
       "H2O_cluster_total_nodes:    1\n",
       "H2O_cluster_free_memory:    3.885 Gb\n",
       "H2O_cluster_total_cores:    16\n",
       "H2O_cluster_allowed_cores:  16\n",
       "H2O_cluster_status:         locked, healthy\n",
       "H2O_connection_url:         http://127.0.0.1:54323\n",
       "H2O_connection_proxy:       {\"http\": null, \"https\": null}\n",
       "H2O_internal_security:      False\n",
       "Python_version:             3.10.12 final\n",
       "--------------------------  -----------------------------------"
      ]
     },
     "metadata": {},
     "output_type": "display_data"
    }
   ],
   "source": [
    "h2o.init(ip=\"localhost\", port=54323)"
   ]
  },
  {
   "cell_type": "code",
   "execution_count": 5,
   "metadata": {},
   "outputs": [
    {
     "name": "stdout",
     "output_type": "stream",
     "text": [
      "Parse progress: |████████████████████████████████████████████████████████████████| (done) 100%\n"
     ]
    }
   ],
   "source": [
    "loans = h2o.import_file(\"https://raw.githubusercontent.com/PacktPublishing/Machine-Learning-at-Scale-with-H2O/main/chapt2/loans-lite.csv\")"
   ]
  },
  {
   "cell_type": "code",
   "execution_count": 6,
   "metadata": {},
   "outputs": [
    {
     "data": {
      "text/html": [
       "<pre style='margin: 1em 0 1em 0;'>Rows:5000\n",
       "Cols:16\n",
       "</pre>"
      ],
      "text/plain": [
       "Rows:5000\n",
       "Cols:16\n"
      ]
     },
     "metadata": {},
     "output_type": "display_data"
    },
    {
     "data": {
      "text/html": [
       "<table class='dataframe'>\n",
       "<thead>\n",
       "<tr><th>       </th><th>loan_amnt        </th><th>term     </th><th>int_rate         </th><th>emp_length       </th><th>home_ownership  </th><th>annual_inc       </th><th>verification_status  </th><th>issue_d          </th><th>purpose           </th><th>addr_state  </th><th>dti             </th><th>delinq_2yrs        </th><th>revol_util        </th><th>total_acc         </th><th>bad_loan         </th><th>credit_length     </th></tr>\n",
       "</thead>\n",
       "<tbody>\n",
       "<tr><td>type   </td><td>int              </td><td>enum     </td><td>real             </td><td>int              </td><td>enum            </td><td>real             </td><td>enum                 </td><td>int              </td><td>enum              </td><td>enum        </td><td>real            </td><td>int                </td><td>real              </td><td>int               </td><td>int              </td><td>int               </td></tr>\n",
       "<tr><td>mins   </td><td>500.0            </td><td>         </td><td>5.42             </td><td>0.0              </td><td>                </td><td>3300.0           </td><td>                     </td><td>1180656000000.0  </td><td>                  </td><td>            </td><td>0.0             </td><td>0.0                </td><td>0.0               </td><td>1.0               </td><td>0.0              </td><td>0.0               </td></tr>\n",
       "<tr><td>mean   </td><td>10757.4          </td><td>         </td><td>12.042216        </td><td>4.740286298568507</td><td>                </td><td>68984.26325465094</td><td>                     </td><td>1284307868160.0  </td><td>                  </td><td>            </td><td>13.212278       </td><td>0.14031224979983986</td><td>49.15658321650311 </td><td>21.830064051240992</td><td>0.155            </td><td>13.413130504403522</td></tr>\n",
       "<tr><td>maxs   </td><td>35000.0          </td><td>         </td><td>23.91            </td><td>10.0             </td><td>                </td><td>3900000.0        </td><td>                     </td><td>1322697600000.0  </td><td>                  </td><td>            </td><td>29.93           </td><td>6.0                </td><td>106.5             </td><td>73.0              </td><td>1.0              </td><td>52.0              </td></tr>\n",
       "<tr><td>sigma  </td><td>7173.197679068143</td><td>         </td><td>3.612830457982719</td><td>3.580079530043472</td><td>                </td><td>78076.24567859183</td><td>                     </td><td>32089484313.69494</td><td>                  </td><td>            </td><td>6.71513728560101</td><td>0.4702652144800979 </td><td>28.367928141780574</td><td>11.634565225391304</td><td>0.361940879481785</td><td>6.844231383509271 </td></tr>\n",
       "<tr><td>zeros  </td><td>0                </td><td>         </td><td>0                </td><td>659              </td><td>                </td><td>0                </td><td>                     </td><td>0                </td><td>                  </td><td>            </td><td>26              </td><td>4470               </td><td>124               </td><td>0                 </td><td>4225             </td><td>1                 </td></tr>\n",
       "<tr><td>missing</td><td>0                </td><td>0        </td><td>0                </td><td>110              </td><td>0               </td><td>1                </td><td>0                    </td><td>0                </td><td>0                 </td><td>0           </td><td>0               </td><td>4                  </td><td>7                 </td><td>4                 </td><td>0                </td><td>4                 </td></tr>\n",
       "<tr><td>0      </td><td>5000.0           </td><td>36 months</td><td>11.97            </td><td>1.0              </td><td>OWN             </td><td>51320.0          </td><td>not verified         </td><td>1207008000000.0  </td><td>debt_consolidation</td><td>CA          </td><td>22.73           </td><td>0.0                </td><td>70.3              </td><td>11.0              </td><td>0.0              </td><td>10.0              </td></tr>\n",
       "<tr><td>1      </td><td>18000.0          </td><td>60 months</td><td>13.49            </td><td>10.0             </td><td>RENT            </td><td>72000.0          </td><td>verified             </td><td>1317427200000.0  </td><td>debt_consolidation</td><td>PA          </td><td>19.1            </td><td>0.0                </td><td>74.8              </td><td>13.0              </td><td>0.0              </td><td>16.0              </td></tr>\n",
       "<tr><td>2      </td><td>11975.0          </td><td>60 months</td><td>15.21            </td><td>3.0              </td><td>MORTGAGE        </td><td>64584.0          </td><td>verified             </td><td>1285891200000.0  </td><td>debt_consolidation</td><td>MD          </td><td>19.81           </td><td>0.0                </td><td>61.1              </td><td>17.0              </td><td>0.0              </td><td>8.0               </td></tr>\n",
       "<tr><td>3      </td><td>15000.0          </td><td>60 months</td><td>17.56            </td><td>10.0             </td><td>MORTGAGE        </td><td>75000.0          </td><td>verified             </td><td>1275350400000.0  </td><td>debt_consolidation</td><td>CO          </td><td>13.02           </td><td>0.0                </td><td>48.0              </td><td>39.0              </td><td>0.0              </td><td>12.0              </td></tr>\n",
       "<tr><td>4      </td><td>21000.0          </td><td>60 months</td><td>21.22            </td><td>10.0             </td><td>MORTGAGE        </td><td>193000.0         </td><td>verified             </td><td>1301616000000.0  </td><td>moving            </td><td>VA          </td><td>22.23           </td><td>0.0                </td><td>85.8              </td><td>48.0              </td><td>0.0              </td><td>19.0              </td></tr>\n",
       "<tr><td>5      </td><td>10000.0          </td><td>60 months</td><td>11.86            </td><td>5.0              </td><td>RENT            </td><td>78000.0          </td><td>verified             </td><td>1277942400000.0  </td><td>major_purchase    </td><td>NY          </td><td>4.72            </td><td>0.0                </td><td>12.6              </td><td>31.0              </td><td>0.0              </td><td>17.0              </td></tr>\n",
       "<tr><td>6      </td><td>10000.0          </td><td>36 months</td><td>14.74            </td><td>10.0             </td><td>OTHER           </td><td>125004.0         </td><td>verified             </td><td>1241136000000.0  </td><td>debt_consolidation</td><td>RI          </td><td>9.34            </td><td>1.0                </td><td>39.8              </td><td>35.0              </td><td>0.0              </td><td>16.0              </td></tr>\n",
       "<tr><td>7      </td><td>5000.0           </td><td>36 months</td><td>11.48            </td><td>1.0              </td><td>RENT            </td><td>24000.0          </td><td>not verified         </td><td>1259625600000.0  </td><td>wedding           </td><td>OH          </td><td>11.0            </td><td>0.0                </td><td>59.4              </td><td>9.0               </td><td>0.0              </td><td>7.0               </td></tr>\n",
       "<tr><td>8      </td><td>20000.0          </td><td>60 months</td><td>11.71            </td><td>7.0              </td><td>MORTGAGE        </td><td>210000.0         </td><td>verified             </td><td>1317427200000.0  </td><td>debt_consolidation</td><td>OH          </td><td>8.68            </td><td>0.0                </td><td>52.6              </td><td>31.0              </td><td>0.0              </td><td>21.0              </td></tr>\n",
       "<tr><td>9      </td><td>10750.0          </td><td>60 months</td><td>15.2             </td><td>2.0              </td><td>RENT            </td><td>36000.0          </td><td>verified             </td><td>1288569600000.0  </td><td>debt_consolidation</td><td>CA          </td><td>24.03           </td><td>0.0                </td><td>20.3              </td><td>23.0              </td><td>1.0              </td><td>14.0              </td></tr>\n",
       "</tbody>\n",
       "</table><pre style='font-size: smaller; margin-bottom: 1em;'>[5000 rows x 16 columns]</pre>"
      ],
      "text/plain": [
       "         loan_amnt          term       int_rate           emp_length         home_ownership    annual_inc         verification_status    issue_d            purpose             addr_state    dti               delinq_2yrs          revol_util          total_acc           bad_loan           credit_length\n",
       "-------  -----------------  ---------  -----------------  -----------------  ----------------  -----------------  ---------------------  -----------------  ------------------  ------------  ----------------  -------------------  ------------------  ------------------  -----------------  ------------------\n",
       "type     int                enum       real               int                enum              real               enum                   int                enum                enum          real              int                  real                int                 int                int\n",
       "mins     500.0                         5.42               0.0                                  3300.0                                    1180656000000.0                                      0.0               0.0                  0.0                 1.0                 0.0                0.0\n",
       "mean     10757.4                       12.042216          4.740286298568507                    68984.26325465094                         1284307868160.0                                      13.212278         0.14031224979983986  49.15658321650311   21.830064051240992  0.155              13.413130504403522\n",
       "maxs     35000.0                       23.91              10.0                                 3900000.0                                 1322697600000.0                                      29.93             6.0                  106.5               73.0                1.0                52.0\n",
       "sigma    7173.197679068143             3.612830457982719  3.580079530043472                    78076.24567859183                         32089484313.69494                                    6.71513728560101  0.4702652144800979   28.367928141780574  11.634565225391304  0.361940879481785  6.844231383509271\n",
       "zeros    0                             0                  659                                  0                                         0                                                    26                4470                 124                 0                   4225               1\n",
       "missing  0                  0          0                  110                0                 1                  0                      0                  0                   0             0                 4                    7                   4                   0                  4\n",
       "0        5000.0             36 months  11.97              1.0                OWN               51320.0            not verified           1207008000000.0    debt_consolidation  CA            22.73             0.0                  70.3                11.0                0.0                10.0\n",
       "1        18000.0            60 months  13.49              10.0               RENT              72000.0            verified               1317427200000.0    debt_consolidation  PA            19.1              0.0                  74.8                13.0                0.0                16.0\n",
       "2        11975.0            60 months  15.21              3.0                MORTGAGE          64584.0            verified               1285891200000.0    debt_consolidation  MD            19.81             0.0                  61.1                17.0                0.0                8.0\n",
       "3        15000.0            60 months  17.56              10.0               MORTGAGE          75000.0            verified               1275350400000.0    debt_consolidation  CO            13.02             0.0                  48.0                39.0                0.0                12.0\n",
       "4        21000.0            60 months  21.22              10.0               MORTGAGE          193000.0           verified               1301616000000.0    moving              VA            22.23             0.0                  85.8                48.0                0.0                19.0\n",
       "5        10000.0            60 months  11.86              5.0                RENT              78000.0            verified               1277942400000.0    major_purchase      NY            4.72              0.0                  12.6                31.0                0.0                17.0\n",
       "6        10000.0            36 months  14.74              10.0               OTHER             125004.0           verified               1241136000000.0    debt_consolidation  RI            9.34              1.0                  39.8                35.0                0.0                16.0\n",
       "7        5000.0             36 months  11.48              1.0                RENT              24000.0            not verified           1259625600000.0    wedding             OH            11.0              0.0                  59.4                9.0                 0.0                7.0\n",
       "8        20000.0            60 months  11.71              7.0                MORTGAGE          210000.0           verified               1317427200000.0    debt_consolidation  OH            8.68              0.0                  52.6                31.0                0.0                21.0\n",
       "9        10750.0            60 months  15.2               2.0                RENT              36000.0            verified               1288569600000.0    debt_consolidation  CA            24.03             0.0                  20.3                23.0                1.0                14.0\n",
       "[5000 rows x 16 columns]\n"
      ]
     },
     "metadata": {},
     "output_type": "display_data"
    }
   ],
   "source": [
    "loans.describe()"
   ]
  },
  {
   "cell_type": "code",
   "execution_count": 7,
   "metadata": {},
   "outputs": [],
   "source": [
    "train, validation = loans.split_frame(ratios=[0.75])\n",
    "label = \"bad_loan\"\n",
    "predictors = loans.col_names\n",
    "predictors.remove(label)"
   ]
  },
  {
   "cell_type": "code",
   "execution_count": null,
   "metadata": {},
   "outputs": [],
   "source": [
    "from h2o.estimators import H2OXGBoostEstimator\n",
    "param = {\"ntrees\" : 25, \"nfolds\" : 10}\n",
    "xgboost_model = H2OXGBoostEstimator(**param)\n",
    "xgboost_model.train(x = predictors,\n",
    "                    y = label,\n",
    "                    training_frame = train,\n",
    "                    validation_frame = validation)"
   ]
  }
 ],
 "metadata": {
  "kernelspec": {
   "display_name": "Python 3",
   "language": "python",
   "name": "python3"
  },
  "language_info": {
   "codemirror_mode": {
    "name": "ipython",
    "version": 3
   },
   "file_extension": ".py",
   "mimetype": "text/x-python",
   "name": "python",
   "nbconvert_exporter": "python",
   "pygments_lexer": "ipython3",
   "version": "3.10.12"
  }
 },
 "nbformat": 4,
 "nbformat_minor": 2
}
