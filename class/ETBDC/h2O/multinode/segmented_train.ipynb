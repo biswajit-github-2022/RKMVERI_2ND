{
 "cells": [
  {
   "cell_type": "code",
   "execution_count": null,
   "metadata": {},
   "outputs": [],
   "source": [
    "from h2o.estimators.gbm import H2OGradientBoostingEstimator\n",
    "\n",
    "\n",
    "# import the titanic dataset:\n",
    "titanic = h2o.import_file(\"https://s3.amazonaws.com/h2o-public-test-data/smalldata/gbm_test/titanic.csv\")\n",
    "\n",
    "# set the predictor and response columns\n",
    "predictors = [\"name\", \"sex\", \"age\", \"sibsp\", \"parch\", \"ticket\", \"fare\", \"cabin\"]\n",
    "response = \"survived\"\n",
    "\n",
    "# convert the response columnn to a factor\n",
    "titanic[response] = titanic[response].asfactor()\n",
    "\n",
    "# split the dataset into training and validation datasets\n",
    "train, valid = titanic.split_frame(ratios = [.8], seed = 1234)\n",
    "\n",
    "# train a segmented model by iterating over the plcass column\n",
    "titanic_gbm = H2OGradientBoostingEstimator(seed = 1234)\n",
    "titanic_models = titanic_gbm.train_segments(segments = [\"pclass\"],\n",
    "                                            x = predictors,\n",
    "                                            y = response,\n",
    "                                            training_frame = train,\n",
    "                                            validation_frame = valid)\n",
    "\n",
    "# convert the segmented models to an H2OFrame\n",
    "titanic_models.as_frame()"
   ]
  }
 ],
 "metadata": {
  "language_info": {
   "name": "python"
  }
 },
 "nbformat": 4,
 "nbformat_minor": 2
}
