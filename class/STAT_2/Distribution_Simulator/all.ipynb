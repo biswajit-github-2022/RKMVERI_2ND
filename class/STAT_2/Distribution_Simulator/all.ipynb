{
 "cells": [
  {
   "cell_type": "code",
   "execution_count": 3,
   "metadata": {},
   "outputs": [],
   "source": [
    "import numpy as np\n",
    "import matplotlib.pyplot as plt\n",
    "from scipy.stats import norm, uniform, expon, binom, poisson, geom\n",
    "import ipywidgets as widgets\n",
    "from IPython.display import display"
   ]
  },
  {
   "cell_type": "markdown",
   "metadata": {},
   "source": [
    "# Normal Distribution\n"
   ]
  },
  {
   "cell_type": "code",
   "execution_count": 4,
   "metadata": {},
   "outputs": [
    {
     "data": {
      "application/vnd.jupyter.widget-view+json": {
       "model_id": "3a0030ceeb4f46eaa581c30258048a70",
       "version_major": 2,
       "version_minor": 0
      },
      "text/plain": [
       "interactive(children=(FloatSlider(value=0.0, description='Mu:', max=5.0, min=-5.0), FloatSlider(value=1.0, des…"
      ]
     },
     "execution_count": 4,
     "metadata": {},
     "output_type": "execute_result"
    }
   ],
   "source": [
    "# Normal Distribution\n",
    "def plot_normal(mu, sigma):\n",
    "    x = np.linspace(-10, 10, 1000)\n",
    "    y = norm.pdf(x, mu, sigma)\n",
    "    plt.plot(x, y)\n",
    "    plt.title('Normal Distribution')\n",
    "    plt.xlabel('x')\n",
    "    plt.ylabel('Probability Density')\n",
    "    plt.show()\n",
    "\n",
    "mu_slider = widgets.FloatSlider(min=-5, max=5, value=0, description='Mu:')\n",
    "sigma_slider = widgets.FloatSlider(min=0.1, max=2, value=1, description='Sigma:')\n",
    "widgets.interactive(plot_normal, mu=mu_slider, sigma=sigma_slider)\n"
   ]
  },
  {
   "cell_type": "markdown",
   "metadata": {},
   "source": [
    "# Uniform Distribution"
   ]
  },
  {
   "cell_type": "code",
   "execution_count": 5,
   "metadata": {},
   "outputs": [
    {
     "data": {
      "application/vnd.jupyter.widget-view+json": {
       "model_id": "a875a5c1c06d4aec8b2c41a6bff2717e",
       "version_major": 2,
       "version_minor": 0
      },
      "text/plain": [
       "interactive(children=(FloatSlider(value=-0.5, description='a:', max=0.0, min=-1.0), FloatSlider(value=1.5, des…"
      ]
     },
     "execution_count": 5,
     "metadata": {},
     "output_type": "execute_result"
    }
   ],
   "source": [
    "# Uniform Distribution\n",
    "def plot_uniform(a, b):\n",
    "    x = np.linspace(-1, 2, 1000)\n",
    "    y = uniform.pdf(x, a, b-a)\n",
    "    plt.plot(x, y)\n",
    "    plt.title('Uniform Distribution')\n",
    "    plt.xlabel('x')\n",
    "    plt.ylabel('Probability Density')\n",
    "    plt.show()\n",
    "\n",
    "a_slider = widgets.FloatSlider(min=-1, max=0, value=-0.5, description='a:')\n",
    "b_slider = widgets.FloatSlider(min=1, max=2, value=1.5, description='b:')\n",
    "widgets.interactive(plot_uniform, a=a_slider, b=b_slider)\n"
   ]
  },
  {
   "cell_type": "markdown",
   "metadata": {},
   "source": [
    "# Exponential Distribution"
   ]
  },
  {
   "cell_type": "code",
   "execution_count": 6,
   "metadata": {},
   "outputs": [
    {
     "data": {
      "application/vnd.jupyter.widget-view+json": {
       "model_id": "54e8db1d61c6483da5b066865af0cc6c",
       "version_major": 2,
       "version_minor": 0
      },
      "text/plain": [
       "interactive(children=(FloatSlider(value=1.0, description='Lambda:', max=2.0, min=0.1), Output()), _dom_classes…"
      ]
     },
     "execution_count": 6,
     "metadata": {},
     "output_type": "execute_result"
    }
   ],
   "source": [
    "# Exponential Distribution\n",
    "def plot_exponential(lmbda):\n",
    "    x = np.linspace(0, 5, 1000)\n",
    "    y = expon.pdf(x, scale=1/lmbda)\n",
    "    plt.plot(x, y)\n",
    "    plt.title('Exponential Distribution')\n",
    "    plt.xlabel('x')\n",
    "    plt.ylabel('Probability Density')\n",
    "    plt.show()\n",
    "\n",
    "lambda_slider = widgets.FloatSlider(min=0.1, max=2, value=1, description='Lambda:')\n",
    "widgets.interactive(plot_exponential, lmbda=lambda_slider)"
   ]
  },
  {
   "cell_type": "markdown",
   "metadata": {},
   "source": [
    "# Binomial Distrubution"
   ]
  },
  {
   "cell_type": "code",
   "execution_count": 7,
   "metadata": {},
   "outputs": [
    {
     "data": {
      "application/vnd.jupyter.widget-view+json": {
       "model_id": "7c5a13cf702540e6a13a51a73544b6c1",
       "version_major": 2,
       "version_minor": 0
      },
      "text/plain": [
       "interactive(children=(IntSlider(value=10, description='n:', max=50, min=1), FloatSlider(value=0.5, description…"
      ]
     },
     "execution_count": 7,
     "metadata": {},
     "output_type": "execute_result"
    }
   ],
   "source": [
    "# Binomial Distribution\n",
    "def plot_binomial(n, p):\n",
    "    x = np.arange(0, n+1)\n",
    "    y = binom.pmf(x, n, p)\n",
    "    plt.stem(x, y, use_line_collection=True)\n",
    "    plt.title('Binomial Distribution')\n",
    "    plt.xlabel('x')\n",
    "    plt.ylabel('Probability')\n",
    "    plt.show()\n",
    "\n",
    "n_slider = widgets.IntSlider(min=1, max=50, value=10, description='n:')\n",
    "p_slider = widgets.FloatSlider(min=0.1, max=0.9, value=0.5, description='p:')\n",
    "widgets.interactive(plot_binomial, n=n_slider, p=p_slider)"
   ]
  },
  {
   "cell_type": "markdown",
   "metadata": {},
   "source": [
    "# Poisson Distribution"
   ]
  },
  {
   "cell_type": "code",
   "execution_count": 8,
   "metadata": {},
   "outputs": [
    {
     "data": {
      "application/vnd.jupyter.widget-view+json": {
       "model_id": "a3d2cf17740f4f6290f10ba2be52b6b6",
       "version_major": 2,
       "version_minor": 0
      },
      "text/plain": [
       "interactive(children=(FloatSlider(value=1.0, description='Mu:', max=10.0, min=0.1), Output()), _dom_classes=('…"
      ]
     },
     "execution_count": 8,
     "metadata": {},
     "output_type": "execute_result"
    }
   ],
   "source": [
    "# Poisson Distribution\n",
    "def plot_poisson(mu):\n",
    "    x = np.arange(0, 20)\n",
    "    y = poisson.pmf(x, mu)\n",
    "    plt.stem(x, y, use_line_collection=True)\n",
    "    plt.title('Poisson Distribution')\n",
    "    plt.xlabel('x')\n",
    "    plt.ylabel('Probability')\n",
    "    plt.show()\n",
    "\n",
    "mu_poisson_slider = widgets.FloatSlider(min=0.1, max=10, value=1, description='Mu:')\n",
    "widgets.interactive(plot_poisson, mu=mu_poisson_slider)"
   ]
  },
  {
   "cell_type": "markdown",
   "metadata": {},
   "source": [
    "# Geometric Distribution"
   ]
  },
  {
   "cell_type": "code",
   "execution_count": 9,
   "metadata": {},
   "outputs": [
    {
     "data": {
      "application/vnd.jupyter.widget-view+json": {
       "model_id": "45ee90df0d5245c0b74ea8e4e3426192",
       "version_major": 2,
       "version_minor": 0
      },
      "text/plain": [
       "interactive(children=(FloatSlider(value=0.5, description='p:', max=0.9, min=0.1), Output()), _dom_classes=('wi…"
      ]
     },
     "execution_count": 9,
     "metadata": {},
     "output_type": "execute_result"
    }
   ],
   "source": [
    "# Geometric Distribution\n",
    "def plot_geometric(p):\n",
    "    x = np.arange(1, 11)\n",
    "    y = geom.pmf(x, p)\n",
    "    plt.stem(x, y, use_line_collection=True)\n",
    "    plt.title('Geometric Distribution')\n",
    "    plt.xlabel('x')\n",
    "    plt.ylabel('Probability')\n",
    "    plt.show()\n",
    "\n",
    "p_geometric_slider = widgets.FloatSlider(min=0.1, max=0.9, value=0.5, description='p:')\n",
    "widgets.interactive(plot_geometric, p=p_geometric_slider)\n"
   ]
  }
 ],
 "metadata": {
  "kernelspec": {
   "display_name": "Python 3",
   "language": "python",
   "name": "python3"
  },
  "language_info": {
   "codemirror_mode": {
    "name": "ipython",
    "version": 3
   },
   "file_extension": ".py",
   "mimetype": "text/x-python",
   "name": "python",
   "nbconvert_exporter": "python",
   "pygments_lexer": "ipython3",
   "version": "3.10.5"
  }
 },
 "nbformat": 4,
 "nbformat_minor": 2
}
