{
 "cells": [
  {
   "cell_type": "code",
   "execution_count": 5,
   "id": "9b5bf43e",
   "metadata": {},
   "outputs": [],
   "source": [
    "\"\"\"\n",
    "-----------------------------------------------------------------------------\n",
    "MNIST digit data reading helper\n",
    "-----------------------------------------------------------------------------\n",
    "AUTHOR: Soumitra Samanta (soumitra.samanta@gm.rkmvu.ac.in)\n",
    "-----------------------------------------------------------------------------\n",
    "\"\"\"\n",
    "\n",
    "import gzip\n",
    "import numpy as np\n",
    "import matplotlib.pyplot as plt\n",
    "import pandas as pd\n"
   ]
  },
  {
   "cell_type": "markdown",
   "id": "55c9e6c7",
   "metadata": {},
   "source": [
    "# Read MNIST data:\n",
    "There are many [ways](https://stackoverflow.com/questions/40427435/extract-images-from-idx3-ubyte-file-or-gzip-via-python) you can read the MNIST data. Here is a [way](https://stackoverflow.com/a/62781370) to read all the information."
   ]
  },
  {
   "cell_type": "code",
   "execution_count": 6,
   "id": "47ce6c3c",
   "metadata": {},
   "outputs": [
    {
     "name": "stdout",
     "output_type": "stream",
     "text": [
      "Train data (X) size: (60000, 28, 28), and labels (Y) size: (60000,)\n",
      "Test data (X) size: (10000, 28, 28), and labels (Y) size: (10000,)\n"
     ]
    },
    {
     "data": {
      "image/png": "[encoded data removed]",
      "text/plain": [
       "<Figure size 432x288 with 1 Axes>"
      ]
     },
     "metadata": {
      "needs_background": "light"
     },
     "output_type": "display_data"
    },
    {
     "name": "stdout",
     "output_type": "stream",
     "text": [
      "Train image 12553-th sample \n",
      "[[  0   0   0   0   0   0   0   0   0   0   0   0   0   0   0   0   0   0\n",
      "    0   0   0   0   0   0   0   0   0   0]\n",
      " [  0   0   0   0   0   0   0   0   0   0   0   0   0   0   0   0   0   0\n",
      "    0   0   0   0   0   0   0   0   0   0]\n",
      " [  0   0   0   0   0   0   0   0   0   0   0   0   0   0   0   0   0   0\n",
      "    0   0   0   0   0   0   0   0   0   0]\n",
      " [  0   0   0   0   0   0   0   0   0   0   0   0   0   0   0   0   0   0\n",
      "    0   0   0   0   0   0   0   0   0   0]\n",
      " [  0   0   0   0   0   0   0   0   0   0   0   0   0   0   0   0   0   0\n",
      "    0   0   0   0   0   0   0   0   0   0]\n",
      " [  0   0   0   0   0   0   0   0   0   0   0   0   0   0   0   0   0   0\n",
      "    0   0   0   0   0   0   0   0   0   0]\n",
      " [  0   0   0   0   0   0   0   0   0   0   0   0   0   0   0   0   0   0\n",
      "    0   0   0   0   0   0   0   0   0   0]\n",
      " [  0   0   0   0   0   0   0   0   0   0   0   0   0   0   0  31 154 244\n",
      "  251 187 154 152  43   0   0   0   0   0]\n",
      " [  0   0   0   0   0   0   0   0   0   0   0   0   0  49 175 233 254 254\n",
      "  254 238 252 254 245 155   6   0   0   0]\n",
      " [  0   0   0   0   0   0   0   0   0   0   0  19 130 233 254 254 228 151\n",
      "   72  25  65 112 254 254 164   0   0   0]\n",
      " [  0   0   0   0   0   0   0   0   0   6 123 208 254 254 244 159  37   0\n",
      "    0   0   0   1 111 254 254   0   0   0]\n",
      " [  0   0   0   0   0   0   0   0   5 151 254 254 253 204  40   0   0   0\n",
      "    0   0   0   0  75 254 247   0   0   0]\n",
      " [  0   0   0   0   0   0   0   0 193 254 254 206 124   0   0   0   0   0\n",
      "    0   0   0   2 193 254 128   0   0   0]\n",
      " [  0   0   0   0   0   0  17 179 254 254 187   9   0   0   0   0   0   0\n",
      "    0   0   0 115 254 222   4   0   0   0]\n",
      " [  0   0   0   0   0   4 188 254 254 151  14   0   0   0   0   0   0   0\n",
      "    0   0  80 244 251  99   0   0   0   0]\n",
      " [  0   0   0   0   0  93 254 254 186  12   0   0   0   0   0   0   0   0\n",
      "    0  52 238 254 158   0   0   0   0   0]\n",
      " [  0   0   0   0   0 212 254 239  11   0   0   0   0   0   0   0   0   8\n",
      "  124 248 254 235  41   0   0   0   0   0]\n",
      " [  0   0   0   0   0 252 254 201  12   2   0   0   0   0   0   1  39 204\n",
      "  254 254 231  54   0   0   0   0   0   0]\n",
      " [  0   0   0   0   0  96 254 254 254 181 100  73  73  73  91 173 254 254\n",
      "  254 142   8   0   0   0   0   0   0   0]\n",
      " [  0   0   0   0   0   6 119 230 254 254 254 254 254 254 254 254 254 217\n",
      "   43   8   0   0   0   0   0   0   0   0]\n",
      " [  0   0   0   0   0   0   0  21 152 199 250 250 250 250 250 244 153  33\n",
      "    0   0   0   0   0   0   0   0   0   0]\n",
      " [  0   0   0   0   0   0   0   0   0   0   0   0   0   0   0   0   0   0\n",
      "    0   0   0   0   0   0   0   0   0   0]\n",
      " [  0   0   0   0   0   0   0   0   0   0   0   0   0   0   0   0   0   0\n",
      "    0   0   0   0   0   0   0   0   0   0]\n",
      " [  0   0   0   0   0   0   0   0   0   0   0   0   0   0   0   0   0   0\n",
      "    0   0   0   0   0   0   0   0   0   0]\n",
      " [  0   0   0   0   0   0   0   0   0   0   0   0   0   0   0   0   0   0\n",
      "    0   0   0   0   0   0   0   0   0   0]\n",
      " [  0   0   0   0   0   0   0   0   0   0   0   0   0   0   0   0   0   0\n",
      "    0   0   0   0   0   0   0   0   0   0]\n",
      " [  0   0   0   0   0   0   0   0   0   0   0   0   0   0   0   0   0   0\n",
      "    0   0   0   0   0   0   0   0   0   0]\n",
      " [  0   0   0   0   0   0   0   0   0   0   0   0   0   0   0   0   0   0\n",
      "    0   0   0   0   0   0   0   0   0   0]]\n"
     ]
    }
   ],
   "source": [
    "def read_images(filename):\n",
    "    \"\"\"Read MNIST images\"\"\"\n",
    "    \n",
    "    with gzip.open(filename, 'r') as f:\n",
    "        # first 4 bytes is a magic number\n",
    "        magic_number = int.from_bytes(f.read(4), 'big')\n",
    "        # second 4 bytes is the number of images\n",
    "        image_count = int.from_bytes(f.read(4), 'big')\n",
    "        # third 4 bytes is the row count\n",
    "        row_count = int.from_bytes(f.read(4), 'big')\n",
    "        # fourth 4 bytes is the column count\n",
    "        column_count = int.from_bytes(f.read(4), 'big')\n",
    "        # rest is the image pixel data, each pixel is stored as an unsigned byte\n",
    "        # pixel values are 0 to 255\n",
    "        image_data = f.read()\n",
    "        images = np.frombuffer(image_data, dtype=np.uint8).reshape((image_count, row_count, column_count))\n",
    "        \n",
    "    return images\n",
    "\n",
    "def read_labels(filename):\n",
    "    \"\"\"Read MNIST labels\"\"\"\n",
    "    \n",
    "    with gzip.open(filename, 'r') as f:\n",
    "        # first 4 bytes is a magic number\n",
    "        magic_number = int.from_bytes(f.read(4), 'big')\n",
    "        # second 4 bytes is the number of labels\n",
    "        label_count = int.from_bytes(f.read(4), 'big')\n",
    "        # rest is the label data, each label is stored as unsigned byte\n",
    "        # label values are 0 to 9\n",
    "        label_data = f.read()\n",
    "        labels = np.frombuffer(label_data, dtype=np.uint8)\n",
    "        \n",
    "    return labels\n",
    "\n",
    "\n",
    "dataset_path = '/home/sysadm/Documents/sem_2_Biswajit_rana/RKMVERI_2ND/class/ML/SS_assignments_1/'# Change your data path\n",
    "\n",
    "train_image_filename = ''.join([dataset_path, 'train-images-idx3-ubyte.gz'])\n",
    "train_label_filename = ''.join([dataset_path, 'train-labels-idx1-ubyte.gz'])\n",
    "\n",
    "test_image_filename = ''.join([dataset_path, 't10k-images-idx3-ubyte.gz'])\n",
    "test_label_filename = ''.join([dataset_path, 't10k-labels-idx1-ubyte.gz'])\n",
    "\n",
    "train_images = read_images(train_image_filename)\n",
    "train_labels = read_labels(train_label_filename)\n",
    "print('Train data (X) size: {}, and labels (Y) size: {}' .format(train_images.shape, train_labels.shape))\n",
    "\n",
    "test_images = read_images(test_image_filename)\n",
    "test_labels = read_labels(test_label_filename)\n",
    "print('Test data (X) size: {}, and labels (Y) size: {}' .format(test_images.shape, test_labels.shape))\n",
    "\n",
    "rand_ids = np.random.choice(train_images.shape[0])\n",
    "rand_ids=12553\n",
    "plt.imshow(train_images[rand_ids, :, :], cmap='gray')\n",
    "plt.title('class-'+str(train_labels[rand_ids]))\n",
    "plt.show()\n",
    "\n",
    "print('Train image {}-th sample ' .format(rand_ids))\n",
    "print(train_images[rand_ids, :, :])\n",
    "\n"
   ]
  },
  {
   "cell_type": "markdown",
   "id": "54daa6a9",
   "metadata": {},
   "source": [
    "# Extract 20% data from thhe training data as a validation set. <font color='red'>Please do not use some standard function from scikit-learn or others!</font>"
   ]
  },
  {
   "cell_type": "code",
   "execution_count": 78,
   "id": "09a49711",
   "metadata": {},
   "outputs": [],
   "source": [
    "# Your validation set extraction script/code \n",
    "\n"
   ]
  },
  {
   "cell_type": "code",
   "execution_count": 7,
   "id": "ba657589",
   "metadata": {},
   "outputs": [
    {
     "name": "stdout",
     "output_type": "stream",
     "text": [
      "[[0. 0. 0. ... 0. 0. 0.]\n",
      " [0. 0. 0. ... 0. 0. 0.]\n",
      " [0. 0. 0. ... 0. 0. 0.]\n",
      " ...\n",
      " [0. 0. 0. ... 0. 0. 0.]\n",
      " [0. 0. 0. ... 0. 0. 0.]\n",
      " [0. 0. 0. ... 0. 0. 0.]]\n"
     ]
    }
   ],
   "source": [
    "train_reshape = np.array(train_images.reshape(60000, 28*28), dtype = np.float64)\n",
    "\n",
    "np.random.seed(20)\n",
    "train_random = np.random.choice(range(60000), 60000, replace = False)\n",
    "train_df = train_reshape[train_random]\n",
    "\n",
    "valid_img = train_df[:12000]\n",
    "train_img = train_df[12000:]\n",
    "\n",
    "random_lab = train_labels[train_random]\n",
    "valid_lab = random_lab[:12000]\n",
    "train_lab = random_lab[12000:]\n",
    "\n",
    "test_img = np.array(test_images.reshape(10000, 28*28), dtype = np.float64)\n",
    "print(test_img)"
   ]
  },
  {
   "cell_type": "code",
   "execution_count": 8,
   "id": "7ce7e7ce",
   "metadata": {},
   "outputs": [
    {
     "name": "stdout",
     "output_type": "stream",
     "text": [
      "(48000, 784)\n",
      "(12000, 784)\n",
      "(48000,)\n",
      "(12000,)\n"
     ]
    }
   ],
   "source": [
    "print(train_img.shape)\n",
    "print(valid_img.shape)\n",
    "print(train_lab.shape)\n",
    "print(valid_lab.shape)"
   ]
  },
  {
   "cell_type": "code",
   "execution_count": 84,
   "id": "5b4242ed",
   "metadata": {},
   "outputs": [
    {
     "name": "stdout",
     "output_type": "stream",
     "text": [
      "12553\n",
      "1\n"
     ]
    },
    {
     "data": {
      "image/png": "[encoded data removed]",
      "text/plain": [
       "<Figure size 432x288 with 1 Axes>"
      ]
     },
     "metadata": {
      "needs_background": "light"
     },
     "output_type": "display_data"
    },
    {
     "name": "stdout",
     "output_type": "stream",
     "text": [
      "2798\n",
      "2\n"
     ]
    },
    {
     "data": {
      "image/png": "[encoded data removed]",
      "text/plain": [
       "<Figure size 432x288 with 1 Axes>"
      ]
     },
     "metadata": {
      "needs_background": "light"
     },
     "output_type": "display_data"
    }
   ],
   "source": [
    "#peek\n",
    "\n",
    "# rand_ids = np.random.choice(X_train.shape[0])\n",
    "# print(rand_ids)\n",
    "# print(y_train[rand_ids])\n",
    "# plt.imshow(X_train[rand_ids, :].reshape(28,28), cmap='gray')\n",
    "# plt.title('class-'+str(y_train[rand_ids]))\n",
    "# plt.show()\n",
    "\n",
    "# rand_ids = np.random.choice(X_val.shape[0])\n",
    "# print(rand_ids)\n",
    "# print(y_val[rand_ids])\n",
    "# plt.imshow(X_val[rand_ids, :].reshape(28,28), cmap='gray')\n",
    "# plt.title('class-'+str(y_val[rand_ids]))\n",
    "# plt.show()"
   ]
  },
  {
   "cell_type": "markdown",
   "id": "d7570a8f",
   "metadata": {},
   "source": [
    "# Implement k-NN classification rule/algorithm, we have discussed in our class. <font color='red'>Please do not use some standard function from scikit-learn or others!</font>"
   ]
  },
  {
   "cell_type": "code",
   "execution_count": 49,
   "id": "939686e0",
   "metadata": {},
   "outputs": [],
   "source": [
    "# Your k-NN algorithm script/code \n"
   ]
  },
  {
   "cell_type": "code",
   "execution_count": 9,
   "id": "96b0f4f3",
   "metadata": {},
   "outputs": [],
   "source": [
    "# Your k-NN algorithm script/code \n",
    "\n",
    "# Distance Functions\n",
    "# 1. euclidean\n",
    "def euclid_dist(x):\n",
    "    return np.linalg.norm(train_img - x, axis = 1)\n",
    "# 2.Manhatten\n",
    "def manhat_dist(x):\n",
    "    return np.sum(np.abs(train_img - x), axis = 1)\n",
    "\n",
    "# def chebyshev_dist(x):\n",
    "#     return np.max(np.abs(train_img - x), axis = 1)\n",
    "\n",
    "#Accuracy Function \n",
    "def acc_percentage(x,y):\n",
    "    z = (np.array(x) == np.array(y))\n",
    "    return (np.sum(z)*100)/len(x)\n",
    "\n",
    "#////////////////////////////////////////////////////////////////////////////////////////////////////////\n",
    "\n",
    "# Defining Prediction Function for k = 1, 3, 5,..., 25\n",
    "\n",
    "def prediction(data, function):\n",
    "    a = {} # Dictionary\n",
    "    for i in range(1,26,2):\n",
    "        a[i] = []\n",
    "    for j in data:\n",
    "        temp = function(j)\n",
    "        temp_dataframe = pd.DataFrame(temp)\n",
    "        temp_dataframe[\"label\"] = train_lab\n",
    "        temp_sort = temp_dataframe.sort_values(by = [0])\n",
    "        for k in range(1,26,2):\n",
    "            temp_k = temp_sort.iloc[0:k]\n",
    "            b = temp_k.value_counts(\"label\").index[0]\n",
    "            a[k].append(b)\n",
    "    print(\"The values of k are in column indexes and the values along column are predictions\")\n",
    "    return pd.DataFrame(a)\n",
    "    \n",
    "\n",
    "# Defining Prediction Function for a particular value of k\n",
    "    \n",
    "def prediction_k(data, k, function):\n",
    "    a = {} # Dictionary\n",
    "    for i in range(1,k+1,2):\n",
    "        a[i] = []\n",
    "    for j in data:\n",
    "        temp = function(j)\n",
    "        temp_dataframe = pd.DataFrame(temp)\n",
    "        temp_dataframe[\"label\"] = train_lab\n",
    "        temp_sort = temp_dataframe.sort_values(by = [0])\n",
    "        temp_k = temp_sort.iloc[0:k]\n",
    "        b = temp_k.value_counts(\"label\").index[0]\n",
    "        a[k].append(b)\n",
    "    print(\"The values of {} are in column indexes and the values along column are predictions\". format(k))\n",
    "    return pd.DataFrame(a[k]) "
   ]
  },
  {
   "cell_type": "code",
   "execution_count": 10,
   "id": "3cd03dcc",
   "metadata": {},
   "outputs": [
    {
     "name": "stdout",
     "output_type": "stream",
     "text": [
      "The values of k are in column indexes and the values along column are predictions\n",
      "       1   3   5   7   9   11  13  15  17  19  21  23  25\n",
      "0       9   9   9   9   9   9   9   9   9   9   9   9   9\n",
      "1       5   5   5   5   5   5   5   5   5   5   5   5   5\n",
      "2       7   7   7   7   7   7   7   7   7   7   7   7   7\n",
      "3       7   7   7   7   7   7   7   7   7   7   7   7   7\n",
      "4       1   1   1   1   1   1   1   1   1   1   1   1   1\n",
      "...    ..  ..  ..  ..  ..  ..  ..  ..  ..  ..  ..  ..  ..\n",
      "11995   2   2   2   2   2   2   2   2   2   2   2   2   2\n",
      "11996   9   9   9   9   9   9   9   9   9   9   9   9   9\n",
      "11997   8   8   8   8   8   8   8   8   8   8   8   8   8\n",
      "11998   1   1   1   1   1   1   1   1   1   1   1   1   1\n",
      "11999   4   4   4   4   4   4   4   4   4   9   9   9   9\n",
      "\n",
      "[12000 rows x 13 columns]\n",
      "CPU times: user 30min 11s, sys: 13min 40s, total: 43min 51s\n",
      "Wall time: 44min 53s\n"
     ]
    },
    {
     "data": {
      "text/plain": [
       "<matplotlib.collections.PathCollection at 0x7ff4a98c4580>"
      ]
     },
     "execution_count": 10,
     "metadata": {},
     "output_type": "execute_result"
    },
    {
     "data": {
      "image/png": "[encoded data removed]",
      "text/plain": [
       "<Figure size 432x288 with 1 Axes>"
      ]
     },
     "metadata": {
      "needs_background": "light"
     },
     "output_type": "display_data"
    }
   ],
   "source": [
    "%%time\n",
    "Euclid = prediction(valid_img, euclid_dist)\n",
    "print(Euclid)\n",
    "acc_Euclid = Euclid.apply(acc_percentage, y = valid_lab).sort_values(ascending = False)\n",
    "acc_Euclid\n",
    "\n",
    "# Finding the Highest k\n",
    "Euclid_k_highest = acc_Euclid.index[0]\n",
    "Euclid_k_highest\n",
    "# Finding the Highest Accuracy\n",
    "Euclid_Value = acc_Euclid.values[0];\n",
    "Euclid_Value\n",
    "plt.scatter(acc_Euclid.index, acc_Euclid.values)"
   ]
  },
  {
   "cell_type": "code",
   "execution_count": 11,
   "id": "f4697504",
   "metadata": {},
   "outputs": [
    {
     "data": {
      "text/plain": [
       "1     97.158333\n",
       "3     97.125000\n",
       "5     97.041667\n",
       "7     96.875000\n",
       "9     96.691667\n",
       "11    96.525000\n",
       "13    96.458333\n",
       "15    96.250000\n",
       "17    96.191667\n",
       "19    96.083333\n",
       "21    95.925000\n",
       "23    95.841667\n",
       "25    95.783333\n",
       "dtype: float64"
      ]
     },
     "execution_count": 11,
     "metadata": {},
     "output_type": "execute_result"
    }
   ],
   "source": [
    "acc_Euclid"
   ]
  }
 ],
 "metadata": {
  "kernelspec": {
   "display_name": "Python 3 (ipykernel)",
   "language": "python",
   "name": "python3"
  },
  "language_info": {
   "codemirror_mode": {
    "name": "ipython",
    "version": 3
   },
   "file_extension": ".py",
   "mimetype": "text/x-python",
   "name": "python",
   "nbconvert_exporter": "python",
   "pygments_lexer": "ipython3",
   "version": "3.10.12"
  }
 },
 "nbformat": 4,
 "nbformat_minor": 5
}
