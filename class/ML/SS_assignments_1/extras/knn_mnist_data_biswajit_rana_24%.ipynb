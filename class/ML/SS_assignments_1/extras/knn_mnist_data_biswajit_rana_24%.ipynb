{
  "cells": [
    {
      "cell_type": "code",
      "execution_count": 3,
      "id": "9b5bf43e",
      "metadata": {
        "id": "9b5bf43e"
      },
      "outputs": [],
      "source": [
        "\"\"\"\n",
        "-----------------------------------------------------------------------------\n",
        "MNIST digit data reading helper\n",
        "-----------------------------------------------------------------------------\n",
        "AUTHOR: Soumitra Samanta (soumitra.samanta@gm.rkmvu.ac.in)\n",
        "-----------------------------------------------------------------------------\n",
        "\"\"\"\n",
        "\n",
        "import gzip\n",
        "import numpy as np\n",
        "import matplotlib.pyplot as plt\n",
        "from concurrent.futures import ProcessPoolExecutor\n"
      ]
    },
    {
      "cell_type": "code",
      "source": [
        "import os\n",
        "\n",
        "# Assuming you have uploaded files directly to Colab\n",
        "folder_path = '/content'\n",
        "\n",
        "# List all files in the folder\n",
        "file_list = os.listdir(folder_path)\n",
        "\n",
        "# Print the file paths\n",
        "for file_name in file_list:\n",
        "    file_path = os.path.join(folder_path, file_name)\n",
        "    print(file_path)\n"
      ],
      "metadata": {
        "colab": {
          "base_uri": "https://localhost:8080/"
        },
        "id": "Xvg-u8x_YwVl",
        "outputId": "e7e74b8d-2c02-4131-e92a-8fe7d60eb9a0"
      },
      "id": "Xvg-u8x_YwVl",
      "execution_count": 4,
      "outputs": [
        {
          "output_type": "stream",
          "name": "stdout",
          "text": [
            "/content/.config\n",
            "/content/.ipynb_checkpoints\n",
            "/content/ML_Assignment\n",
            "/content/sample_data\n"
          ]
        }
      ]
    },
    {
      "cell_type": "markdown",
      "id": "55c9e6c7",
      "metadata": {
        "id": "55c9e6c7"
      },
      "source": [
        "# Read MNIST data:\n",
        "There are many [ways](https://stackoverflow.com/questions/40427435/extract-images-from-idx3-ubyte-file-or-gzip-via-python) you can read the MNIST data. Here is a [way](https://stackoverflow.com/a/62781370) to read all the information."
      ]
    },
    {
      "cell_type": "code",
      "execution_count": 13,
      "id": "47ce6c3c",
      "metadata": {
        "colab": {
          "base_uri": "https://localhost:8080/",
          "height": 1000
        },
        "id": "47ce6c3c",
        "outputId": "3cd69964-cb77-47fa-9418-dec9deddcd4d"
      },
      "outputs": [
        {
          "output_type": "stream",
          "name": "stdout",
          "text": [
            "Train data (X) size: (60000, 28, 28), and labels (Y) size: (60000,)\n",
            "Test data (X) size: (10000, 28, 28), and labels (Y) size: (10000,)\n"
          ]
        },
        {
          "output_type": "display_data",
          "data": {
            "text/plain": [
              "<Figure size 640x480 with 1 Axes>"
            ],
            "image/png": "[encoded data removed]"
          },
          "metadata": {}
        },
        {
          "output_type": "stream",
          "name": "stdout",
          "text": [
            "Train image 1-th sample \n",
            "[[  0   0   0   0   0   0   0   0   0   0   0   0   0   0   0   0   0   0\n",
            "    0   0   0   0   0   0   0   0   0   0]\n",
            " [  0   0   0   0   0   0   0   0   0   0   0   0   0   0   0   0   0   0\n",
            "    0   0   0   0   0   0   0   0   0   0]\n",
            " [  0   0   0   0   0   0   0   0   0   0   0   0   0   0   0   0   0   0\n",
            "    0   0   0   0   0   0   0   0   0   0]\n",
            " [  0   0   0   0   0   0   0   0   0   0   0   0   0   0   0   0   0   0\n",
            "    0   0   0   0   0   0   0   0   0   0]\n",
            " [  0   0   0   0   0   0   0   0   0   0   0   0   0   0   0  51 159 253\n",
            "  159  50   0   0   0   0   0   0   0   0]\n",
            " [  0   0   0   0   0   0   0   0   0   0   0   0   0   0  48 238 252 252\n",
            "  252 237   0   0   0   0   0   0   0   0]\n",
            " [  0   0   0   0   0   0   0   0   0   0   0   0   0  54 227 253 252 239\n",
            "  233 252  57   6   0   0   0   0   0   0]\n",
            " [  0   0   0   0   0   0   0   0   0   0   0  10  60 224 252 253 252 202\n",
            "   84 252 253 122   0   0   0   0   0   0]\n",
            " [  0   0   0   0   0   0   0   0   0   0   0 163 252 252 252 253 252 252\n",
            "   96 189 253 167   0   0   0   0   0   0]\n",
            " [  0   0   0   0   0   0   0   0   0   0  51 238 253 253 190 114 253 228\n",
            "   47  79 255 168   0   0   0   0   0   0]\n",
            " [  0   0   0   0   0   0   0   0   0  48 238 252 252 179  12  75 121  21\n",
            "    0   0 253 243  50   0   0   0   0   0]\n",
            " [  0   0   0   0   0   0   0   0  38 165 253 233 208  84   0   0   0   0\n",
            "    0   0 253 252 165   0   0   0   0   0]\n",
            " [  0   0   0   0   0   0   0   7 178 252 240  71  19  28   0   0   0   0\n",
            "    0   0 253 252 195   0   0   0   0   0]\n",
            " [  0   0   0   0   0   0   0  57 252 252  63   0   0   0   0   0   0   0\n",
            "    0   0 253 252 195   0   0   0   0   0]\n",
            " [  0   0   0   0   0   0   0 198 253 190   0   0   0   0   0   0   0   0\n",
            "    0   0 255 253 196   0   0   0   0   0]\n",
            " [  0   0   0   0   0   0  76 246 252 112   0   0   0   0   0   0   0   0\n",
            "    0   0 253 252 148   0   0   0   0   0]\n",
            " [  0   0   0   0   0   0  85 252 230  25   0   0   0   0   0   0   0   0\n",
            "    7 135 253 186  12   0   0   0   0   0]\n",
            " [  0   0   0   0   0   0  85 252 223   0   0   0   0   0   0   0   0   7\n",
            "  131 252 225  71   0   0   0   0   0   0]\n",
            " [  0   0   0   0   0   0  85 252 145   0   0   0   0   0   0   0  48 165\n",
            "  252 173   0   0   0   0   0   0   0   0]\n",
            " [  0   0   0   0   0   0  86 253 225   0   0   0   0   0   0 114 238 253\n",
            "  162   0   0   0   0   0   0   0   0   0]\n",
            " [  0   0   0   0   0   0  85 252 249 146  48  29  85 178 225 253 223 167\n",
            "   56   0   0   0   0   0   0   0   0   0]\n",
            " [  0   0   0   0   0   0  85 252 252 252 229 215 252 252 252 196 130   0\n",
            "    0   0   0   0   0   0   0   0   0   0]\n",
            " [  0   0   0   0   0   0  28 199 252 252 253 252 252 233 145   0   0   0\n",
            "    0   0   0   0   0   0   0   0   0   0]\n",
            " [  0   0   0   0   0   0   0  25 128 252 253 252 141  37   0   0   0   0\n",
            "    0   0   0   0   0   0   0   0   0   0]\n",
            " [  0   0   0   0   0   0   0   0   0   0   0   0   0   0   0   0   0   0\n",
            "    0   0   0   0   0   0   0   0   0   0]\n",
            " [  0   0   0   0   0   0   0   0   0   0   0   0   0   0   0   0   0   0\n",
            "    0   0   0   0   0   0   0   0   0   0]\n",
            " [  0   0   0   0   0   0   0   0   0   0   0   0   0   0   0   0   0   0\n",
            "    0   0   0   0   0   0   0   0   0   0]\n",
            " [  0   0   0   0   0   0   0   0   0   0   0   0   0   0   0   0   0   0\n",
            "    0   0   0   0   0   0   0   0   0   0]]\n"
          ]
        }
      ],
      "source": [
        "def read_images(filename):\n",
        "    \"\"\"Read MNIST images\"\"\"\n",
        "\n",
        "    with gzip.open(filename, 'r') as f:\n",
        "        # first 4 bytes is a magic number\n",
        "        magic_number = int.from_bytes(f.read(4), 'big')\n",
        "        # second 4 bytes is the number of images\n",
        "        image_count = int.from_bytes(f.read(4), 'big')\n",
        "        # third 4 bytes is the row count\n",
        "        row_count = int.from_bytes(f.read(4), 'big')\n",
        "        # fourth 4 bytes is the column count\n",
        "        column_count = int.from_bytes(f.read(4), 'big')\n",
        "        # rest is the image pixel data, each pixel is stored as an unsigned byte\n",
        "        # pixel values are 0 to 255\n",
        "        image_data = f.read()\n",
        "        images = np.frombuffer(image_data, dtype=np.uint8).reshape((image_count, row_count, column_count))\n",
        "\n",
        "    return images\n",
        "\n",
        "def read_labels(filename):\n",
        "    \"\"\"Read MNIST labels\"\"\"\n",
        "\n",
        "    with gzip.open(filename, 'r') as f:\n",
        "        # first 4 bytes is a magic number\n",
        "        magic_number = int.from_bytes(f.read(4), 'big')\n",
        "        # second 4 bytes is the number of labels\n",
        "        label_count = int.from_bytes(f.read(4), 'big')\n",
        "        # rest is the label data, each label is stored as unsigned byte\n",
        "        # label values are 0 to 9\n",
        "        label_data = f.read()\n",
        "        labels = np.frombuffer(label_data, dtype=np.uint8)\n",
        "\n",
        "    return labels\n",
        "\n",
        "\n",
        "dataset_path = '/content/ML_Assignment/'# Change your data path\n",
        "\n",
        "train_image_filename = ''.join([dataset_path, 'train-images-idx3-ubyte.gz'])\n",
        "train_label_filename = ''.join([dataset_path, 'train-labels-idx1-ubyte.gz'])\n",
        "\n",
        "test_image_filename = ''.join([dataset_path, 't10k-images-idx3-ubyte.gz'])\n",
        "test_label_filename = ''.join([dataset_path, 't10k-labels-idx1-ubyte.gz'])\n",
        "\n",
        "train_images = read_images(train_image_filename)\n",
        "train_labels = read_labels(train_label_filename)\n",
        "print('Train data (X) size: {}, and labels (Y) size: {}' .format(train_images.shape, train_labels.shape))\n",
        "\n",
        "test_images = read_images(test_image_filename)\n",
        "test_labels = read_labels(test_label_filename)\n",
        "print('Test data (X) size: {}, and labels (Y) size: {}' .format(test_images.shape, test_labels.shape))\n",
        "\n",
        "# rand_ids = np.random.choice(train_images.shape[0])\n",
        "rand_ids=1\n",
        "plt.imshow(train_images[rand_ids, :, :], cmap='gray')\n",
        "plt.title('class-'+str(train_labels[rand_ids]))\n",
        "plt.show()\n",
        "\n",
        "print('Train image {}-th sample ' .format(rand_ids))\n",
        "print(train_images[rand_ids, :, :])\n",
        "\n"
      ]
    },
    {
      "cell_type": "markdown",
      "id": "54daa6a9",
      "metadata": {
        "id": "54daa6a9"
      },
      "source": [
        "# Extract 20% data from thhe training data as a validation set. <font color='red'>Please do not use some standard function from scikit-learn or others!</font>"
      ]
    },
    {
      "cell_type": "code",
      "execution_count": 6,
      "id": "09a49711",
      "metadata": {
        "id": "09a49711",
        "colab": {
          "base_uri": "https://localhost:8080/"
        },
        "outputId": "9135d366-e7c1-4da9-f27e-c95b3acbd731"
      },
      "outputs": [
        {
          "output_type": "stream",
          "name": "stdout",
          "text": [
            "Validation data (X) size: (12000, 28, 28), and labels (Y) size: (12000,)\n",
            "Train data (X) size: (48000, 28, 28), and labels (Y) size: (48000,)\n"
          ]
        }
      ],
      "source": [
        "# Your validation set extraction script/code\n",
        "\n",
        "train_data_len=int(train_images.shape[0]*0.8)\n",
        "\n",
        "validation_images=train_images[train_data_len: train_images.shape[0],: ,: ]\n",
        "validation_labels=train_labels[train_data_len: train_images.shape[0]]\n",
        "print('Validation data (X) size: {}, and labels (Y) size: {}' .format(validation_images.shape, validation_labels.shape))\n",
        "\n",
        "train_images=train_images[:train_data_len,: ,: ]\n",
        "train_labels=train_labels[:train_data_len]\n",
        "print('Train data (X) size: {}, and labels (Y) size: {}' .format(train_images.shape, train_labels.shape))\n",
        "\n",
        "# ---------------------------------------------------------------\n",
        "# train data (48000) | validation set (12000) | test set (10000)|\n",
        "# ---------------------------------------------------------------"
      ]
    },
    {
      "cell_type": "markdown",
      "id": "d7570a8f",
      "metadata": {
        "id": "d7570a8f"
      },
      "source": [
        "# Implement k-NN classification rule/algorithm, we have discussed in our class. <font color='red'>Please do not use some standard function from scikit-learn or others!</font>"
      ]
    },
    {
      "cell_type": "code",
      "execution_count": 7,
      "id": "939686e0",
      "metadata": {
        "id": "939686e0",
        "colab": {
          "base_uri": "https://localhost:8080/"
        },
        "outputId": "3a45e528-9b05-4bf6-8a49-e342df48fd96"
      },
      "outputs": [
        {
          "output_type": "stream",
          "name": "stdout",
          "text": [
            "(48000, 784)\n",
            "(12000, 784)\n"
          ]
        }
      ],
      "source": [
        "# Your k-NN algorithm script/code\n",
        "\n",
        "\n",
        "train_data=train_images.reshape((train_images.shape[0],-1))\n",
        "print(train_data.shape)\n",
        "\n",
        "validation_data=validation_images.reshape((validation_images.shape[0],-1))\n",
        "print(validation_data.shape)\n",
        "\n"
      ]
    },
    {
      "cell_type": "code",
      "source": [
        "def euclidean_distance_batch(batch1, batch2):\n",
        "    return np.sqrt(np.sum((batch1[:, np.newaxis, :] - batch2) ** 2, axis=-1))\n",
        "\n",
        "def knn_classify_batch(train_data, train_labels, test_batch, k):\n",
        "\n",
        "    distances = euclidean_distance_batch(train_data, test_batch)\n",
        "\n",
        "    sorted_indices = np.argsort(distances, axis=0)\n",
        "    k_nearest_labels = train_labels[sorted_indices[:k, :]]\n",
        "    unique_labels, counts = np.unique(k_nearest_labels, axis=0, return_counts=True)\n",
        "    predicted_labels = unique_labels[np.argmax(counts, axis=0)]\n",
        "    return predicted_labels\n",
        "\n",
        "def calculate_accuracy(predictions, true_labels):\n",
        "    if true_labels.ndim == 1:  # Handle 1D array\n",
        "        true_labels = true_labels.reshape(1, -1)\n",
        "\n",
        "    correct_predictions = np.sum(np.all(predictions == true_labels, axis=0))\n",
        "    total_predictions = true_labels.shape[1]\n",
        "    accuracy = correct_predictions / total_predictions\n",
        "    return accuracy\n",
        "\n",
        "# Assuming you have training data, training labels, and validation sets\n",
        "# train_data, train_labels, val_set1, val_labels1, val_set2, val_labels2, ... (and so on)\n",
        "\n",
        "# Choose a value for k\n",
        "k_value = 7\n",
        "\n",
        "# Batch size for processing\n",
        "batch_size = 1000  # You can adjust this based on your available memory\n",
        "\n",
        "# For each validation set, make predictions and calculate accuracy\n",
        "val_sets = validation_data.reshape(120,100,784)  # Add more validation sets if needed\n",
        "val_labels = validation_labels.reshape(120,100)  # Corresponding labels for validation sets\n",
        "\n",
        "acc=[]\n",
        "\n",
        "for i, val_set in enumerate(val_sets):\n",
        "    num_batches = len(val_set) // batch_size\n",
        "\n",
        "    predictions_batches = []\n",
        "    for batch_idx in range(num_batches):\n",
        "        start_idx = batch_idx * batch_size\n",
        "        end_idx = (batch_idx + 1) * batch_size\n",
        "\n",
        "        val_batch = val_set[start_idx:end_idx]\n",
        "        predictions_batch = knn_classify_batch(train_data, train_labels, val_batch, k_value)\n",
        "        predictions_batches.append(predictions_batch)\n",
        "\n",
        "    # Process the last batch, even if its size is smaller than batch_size\n",
        "    if len(val_set) % batch_size != 0:\n",
        "        last_batch = val_set[num_batches * batch_size:]\n",
        "        predictions_last_batch = knn_classify_batch(train_data, train_labels, last_batch, k_value)\n",
        "        predictions_batches.append(predictions_last_batch)\n",
        "\n",
        "    # Concatenate predictions for all batches along axis 0\n",
        "    predictions = np.concatenate(predictions_batches, axis=0)\n",
        "\n",
        "    accuracy = calculate_accuracy(predictions, val_labels[i])\n",
        "    acc.append(accuracy)\n",
        "    print(f'Accuracy on validation set {i + 1}: {accuracy:.4f}')\n",
        "print(f'Average Accuracy on validation set : {np.sum(acc)/len(acc):.4f}')\n"
      ],
      "metadata": {
        "id": "Cns2wS8l6fq0",
        "colab": {
          "base_uri": "https://localhost:8080/"
        },
        "outputId": "9b67ffde-ad5f-41c8-8511-63cbee88bd77"
      },
      "id": "Cns2wS8l6fq0",
      "execution_count": 66,
      "outputs": [
        {
          "output_type": "stream",
          "name": "stdout",
          "text": [
            "Accuracy on validation set 1: 0.2300\n",
            "Accuracy on validation set 2: 0.2300\n",
            "Accuracy on validation set 3: 0.3100\n",
            "Accuracy on validation set 4: 0.2700\n",
            "Accuracy on validation set 5: 0.3300\n",
            "Accuracy on validation set 6: 0.2800\n",
            "Accuracy on validation set 7: 0.2200\n",
            "Accuracy on validation set 8: 0.2900\n",
            "Accuracy on validation set 9: 0.2200\n",
            "Accuracy on validation set 10: 0.2500\n",
            "Accuracy on validation set 11: 0.2200\n",
            "Accuracy on validation set 12: 0.3600\n",
            "Accuracy on validation set 13: 0.2700\n",
            "Accuracy on validation set 14: 0.3600\n",
            "Accuracy on validation set 15: 0.2700\n",
            "Accuracy on validation set 16: 0.1700\n",
            "Accuracy on validation set 17: 0.2100\n",
            "Accuracy on validation set 18: 0.1900\n",
            "Accuracy on validation set 19: 0.2600\n",
            "Accuracy on validation set 20: 0.1600\n",
            "Accuracy on validation set 21: 0.2800\n",
            "Accuracy on validation set 22: 0.1700\n",
            "Accuracy on validation set 23: 0.3000\n",
            "Accuracy on validation set 24: 0.2300\n",
            "Accuracy on validation set 25: 0.2400\n",
            "Accuracy on validation set 26: 0.1800\n",
            "Accuracy on validation set 27: 0.2600\n",
            "Accuracy on validation set 28: 0.2600\n",
            "Accuracy on validation set 29: 0.1900\n",
            "Accuracy on validation set 30: 0.2100\n",
            "Accuracy on validation set 31: 0.2900\n",
            "Accuracy on validation set 32: 0.3000\n",
            "Accuracy on validation set 33: 0.3000\n",
            "Accuracy on validation set 34: 0.2700\n",
            "Accuracy on validation set 35: 0.2100\n",
            "Accuracy on validation set 36: 0.2500\n",
            "Accuracy on validation set 37: 0.2000\n",
            "Accuracy on validation set 38: 0.2300\n",
            "Accuracy on validation set 39: 0.2300\n",
            "Accuracy on validation set 40: 0.2700\n",
            "Accuracy on validation set 41: 0.2800\n",
            "Accuracy on validation set 42: 0.2500\n",
            "Accuracy on validation set 43: 0.1300\n",
            "Accuracy on validation set 44: 0.2600\n",
            "Accuracy on validation set 45: 0.2400\n",
            "Accuracy on validation set 46: 0.2600\n",
            "Accuracy on validation set 47: 0.2200\n",
            "Accuracy on validation set 48: 0.2600\n",
            "Accuracy on validation set 49: 0.2400\n",
            "Accuracy on validation set 50: 0.2700\n",
            "Accuracy on validation set 51: 0.2800\n",
            "Accuracy on validation set 52: 0.2600\n",
            "Accuracy on validation set 53: 0.2200\n",
            "Accuracy on validation set 54: 0.2900\n",
            "Accuracy on validation set 55: 0.2300\n",
            "Accuracy on validation set 56: 0.2600\n",
            "Accuracy on validation set 57: 0.1900\n",
            "Accuracy on validation set 58: 0.2700\n",
            "Accuracy on validation set 59: 0.2500\n",
            "Accuracy on validation set 60: 0.2300\n",
            "Accuracy on validation set 61: 0.1700\n",
            "Accuracy on validation set 62: 0.2100\n",
            "Accuracy on validation set 63: 0.2600\n",
            "Accuracy on validation set 64: 0.2900\n",
            "Accuracy on validation set 65: 0.1600\n",
            "Accuracy on validation set 66: 0.1700\n",
            "Accuracy on validation set 67: 0.2800\n",
            "Accuracy on validation set 68: 0.2600\n",
            "Accuracy on validation set 69: 0.2900\n",
            "Accuracy on validation set 70: 0.1800\n",
            "Accuracy on validation set 71: 0.1800\n",
            "Accuracy on validation set 72: 0.2600\n",
            "Accuracy on validation set 73: 0.2200\n",
            "Accuracy on validation set 74: 0.2600\n",
            "Accuracy on validation set 75: 0.2600\n",
            "Accuracy on validation set 76: 0.2200\n",
            "Accuracy on validation set 77: 0.1700\n",
            "Accuracy on validation set 78: 0.3800\n",
            "Accuracy on validation set 79: 0.2000\n",
            "Accuracy on validation set 80: 0.2900\n",
            "Accuracy on validation set 81: 0.3100\n",
            "Accuracy on validation set 82: 0.2700\n",
            "Accuracy on validation set 83: 0.1900\n",
            "Accuracy on validation set 84: 0.2900\n",
            "Accuracy on validation set 85: 0.2900\n",
            "Accuracy on validation set 86: 0.2800\n",
            "Accuracy on validation set 87: 0.3500\n",
            "Accuracy on validation set 88: 0.3100\n",
            "Accuracy on validation set 89: 0.2500\n",
            "Accuracy on validation set 90: 0.2500\n",
            "Accuracy on validation set 91: 0.2600\n",
            "Accuracy on validation set 92: 0.2300\n",
            "Accuracy on validation set 93: 0.3100\n",
            "Accuracy on validation set 94: 0.2800\n",
            "Accuracy on validation set 95: 0.2000\n",
            "Accuracy on validation set 96: 0.1700\n",
            "Accuracy on validation set 97: 0.1700\n",
            "Accuracy on validation set 98: 0.2100\n",
            "Accuracy on validation set 99: 0.2200\n",
            "Accuracy on validation set 100: 0.3000\n",
            "Accuracy on validation set 101: 0.2400\n",
            "Accuracy on validation set 102: 0.2300\n",
            "Accuracy on validation set 103: 0.2600\n",
            "Accuracy on validation set 104: 0.2500\n",
            "Accuracy on validation set 105: 0.2600\n",
            "Accuracy on validation set 106: 0.2200\n",
            "Accuracy on validation set 107: 0.1900\n",
            "Accuracy on validation set 108: 0.2500\n",
            "Accuracy on validation set 109: 0.2800\n",
            "Accuracy on validation set 110: 0.2700\n",
            "Accuracy on validation set 111: 0.2800\n",
            "Accuracy on validation set 112: 0.3500\n",
            "Accuracy on validation set 113: 0.1600\n",
            "Accuracy on validation set 114: 0.2000\n",
            "Accuracy on validation set 115: 0.3000\n",
            "Accuracy on validation set 116: 0.3600\n",
            "Accuracy on validation set 117: 0.1600\n",
            "Accuracy on validation set 118: 0.3200\n",
            "Accuracy on validation set 119: 0.2300\n",
            "Accuracy on validation set 120: 0.1400\n",
            "Average Accuracy on validation set : 0.2472\n"
          ]
        }
      ]
    },
    {
      "cell_type": "code",
      "source": [
        "# PREDICTIONS\n",
        "\n",
        "no=41\n",
        "print(knn_classify_batch(train_data, train_labels, test_images[no,:,:].reshape(28*28), 5))\n",
        "# validation_data[1,:]\n",
        "# validation_labels[1]\n",
        "plt.imshow(test_images[no,:,:].reshape(28,28), cmap='gray')\n",
        "plt.title('class-'+str(test_labels[no]))\n",
        "plt.show()"
      ],
      "metadata": {
        "colab": {
          "base_uri": "https://localhost:8080/",
          "height": 469
        },
        "id": "_VLhoLxpOIo1",
        "outputId": "15f39f03-785e-43b2-d400-b4130301d4d0"
      },
      "id": "_VLhoLxpOIo1",
      "execution_count": 84,
      "outputs": [
        {
          "output_type": "stream",
          "name": "stdout",
          "text": [
            "[7]\n"
          ]
        },
        {
          "output_type": "display_data",
          "data": {
            "text/plain": [
              "<Figure size 640x480 with 1 Axes>"
            ],
            "image/png": "[encoded data removed]"
          },
          "metadata": {}
        }
      ]
    }
  ],
  "metadata": {
    "kernelspec": {
      "display_name": "Python 3",
      "name": "python3"
    },
    "language_info": {
      "codemirror_mode": {
        "name": "ipython",
        "version": 3
      },
      "file_extension": ".py",
      "mimetype": "text/x-python",
      "name": "python",
      "nbconvert_exporter": "python",
      "pygments_lexer": "ipython3",
      "version": "3.10.12"
    },
    "colab": {
      "provenance": [],
      "gpuType": "T4"
    },
    "accelerator": "GPU"
  },
  "nbformat": 4,
  "nbformat_minor": 5
}