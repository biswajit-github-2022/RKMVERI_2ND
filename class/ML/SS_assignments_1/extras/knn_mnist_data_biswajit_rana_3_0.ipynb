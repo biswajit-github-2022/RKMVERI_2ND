{
 "cells": [
  {
   "cell_type": "code",
   "execution_count": 1,
   "id": "9b5bf43e",
   "metadata": {},
   "outputs": [],
   "source": [
    "\"\"\"\n",
    "-----------------------------------------------------------------------------\n",
    "MNIST digit data reading helper\n",
    "-----------------------------------------------------------------------------\n",
    "AUTHOR: Soumitra Samanta (soumitra.samanta@gm.rkmvu.ac.in)\n",
    "-----------------------------------------------------------------------------\n",
    "\"\"\"\n",
    "\n",
    "import gzip\n",
    "import numpy as np\n",
    "import matplotlib.pyplot as plt\n",
    "import pandas as pd # Using Pandas Library to use the Data Frames for saving the distance values\n",
    "from tqdm import tqdm"
   ]
  },
  {
   "cell_type": "markdown",
   "id": "55c9e6c7",
   "metadata": {},
   "source": [
    "# Read MNIST data:\n",
    "There are many [ways](https://stackoverflow.com/questions/40427435/extract-images-from-idx3-ubyte-file-or-gzip-via-python) you can read the MNIST data. Here is a [way](https://stackoverflow.com/a/62781370) to read all the information."
   ]
  },
  {
   "cell_type": "code",
   "execution_count": 2,
   "id": "47ce6c3c",
   "metadata": {},
   "outputs": [
    {
     "name": "stdout",
     "output_type": "stream",
     "text": [
      "Train data (X) size: (60000, 28, 28), and labels (Y) size: (60000,)\n",
      "Test data (X) size: (10000, 28, 28), and labels (Y) size: (10000,)\n"
     ]
    },
    {
     "data": {
      "image/png": "[encoded data removed]",
      "text/plain": [
       "<Figure size 432x288 with 1 Axes>"
      ]
     },
     "metadata": {
      "needs_background": "light"
     },
     "output_type": "display_data"
    },
    {
     "name": "stdout",
     "output_type": "stream",
     "text": [
      "Train image 8032-th sample \n",
      "[[  0   0   0   0   0   0   0   0   0   0   0   0   0   0   0   0   0   0\n",
      "    0   0   0   0   0   0   0   0   0   0]\n",
      " [  0   0   0   0   0   0   0   0   0   0   0   0   0   0   0   0   0   0\n",
      "    0   0   0   0   0   0   0   0   0   0]\n",
      " [  0   0   0   0   0   0   0   0   0   0   0   0   0   0   0   0   0   0\n",
      "    0   0   0   0   0   0   0   0   0   0]\n",
      " [  0   0   0   0   0   0   0   0   0   0   0   0   0   0   0   0   0   0\n",
      "    0   0   0   0   0   0   0   0   0   0]\n",
      " [  0   0   0   0   0   0   0   0   0   0   0   0   0   0   0   0   0   0\n",
      "    0   0   0   0   0   0   0   0   0   0]\n",
      " [  0   0   0   0   0   0   0   0   0   0   0   0   0   0  21 203   0   0\n",
      "    0   0   0   0   0   0   0   0   0   0]\n",
      " [  0   0   0   0   0   0   0   0   0   0   0   0   0   0 102 243  40   0\n",
      "    0   0   0   0   0   0   0   0   0   0]\n",
      " [  0   0   0   0   0   0   0   0   0   0   0   0   0   0 102 254 112   0\n",
      "    0   0   0   0   0   0   0   0   0   0]\n",
      " [  0   0   0   0   0   0   0   0   0   0   0   0   0   0 142 253 151   0\n",
      "    0   0   0   0   0   0   0   0   0   0]\n",
      " [  0   0   0   0   0   0   0   0   0   0   0   0   0  21 223 254  91   0\n",
      "    0   0   0   0   0   0   0   0   0   0]\n",
      " [  0   0   0   0   0   0   0   0   0   0   0   0   0  21 223 253  50   0\n",
      "    0   0   0   0   0   0   0   0   0   0]\n",
      " [  0   0   0   0   0   0   0   0   0   0   0   0   0   0 203 254  50   0\n",
      "    0   0   0   0   0   0   0   0   0   0]\n",
      " [  0   0   0   0   0   0   0   0   0   0   0   0   0  21 223 253  50   0\n",
      "    0   0   0   0   0   0   0   0   0   0]\n",
      " [  0   0   0   0   0   0   0   0   0   0   0   0   0  51 253 254  50   0\n",
      "    0   0   0   0   0   0   0   0   0   0]\n",
      " [  0   0   0   0   0   0   0   0   0   0   0   0   0  51 252 253  50   0\n",
      "    0   0   0   0   0   0   0   0   0   0]\n",
      " [  0   0   0   0   0   0   0   0   0   0   0   0   0  51 253 203   0   0\n",
      "    0   0   0   0   0   0   0   0   0   0]\n",
      " [  0   0   0   0   0   0   0   0   0   0   0   0   0  51 252 122   0   0\n",
      "    0   0   0   0   0   0   0   0   0   0]\n",
      " [  0   0   0   0   0   0   0   0   0   0   0   0   0  51 253 102   0   0\n",
      "    0   0   0   0   0   0   0   0   0   0]\n",
      " [  0   0   0   0   0   0   0   0   0   0   0   0   0 132 252 102   0   0\n",
      "    0   0   0   0   0   0   0   0   0   0]\n",
      " [  0   0   0   0   0   0   0   0   0   0   0   0   0 152 253  41   0   0\n",
      "    0   0   0   0   0   0   0   0   0   0]\n",
      " [  0   0   0   0   0   0   0   0   0   0   0   0   0 152 252   0   0   0\n",
      "    0   0   0   0   0   0   0   0   0   0]\n",
      " [  0   0   0   0   0   0   0   0   0   0   0   0   0 255 253   0   0   0\n",
      "    0   0   0   0   0   0   0   0   0   0]\n",
      " [  0   0   0   0   0   0   0   0   0   0   0   0   0 253 252   0   0   0\n",
      "    0   0   0   0   0   0   0   0   0   0]\n",
      " [  0   0   0   0   0   0   0   0   0   0   0   0   0 193 253   0   0   0\n",
      "    0   0   0   0   0   0   0   0   0   0]\n",
      " [  0   0   0   0   0   0   0   0   0   0   0   0   0  71 130   0   0   0\n",
      "    0   0   0   0   0   0   0   0   0   0]\n",
      " [  0   0   0   0   0   0   0   0   0   0   0   0   0   0   0   0   0   0\n",
      "    0   0   0   0   0   0   0   0   0   0]\n",
      " [  0   0   0   0   0   0   0   0   0   0   0   0   0   0   0   0   0   0\n",
      "    0   0   0   0   0   0   0   0   0   0]\n",
      " [  0   0   0   0   0   0   0   0   0   0   0   0   0   0   0   0   0   0\n",
      "    0   0   0   0   0   0   0   0   0   0]]\n"
     ]
    }
   ],
   "source": [
    "def read_images(filename):\n",
    "    \"\"\"Read MNIST images\"\"\"\n",
    "    \n",
    "    with gzip.open(filename, 'r') as f:\n",
    "        # first 4 bytes is a magic number\n",
    "        magic_number = int.from_bytes(f.read(4), 'big')\n",
    "        # second 4 bytes is the number of images\n",
    "        image_count = int.from_bytes(f.read(4), 'big')\n",
    "        # third 4 bytes is the row count\n",
    "        row_count = int.from_bytes(f.read(4), 'big')\n",
    "        # fourth 4 bytes is the column count\n",
    "        column_count = int.from_bytes(f.read(4), 'big')\n",
    "        # rest is the image pixel data, each pixel is stored as an unsigned byte\n",
    "        # pixel values are 0 to 255\n",
    "        image_data = f.read()\n",
    "        images = np.frombuffer(image_data, dtype=np.uint8).reshape((image_count, row_count, column_count))\n",
    "        \n",
    "    return images\n",
    "\n",
    "def read_labels(filename):\n",
    "    \"\"\"Read MNIST labels\"\"\"\n",
    "    \n",
    "    with gzip.open(filename, 'r') as f:\n",
    "        # first 4 bytes is a magic number\n",
    "        magic_number = int.from_bytes(f.read(4), 'big')\n",
    "        # second 4 bytes is the number of labels\n",
    "        label_count = int.from_bytes(f.read(4), 'big')\n",
    "        # rest is the label data, each label is stored as unsigned byte\n",
    "        # label values are 0 to 9\n",
    "        label_data = f.read()\n",
    "        labels = np.frombuffer(label_data, dtype=np.uint8)\n",
    "        \n",
    "    return labels\n",
    "\n",
    "\n",
    "dataset_path = '/home/sysadm/Documents/sem_2_Biswajit_rana/RKMVERI_2ND/class/ML/SS_assignments_1/'\n",
    "\n",
    "train_image_filename = ''.join([dataset_path, 'train-images-idx3-ubyte.gz'])\n",
    "train_label_filename = ''.join([dataset_path, 'train-labels-idx1-ubyte.gz'])\n",
    "\n",
    "test_image_filename = ''.join([dataset_path, 't10k-images-idx3-ubyte.gz'])\n",
    "test_label_filename = ''.join([dataset_path, 't10k-labels-idx1-ubyte.gz'])\n",
    "\n",
    "train_images = read_images(train_image_filename)\n",
    "train_labels = read_labels(train_label_filename)\n",
    "print('Train data (X) size: {}, and labels (Y) size: {}' .format(train_images.shape, train_labels.shape))\n",
    "\n",
    "test_images = read_images(test_image_filename)\n",
    "test_labels = read_labels(test_label_filename)\n",
    "print('Test data (X) size: {}, and labels (Y) size: {}' .format(test_images.shape, test_labels.shape))\n",
    "\n",
    "rand_ids = np.random.choice(train_images.shape[0])\n",
    "plt.imshow(train_images[rand_ids, :, :], cmap='gray')\n",
    "plt.title('class-'+str(train_labels[rand_ids]))\n",
    "plt.show()\n",
    "\n",
    "print('Train image {}-th sample ' .format(rand_ids))\n",
    "print(train_images[rand_ids, :, :])\n",
    "\n"
   ]
  },
  {
   "cell_type": "markdown",
   "id": "54daa6a9",
   "metadata": {},
   "source": [
    "# Extract 20% data from thhe training data as a validation set. <font color='red'>Please do not use some standard function from scikit-learn or others!</font>"
   ]
  },
  {
   "cell_type": "code",
   "execution_count": 3,
   "id": "09a49711",
   "metadata": {},
   "outputs": [],
   "source": [
    "# Your validation set extraction script/code\n",
    "#np.random.seed(20)\n",
    "#rand_ids = np.random.choice(np.arange(len(train_images)),train_images.shape[0], replace = False)\n",
    "#print(rand_ids)\n",
    "#rand_ids_20,rand_ids_80 = np.hsplit(rand_ids, np.array([int(0.2 * len(train_images))]))\n",
    "#print(train_images[rand_ids_20[5]])"
   ]
  },
  {
   "cell_type": "code",
   "execution_count": 3,
   "id": "5686e751",
   "metadata": {},
   "outputs": [
    {
     "name": "stdout",
     "output_type": "stream",
     "text": [
      "[[0. 0. 0. ... 0. 0. 0.]\n",
      " [0. 0. 0. ... 0. 0. 0.]\n",
      " [0. 0. 0. ... 0. 0. 0.]\n",
      " ...\n",
      " [0. 0. 0. ... 0. 0. 0.]\n",
      " [0. 0. 0. ... 0. 0. 0.]\n",
      " [0. 0. 0. ... 0. 0. 0.]]\n"
     ]
    }
   ],
   "source": [
    "# Your validation set extraction script/code\n",
    "\n",
    "# Reshaping the images data\n",
    "train_reshape = np.array(train_images.reshape(60000, 28*28), dtype = np.float64)\n",
    "np.random.seed(20)\n",
    "# Randomly selecting the indices\n",
    "train_random = np.random.choice(range(60000), 60000, replace = False)\n",
    "# Making the dataframe\n",
    "train_df = train_reshape[train_random]\n",
    "# Selecting Validating Set\n",
    "valid_img = train_df[:12000]\n",
    "# Selecting Trainning Set\n",
    "train_img = train_df[12000:]\n",
    "# Similarly, doing for labels\n",
    "random_lab = train_labels[train_random]\n",
    "valid_lab = random_lab[:12000]\n",
    "train_lab = random_lab[12000:]\n",
    "# Reshaping the test images\n",
    "test_img = np.array(test_images.reshape(10000, 28*28), dtype = np.float64)\n",
    "print(test_img)\n"
   ]
  },
  {
   "cell_type": "code",
   "execution_count": 6,
   "id": "e44dd56e",
   "metadata": {},
   "outputs": [
    {
     "name": "stdout",
     "output_type": "stream",
     "text": [
      "(48000, 784)\n",
      "(12000, 784)\n",
      "(48000,)\n",
      "(12000,)\n"
     ]
    }
   ],
   "source": [
    "print(train_img.shape)\n",
    "print(valid_img.shape)\n",
    "print(train_lab.shape)\n",
    "print(valid_lab.shape)"
   ]
  },
  {
   "cell_type": "markdown",
   "id": "d7570a8f",
   "metadata": {},
   "source": [
    "# Implement k-NN classification rule/algorithm, we have discussed in our class. <font color='red'>Please do not use some standard function from scikit-learn or others!</font>"
   ]
  },
  {
   "cell_type": "markdown",
   "id": "c9f8925e",
   "metadata": {},
   "source": [
    "# K-NN Code and Distance Functions"
   ]
  },
  {
   "cell_type": "code",
   "execution_count": 7,
   "id": "939686e0",
   "metadata": {},
   "outputs": [],
   "source": [
    "# Your k-NN algorithm script/code \n",
    "\n",
    "# Defining Distance Function\n",
    "def euclid_dist(x):\n",
    "    return np.linalg.norm(train_img - x, axis = 1)\n",
    "\n",
    "def manhat_dist(x):\n",
    "    return np.sum(np.abs(train_img - x), axis = 1)\n",
    "\n",
    "def chebyshev_dist(x):\n",
    "    return np.max(np.abs(train_img - x), axis = 1)\n",
    "\n",
    "# Defining Accuracy Function \n",
    "def acc_percentage(x,y):\n",
    "    z = (np.array(x) == np.array(y))\n",
    "    return (np.sum(z)*100)/len(x)\n",
    "\n",
    "#////////////////////////////////////////////////////////////////////////////////////////////////////////\n",
    "\n",
    "# Defining Prediction Function for k = 1, 3, 5,..., 25\n",
    "\n",
    "def prediction(data, function):\n",
    "    a = {} # Dictionary\n",
    "    for i in range(1,26,2):\n",
    "        a[i] = []\n",
    "    for j in data:\n",
    "        temp = function(j)\n",
    "        temp_dataframe = pd.DataFrame(temp)\n",
    "        temp_dataframe[\"label\"] = train_lab\n",
    "        temp_sort = temp_dataframe.sort_values(by = [0])\n",
    "        for k in range(1,26,2):\n",
    "            temp_k = temp_sort.iloc[0:k]\n",
    "            b = temp_k.value_counts(\"label\").index[0]\n",
    "            a[k].append(b)\n",
    "    print(\"The values of k are in column indexes and the values along column are predictions\")\n",
    "    return pd.DataFrame(a)\n",
    "    \n",
    "\n",
    "# Defining Prediction Function for a particular value of k\n",
    "    \n",
    "def prediction_k(data, k, function):\n",
    "    a = {} # Dictionary\n",
    "    for i in range(1,k+1,2):\n",
    "        a[i] = []\n",
    "    for j in data:\n",
    "        temp = function(j)\n",
    "        temp_dataframe = pd.DataFrame(temp)\n",
    "        temp_dataframe[\"label\"] = train_lab\n",
    "        temp_sort = temp_dataframe.sort_values(by = [0])\n",
    "        temp_k = temp_sort.iloc[0:k]\n",
    "        b = temp_k.value_counts(\"label\").index[0]\n",
    "        a[k].append(b)\n",
    "    print(\"The values of {} are in column indexes and the values along column are predictions\". format(k))\n",
    "    return pd.DataFrame(a[k])"
   ]
  },
  {
   "cell_type": "markdown",
   "id": "fb3955ad",
   "metadata": {},
   "source": [
    "# Euclidean "
   ]
  },
  {
   "cell_type": "code",
   "execution_count": 8,
   "id": "57f35f26",
   "metadata": {},
   "outputs": [
    {
     "name": "stdout",
     "output_type": "stream",
     "text": [
      "The values of k are in column indexes and the values along column are predictions\n",
      "       1   3   5   7   9   11  13  15  17  19  21  23  25\n",
      "0       9   9   9   9   9   9   9   9   9   9   9   9   9\n",
      "1       5   5   5   5   5   5   5   5   5   5   5   5   5\n",
      "2       7   7   7   7   7   7   7   7   7   7   7   7   7\n",
      "3       7   7   7   7   7   7   7   7   7   7   7   7   7\n",
      "4       1   1   1   1   1   1   1   1   1   1   1   1   1\n",
      "...    ..  ..  ..  ..  ..  ..  ..  ..  ..  ..  ..  ..  ..\n",
      "11995   2   2   2   2   2   2   2   2   2   2   2   2   2\n",
      "11996   9   9   9   9   9   9   9   9   9   9   9   9   9\n",
      "11997   8   8   8   8   8   8   8   8   8   8   8   8   8\n",
      "11998   1   1   1   1   1   1   1   1   1   1   1   1   1\n",
      "11999   4   4   4   4   4   4   4   4   4   9   9   9   9\n",
      "\n",
      "[12000 rows x 13 columns]\n",
      "CPU times: user 30min 52s, sys: 13min 46s, total: 44min 38s\n",
      "Wall time: 44min 54s\n"
     ]
    },
    {
     "data": {
      "text/plain": [
       "<matplotlib.collections.PathCollection at 0x7f382cddae30>"
      ]
     },
     "execution_count": 8,
     "metadata": {},
     "output_type": "execute_result"
    },
    {
     "data": {
      "image/png": "[encoded data removed]",
      "text/plain": [
       "<Figure size 432x288 with 1 Axes>"
      ]
     },
     "metadata": {
      "needs_background": "light"
     },
     "output_type": "display_data"
    }
   ],
   "source": [
    "%%time\n",
    "Euclid = prediction(valid_img, euclid_dist)\n",
    "print(Euclid)\n",
    "acc_Euclid = Euclid.apply(acc_percentage, y = valid_lab).sort_values(ascending = False)\n",
    "acc_Euclid\n",
    "\n",
    "# Finding the Highest k\n",
    "Euclid_k_highest = acc_Euclid.index[0]\n",
    "Euclid_k_highest\n",
    "# Finding the Highest Accuracy\n",
    "Euclid_Value = acc_Euclid.values[0];\n",
    "Euclid_Value\n",
    "plt.scatter(acc_Euclid.index, acc_Euclid.values)"
   ]
  },
  {
   "cell_type": "code",
   "execution_count": 72,
   "id": "21f93518",
   "metadata": {},
   "outputs": [
    {
     "data": {
      "text/plain": [
       "1     97.158333\n",
       "3     97.125000\n",
       "5     97.041667\n",
       "7     96.875000\n",
       "9     96.691667\n",
       "11    96.525000\n",
       "13    96.458333\n",
       "15    96.250000\n",
       "17    96.191667\n",
       "19    96.083333\n",
       "21    95.925000\n",
       "23    95.841667\n",
       "25    95.783333\n",
       "dtype: float64"
      ]
     },
     "execution_count": 72,
     "metadata": {},
     "output_type": "execute_result"
    }
   ],
   "source": [
    "acc_Euclid"
   ]
  },
  {
   "cell_type": "markdown",
   "id": "05149b10",
   "metadata": {},
   "source": [
    "# Manhaten"
   ]
  },
  {
   "cell_type": "code",
   "execution_count": 73,
   "id": "8e80f116",
   "metadata": {},
   "outputs": [
    {
     "name": "stdout",
     "output_type": "stream",
     "text": [
      "The values of k are in column indexes and the values along column are predictions\n",
      "       1   3   5   7   9   11  13  15  17  19  21  23  25\n",
      "0       9   9   9   9   9   9   9   9   9   9   9   9   9\n",
      "1       5   5   5   5   5   5   5   5   5   5   5   5   5\n",
      "2       7   7   7   7   7   7   7   7   7   7   7   7   7\n",
      "3       7   7   7   7   7   7   7   7   7   7   7   7   7\n",
      "4       1   1   1   1   1   1   1   1   1   1   1   1   1\n",
      "...    ..  ..  ..  ..  ..  ..  ..  ..  ..  ..  ..  ..  ..\n",
      "11995   2   2   2   2   2   2   2   2   2   2   2   2   2\n",
      "11996   9   9   9   9   9   9   9   9   9   9   9   9   9\n",
      "11997   8   8   8   8   8   8   8   8   8   8   8   8   8\n",
      "11998   1   1   1   1   1   1   1   1   1   1   1   1   1\n",
      "11999   4   4   4   4   4   4   4   4   4   4   4   4   9\n",
      "\n",
      "[12000 rows x 13 columns]\n",
      "CPU times: user 17min 43s, sys: 14min 34s, total: 32min 17s\n",
      "Wall time: 32min 18s\n"
     ]
    },
    {
     "data": {
      "text/plain": [
       "<matplotlib.collections.PathCollection at 0x7f47d528ba60>"
      ]
     },
     "execution_count": 73,
     "metadata": {},
     "output_type": "execute_result"
    },
    {
     "data": {
      "image/png": "[encoded data removed]",
      "text/plain": [
       "<Figure size 432x288 with 1 Axes>"
      ]
     },
     "metadata": {
      "needs_background": "light"
     },
     "output_type": "display_data"
    }
   ],
   "source": [
    "%%time\n",
    "Manhaten = prediction(valid_img, manhat_dist)\n",
    "print(Manhaten)\n",
    "acc_Manhaten = Manhaten.apply(acc_percentage, y = valid_lab).sort_values(ascending = False)\n",
    "acc_Manhaten\n",
    "\n",
    "# Finding the Highest k\n",
    "Manhaten_k_highest = acc_Manhaten.index[0]\n",
    "Manhaten_k_highest\n",
    "# Finding the Highest Accuracy\n",
    "Manhaten_Value = acc_Manhaten.values[0]\n",
    "Manhaten_Value\n",
    "plt.scatter(acc_Manhaten.index, acc_Manhaten.values)"
   ]
  },
  {
   "cell_type": "code",
   "execution_count": 74,
   "id": "df54705e",
   "metadata": {},
   "outputs": [
    {
     "data": {
      "text/plain": [
       "3     96.608333\n",
       "1     96.500000\n",
       "5     96.425000\n",
       "7     96.300000\n",
       "9     96.066667\n",
       "11    95.908333\n",
       "13    95.641667\n",
       "15    95.608333\n",
       "17    95.366667\n",
       "19    95.191667\n",
       "21    95.025000\n",
       "23    95.000000\n",
       "25    94.875000\n",
       "dtype: float64"
      ]
     },
     "execution_count": 74,
     "metadata": {},
     "output_type": "execute_result"
    }
   ],
   "source": [
    "acc_Manhaten"
   ]
  },
  {
   "cell_type": "markdown",
   "id": "82414545",
   "metadata": {},
   "source": [
    "# Chebyshev"
   ]
  },
  {
   "cell_type": "code",
   "execution_count": 75,
   "id": "f2105423",
   "metadata": {},
   "outputs": [
    {
     "name": "stdout",
     "output_type": "stream",
     "text": [
      "The values of k are in column indexes and the values along column are predictions\n",
      "       1   3   5   7   9   11  13  15  17  19  21  23  25\n",
      "0       9   9   9   9   9   9   9   9   9   9   9   9   9\n",
      "1       0   0   3   0   7   7   7   7   7   3   7   7   7\n",
      "2       6   4   4   4   4   4   4   4   4   4   4   4   4\n",
      "3       7   7   7   7   7   7   7   7   7   7   7   7   7\n",
      "4       1   1   1   1   1   1   1   1   1   1   1   1   1\n",
      "...    ..  ..  ..  ..  ..  ..  ..  ..  ..  ..  ..  ..  ..\n",
      "11995   6   6   6   6   6   6   2   2   2   6   6   6   6\n",
      "11996   9   9   9   9   9   9   9   9   9   9   9   9   9\n",
      "11997   3   3   3   3   3   3   3   3   3   3   3   3   3\n",
      "11998   1   1   1   1   1   1   1   1   1   1   1   1   1\n",
      "11999   9   8   8   8   8   8   8   8   8   8   8   8   8\n",
      "\n",
      "[12000 rows x 13 columns]\n",
      "CPU times: user 17min 31s, sys: 14min 32s, total: 32min 4s\n",
      "Wall time: 32min 5s\n"
     ]
    },
    {
     "data": {
      "text/plain": [
       "<matplotlib.collections.PathCollection at 0x7f47d4c64bb0>"
      ]
     },
     "execution_count": 75,
     "metadata": {},
     "output_type": "execute_result"
    },
    {
     "data": {
      "image/png": "[encoded data removed]",
      "text/plain": [
       "<Figure size 432x288 with 1 Axes>"
      ]
     },
     "metadata": {
      "needs_background": "light"
     },
     "output_type": "display_data"
    }
   ],
   "source": [
    "%%time\n",
    "Chebyshev = prediction(valid_img, chebyshev_dist)\n",
    "print(Chebyshev)\n",
    "acc_Chebyshev = Chebyshev.apply(acc_percentage, y = valid_lab).sort_values(ascending = False)\n",
    "acc_Chebyshev\n",
    "\n",
    "# Finding the Highest k\n",
    "Chebyshev_k_highest = acc_Chebyshev.index[0]\n",
    "Chebyshev_k_highest\n",
    "# Finding the Highest Accuracy\n",
    "Chebyshev_Value = acc_Chebyshev.values[0]\n",
    "Chebyshev_Value\n",
    "plt.scatter(acc_Chebyshev.index, acc_Chebyshev.values)"
   ]
  },
  {
   "cell_type": "code",
   "execution_count": 127,
   "id": "9551b0a6",
   "metadata": {},
   "outputs": [
    {
     "data": {
      "text/plain": [
       "1     81.666667\n",
       "5     80.300000\n",
       "7     80.125000\n",
       "3     80.075000\n",
       "9     79.841667\n",
       "11    79.541667\n",
       "13    79.400000\n",
       "15    79.000000\n",
       "17    78.858333\n",
       "19    78.300000\n",
       "21    78.208333\n",
       "23    77.825000\n",
       "25    77.516667\n",
       "dtype: float64"
      ]
     },
     "execution_count": 127,
     "metadata": {},
     "output_type": "execute_result"
    }
   ],
   "source": [
    "acc_Chebyshev"
   ]
  },
  {
   "cell_type": "markdown",
   "id": "94bfdb5c",
   "metadata": {},
   "source": [
    "# Plots using Matplotlib"
   ]
  },
  {
   "cell_type": "code",
   "execution_count": 181,
   "id": "282bdcf9",
   "metadata": {},
   "outputs": [
    {
     "data": {
      "text/plain": [
       "[<mpl_toolkits.mplot3d.art3d.Line3D at 0x7f47d4745a50>]"
      ]
     },
     "execution_count": 181,
     "metadata": {},
     "output_type": "execute_result"
    },
    {
     "data": {
      "image/png": "[encoded data removed]",
      "text/plain": [
       "<Figure size 432x288 with 1 Axes>"
      ]
     },
     "metadata": {
      "needs_background": "light"
     },
     "output_type": "display_data"
    }
   ],
   "source": [
    "# 3D Plot of X = p vs Y = k vs Z = Accuracy Percentage\n",
    "\n",
    "ax = plt.axes(projection='3d')\n",
    "\n",
    "x1 = [1]*13 # Manhaten i.e. p = 1\n",
    "x2 = [2]*13 # Euclidean i.e. p = 2\n",
    "x3 = [3]*13 # Chebyshev i.e. p = 3\n",
    "\n",
    "y1 = np.array(acc_Manhaten.index)\n",
    "y2 = np.array(acc_Euclid.index)\n",
    "y3 = np.array(acc_Chebyshev.index)\n",
    "\n",
    "z1 = acc_Manhaten.values\n",
    "z2 = acc_Euclid.values\n",
    "z3 = acc_Chebyshev.values\n",
    "\n",
    "ax.plot3D(x1, y1, z1, 'red')\n",
    "ax.plot3D(x2, y2, z2, 'green')\n",
    "ax.plot3D(x3, y3, z3, 'blue')"
   ]
  },
  {
   "cell_type": "markdown",
   "id": "00367984",
   "metadata": {},
   "source": [
    "# Using K-NN for Test Dataset"
   ]
  },
  {
   "cell_type": "code",
   "execution_count": 165,
   "id": "43a549c8",
   "metadata": {
    "scrolled": true
   },
   "outputs": [
    {
     "name": "stdout",
     "output_type": "stream",
     "text": [
      "The values of 1 are in column indexes and the values along column are predictions\n",
      "      0\n",
      "0     7\n",
      "1     2\n",
      "2     1\n",
      "3     0\n",
      "4     4\n",
      "...  ..\n",
      "9995  2\n",
      "9996  3\n",
      "9997  4\n",
      "9998  5\n",
      "9999  6\n",
      "\n",
      "[10000 rows x 1 columns]\n",
      "CPU times: user 14min 19s, sys: 12min 11s, total: 26min 30s\n",
      "Wall time: 26min 31s\n"
     ]
    }
   ],
   "source": [
    "%%time\n",
    "# Since the maximum accuracy percentage is 97.158333 using Euclidean Metric in these above mention 3 methods,\n",
    "# we are now plotting the test data about Eucledian for k = 1\n",
    "\n",
    "Euclid_test = prediction_k(test_img, 1, euclid_dist)\n",
    "print(Euclid_test)"
   ]
  },
  {
   "cell_type": "code",
   "execution_count": 171,
   "id": "b2963b6d",
   "metadata": {},
   "outputs": [
    {
     "name": "stdout",
     "output_type": "stream",
     "text": [
      "The values of 3 are in column indexes and the values along column are predictions\n",
      "      0\n",
      "0     7\n",
      "1     2\n",
      "2     1\n",
      "3     0\n",
      "4     4\n",
      "...  ..\n",
      "9995  2\n",
      "9996  3\n",
      "9997  4\n",
      "9998  5\n",
      "9999  6\n",
      "\n",
      "[10000 rows x 1 columns]\n",
      "CPU times: user 14min 53s, sys: 12min 44s, total: 27min 38s\n",
      "Wall time: 27min 38s\n"
     ]
    }
   ],
   "source": [
    "%%time\n",
    "# We are now plotting the test data about Manhaten for k = 3 (Accuracy = 96.608333)\n",
    "\n",
    "Manhaten_test = prediction_k(test_img, 3, manhat_dist)\n",
    "print(Manhaten_test)"
   ]
  },
  {
   "cell_type": "code",
   "execution_count": 172,
   "id": "23631513",
   "metadata": {},
   "outputs": [
    {
     "name": "stdout",
     "output_type": "stream",
     "text": [
      "The values of 1 are in column indexes and the values along column are predictions\n",
      "      0\n",
      "0     7\n",
      "1     2\n",
      "2     1\n",
      "3     0\n",
      "4     4\n",
      "...  ..\n",
      "9995  2\n",
      "9996  3\n",
      "9997  4\n",
      "9998  3\n",
      "9999  6\n",
      "\n",
      "[10000 rows x 1 columns]\n",
      "CPU times: user 14min 3s, sys: 12min 7s, total: 26min 10s\n",
      "Wall time: 26min 11s\n"
     ]
    }
   ],
   "source": [
    "%%time\n",
    "# We are now plotting the test data about Eucledian for k = 1 (Accuracy = 81.666667)\n",
    "\n",
    "Chebyshev_test = prediction_k(test_img, 1, chebyshev_dist)\n",
    "print(Chebyshev_test)"
   ]
  },
  {
   "cell_type": "markdown",
   "id": "0c92b446",
   "metadata": {},
   "source": [
    "# Confussion Matrix"
   ]
  },
  {
   "cell_type": "code",
   "execution_count": 168,
   "id": "effc196e",
   "metadata": {},
   "outputs": [],
   "source": [
    "# Defining the Confusion Matrix\n",
    "def CM_Matrix(x):\n",
    "    CM = np.array(np.zeros((100),dtype = np.int32).reshape(10,10))\n",
    "    for i,j in zip(test_labels, x):\n",
    "        CM[i,j] += 1\n",
    "    return pd.DataFrame(CM)"
   ]
  },
  {
   "cell_type": "code",
   "execution_count": 180,
   "id": "568457ad",
   "metadata": {},
   "outputs": [
    {
     "name": "stdout",
     "output_type": "stream",
     "text": [
      "The Column-wise labels are Actual and Row-wise labels are Predicted\n"
     ]
    },
    {
     "data": {
      "text/html": [
       "<div>\n",
       "<style scoped>\n",
       "    .dataframe tbody tr th:only-of-type {\n",
       "        vertical-align: middle;\n",
       "    }\n",
       "\n",
       "    .dataframe tbody tr th {\n",
       "        vertical-align: top;\n",
       "    }\n",
       "\n",
       "    .dataframe thead th {\n",
       "        text-align: right;\n",
       "    }\n",
       "</style>\n",
       "<table border=\"1\" class=\"dataframe\">\n",
       "  <thead>\n",
       "    <tr style=\"text-align: right;\">\n",
       "      <th></th>\n",
       "      <th>0</th>\n",
       "      <th>1</th>\n",
       "      <th>2</th>\n",
       "      <th>3</th>\n",
       "      <th>4</th>\n",
       "      <th>5</th>\n",
       "      <th>6</th>\n",
       "      <th>7</th>\n",
       "      <th>8</th>\n",
       "      <th>9</th>\n",
       "    </tr>\n",
       "  </thead>\n",
       "  <tbody>\n",
       "    <tr>\n",
       "      <th>0</th>\n",
       "      <td>972</td>\n",
       "      <td>1</td>\n",
       "      <td>1</td>\n",
       "      <td>0</td>\n",
       "      <td>0</td>\n",
       "      <td>2</td>\n",
       "      <td>3</td>\n",
       "      <td>1</td>\n",
       "      <td>0</td>\n",
       "      <td>0</td>\n",
       "    </tr>\n",
       "    <tr>\n",
       "      <th>1</th>\n",
       "      <td>0</td>\n",
       "      <td>1129</td>\n",
       "      <td>3</td>\n",
       "      <td>0</td>\n",
       "      <td>1</td>\n",
       "      <td>1</td>\n",
       "      <td>1</td>\n",
       "      <td>0</td>\n",
       "      <td>0</td>\n",
       "      <td>0</td>\n",
       "    </tr>\n",
       "    <tr>\n",
       "      <th>2</th>\n",
       "      <td>6</td>\n",
       "      <td>6</td>\n",
       "      <td>991</td>\n",
       "      <td>5</td>\n",
       "      <td>0</td>\n",
       "      <td>0</td>\n",
       "      <td>3</td>\n",
       "      <td>18</td>\n",
       "      <td>3</td>\n",
       "      <td>0</td>\n",
       "    </tr>\n",
       "    <tr>\n",
       "      <th>3</th>\n",
       "      <td>0</td>\n",
       "      <td>1</td>\n",
       "      <td>4</td>\n",
       "      <td>970</td>\n",
       "      <td>1</td>\n",
       "      <td>18</td>\n",
       "      <td>0</td>\n",
       "      <td>7</td>\n",
       "      <td>6</td>\n",
       "      <td>3</td>\n",
       "    </tr>\n",
       "    <tr>\n",
       "      <th>4</th>\n",
       "      <td>1</td>\n",
       "      <td>6</td>\n",
       "      <td>0</td>\n",
       "      <td>0</td>\n",
       "      <td>940</td>\n",
       "      <td>0</td>\n",
       "      <td>4</td>\n",
       "      <td>4</td>\n",
       "      <td>1</td>\n",
       "      <td>26</td>\n",
       "    </tr>\n",
       "    <tr>\n",
       "      <th>5</th>\n",
       "      <td>2</td>\n",
       "      <td>2</td>\n",
       "      <td>0</td>\n",
       "      <td>14</td>\n",
       "      <td>1</td>\n",
       "      <td>860</td>\n",
       "      <td>3</td>\n",
       "      <td>1</td>\n",
       "      <td>4</td>\n",
       "      <td>5</td>\n",
       "    </tr>\n",
       "    <tr>\n",
       "      <th>6</th>\n",
       "      <td>6</td>\n",
       "      <td>2</td>\n",
       "      <td>0</td>\n",
       "      <td>0</td>\n",
       "      <td>4</td>\n",
       "      <td>4</td>\n",
       "      <td>942</td>\n",
       "      <td>0</td>\n",
       "      <td>0</td>\n",
       "      <td>0</td>\n",
       "    </tr>\n",
       "    <tr>\n",
       "      <th>7</th>\n",
       "      <td>0</td>\n",
       "      <td>15</td>\n",
       "      <td>7</td>\n",
       "      <td>2</td>\n",
       "      <td>4</td>\n",
       "      <td>0</td>\n",
       "      <td>0</td>\n",
       "      <td>990</td>\n",
       "      <td>0</td>\n",
       "      <td>10</td>\n",
       "    </tr>\n",
       "    <tr>\n",
       "      <th>8</th>\n",
       "      <td>6</td>\n",
       "      <td>1</td>\n",
       "      <td>4</td>\n",
       "      <td>16</td>\n",
       "      <td>6</td>\n",
       "      <td>19</td>\n",
       "      <td>3</td>\n",
       "      <td>3</td>\n",
       "      <td>908</td>\n",
       "      <td>8</td>\n",
       "    </tr>\n",
       "    <tr>\n",
       "      <th>9</th>\n",
       "      <td>2</td>\n",
       "      <td>5</td>\n",
       "      <td>1</td>\n",
       "      <td>7</td>\n",
       "      <td>11</td>\n",
       "      <td>5</td>\n",
       "      <td>1</td>\n",
       "      <td>12</td>\n",
       "      <td>2</td>\n",
       "      <td>963</td>\n",
       "    </tr>\n",
       "  </tbody>\n",
       "</table>\n",
       "</div>"
      ],
      "text/plain": [
       "     0     1    2    3    4    5    6    7    8    9\n",
       "0  972     1    1    0    0    2    3    1    0    0\n",
       "1    0  1129    3    0    1    1    1    0    0    0\n",
       "2    6     6  991    5    0    0    3   18    3    0\n",
       "3    0     1    4  970    1   18    0    7    6    3\n",
       "4    1     6    0    0  940    0    4    4    1   26\n",
       "5    2     2    0   14    1  860    3    1    4    5\n",
       "6    6     2    0    0    4    4  942    0    0    0\n",
       "7    0    15    7    2    4    0    0  990    0   10\n",
       "8    6     1    4   16    6   19    3    3  908    8\n",
       "9    2     5    1    7   11    5    1   12    2  963"
      ]
     },
     "execution_count": 180,
     "metadata": {},
     "output_type": "execute_result"
    }
   ],
   "source": [
    "# Confussion Matrix of test images using Eulidean Metric with K = 1 \n",
    "\n",
    "print(\"The Column-wise labels are Actual and Row-wise labels are Predicted\")\n",
    "CM_Matrix(Euclid_test.values)"
   ]
  },
  {
   "cell_type": "code",
   "execution_count": 177,
   "id": "7d244884",
   "metadata": {},
   "outputs": [
    {
     "name": "stdout",
     "output_type": "stream",
     "text": [
      "The Column-wise labels are Actual and Row-wise labels are Predicted\n"
     ]
    },
    {
     "data": {
      "text/html": [
       "<div>\n",
       "<style scoped>\n",
       "    .dataframe tbody tr th:only-of-type {\n",
       "        vertical-align: middle;\n",
       "    }\n",
       "\n",
       "    .dataframe tbody tr th {\n",
       "        vertical-align: top;\n",
       "    }\n",
       "\n",
       "    .dataframe thead th {\n",
       "        text-align: right;\n",
       "    }\n",
       "</style>\n",
       "<table border=\"1\" class=\"dataframe\">\n",
       "  <thead>\n",
       "    <tr style=\"text-align: right;\">\n",
       "      <th></th>\n",
       "      <th>0</th>\n",
       "      <th>1</th>\n",
       "      <th>2</th>\n",
       "      <th>3</th>\n",
       "      <th>4</th>\n",
       "      <th>5</th>\n",
       "      <th>6</th>\n",
       "      <th>7</th>\n",
       "      <th>8</th>\n",
       "      <th>9</th>\n",
       "    </tr>\n",
       "  </thead>\n",
       "  <tbody>\n",
       "    <tr>\n",
       "      <th>0</th>\n",
       "      <td>972</td>\n",
       "      <td>1</td>\n",
       "      <td>1</td>\n",
       "      <td>0</td>\n",
       "      <td>0</td>\n",
       "      <td>1</td>\n",
       "      <td>4</td>\n",
       "      <td>1</td>\n",
       "      <td>0</td>\n",
       "      <td>0</td>\n",
       "    </tr>\n",
       "    <tr>\n",
       "      <th>1</th>\n",
       "      <td>0</td>\n",
       "      <td>1134</td>\n",
       "      <td>1</td>\n",
       "      <td>0</td>\n",
       "      <td>0</td>\n",
       "      <td>0</td>\n",
       "      <td>0</td>\n",
       "      <td>0</td>\n",
       "      <td>0</td>\n",
       "      <td>0</td>\n",
       "    </tr>\n",
       "    <tr>\n",
       "      <th>2</th>\n",
       "      <td>13</td>\n",
       "      <td>16</td>\n",
       "      <td>973</td>\n",
       "      <td>5</td>\n",
       "      <td>1</td>\n",
       "      <td>0</td>\n",
       "      <td>1</td>\n",
       "      <td>20</td>\n",
       "      <td>3</td>\n",
       "      <td>0</td>\n",
       "    </tr>\n",
       "    <tr>\n",
       "      <th>3</th>\n",
       "      <td>0</td>\n",
       "      <td>3</td>\n",
       "      <td>4</td>\n",
       "      <td>971</td>\n",
       "      <td>1</td>\n",
       "      <td>16</td>\n",
       "      <td>0</td>\n",
       "      <td>9</td>\n",
       "      <td>4</td>\n",
       "      <td>2</td>\n",
       "    </tr>\n",
       "    <tr>\n",
       "      <th>4</th>\n",
       "      <td>2</td>\n",
       "      <td>13</td>\n",
       "      <td>0</td>\n",
       "      <td>0</td>\n",
       "      <td>933</td>\n",
       "      <td>0</td>\n",
       "      <td>6</td>\n",
       "      <td>2</td>\n",
       "      <td>0</td>\n",
       "      <td>26</td>\n",
       "    </tr>\n",
       "    <tr>\n",
       "      <th>5</th>\n",
       "      <td>5</td>\n",
       "      <td>2</td>\n",
       "      <td>0</td>\n",
       "      <td>13</td>\n",
       "      <td>2</td>\n",
       "      <td>858</td>\n",
       "      <td>6</td>\n",
       "      <td>1</td>\n",
       "      <td>1</td>\n",
       "      <td>4</td>\n",
       "    </tr>\n",
       "    <tr>\n",
       "      <th>6</th>\n",
       "      <td>7</td>\n",
       "      <td>3</td>\n",
       "      <td>0</td>\n",
       "      <td>0</td>\n",
       "      <td>3</td>\n",
       "      <td>3</td>\n",
       "      <td>942</td>\n",
       "      <td>0</td>\n",
       "      <td>0</td>\n",
       "      <td>0</td>\n",
       "    </tr>\n",
       "    <tr>\n",
       "      <th>7</th>\n",
       "      <td>0</td>\n",
       "      <td>26</td>\n",
       "      <td>5</td>\n",
       "      <td>0</td>\n",
       "      <td>3</td>\n",
       "      <td>0</td>\n",
       "      <td>0</td>\n",
       "      <td>985</td>\n",
       "      <td>0</td>\n",
       "      <td>9</td>\n",
       "    </tr>\n",
       "    <tr>\n",
       "      <th>8</th>\n",
       "      <td>10</td>\n",
       "      <td>6</td>\n",
       "      <td>5</td>\n",
       "      <td>19</td>\n",
       "      <td>9</td>\n",
       "      <td>24</td>\n",
       "      <td>3</td>\n",
       "      <td>5</td>\n",
       "      <td>886</td>\n",
       "      <td>7</td>\n",
       "    </tr>\n",
       "    <tr>\n",
       "      <th>9</th>\n",
       "      <td>5</td>\n",
       "      <td>8</td>\n",
       "      <td>3</td>\n",
       "      <td>10</td>\n",
       "      <td>13</td>\n",
       "      <td>3</td>\n",
       "      <td>1</td>\n",
       "      <td>13</td>\n",
       "      <td>0</td>\n",
       "      <td>953</td>\n",
       "    </tr>\n",
       "  </tbody>\n",
       "</table>\n",
       "</div>"
      ],
      "text/plain": [
       "     0     1    2    3    4    5    6    7    8    9\n",
       "0  972     1    1    0    0    1    4    1    0    0\n",
       "1    0  1134    1    0    0    0    0    0    0    0\n",
       "2   13    16  973    5    1    0    1   20    3    0\n",
       "3    0     3    4  971    1   16    0    9    4    2\n",
       "4    2    13    0    0  933    0    6    2    0   26\n",
       "5    5     2    0   13    2  858    6    1    1    4\n",
       "6    7     3    0    0    3    3  942    0    0    0\n",
       "7    0    26    5    0    3    0    0  985    0    9\n",
       "8   10     6    5   19    9   24    3    5  886    7\n",
       "9    5     8    3   10   13    3    1   13    0  953"
      ]
     },
     "execution_count": 177,
     "metadata": {},
     "output_type": "execute_result"
    }
   ],
   "source": [
    "# Confussion Matrix of test images using Manhaten Metric with K = 3 \n",
    "\n",
    "print(\"The Column-wise labels are Actual and Row-wise labels are Predicted\")\n",
    "CM_Matrix(Manhaten_test.values)"
   ]
  },
  {
   "cell_type": "code",
   "execution_count": 178,
   "id": "e411dffb",
   "metadata": {},
   "outputs": [
    {
     "name": "stdout",
     "output_type": "stream",
     "text": [
      "The Column-wise labels are Actual and Row-wise labels are Predicted\n"
     ]
    },
    {
     "data": {
      "text/html": [
       "<div>\n",
       "<style scoped>\n",
       "    .dataframe tbody tr th:only-of-type {\n",
       "        vertical-align: middle;\n",
       "    }\n",
       "\n",
       "    .dataframe tbody tr th {\n",
       "        vertical-align: top;\n",
       "    }\n",
       "\n",
       "    .dataframe thead th {\n",
       "        text-align: right;\n",
       "    }\n",
       "</style>\n",
       "<table border=\"1\" class=\"dataframe\">\n",
       "  <thead>\n",
       "    <tr style=\"text-align: right;\">\n",
       "      <th></th>\n",
       "      <th>0</th>\n",
       "      <th>1</th>\n",
       "      <th>2</th>\n",
       "      <th>3</th>\n",
       "      <th>4</th>\n",
       "      <th>5</th>\n",
       "      <th>6</th>\n",
       "      <th>7</th>\n",
       "      <th>8</th>\n",
       "      <th>9</th>\n",
       "    </tr>\n",
       "  </thead>\n",
       "  <tbody>\n",
       "    <tr>\n",
       "      <th>0</th>\n",
       "      <td>906</td>\n",
       "      <td>3</td>\n",
       "      <td>11</td>\n",
       "      <td>13</td>\n",
       "      <td>3</td>\n",
       "      <td>4</td>\n",
       "      <td>6</td>\n",
       "      <td>6</td>\n",
       "      <td>11</td>\n",
       "      <td>17</td>\n",
       "    </tr>\n",
       "    <tr>\n",
       "      <th>1</th>\n",
       "      <td>1</td>\n",
       "      <td>1122</td>\n",
       "      <td>2</td>\n",
       "      <td>0</td>\n",
       "      <td>0</td>\n",
       "      <td>1</td>\n",
       "      <td>0</td>\n",
       "      <td>0</td>\n",
       "      <td>9</td>\n",
       "      <td>0</td>\n",
       "    </tr>\n",
       "    <tr>\n",
       "      <th>2</th>\n",
       "      <td>43</td>\n",
       "      <td>15</td>\n",
       "      <td>748</td>\n",
       "      <td>72</td>\n",
       "      <td>10</td>\n",
       "      <td>12</td>\n",
       "      <td>31</td>\n",
       "      <td>15</td>\n",
       "      <td>52</td>\n",
       "      <td>34</td>\n",
       "    </tr>\n",
       "    <tr>\n",
       "      <th>3</th>\n",
       "      <td>30</td>\n",
       "      <td>14</td>\n",
       "      <td>53</td>\n",
       "      <td>713</td>\n",
       "      <td>7</td>\n",
       "      <td>26</td>\n",
       "      <td>15</td>\n",
       "      <td>15</td>\n",
       "      <td>109</td>\n",
       "      <td>28</td>\n",
       "    </tr>\n",
       "    <tr>\n",
       "      <th>4</th>\n",
       "      <td>27</td>\n",
       "      <td>4</td>\n",
       "      <td>25</td>\n",
       "      <td>16</td>\n",
       "      <td>758</td>\n",
       "      <td>7</td>\n",
       "      <td>13</td>\n",
       "      <td>22</td>\n",
       "      <td>51</td>\n",
       "      <td>59</td>\n",
       "    </tr>\n",
       "    <tr>\n",
       "      <th>5</th>\n",
       "      <td>51</td>\n",
       "      <td>15</td>\n",
       "      <td>16</td>\n",
       "      <td>58</td>\n",
       "      <td>10</td>\n",
       "      <td>546</td>\n",
       "      <td>26</td>\n",
       "      <td>14</td>\n",
       "      <td>113</td>\n",
       "      <td>43</td>\n",
       "    </tr>\n",
       "    <tr>\n",
       "      <th>6</th>\n",
       "      <td>39</td>\n",
       "      <td>6</td>\n",
       "      <td>9</td>\n",
       "      <td>14</td>\n",
       "      <td>7</td>\n",
       "      <td>7</td>\n",
       "      <td>842</td>\n",
       "      <td>2</td>\n",
       "      <td>13</td>\n",
       "      <td>19</td>\n",
       "    </tr>\n",
       "    <tr>\n",
       "      <th>7</th>\n",
       "      <td>8</td>\n",
       "      <td>9</td>\n",
       "      <td>14</td>\n",
       "      <td>21</td>\n",
       "      <td>11</td>\n",
       "      <td>5</td>\n",
       "      <td>3</td>\n",
       "      <td>870</td>\n",
       "      <td>45</td>\n",
       "      <td>42</td>\n",
       "    </tr>\n",
       "    <tr>\n",
       "      <th>8</th>\n",
       "      <td>29</td>\n",
       "      <td>13</td>\n",
       "      <td>21</td>\n",
       "      <td>58</td>\n",
       "      <td>11</td>\n",
       "      <td>25</td>\n",
       "      <td>23</td>\n",
       "      <td>15</td>\n",
       "      <td>757</td>\n",
       "      <td>22</td>\n",
       "    </tr>\n",
       "    <tr>\n",
       "      <th>9</th>\n",
       "      <td>5</td>\n",
       "      <td>7</td>\n",
       "      <td>6</td>\n",
       "      <td>20</td>\n",
       "      <td>13</td>\n",
       "      <td>5</td>\n",
       "      <td>3</td>\n",
       "      <td>24</td>\n",
       "      <td>46</td>\n",
       "      <td>880</td>\n",
       "    </tr>\n",
       "  </tbody>\n",
       "</table>\n",
       "</div>"
      ],
      "text/plain": [
       "     0     1    2    3    4    5    6    7    8    9\n",
       "0  906     3   11   13    3    4    6    6   11   17\n",
       "1    1  1122    2    0    0    1    0    0    9    0\n",
       "2   43    15  748   72   10   12   31   15   52   34\n",
       "3   30    14   53  713    7   26   15   15  109   28\n",
       "4   27     4   25   16  758    7   13   22   51   59\n",
       "5   51    15   16   58   10  546   26   14  113   43\n",
       "6   39     6    9   14    7    7  842    2   13   19\n",
       "7    8     9   14   21   11    5    3  870   45   42\n",
       "8   29    13   21   58   11   25   23   15  757   22\n",
       "9    5     7    6   20   13    5    3   24   46  880"
      ]
     },
     "execution_count": 178,
     "metadata": {},
     "output_type": "execute_result"
    }
   ],
   "source": [
    "# Confussion Matrix of test images using Chebyshev Metric with K = 1 \n",
    "\n",
    "print(\"The Column-wise labels are Actual and Row-wise labels are Predicted\")\n",
    "CM_Matrix(Chebyshev_test.values)"
   ]
  }
 ],
 "metadata": {
  "kernelspec": {
   "display_name": "Python 3 (ipykernel)",
   "language": "python",
   "name": "python3"
  },
  "language_info": {
   "codemirror_mode": {
    "name": "ipython",
    "version": 3
   },
   "file_extension": ".py",
   "mimetype": "text/x-python",
   "name": "python",
   "nbconvert_exporter": "python",
   "pygments_lexer": "ipython3",
   "version": "3.10.12"
  }
 },
 "nbformat": 4,
 "nbformat_minor": 5
}
