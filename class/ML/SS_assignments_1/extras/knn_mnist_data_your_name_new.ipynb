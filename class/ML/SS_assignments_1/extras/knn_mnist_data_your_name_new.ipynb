{
 "cells": [
  {
   "cell_type": "code",
   "execution_count": 124,
   "id": "9b5bf43e",
   "metadata": {},
   "outputs": [],
   "source": [
    "\"\"\"\n",
    "-----------------------------------------------------------------------------\n",
    "MNIST digit data reading helper\n",
    "-----------------------------------------------------------------------------\n",
    "AUTHOR: Soumitra Samanta (soumitra.samanta@gm.rkmvu.ac.in)\n",
    "-----------------------------------------------------------------------------\n",
    "\"\"\"\n",
    "\n",
    "import gzip\n",
    "import numpy as np\n",
    "import matplotlib.pyplot as plt\n",
    "import time"
   ]
  },
  {
   "cell_type": "markdown",
   "id": "55c9e6c7",
   "metadata": {},
   "source": [
    "# Read MNIST data:\n",
    "There are many [ways](https://stackoverflow.com/questions/40427435/extract-images-from-idx3-ubyte-file-or-gzip-via-python) you can read the MNIST data. Here is a [way](https://stackoverflow.com/a/62781370) to read all the information."
   ]
  },
  {
   "cell_type": "code",
   "execution_count": 3,
   "id": "47ce6c3c",
   "metadata": {},
   "outputs": [
    {
     "name": "stdout",
     "output_type": "stream",
     "text": [
      "Train data (X) size: (60000, 28, 28), and labels (Y) size: (60000,)\n",
      "Test data (X) size: (10000, 28, 28), and labels (Y) size: (10000,)\n"
     ]
    },
    {
     "data": {
      "image/png": "[encoded data removed]",
      "text/plain": [
       "<Figure size 432x288 with 1 Axes>"
      ]
     },
     "metadata": {
      "needs_background": "light"
     },
     "output_type": "display_data"
    },
    {
     "name": "stdout",
     "output_type": "stream",
     "text": [
      "Train image 48484-th sample \n",
      "[[  0   0   0   0   0   0   0   0   0   0   0   0   0   0   0   0   0   0\n",
      "    0   0   0   0   0   0   0   0   0   0]\n",
      " [  0   0   0   0   0   0   0   0   0   0   0   0   0   0   0   0   0   0\n",
      "    0   0   0   0   0   0   0   0   0   0]\n",
      " [  0   0   0   0   0   0   0   0   0   0   0   0   0   0   0   0   0   0\n",
      "    0   0   0   0   0   0   0   0   0   0]\n",
      " [  0   0   0   0   0   0   0   0   0   0   0   0   0   0   0   0   0   0\n",
      "    0   0   0   0   0   0   0   0   0   0]\n",
      " [  0   0   0   0   0   0   0   0   0   0   0   0   0   0   0   0   0   0\n",
      "    0   0   0   0   0   0   0   0   0   0]\n",
      " [  0   0   0   0   0   0   0   0   0   0   0   0   0   0   0   0   0   0\n",
      "    0   0   0   0   0   0   0   0   0   0]\n",
      " [  0   0   0   0   0   0   0   0   0   0   0   0 132 255 240 101  73   0\n",
      "    0   0   0   0   0   0   0   0   0   0]\n",
      " [  0   0   0   0   0   0   0   0   0   0  96 200 228 253 253 253 239 191\n",
      "   26   0   0   0   0   0   0   0   0   0]\n",
      " [  0   0   0   0   0   0   0   0  23 146 247 253 253 253 253 253 253 253\n",
      "  204 112   0   0   0   0   0   0   0   0]\n",
      " [  0   0   0   0   0   0   0   0  96 253 253 185  81   7   7   7  49 222\n",
      "  253 191   0   0   0   0   0   0   0   0]\n",
      " [  0   0   0   0   0   0   0  15 202 253 165  17   0   0   0   0   0  53\n",
      "  253 238  70   0   0   0   0   0   0   0]\n",
      " [  0   0   0   0   0   0   0  93 253 253  14   0   0   0   0   0   0  16\n",
      "  253 253  92   0   0   0   0   0   0   0]\n",
      " [  0   0   0   0   0   0   0 238 240  84   1   0   0   0   0   0   0 161\n",
      "  253 253  92   0   0   0   0   0   0   0]\n",
      " [  0   0   0   0   0   0   0 247 214   0   0   0   0   0   0   0  28 180\n",
      "  253 253 204   0   0   0   0   0   0   0]\n",
      " [  0   0   0   0   0   0   0 247 214   0   0   0   0   0   0   0 224 253\n",
      "  253 253 245   0   0   0   0   0   0   0]\n",
      " [  0   0   0   0   0   0   0 200 250 231  60   0   0   0  55 152 250 253\n",
      "  253  94 170   0   0   0   0   0   0   0]\n",
      " [  0   0   0   0   0   0   0  85 247 253 228 177 177 177 230 253 239 253\n",
      "  253  38   0   0   0   0   0   0   0   0]\n",
      " [  0   0   0   0   0   0   0   0 118 253 253 253 253 253 253 193  51 212\n",
      "  253  38   0   0   0   0   0   0   0   0]\n",
      " [  0   0   0   0   0   0   0   0   5  30 175 183 183 183 169  16  20 192\n",
      "  253  38   0   0   0   0   0   0   0   0]\n",
      " [  0   0   0   0   0   0   0   0   0   0   0   0   0   0   0   0  23 197\n",
      "  253  47   0   0   0   0   0   0   0   0]\n",
      " [  0   0   0   0   0   0   0   0   0   0   0   0   0   0   0   0  32 208\n",
      "  253 121   0   0   0   0   0   0   0   0]\n",
      " [  0   0   0   0   0   0   0   0   0   0   0   0   0   0   0   0  53 233\n",
      "  253  75   0   0   0   0   0   0   0   0]\n",
      " [  0   0   0   0   0   0   0   0   0   0   0   0   0   0   0   0   0 170\n",
      "  253 191   0   0   0   0   0   0   0   0]\n",
      " [  0   0   0   0   0   0   0   0   0   0   0   0   0   0   0   0   0 169\n",
      "  253 191   0   0   0   0   0   0   0   0]\n",
      " [  0   0   0   0   0   0   0   0   0   0   0   0   0   0   0   0   0  43\n",
      "  253 191   0   0   0   0   0   0   0   0]\n",
      " [  0   0   0   0   0   0   0   0   0   0   0   0   0   0   0   0   0  16\n",
      "  253 191   0   0   0   0   0   0   0   0]\n",
      " [  0   0   0   0   0   0   0   0   0   0   0   0   0   0   0   0   0   0\n",
      "    0   0   0   0   0   0   0   0   0   0]\n",
      " [  0   0   0   0   0   0   0   0   0   0   0   0   0   0   0   0   0   0\n",
      "    0   0   0   0   0   0   0   0   0   0]]\n"
     ]
    }
   ],
   "source": [
    "def read_images(filename):\n",
    "    \"\"\"Read MNIST images\"\"\"\n",
    "    \n",
    "    with gzip.open(filename, 'r') as f:\n",
    "        # first 4 bytes is a magic number\n",
    "        magic_number = int.from_bytes(f.read(4), 'big')\n",
    "        # second 4 bytes is the number of images\n",
    "        image_count = int.from_bytes(f.read(4), 'big')\n",
    "        # third 4 bytes is the row count\n",
    "        row_count = int.from_bytes(f.read(4), 'big')\n",
    "        # fourth 4 bytes is the column count\n",
    "        column_count = int.from_bytes(f.read(4), 'big')\n",
    "        # rest is the image pixel data, each pixel is stored as an unsigned byte\n",
    "        # pixel values are 0 to 255\n",
    "        image_data = f.read()\n",
    "        images = np.frombuffer(image_data, dtype=np.uint8).reshape((image_count, row_count, column_count))\n",
    "        \n",
    "    return images\n",
    "\n",
    "def read_labels(filename):\n",
    "    \"\"\"Read MNIST labels\"\"\"\n",
    "    \n",
    "    with gzip.open(filename, 'r') as f:\n",
    "        # first 4 bytes is a magic number\n",
    "        magic_number = int.from_bytes(f.read(4), 'big')\n",
    "        # second 4 bytes is the number of labels\n",
    "        label_count = int.from_bytes(f.read(4), 'big')\n",
    "        # rest is the label data, each label is stored as unsigned byte\n",
    "        # label values are 0 to 9\n",
    "        label_data = f.read()\n",
    "        labels = np.frombuffer(label_data, dtype=np.uint8)\n",
    "        \n",
    "    return labels\n",
    "\n",
    "\n",
    "dataset_path = '/home/sysadm/Documents/sem_2_Biswajit_rana/RKMVERI_2ND/class/ML/SS_assignments_1/'# Change your data path\n",
    "\n",
    "train_image_filename = ''.join([dataset_path, 'train-images-idx3-ubyte.gz'])\n",
    "train_label_filename = ''.join([dataset_path, 'train-labels-idx1-ubyte.gz'])\n",
    "\n",
    "test_image_filename = ''.join([dataset_path, 't10k-images-idx3-ubyte.gz'])\n",
    "test_label_filename = ''.join([dataset_path, 't10k-labels-idx1-ubyte.gz'])\n",
    "\n",
    "train_images = read_images(train_image_filename)\n",
    "train_labels = read_labels(train_label_filename)\n",
    "print('Train data (X) size: {}, and labels (Y) size: {}' .format(train_images.shape, train_labels.shape))\n",
    "\n",
    "test_images = read_images(test_image_filename)\n",
    "test_labels = read_labels(test_label_filename)\n",
    "print('Test data (X) size: {}, and labels (Y) size: {}' .format(test_images.shape, test_labels.shape))\n",
    "\n",
    "rand_ids = np.random.choice(train_images.shape[0])\n",
    "plt.imshow(train_images[rand_ids, :, :], cmap='gray')\n",
    "plt.title('class-'+str(train_labels[rand_ids]))\n",
    "plt.show()\n",
    "\n",
    "print('Train image {}-th sample ' .format(rand_ids))\n",
    "print(train_images[rand_ids, :, :])\n",
    "\n"
   ]
  },
  {
   "cell_type": "markdown",
   "id": "54daa6a9",
   "metadata": {},
   "source": [
    "# Extract 20% data from thhe training data as a validation set. <font color='red'>Please do not use some standard function from scikit-learn or others!</font>"
   ]
  },
  {
   "cell_type": "code",
   "execution_count": null,
   "id": "09a49711",
   "metadata": {},
   "outputs": [],
   "source": [
    "# Your validation set extraction script/code "
   ]
  },
  {
   "cell_type": "code",
   "execution_count": 4,
   "id": "e221e7fd",
   "metadata": {},
   "outputs": [],
   "source": [
    "def simple_split(X, y, test_size):\n",
    "  num_samples = len(X)\n",
    "  val_size = int(test_size * num_samples)\n",
    "  indices = np.random.permutation(num_samples)\n",
    "  indices_val = indices[:val_size]\n",
    "  indices_train = indices[val_size:]\n",
    "  X_train = X[indices_train]\n",
    "  X_val = X[indices_val]\n",
    "  y_train = y[indices_train]\n",
    "  y_val = y[indices_val]\n",
    "  return X_train, X_val, y_train, y_val\n",
    "\n",
    "# Usage:\n",
    "X_train, X_val, y_train, y_val = simple_split(train_images, train_labels, 0.2)"
   ]
  },
  {
   "cell_type": "code",
   "execution_count": 5,
   "id": "d8341054",
   "metadata": {},
   "outputs": [
    {
     "name": "stdout",
     "output_type": "stream",
     "text": [
      "(48000, 28, 28)\n",
      "(48000,)\n",
      "(12000, 28, 28)\n",
      "(12000,)\n"
     ]
    }
   ],
   "source": [
    "print(X_train.shape)#img\n",
    "print(y_train.shape)#lab\n",
    "print(X_val.shape)#img\n",
    "print(y_val.shape)#lab"
   ]
  },
  {
   "cell_type": "code",
   "execution_count": 6,
   "id": "b12b523d",
   "metadata": {},
   "outputs": [
    {
     "name": "stdout",
     "output_type": "stream",
     "text": [
      "(48000, 784)\n",
      "(12000, 784)\n",
      "(10000, 784)\n"
     ]
    }
   ],
   "source": [
    "X_train=X_train.reshape(X_train.shape[0],-1)\n",
    "X_val=X_val.reshape(X_val.shape[0],-1)\n",
    "test_images=test_images.reshape(test_images.shape[0],-1)\n",
    "print(X_train.shape)\n",
    "print(X_val.shape)\n",
    "print(test_images.shape)"
   ]
  },
  {
   "cell_type": "code",
   "execution_count": 86,
   "id": "39d4bf02",
   "metadata": {},
   "outputs": [
    {
     "name": "stdout",
     "output_type": "stream",
     "text": [
      "44487\n",
      "8\n"
     ]
    },
    {
     "data": {
      "image/png": "[encoded data removed]",
      "text/plain": [
       "<Figure size 432x288 with 1 Axes>"
      ]
     },
     "metadata": {
      "needs_background": "light"
     },
     "output_type": "display_data"
    },
    {
     "name": "stdout",
     "output_type": "stream",
     "text": [
      "7300\n",
      "0\n"
     ]
    },
    {
     "data": {
      "image/png": "[encoded data removed]",
      "text/plain": [
       "<Figure size 432x288 with 1 Axes>"
      ]
     },
     "metadata": {
      "needs_background": "light"
     },
     "output_type": "display_data"
    }
   ],
   "source": [
    "#peek\n",
    "\n",
    "rand_ids = np.random.choice(X_train.shape[0])\n",
    "print(rand_ids)\n",
    "print(y_train[rand_ids])\n",
    "plt.imshow(X_train[rand_ids, :].reshape(28,28), cmap='gray')\n",
    "plt.title('class-'+str(y_train[rand_ids]))\n",
    "plt.show()\n",
    "\n",
    "# rand_ids = np.random.choice(X_val.shape[0])\n",
    "rand_ids=7300\n",
    "print(rand_ids)\n",
    "print(y_val[rand_ids])\n",
    "plt.imshow(X_val[rand_ids, :].reshape(28,28), cmap='gray')\n",
    "plt.title('class-'+str(y_val[rand_ids]))\n",
    "plt.show()"
   ]
  },
  {
   "cell_type": "code",
   "execution_count": 128,
   "id": "5d7ad339",
   "metadata": {},
   "outputs": [
    {
     "data": {
      "text/plain": [
       "array([3, 2, 4, 4, 8, 1, 1, 4, 4, 7, 8, 7, 0, 1, 4, 6, 9, 8, 0, 5, 7, 5,\n",
       "       0, 9, 3, 8, 0, 0, 5, 3, 5, 9, 4, 8, 6, 7, 6, 2, 3, 9, 7, 1, 3, 0,\n",
       "       8, 5, 2, 1, 4, 5, 0, 3, 4, 8, 7, 9, 7, 1, 5, 6, 4, 0, 3, 0, 9, 1,\n",
       "       7, 9, 3, 9, 5, 4, 7, 2, 7, 5, 7, 4, 9, 0, 1, 9, 5, 6, 3, 6, 7, 3,\n",
       "       2, 8, 3, 7, 3, 4, 4, 0, 0, 3, 1, 2], dtype=uint8)"
      ]
     },
     "execution_count": 128,
     "metadata": {},
     "output_type": "execute_result"
    }
   ],
   "source": [
    "y_val[700:800]"
   ]
  },
  {
   "cell_type": "markdown",
   "id": "d7570a8f",
   "metadata": {},
   "source": [
    "# Implement k-NN classification rule/algorithm, we have discussed in our class. <font color='red'>Please do not use some standard function from scikit-learn or others!</font>"
   ]
  },
  {
   "cell_type": "code",
   "execution_count": null,
   "id": "939686e0",
   "metadata": {},
   "outputs": [],
   "source": [
    "# Your k-NN algorithm script/code "
   ]
  },
  {
   "cell_type": "code",
   "execution_count": 67,
   "id": "f305c6fd",
   "metadata": {},
   "outputs": [],
   "source": [
    "def L1(x1,x2):\n",
    "    return np.sum(np.abs(x1 - x2))\n",
    "def L2(x1,x2):\n",
    "    return np.sqrt(np.sum((x1 - x2)**2))\n",
    "def Linf(x1,x2):\n",
    "    return np.max(np.abs(x1 - x2))\n"
   ]
  },
  {
   "cell_type": "code",
   "execution_count": 122,
   "id": "fa8a4301",
   "metadata": {},
   "outputs": [],
   "source": [
    "\n",
    "def predict(x_train, y_train, x_test, k, distance_metric):\n",
    "    predictions = []\n",
    "\n",
    "    for test_point in x_test:\n",
    "        distances = np.array([distance_metric(test_point, train_point) for train_point in x_train])\n",
    "        nearest_indices = np.argsort(distances)[:k]\n",
    "\n",
    "        neighbor_labels = y_train[nearest_indices]\n",
    "        prediction = np.argmax(np.bincount(neighbor_labels))\n",
    "        predictions.append(prediction)\n",
    "\n",
    "    # return distances,nearest_indices,neighbor_labels,predictions\n",
    "    return predictions\n",
    "\n",
    "def acc(y_true, y_pred):\n",
    "    return np.sum(np.array(y_true) == np.array(y_pred)) / len(y_true)"
   ]
  },
  {
   "cell_type": "code",
   "execution_count": 132,
   "id": "cfe8bc18",
   "metadata": {},
   "outputs": [
    {
     "name": "stdout",
     "output_type": "stream",
     "text": [
      "<function L1 at 0x7fcf645dc820> 1\n"
     ]
    },
    {
     "name": "stdout",
     "output_type": "stream",
     "text": [
      "Taken time: 5360.007029056549 sec.\n",
      "[77.06666666666668]\n",
      "[4, 8, 3, 8, 0, 6, 7, 7, 1, 2, 1, 7, 1, 7, 1, 1, 8, 0, 7, 6, 4, 1, 4, 4, 6, 7, 1, 4, 4, 7, 1, 6, 3, 4, 1, 5, 1, 7, 3, 7, 8, 2, 9, 4, 1, 9, 4, 2, 9, 8, 6, 0, 2, 0, 8, 1, 2, 5, 0, 1, 5, 4, 9, 1, 8, 5, 1, 7, 6, 3, 7, 0, 3, 2, 4, 2, 2, 9, 0, 6, 5, 1, 6, 7, 1, 2, 0, 8, 9, 1, 1, 0, 4, 2, 1, 0, 0, 1, 1, 2, 2, 8, 2, 6, 8, 6, 6, 0, 5, 0, 5, 5, 6, 1, 0, 8, 1, 7, 1, 0, 1, 6, 6, 1, 0, 9, 4, 8, 8, 6, 3, 6, 1, 0, 0, 0, 9, 1, 0, 0, 2, 7, 7, 1, 5, 7, 3, 0, 6, 7, 3, 9, 6, 2, 2, 0, 2, 8, 1, 7, 3, 9, 7, 5, 6, 7, 4, 1, 1, 0, 7, 2, 7, 3, 3, 4, 3, 1, 5, 1, 9, 1, 7, 2, 8, 6, 1, 7, 9, 2, 4, 1, 6, 0, 0, 6, 0, 1, 0, 7, 9, 1, 6, 2, 1, 1, 1, 8, 1, 7, 2, 2, 9, 6, 5, 6, 5, 1, 8, 9, 7, 5, 9, 1, 6, 0, 4, 1, 1, 8, 9, 0, 8, 9, 9, 1, 2, 2, 0, 3, 1, 8, 3, 1, 1, 5, 6, 1, 7, 6, 6, 5, 5, 3, 1, 8, 7, 3, 5, 1, 1, 8, 4, 2, 1, 5, 9, 2, 8, 0, 6, 1, 5, 1, 1, 1, 4, 8, 6, 4, 9, 1, 8, 9, 3, 7, 1, 1, 8, 2, 8, 0, 7, 1, 0, 0, 8, 2, 9, 3, 7, 1, 6, 4, 4, 4, 5, 6, 3, 6, 7, 8, 9, 0, 4, 5, 1, 8, 1, 1, 8, 0, 4, 0, 5, 3, 3, 7, 8, 6, 2, 6, 7, 0, 9, 3, 5, 9, 6, 1, 7, 9, 1, 8, 1, 1, 9, 4, 8, 9, 0, 0, 1, 0, 8, 3, 2, 9, 3, 5, 4, 7, 3, 2, 0, 7, 0, 1, 1, 1, 6, 4, 7, 3, 2, 1, 6, 6, 9, 3, 1, 8, 1, 9, 0, 6, 1, 4, 0, 3, 1, 7, 0, 1, 0, 6, 3, 3, 2, 4, 6, 1, 9, 1, 1, 7, 3, 9, 9, 3, 1, 7, 0, 0, 2, 3, 7, 4, 1, 1, 4, 4, 0, 4, 9, 1, 0, 1, 3, 1, 5, 7, 1, 9, 4, 0, 9, 8, 0, 0, 1, 4, 1, 4, 1, 0, 6, 6, 8, 2, 1, 4, 1, 3, 3, 4, 9, 8, 4, 0, 1, 6, 1, 1, 1, 7, 6, 0, 2, 1, 1, 4, 1, 9, 0, 9, 7, 1, 9, 1, 2, 1, 7, 0, 3, 6, 6, 1, 6, 4, 9, 9, 4, 1, 1, 6, 7, 0, 2, 0, 0, 7, 8, 2, 4, 7, 2, 6, 1, 6, 3, 9, 8, 5, 0, 3, 7, 1, 2, 0, 4, 3, 0, 6, 1, 6, 7, 1, 1, 5, 0, 3, 0, 2, 0, 8, 0, 2, 7, 0, 2, 7, 1, 1, 5, 7, 6, 1, 7, 7, 4, 8, 4, 6, 1, 0, 7, 6, 0, 5, 1, 6, 4, 7, 6, 0, 3, 1, 9, 0, 2, 9, 0, 7, 2, 1, 3, 1, 1, 9, 5, 1, 3, 5, 1, 1, 1, 8, 1, 1, 3, 2, 0, 3, 9, 7, 6, 6, 5, 6, 2, 3, 8, 4, 5, 4, 7, 0, 8, 2, 7, 9, 9, 7, 8, 4, 0, 1, 4, 1, 0, 7, 6, 0, 6, 0, 3, 0, 0, 6, 0, 4, 6, 1, 2, 2, 4, 5, 7, 1, 8, 8, 8, 7, 4, 3, 4, 5, 1, 2, 7, 8, 3, 9, 3, 3, 1, 8, 7, 0, 5, 9, 9, 9, 7, 6, 2, 3, 4, 1, 7, 5, 1, 0, 9, 0, 4, 1, 4, 1, 9, 2, 2, 6, 8, 4, 8, 7, 1, 2, 8, 3, 9, 2, 7, 9, 7, 5, 6, 7, 3, 2, 4, 4, 8, 1, 1, 7, 4, 7, 8, 7, 0, 1, 4, 6, 9, 9, 0, 5, 7, 5, 0, 9, 3, 7, 0, 0, 5, 8, 5, 7, 0, 8, 6, 1, 6, 2, 3, 1, 7, 1, 3, 0, 8, 3, 2, 6, 1, 5, 0, 3, 4, 8, 7, 9, 7, 1, 5, 0, 0, 0, 3, 0, 9, 1, 7, 9, 1, 9, 5, 4, 9, 2, 7, 5, 7, 0, 9, 0, 1, 9, 0, 6, 3, 6, 7, 1, 2, 8, 3, 7, 1, 9, 4, 0, 0, 3, 1, 2, 7, 7, 0, 9, 2, 0, 0, 1, 4, 9, 1, 1, 6, 1, 1, 6, 8, 6, 1, 9, 1, 9, 0, 0, 8, 0, 3, 1, 9, 1, 5, 1, 5, 2, 0, 8, 6, 1, 4, 2, 3, 6, 0, 8, 1, 8, 0, 1, 0, 0, 3, 1, 6, 1, 9, 1, 6, 1, 2, 3, 0, 2, 0, 7, 2, 8, 0, 6, 7, 0, 7, 3, 4, 5, 8, 0, 3, 0, 5, 1, 8, 4, 2, 9, 5, 4, 1, 4, 0, 8, 6, 3, 9, 5, 9, 2, 5, 7, 1, 0, 2, 9, 4, 0, 1, 3, 4, 5, 0, 0, 8, 0, 9, 7, 1, 0, 7, 9, 6, 0, 0, 9, 9, 1, 7, 8, 9, 7, 6, 7, 8, 7, 0, 8, 3, 9, 0, 2, 1, 3, 6, 3, 7, 4, 1, 1, 3, 0, 2, 1, 5, 9, 4, 3, 6, 1, 1, 9, 0, 9, 4, 5, 3, 1, 4, 6, 2, 9, 8, 0, 8, 1, 4, 1, 6, 9, 6, 7, 6, 7, 1, 1, 3, 6, 1, 6, 7, 8, 8, 6, 7, 1, 1, 9, 8, 6, 6, 7, 1, 0, 7, 7, 8, 1, 0, 1, 4, 4, 4, 8, 5, 9, 0, 4, 4, 1, 3, 6, 6, 0, 0, 1, 0, 0, 0, 2, 4, 2, 0, 7, 2, 4, 9, 4, 1, 8, 8, 7, 1, 1, 8, 1, 4, 8, 1, 5, 6, 2, 6, 1, 1, 6, 0, 1, 8, 4, 0, 9, 3, 5, 4, 8, 9, 7, 1, 1, 1, 1, 0, 0, 1, 8, 0, 4, 2, 1, 4, 1, 6, 7, 6, 8, 9, 3, 7, 8, 7, 2, 1, 3, 0, 3, 4, 7, 7, 2, 3, 3, 6, 8, 1, 1, 6, 6, 2, 1, 3, 1, 1, 0, 4, 4, 4, 6, 9, 1, 9, 0, 9, 2, 0, 7, 3, 6, 0, 1, 9, 0, 7, 4, 7, 1, 3, 1, 8, 5, 0, 7, 4, 5, 8, 6, 0, 5, 6, 8, 9, 7, 0, 3, 0, 1, 8, 7, 5, 1, 5, 1, 1, 1, 5, 9, 1, 0, 1, 8, 6, 0, 9, 1, 4, 2, 2, 3, 1, 8, 9, 7, 1, 6, 1, 2, 1, 8, 0, 3, 0, 7, 8, 2, 5, 1, 7, 0, 9, 6, 1, 8, 4, 6, 0, 4, 7, 9, 1, 1, 4, 1, 3, 1, 5, 3, 7, 4, 1, 7, 6, 0, 1, 4, 1, 1, 3, 7, 8, 1, 0, 5, 7, 6, 6, 9, 9, 2, 8, 9, 8, 8, 7, 7, 4, 1, 0, 1, 5, 2, 4, 9, 9, 8, 1, 3, 1, 1, 4, 8, 5, 8, 1, 6, 2, 6, 7, 6, 0, 0, 6, 7, 3, 3, 7, 5, 4, 0, 4, 7, 1, 7, 8, 1, 8, 4, 8, 9, 4, 1, 5, 1, 9, 6, 0, 5, 0, 7, 1, 1, 6, 6, 3, 4, 9, 1, 7, 4, 6, 3, 2, 4, 9, 1, 8, 6, 1, 3, 0, 8, 1, 6, 3, 1, 7, 3, 5, 9, 1, 6, 6, 6, 1, 0, 1, 0, 6, 1, 6, 4, 9, 1, 2, 0, 6, 9, 4, 7, 9, 9, 9, 9, 4, 1, 7, 9, 9, 7, 1, 7, 7, 0, 1, 4, 4, 9, 4, 8, 0, 7, 3, 7, 7, 3, 6, 8, 4, 4, 6, 8, 0, 9, 2, 0, 1, 8, 1, 9, 9, 6, 9, 8, 8, 5, 1, 7, 1, 9, 1, 8, 1, 0, 8, 4, 9, 4, 3, 2, 5, 1, 8, 5, 0, 9, 6, 1, 0, 8, 4, 7, 2, 0, 6, 6, 9, 1, 4, 8, 1, 5, 8, 0, 2, 0, 1, 1, 0, 9, 2, 3, 0, 6, 0, 1, 0, 9, 1, 0, 1, 8, 8, 4, 3, 1, 1, 5, 2, 1, 2, 8, 5, 1, 4, 5, 6, 9, 0, 5, 0, 2, 0, 9, 3, 7, 7, 2, 9, 1, 1, 5, 9, 1, 6, 1, 6, 1, 8, 1, 6, 0, 1, 2, 6, 4, 8, 6, 2, 7, 7, 1, 0, 0, 7, 5, 2, 8, 3, 1, 6, 1, 6, 3, 6, 0, 1, 8, 9, 7, 5, 4, 4, 1, 5, 7, 6, 6, 0, 6, 2, 2, 9, 6, 1, 4, 1, 8, 0, 8, 8, 2, 8, 9, 6, 3, 2, 2, 1, 8, 8, 9, 5, 7, 8, 6, 8, 1, 1, 0, 1, 3, 6, 8, 1, 1, 3, 3, 5, 2, 0, 4, 9, 5, 2, 8, 9, 4, 8, 5, 9, 5, 9, 6, 8, 6, 1, 7, 6, 8, 6, 1, 3, 2, 2, 8, 0, 7, 4, 7, 9, 7, 7, 9, 1, 0, 1, 1, 0, 9, 8, 0, 2, 0, 8, 0, 0, 6, 9, 0, 1, 7, 1, 5, 1, 4, 5, 4, 9, 9, 1, 7, 0, 3, 8, 0, 4, 0, 8, 6, 5, 8, 9, 8, 9, 4, 5, 0, 4, 0, 7, 2, 7, 1, 3, 9, 6, 8, 1, 5, 4, 3, 5, 1, 8, 0, 2, 7, 2, 3, 5, 6, 8, 1, 9, 7, 1, 0, 5, 6, 1, 8, 7, 2, 1, 6, 8, 1, 7, 1, 1, 0, 8, 7, 1, 2, 7, 3, 6, 3, 8, 3, 1, 0, 1, 3, 8, 3, 7, 0, 7, 7, 8, 9, 9, 4, 1, 1, 0, 4, 3, 3, 0, 9, 8, 3, 8, 3, 4, 0, 6, 1, 0, 0, 5, 9, 9, 5, 0, 1, 0, 6, 0, 7, 1, 1, 0, 0, 5, 9, 5, 1, 3, 6, 8, 6, 0, 0, 0, 9, 3, 8, 1, 6, 5, 5, 5, 7, 7, 8, 0, 7, 9, 9, 2, 4, 5, 5, 2, 7, 1, 6, 1, 5, 1, 4, 7, 1, 3, 9, 8, 1, 2, 1, 9, 2, 1, 6, 4, 1, 7, 1, 8, 8, 4, 7, 1, 6, 8, 8, 0, 7, 0, 1, 0, 9, 1, 5, 1, 4, 6, 1, 0, 0, 1, 5, 9, 9, 9, 3, 1, 5, 8, 1, 2, 1, 9, 8, 1, 7, 1, 3, 0, 7, 4, 8, 1, 1, 8, 4, 4, 0, 3, 3, 2, 5, 5, 0, 2, 5, 9, 4, 3, 4, 2, 9, 1, 1, 7, 9, 0, 2, 9, 1, 7, 9, 0, 9, 5, 1, 7, 0, 1, 0, 9, 6, 5, 9, 1, 8, 2, 1, 1, 6, 1, 1, 1, 3, 0, 9, 0, 3, 2, 4, 8, 4, 1, 8, 4, 4, 1, 8, 6, 1, 2, 9, 6, 1, 1, 3, 0, 9, 0, 6, 2, 6, 5, 6, 5, 0, 2, 9, 5, 1, 1, 0, 3, 9, 1, 2, 9, 8, 6, 5, 3, 0, 8, 1, 7, 8, 3, 1, 7, 5, 3, 6, 0, 2, 3, 6, 9, 1, 9, 7, 6, 0, 7, 8, 5, 0, 8, 5, 0, 6, 7, 2, 7, 9, 5, 9, 6, 2, 0, 0, 1, 1, 1, 9, 1, 6, 1, 9, 0, 1, 3, 5, 0, 5, 2, 7, 3, 6, 7, 2, 2, 9, 5, 7, 8, 4, 6, 4, 1, 0, 1, 9, 1, 6, 9, 5, 0, 9, 7, 0, 4, 9, 0, 2, 4, 6, 9, 7, 8, 6, 2, 5, 5, 7, 0, 4, 5, 9, 6, 6, 0, 1, 8, 7, 8, 7, 0, 7, 6, 6, 5, 8, 1, 1, 1, 1, 6, 2, 3, 1, 3, 8, 0, 8, 4, 3, 0, 1, 9, 2, 1, 1, 0, 1, 9, 0, 5, 1, 0, 1, 7, 9, 0, 9, 8, 3, 9, 1, 2, 8, 1, 4, 7, 1, 0, 4, 2, 1, 9, 7, 0, 6, 1, 4, 0, 4, 1, 0, 8, 1, 5, 2, 0, 0, 6, 9, 4, 6, 5, 4, 4, 4, 0, 0, 0, 1, 2, 1, 2, 2, 1, 9, 7, 1, 5, 1, 1, 9, 0, 7, 1, 0, 8, 6, 0, 7, 1, 3, 7, 8, 4, 2, 2, 8, 7, 1, 2, 0, 7, 1, 9, 0, 4, 3, 7, 9, 1, 1, 8, 1, 9, 5, 5, 1, 0, 3, 6, 1, 8, 0, 0, 9, 0, 8, 3, 6, 1, 3, 4, 0, 1, 5, 3, 5, 3, 1, 3, 4, 5, 2, 7, 5, 0, 0, 9, 4, 5, 8, 8, 3, 0, 5, 6, 5, 0, 4, 9, 1, 1, 7, 8, 1, 1, 1, 0, 7, 0, 0, 0, 7, 5, 3, 9, 9, 4, 1, 1, 1, 1, 8, 6, 6, 8, 1, 1, 3, 7, 2, 3, 0, 0, 6, 0, 7, 1, 4, 4, 2, 2, 9, 3, 3, 0, 6, 1, 1, 3, 7, 8, 1, 2, 8, 9, 3, 0, 7, 7, 6, 5, 1, 0, 8, 1, 1, 1, 6, 0, 2, 9, 1, 7, 4, 9, 0, 1, 6, 8, 0, 6, 0, 0, 1, 1, 0, 0, 3, 1, 0, 1, 6, 7, 6, 5, 5, 3, 7, 6, 9, 1, 7, 1, 7, 7, 9, 7, 1, 7, 4, 7, 8, 1, 3, 1, 4, 9, 4, 1, 2, 9, 5, 1, 1, 4, 1, 9, 9, 6, 1, 7, 9, 2, 5, 9, 9, 8, 1, 2, 5, 7, 7, 9, 7, 1, 2, 3, 4, 9, 9, 4, 5, 8, 2, 8, 1, 0, 9, 3, 4, 9, 9, 9, 0, 1, 7, 1, 8, 1, 3, 7, 8, 7, 9, 0, 1, 7, 1, 1, 0, 8, 9, 3, 1, 0, 7, 9, 9, 4, 0, 1, 3, 9, 1, 5, 3, 0, 9, 1, 1, 1, 1, 9, 0, 9, 3, 2, 1, 1, 6, 2, 4, 7, 8, 1, 7, 2, 8, 6, 0, 4, 6, 5, 5, 3, 0, 1, 0, 7, 9, 2, 2, 1, 5, 9, 1, 7, 0, 2, 6, 1, 9, 7, 6, 6, 4, 8, 7, 1, 3, 2, 1, 2, 0, 4, 2, 4, 2, 0, 6, 9, 3, 1, 4, 8, 1, 0, 8, 1, 6, 8, 7, 0, 0, 1, 9, 7, 0, 9, 4, 0, 7, 5, 9, 0, 6, 0, 1, 4, 8, 0, 7, 6, 0, 3, 9, 7, 8, 3, 2, 5, 1, 8, 1, 4, 4, 3, 1, 7, 3, 6, 0, 6, 1, 0, 9, 0, 9, 8, 9, 3, 1, 1, 4, 0, 0, 5, 8, 6, 8, 4, 5, 7, 4, 6, 5, 1, 1, 9, 0, 3, 5, 9, 5, 5, 4, 9, 8, 6, 7, 0, 1, 1, 6, 6, 0, 7, 6, 1, 9, 2, 0, 9, 4, 0, 0, 5, 1, 5, 9, 3, 6, 7, 1, 3, 3, 5, 6, 1, 6, 9, 8, 2, 0, 2, 2, 0, 4, 5, 1, 8, 9, 6, 0, 1, 9, 1, 0, 1, 2, 2, 1, 6, 1, 2, 9, 6, 8, 7, 3, 9, 9, 6, 0, 0, 1, 1, 0, 6, 5, 6, 3, 0, 7, 3, 2, 9, 0, 0, 8, 7, 1, 1, 8, 4, 0, 1, 8, 1, 1, 7, 0, 6, 0, 4, 0, 8, 6, 6, 2, 5, 2, 4, 1, 2, 8, 9, 4, 1, 4, 1, 8, 5, 7, 6, 3, 1, 5, 1, 8, 1, 0, 7, 1, 9, 9, 2, 7, 1, 0, 8, 1, 0, 9, 8, 0, 1, 6, 6, 8, 8, 8, 7, 8, 0, 0, 6, 8, 8, 0, 7, 7, 8, 1, 0, 1, 2, 6, 9, 8, 4, 8, 0, 9, 1, 9, 0, 9, 5, 1, 1, 8, 1, 0, 9, 8, 2, 3, 6, 1, 4, 4, 0, 4, 9, 1, 3, 0, 1, 5, 8, 9, 2, 4, 5, 7, 7, 3, 7, 5, 9, 7, 8, 1, 6, 2, 2, 8, 0, 7, 5, 4, 4, 9, 1, 6, 9, 2, 0, 1, 0, 6, 7, 6, 4, 4, 3, 8, 9, 5, 6, 1, 7, 7, 9, 1, 7, 1, 3, 1, 0, 4, 1, 8, 7, 1, 9, 7, 2, 1, 0, 3, 3, 0, 2, 1, 0, 6, 3, 1, 1, 1, 1, 8, 3, 1, 3, 0, 2, 4, 1, 3, 6, 6, 9, 6, 2, 7, 9, 2, 3, 4, 6, 6, 7, 8, 4, 9, 1, 8, 2, 6, 6, 8, 9, 1, 9, 6, 5, 1, 1, 9, 2, 8, 9, 9, 9, 7, 6, 5, 7, 4, 4, 2, 6, 6, 0, 3, 3, 0, 1, 1, 5, 6, 3, 7, 3, 4, 8, 0, 3, 9, 1, 8, 0, 6, 4, 0, 4, 3, 8, 3, 0, 7, 1, 2, 5, 1, 8, 7, 7, 2, 7, 8, 1, 2, 1, 3, 7, 2, 0, 3, 9, 5, 1, 3, 1, 6, 1, 1, 4, 2, 0, 9, 8, 5, 7, 1, 0, 4, 0, 7, 6, 1, 3, 1, 8, 7, 1, 0, 4, 7, 3, 1, 4, 5, 1, 8, 9, 9, 6, 8, 0, 7, 8, 7, 9, 5, 0, 5, 4, 3, 1, 9, 1, 1, 0, 2, 1, 7, 6, 8, 1, 7, 1, 0, 3, 5, 8, 1, 1, 6, 1, 8, 1, 7, 6, 8, 1, 7, 6, 0, 1, 7, 5, 6, 0, 4, 8, 8, 1, 7, 3, 4, 7, 5, 7, 6, 1, 4, 7, 9, 1, 2, 9, 8, 0, 6, 9, 8, 1, 7, 0, 8, 2, 7, 5, 9, 7, 7, 7, 5, 7, 4, 3, 0, 5, 4, 1, 0, 9, 4, 5, 2, 5, 1, 1, 7, 9, 7, 0, 0, 1, 6, 7, 1, 5, 7, 6, 3, 2, 1, 9, 1, 1, 0, 1, 1, 2, 2, 1, 6, 9, 5, 7, 6, 6, 9, 6, 6, 9, 4, 2, 2, 4, 7, 0, 2, 7, 9, 0, 1, 6, 7, 8, 0, 0, 2, 3, 8, 4, 7, 1, 0, 0, 6, 1, 2, 8, 9, 1, 1, 1, 3, 1, 0, 8, 0, 1, 9, 0, 6, 8, 0, 7, 7, 3, 7, 0, 0, 9, 5, 7, 4, 9, 0, 7, 9, 1, 9, 1, 0, 0, 9, 5, 0, 7, 3, 9, 7, 1, 4, 0, 2, 0, 0, 8, 1, 2, 1, 7, 2, 4, 1, 0, 1, 1, 0, 1, 9, 1, 1, 8, 8, 6, 3, 1, 3, 8, 8, 6, 4, 0, 8, 4, 0, 1, 0, 3, 1, 5, 6, 0, 6, 3, 8, 5, 1, 1, 1, 9, 1, 2, 6, 4, 9, 0, 9, 1, 1, 2, 8, 7, 3, 3, 0, 6, 8, 3, 6, 2, 0, 9, 9, 1, 0, 8, 9, 9, 4, 4, 5, 5, 7, 7, 1, 1, 7, 4, 9, 2, 6, 7, 9, 9, 6, 5, 2, 0, 4, 9, 3, 1, 6, 7, 8, 6, 4, 8, 1, 5, 7, 0, 6, 8, 3, 1, 3, 9, 7, 6, 1, 2, 1, 0, 0, 1, 1, 3, 4, 6, 3, 1, 1, 8, 7, 9, 4, 3, 4, 5, 1, 6, 1, 1, 4, 7, 6, 6, 0, 1, 1, 4, 4, 3, 0, 5, 6, 3, 0, 9, 0, 0, 1, 9, 1, 5, 8, 6, 1, 0, 7, 9, 9, 4, 1, 3, 0, 7, 0, 1, 0, 0, 0, 2, 1, 2, 6, 9, 3, 6, 5, 3, 6, 1, 7, 8, 6, 7, 7, 1, 3, 2, 8, 5, 7, 3, 1, 2, 6, 1, 1, 0, 6, 6, 1, 0, 1, 0, 7, 0, 5, 0, 1, 7, 3, 8, 3, 5, 0, 1, 1, 7, 0, 7, 5, 0, 1, 7, 0, 1, 6, 0, 8, 0, 6, 3, 1, 4, 5, 3, 8, 1, 1, 9, 3, 6, 8, 6, 1, 8, 9, 1, 2, 7, 1, 7, 1, 9, 7, 2, 9, 6, 3, 9, 7, 7, 7, 6, 0, 1, 1, 0, 2, 9, 0, 7, 4, 8, 8, 0, 0, 6, 2, 6, 8, 3, 1, 6, 6, 2, 7, 0, 5, 7, 6, 4, 8, 5, 4, 4, 6, 9, 2, 1, 3, 6, 7, 1, 7, 8, 6, 1, 7, 2, 1, 8, 8, 8, 7, 5, 5, 6, 4, 2, 0, 6, 2, 9, 0, 3, 6, 5, 5, 0, 9, 0, 3, 1, 0, 5, 0, 2, 6, 4, 7, 0, 1, 1, 8, 0, 0, 9, 9, 7, 6, 4, 6, 6, 4, 6, 8, 6, 2, 6, 3, 1, 6, 6, 8, 0, 6, 6, 4, 1, 0, 6, 1, 8, 9, 8, 7, 9, 3, 0, 0, 3, 4, 0, 5, 4, 2, 1, 1, 5, 0, 6, 8, 8, 1, 8, 9, 0, 0, 8, 1, 9, 3, 8, 8, 6, 6, 7, 8, 5, 9, 1, 1, 5, 7, 9, 2, 1, 9, 2, 6, 2, 0, 3, 6, 1, 3, 1, 1, 9, 2, 5, 1, 5, 7, 0, 0, 1, 8, 5, 0, 5, 0, 7, 3, 5, 0, 9, 8, 6, 9, 5, 6, 1, 5, 1, 2, 1, 3, 0, 0, 7, 3, 7, 9, 6, 0, 9, 0, 7, 4, 0, 4, 6, 9, 0, 1, 7, 1, 4, 3, 2, 2, 9, 6, 8, 8, 1, 4, 6, 0, 0, 6, 1, 9, 0, 0, 0, 8, 2, 1, 6, 4, 9, 6, 8, 0, 0, 8, 5, 1, 3, 6, 7, 7, 1, 4, 9, 0, 6, 1, 7, 7, 3, 6, 3, 8, 6, 9, 1, 7, 3, 5, 1, 7, 3, 9, 7, 5, 1, 3, 0, 6, 2, 2, 8, 0, 9, 1, 5, 7, 7, 0, 1, 4, 5, 6, 6, 1, 1, 5, 3, 0, 0, 1, 6, 9, 3, 7, 1, 3, 3, 7, 0, 1, 5, 4, 8, 2, 7, 1, 5, 1, 8, 0, 0, 1, 8, 8, 1, 2, 6, 1, 1, 0, 8, 1, 9, 1, 6, 7, 0, 0, 7, 3, 6, 6, 8, 3, 7, 9, 3, 0, 1, 1, 9, 3, 9, 0, 6, 8, 7, 3, 8, 8, 1, 0, 6, 9, 1, 8, 0, 8, 6, 9, 9, 2, 0, 7, 2, 3, 4, 7, 1, 7, 6, 8, 3, 5, 8, 4, 1, 6, 8, 5, 1, 7, 9, 1, 9, 9, 1, 1, 1, 0, 3, 2, 1, 9, 1, 2, 9, 0, 9, 0, 1, 1, 7, 9, 1, 0, 3, 1, 6, 9, 3, 8, 0, 0, 8, 1, 2, 7, 7, 7, 6, 8, 1, 0, 8, 2, 8, 1, 1, 8, 6, 6, 0, 2, 4, 4, 1, 6, 7, 3, 2, 0, 3, 6, 3, 9, 1, 9, 4, 0, 3, 3, 0, 2, 1, 8, 7, 1, 9, 2, 6, 9, 9, 9, 0, 5, 1, 8, 6, 2, 2, 7, 5, 1, 5, 0, 7, 0, 2, 5, 9, 9, 3, 6, 1, 1, 0, 6, 9, 0, 6, 6, 1, 2, 1, 7, 9, 5, 6, 4, 9, 6, 8, 6, 8, 0, 3, 5, 1, 0, 1, 7, 6, 8, 9, 0, 6, 2, 1, 4, 1, 4, 1, 0, 0, 5, 7, 0, 1, 4, 3, 9, 7, 1, 4, 8, 1, 1, 3, 6, 6, 0, 1, 1, 3, 7, 4, 7, 6, 8, 7, 2, 5, 1, 6, 1, 7, 1, 7, 7, 7, 8, 8, 0, 0, 2, 7, 1, 6, 3, 1, 1, 9, 8, 2, 0, 4, 4, 0, 0, 4, 7, 4, 5, 5, 1, 7, 1, 9, 7, 6, 1, 0, 1, 0, 1, 6, 1, 1, 9, 9, 9, 5, 4, 0, 3, 3, 6, 8, 3, 2, 7, 6, 9, 6, 6, 3, 9, 2, 2, 0, 1, 1, 3, 7, 0, 8, 2, 6, 0, 9, 0, 1, 3, 4, 6, 8, 4, 1, 2, 8, 1, 7, 5, 9, 1, 3, 4, 6, 4, 5, 5, 5, 0, 5, 2, 6, 8, 2, 2, 1, 9, 9, 6, 0, 4, 1, 9, 8, 6, 5, 0, 2, 9, 0, 0, 2, 6, 5, 2, 1, 7, 6, 8, 4, 8, 6, 3, 5, 4, 9, 0, 0, 2, 6, 7, 1, 7, 6, 3, 1, 7, 5, 9, 4, 1, 0, 8, 2, 1, 1, 1, 1, 0, 1, 3, 3, 8, 1, 1, 1, 7, 8, 7, 0, 8, 9, 2, 4, 2, 1, 1, 6, 8, 2, 8, 0, 7, 0, 9, 1, 0, 8, 6, 9, 8, 9, 9, 1, 8, 3, 3, 2, 3, 9, 3, 0, 8, 6, 5, 8, 6, 7, 4, 9, 8, 5, 1, 1, 7, 1, 7, 5, 7, 1, 6, 7, 1, 8, 9, 1, 3, 9, 7, 0, 3, 9, 6, 1, 8, 8, 8, 8, 3, 3, 3, 3, 7, 5, 5, 0, 2, 7, 4, 9, 3, 0, 1, 9, 9, 7, 0, 6, 9, 1, 1, 9, 9, 0, 3, 3, 0, 9, 9, 1, 1, 7, 1, 5, 3, 7, 1, 2, 2, 8, 3, 9, 5, 1, 1, 4, 1, 1, 3, 8, 5, 2, 8, 1, 0, 7, 6, 4, 8, 1, 1, 9, 0, 6, 0, 7, 4, 6, 6, 1, 3, 9, 0, 6, 4, 1, 9, 5, 5, 7, 8, 2, 2, 1, 3, 7, 6, 5, 1, 9, 5, 8, 1, 0, 0, 2, 7, 9, 0, 8, 1, 7, 0, 9, 6, 1, 1, 4, 2, 7, 7, 8, 6, 0, 2, 2, 2, 9, 4, 9, 1, 1, 0, 0, 6, 8, 0, 1, 9, 1, 7, 0, 1, 1, 7, 1, 1, 0, 3, 9, 0, 9, 0, 5, 1, 9, 6, 6, 1, 0, 3, 5, 4, 1, 1, 7, 9, 1, 5, 2, 3, 1, 7, 7, 1, 1, 1, 9, 4, 0, 1, 7, 6, 8, 9, 8, 5, 1, 2, 7, 1, 7, 8, 1, 7, 0, 4, 0, 5, 7, 0, 4, 3, 8, 5, 0, 8, 8, 9, 3, 4, 0, 5, 3, 9, 1, 4, 1, 9, 3, 0, 0, 6, 1, 9, 4, 7, 0, 6, 9, 3, 8, 0, 6, 6, 2, 2, 1, 9, 8, 3, 1, 5, 7, 0, 7, 0, 7, 2, 1, 8, 4, 9, 1, 8, 1, 1, 0, 0, 9, 1, 7, 2, 9, 4, 3, 0, 7, 0, 1, 7, 7, 2, 2, 0, 3, 8, 0, 4, 1, 0, 1, 0, 0, 5, 5, 1, 0, 1, 0, 8, 6, 0, 2, 0, 5, 1, 6, 1, 1, 9, 1, 3, 0, 5, 1, 7, 1, 7, 1, 4, 5, 8, 0, 6, 1, 9, 8, 0, 0, 2, 9, 6, 8, 2, 3, 9, 7, 0, 4, 1, 1, 7, 5, 0, 1, 0, 3, 5, 2, 9, 2, 8, 7, 4, 0, 1, 5, 7, 6, 4, 1, 5, 1, 8, 4, 4, 0, 1, 1, 7, 5, 9, 3, 6, 7, 9, 3, 8, 9, 7, 0, 2, 1, 1, 1, 6, 5, 1, 4, 6, 7, 9, 1, 1, 9, 9, 6, 8, 7, 1, 8, 9, 8, 0, 5, 3, 2, 0, 1, 9, 4, 2, 6, 2, 1, 1, 7, 1, 5, 0, 4, 9, 1, 1, 0, 2, 8, 1, 9, 9, 9, 0, 2, 1, 2, 0, 8, 0, 6, 1, 6, 7, 3, 1, 3, 0, 8, 6, 4, 3, 3, 1, 0, 1, 0, 1, 2, 5, 7, 1, 5, 5, 4, 6, 9, 0, 0, 1, 2, 8, 0, 5, 8, 9, 2, 3, 8, 1, 1, 1, 5, 1, 1, 1, 1, 4, 0, 1, 5, 6, 2, 2, 6, 2, 5, 1, 1, 8, 7, 7, 3, 1, 9, 1, 4, 8, 8, 1, 0, 1, 2, 4, 1, 7, 5, 8, 6, 5, 9, 5, 2, 9, 0, 6, 1, 2, 0, 7, 9, 9, 0, 2, 5, 8, 2, 2, 9, 1, 5, 8, 2, 7, 0, 0, 4, 2, 1, 1, 1, 1, 4, 6, 1, 2, 4, 2, 8, 1, 6, 6, 0, 0, 5, 8, 8, 7, 9, 3, 6, 3, 9, 1, 7, 9, 8, 7, 6, 7, 8, 1, 6, 1, 1, 4, 5, 1, 7, 7, 2, 1, 1, 1, 3, 7, 3, 3, 1, 7, 1, 8, 7, 9, 9, 1, 2, 7, 1, 9, 1, 7, 0, 0, 2, 3, 1, 6, 7, 6, 1, 6, 9, 9, 7, 9, 2, 0, 1, 7, 8, 0, 1, 1, 8, 6, 3, 6, 2, 9, 2, 3, 0, 2, 8, 3, 7, 5, 1, 7, 0, 7, 1, 7, 9, 6, 6, 0, 1, 7, 9, 7, 6, 6, 3, 1, 1, 9, 0, 0, 0, 2, 6, 3, 0, 3, 1, 7, 7, 9, 2, 6, 2, 0, 4, 0, 8, 8, 3, 5, 2, 0, 6, 7, 7, 7, 9, 1, 1, 3, 8, 0, 3, 1, 6, 9, 7, 5, 1, 8, 0, 2, 2, 7, 0, 7, 1, 1, 3, 1, 0, 6, 1, 3, 8, 3, 7, 0, 3, 0, 2, 8, 0, 4, 2, 1, 1, 4, 0, 1, 1, 3, 0, 7, 6, 0, 4, 1, 1, 8, 2, 9, 8, 4, 0, 6, 9, 4, 3, 8, 6, 0, 1, 3, 1, 6, 1, 6, 3, 6, 0, 1, 2, 1, 8, 7, 8, 8, 5, 8, 6, 7, 0, 3, 1, 6, 7, 4, 0, 3, 9, 1, 1, 3, 6, 9, 6, 7, 1, 2, 7, 3, 0, 8, 7, 1, 7, 2, 7, 6, 2, 7, 6, 4, 6, 6, 9, 8, 5, 8, 5, 6, 2, 4, 9, 1, 1, 7, 1, 7, 0, 1, 7, 0, 5, 5, 1, 5, 9, 3, 6, 2, 9, 1, 7, 7, 9, 6, 5, 2, 1, 2, 2, 1, 4, 1, 1, 6, 2, 9, 0, 9, 5, 2, 9, 6, 9, 0, 1, 4, 1, 1, 0, 4, 7, 5, 7, 0, 7, 1, 3, 8, 9, 3, 8, 7, 1, 7, 9, 6, 8, 1, 4, 1, 1, 4, 5, 1, 1, 3, 7, 8, 0, 8, 2, 0, 8, 8, 5, 8, 6, 0, 3, 4, 8, 3, 7, 2, 5, 3, 5, 1, 3, 6, 1, 9, 0, 2, 9, 9, 0, 4, 8, 4, 9, 8, 6, 8, 8, 9, 0, 1, 5, 3, 0, 8, 6, 7, 1, 8, 1, 1, 3, 7, 5, 9, 7, 4, 5, 0, 3, 7, 7, 0, 4, 1, 0, 9, 6, 0, 6, 1, 2, 5, 0, 6, 9, 8, 1, 8, 1, 6, 9, 7, 1, 7, 7, 6, 1, 2, 6, 3, 7, 4, 6, 4, 0, 7, 3, 1, 7, 5, 7, 3, 1, 3, 3, 4, 2, 1, 4, 0, 1, 7, 1, 0, 6, 2, 3, 1, 3, 9, 1, 4, 9, 1, 0, 2, 1, 2, 0, 4, 6, 9, 6, 3, 3, 4, 8, 2, 5, 6, 3, 6, 1, 1, 4, 7, 7, 0, 0, 9, 9, 4, 0, 7, 2, 6, 3, 1, 6, 6, 0, 9, 9, 7, 9, 8, 1, 2, 9, 1, 1, 4, 9, 3, 1, 0, 0, 7, 6, 9, 1, 6, 1, 2, 5, 0, 6, 2, 1, 8, 5, 1, 1, 6, 8, 6, 9, 7, 5, 1, 1, 2, 0, 5, 8, 7, 7, 6, 1, 3, 2, 7, 4, 7, 3, 0, 1, 6, 5, 1, 0, 9, 2, 6, 9, 9, 0, 9, 0, 9, 4, 8, 7, 9, 8, 6, 5, 3, 3, 6, 7, 0, 3, 7, 6, 0, 6, 5, 5, 6, 0, 0, 7, 0, 2, 9, 5, 9, 6, 6, 4, 0, 9, 3, 7, 0, 7, 5, 5, 1, 0, 0, 7, 1, 6, 0, 9, 1, 7, 6, 3, 6, 1, 6, 2, 7, 9, 4, 1, 9, 8, 1, 9, 1, 2, 1, 9, 7, 0, 6, 0, 7, 3, 6, 0, 1, 5, 3, 6, 2, 9, 1, 9, 1, 9, 7, 0, 3, 4, 8, 1, 9, 3, 1, 1, 1, 4, 4, 1, 9, 1, 6, 4, 3, 2, 1, 8, 4, 5, 0, 1, 1, 9, 6, 6, 3, 9, 3, 0, 9, 5, 9, 0, 8, 0, 5, 7, 6, 8, 7, 1, 1, 6, 1, 6, 7, 1, 4, 3, 8, 9, 1, 1, 1, 4, 7, 6, 2, 6, 4, 9, 8, 7, 8, 0, 7, 1, 1, 1, 0, 7, 1, 1, 8, 2, 0, 8, 6, 1, 1, 1, 8, 5, 7, 8, 9, 3, 0, 1, 2, 4, 9, 0, 6, 2, 1, 9, 2, 9, 6, 8, 6, 7, 2, 0, 3, 5, 3, 3, 4, 6, 6, 8, 0, 2, 1, 7, 9, 0, 1, 6, 2, 1, 2, 1, 1, 6, 7, 8, 0, 1, 9, 5, 0, 4, 9, 8, 1, 6, 1, 7, 9, 0, 1, 1, 1, 3, 6, 8, 9, 8, 1, 1, 1, 8, 9, 6, 9, 1, 0, 0, 1, 5, 3, 1, 0, 3, 9, 0, 1, 4, 1, 0, 9, 1, 3, 6, 9, 9, 1, 2, 3, 1, 7, 8, 7, 9, 0, 8, 1, 8, 3, 0, 0, 1, 3, 8, 9, 2, 1, 3, 6, 5, 1, 1, 9, 1, 6, 7, 0, 1, 0, 0, 4, 1, 6, 4, 1, 0, 6, 1, 7, 6, 6, 9, 7, 4, 1, 5, 6, 3, 0, 0, 1, 6, 6, 5, 0, 0, 0, 7, 1, 0, 1, 0, 9, 8, 8, 3, 0, 0, 8, 9, 9, 9, 0, 0, 2, 5, 5, 1, 0, 3, 3, 4, 8, 3, 8, 9, 6, 8, 1, 1, 2, 8, 5, 2, 1, 1, 8, 9, 3, 9, 8, 0, 8, 1, 6, 0, 7, 4, 9, 7, 3, 0, 1, 4, 4, 4, 8, 1, 0, 5, 0, 2, 2, 7, 5, 7, 8, 3, 0, 9, 6, 8, 1, 5, 3, 0, 5, 5, 0, 1, 0, 0, 7, 5, 7, 1, 5, 7, 0, 1, 7, 0, 5, 0, 0, 4, 1, 4, 0, 3, 4, 6, 8, 8, 7, 7, 7, 8, 2, 5, 3, 5, 9, 0, 3, 3, 6, 1, 4, 0, 1, 1, 1, 6, 8, 0, 8, 1, 4, 6, 2, 5, 1, 6, 7, 9, 8, 4, 0, 9, 7, 4, 9, 9, 2, 6, 1, 1, 7, 6, 4, 2, 0, 1, 1, 0, 2, 7, 1, 7, 4, 7, 8, 1, 9, 4, 8, 3, 1, 5, 0, 3, 7, 0, 0, 1, 1, 6, 7, 7, 2, 5, 6, 0, 3, 9, 9, 8, 6, 9, 1, 0, 1, 8, 0, 6, 1, 1, 8, 8, 6, 4, 4, 9, 8, 0, 6, 5, 1, 2, 4, 1, 6, 5, 4, 7, 5, 6, 3, 3, 2, 2, 0, 1, 3, 7, 5, 9, 9, 6, 0, 1, 6, 9, 0, 9, 6, 8, 4, 6, 2, 6, 1, 0, 1, 0, 0, 9, 5, 4, 7, 2, 0, 4, 7, 5, 0, 4, 1, 1, 5, 9, 4, 3, 1, 1, 2, 9, 0, 1, 1, 1, 6, 1, 1, 6, 8, 1, 4, 1, 4, 9, 8, 7, 6, 7, 2, 7, 9, 7, 1, 5, 3, 5, 8, 1, 4, 7, 8, 0, 9, 9, 9, 2, 6, 8, 1, 6, 7, 0, 9, 5, 0, 2, 9, 4, 6, 1, 9, 6, 0, 9, 7, 1, 2, 2, 3, 1, 2, 0, 3, 1, 2, 1, 1, 4, 8, 6, 9, 1, 8, 5, 8, 7, 0, 1, 9, 7, 0, 9, 6, 4, 0, 3, 9, 0, 1, 7, 0, 3, 9, 3, 7, 3, 7, 6, 9, 0, 7, 9, 4, 9, 9, 0, 9, 1, 0, 4, 1, 0, 5, 7, 9, 6, 7, 8, 0, 1, 1, 3, 1, 8, 8, 4, 7, 6, 6, 2, 7, 6, 1, 8, 2, 0, 7, 2, 7, 0, 1, 1, 1, 2, 0, 1, 7, 9, 7, 1, 8, 8, 9, 4, 2, 3, 8, 0, 3, 0, 3, 9, 1, 0, 1, 6, 3, 6, 1, 2, 9, 0, 2, 3, 9, 4, 0, 0, 3, 1, 0, 0, 7, 1, 7, 9, 7, 2, 2, 1, 1, 3, 3, 3, 1, 0, 6, 4, 6, 1, 1, 8, 3, 4, 6, 1, 0, 5, 2, 1, 3, 3, 5, 4, 1, 0, 1, 1, 2, 6, 1, 4, 0, 1, 8, 8, 6, 3, 0, 7, 4, 0, 6, 4, 1, 2, 8, 5, 0, 0, 6, 0, 9, 5, 0, 4, 4, 1, 9, 1, 8, 3, 7, 0, 6, 9, 6, 1, 1, 4, 2, 7, 2, 7, 3, 0, 4, 5, 1, 7, 1, 3, 9, 7, 4, 7, 5, 7, 1, 7, 1, 3, 3, 1, 5, 1, 7, 3, 8, 8, 3, 4, 6, 1, 0, 6, 6, 9, 7, 0, 9, 1, 0, 7, 6, 0, 8, 3, 0, 8, 2, 9, 7, 5, 4, 7, 0, 0, 8, 8, 7, 7, 7, 0, 9, 1, 9, 4, 7, 3, 6, 2, 4, 9, 8, 9, 7, 1, 0, 1, 7, 3, 9, 0, 9, 9, 0, 7, 9, 6, 8, 9, 0, 0, 1, 7, 3, 4, 7, 2, 0, 8, 4, 1, 8, 9, 2, 9, 1, 7, 0, 1, 6, 5, 3, 3, 2, 1, 1, 1, 5, 5, 1, 6, 3, 3, 9, 3, 7, 0, 1, 1, 9, 0, 1, 9, 1, 3, 6, 6, 6, 1, 1, 6, 6, 1, 1, 7, 3, 1, 2, 6, 1, 6, 1, 9, 3, 8, 3, 4, 6, 4, 0, 4, 4, 2, 4, 6, 6, 3, 8, 5, 4, 7, 2, 9, 7, 1, 7, 3, 1, 1, 7, 1, 3, 6, 1, 8, 7, 2, 1, 1, 3, 0, 0, 3, 8, 8, 0, 1, 7, 7, 2, 0, 7, 0, 7, 3, 8, 9, 1, 0, 3, 1, 8, 9, 8, 9, 8, 0, 2, 1, 3, 1, 7, 4, 8, 7, 6, 4, 6, 8, 1, 8, 9, 1, 9, 4, 9, 1, 6, 0, 9, 6, 9, 9, 1, 8, 6, 9, 3, 7, 4, 2, 1, 7, 2, 2, 5, 1, 2, 7, 8, 8, 8, 0, 9, 6, 5, 0, 9, 0, 5, 7, 4, 1, 1, 6, 5, 7, 3, 1, 9, 6, 0, 1, 4, 0, 2, 0, 8, 1, 7, 7, 5, 3, 1, 1, 6, 3, 1, 3, 3, 0, 7, 3, 8, 1, 7, 1, 0, 0, 7, 2, 0, 1, 0, 1, 1, 5, 2, 9, 6, 0, 7, 7, 9, 7, 6, 5, 8, 1, 6, 2, 1, 7, 4, 7, 9, 2, 7, 0, 4, 9, 9, 3, 2, 5, 9, 2, 8, 8, 9, 7, 2, 9, 5, 0, 7, 0, 0, 0, 7, 8, 0, 6, 7, 1, 9, 1, 7, 1, 6, 8, 0, 1, 0, 2, 9, 3, 0, 1, 5, 7, 3, 2, 7, 8, 6, 1, 5, 4, 4, 3, 6, 5, 4, 6, 4, 8, 1, 6, 1, 1, 0, 6, 7, 8, 0, 3, 0, 1, 7, 1, 4, 9, 2, 2, 9, 1, 9, 7, 1, 7, 7, 6, 1, 7, 7, 1, 9, 2, 0, 1, 0, 9, 9, 0, 6, 9, 7, 5, 5, 1, 3, 0, 2, 9, 6, 2, 0, 0, 3, 6, 9, 6, 1, 1, 1, 6, 0, 0, 0, 1, 1, 0, 9, 6, 1, 9, 0, 7, 9, 0, 9, 1, 0, 7, 0, 2, 5, 2, 0, 6, 9, 6, 1, 8, 3, 1, 0, 1, 8, 4, 5, 9, 5, 0, 6, 1, 1, 1, 0, 4, 8, 3, 7, 1, 7, 2, 1, 0, 5, 6, 4, 7, 4, 0, 3, 5, 0, 1, 3, 9, 2, 1, 7, 1, 6, 0, 0, 4, 7, 5, 8, 7, 2, 9, 0, 2, 0, 1, 5, 1, 1, 5, 9, 4, 7, 1, 8, 0, 1, 3, 2, 0, 6, 6, 7, 1, 2, 8, 3, 7, 6, 9, 4, 9, 9, 1, 9, 9, 5, 3, 2, 0, 3, 8, 1, 6, 1, 6, 3, 4, 1, 9, 1, 1, 6, 0, 1, 7, 2, 7, 3, 7, 5, 9, 7, 7, 6, 8, 1, 5, 7, 5, 2, 9, 3, 9, 2, 1, 1, 1, 7, 0, 1, 0, 1, 9, 1, 0, 2, 5, 3, 8, 8, 7, 6, 1, 6, 1, 6, 0, 0, 1, 0, 7, 1, 8, 7, 1, 1, 7, 0, 0, 1, 6, 2, 8, 7, 2, 1, 2, 9, 2, 5, 5, 1, 9, 1, 1, 6, 9, 9, 7, 7, 6, 1, 2, 5, 2, 6, 1, 0, 6, 1, 3, 7, 8, 0, 5, 0, 0, 1, 0, 9, 5, 9, 9, 1, 1, 7, 1, 0, 1, 1, 3, 1, 3, 0, 1, 6, 1, 1, 0, 8, 0, 5, 1, 3, 9, 7, 3, 0, 1, 1, 0, 8, 1, 1, 8, 1, 7, 3, 1, 1, 3, 7, 0, 1, 0, 6, 9, 6, 8, 1, 7, 0, 9, 4, 6, 3, 1, 0, 9, 4, 2, 1, 7, 4, 8, 9, 4, 3, 6, 7, 8, 1, 0, 7, 0, 0, 2, 6, 6, 0, 6, 0, 7, 9, 7, 3, 4, 8, 2, 9, 6, 8, 5, 7, 3, 6, 0, 2, 3, 1, 2, 8, 4, 0, 0, 9, 1, 2, 5, 6, 7, 1, 7, 3, 1, 1, 1, 9, 1, 1, 1, 0, 5, 0, 2, 4, 6, 6, 3, 1, 4, 0, 2, 8, 6, 3, 0, 9, 8, 0, 1, 4, 4, 8, 1, 1, 8, 5, 5, 7, 6, 0, 8, 3, 6, 1, 1, 5, 1, 0, 7, 8, 0, 2, 7, 1, 1, 8, 7, 4, 0, 8, 6, 7, 7, 6, 3, 7, 8, 1, 0, 8, 9, 7, 1, 4, 7, 0, 4, 1, 4, 5, 0, 1, 7, 0, 1, 7, 5, 7, 5, 4, 8, 9, 8, 9, 1, 2, 3, 1, 7, 3, 1, 1, 5, 1, 2, 4, 8, 3, 1, 8, 3, 1, 1, 7, 4, 9, 7, 1, 3, 7, 5, 6, 7, 1, 0, 4, 5, 5, 7, 1, 1, 2, 8, 9, 0, 2, 2, 6, 0, 4, 0, 5, 1, 2, 8, 0, 1, 9, 1, 9, 5, 7, 0, 7, 9, 7, 7, 4, 7, 8, 8, 7, 1, 7, 1, 3, 0, 0, 2, 8, 1, 0, 5, 6, 0, 7, 6, 1, 9, 1, 4, 1, 9, 9, 7, 9, 2, 2, 4, 1, 2, 7, 6, 0, 4, 9, 1, 1, 5, 2, 3, 3, 8, 1, 7, 3, 5, 0, 3, 7, 7, 3, 6, 4, 0, 7, 1, 7, 4, 7, 3, 9, 9, 1, 9, 7, 0, 8, 1, 2, 6, 1, 1, 0, 0, 2, 4, 7, 8, 7, 1, 7, 7, 6, 1, 7, 3, 3, 1, 5, 1, 1, 0, 3, 9, 1, 6, 8, 5, 3, 6, 7, 0, 1, 7, 4, 0, 4, 8, 6, 0, 4, 1, 0, 9, 0, 0, 3, 0, 5, 0, 7, 9, 5, 3, 4, 1, 1, 0, 1, 1, 7, 7, 3, 8, 8, 0, 1, 0, 2, 6, 7, 0, 4, 7, 1, 5, 5, 5, 8, 3, 0, 3, 1, 0, 1, 4, 5, 1, 0, 2, 3, 9, 7, 4, 6, 6, 1, 4, 0, 1, 1, 9, 8, 4, 8, 8, 1, 2, 9, 4, 9, 1, 5, 9, 7, 1, 1, 1, 0, 9, 4, 7, 1, 9, 9, 1, 1, 1, 1, 3, 1, 1, 0, 7, 0, 7, 5, 8, 2, 0, 1, 1, 9, 1, 1, 9, 0, 1, 9, 9, 9, 6, 6, 4, 7, 6, 1, 6, 1, 0, 3, 9, 8, 0, 1, 5, 4, 7, 1, 0, 6, 6, 0, 1, 1, 8, 5, 8, 6, 3, 8, 3, 5, 3, 1, 8, 7, 0, 9, 3, 0, 4, 0, 2, 6, 4, 1, 7, 1, 4, 1, 1, 0, 2, 1, 9, 6, 1, 0, 5, 6, 2, 0, 7, 7, 1, 7, 2, 9, 4, 2, 1, 6, 9, 5, 1, 3, 0, 7, 6, 8, 8, 0, 5, 4, 4, 1, 6, 0, 9, 6, 4, 0, 7, 6, 6, 0, 7, 0, 0, 6, 0, 3, 6, 3, 1, 2, 1, 7, 6, 4, 5, 0, 0, 1, 1, 4, 6, 1, 4, 2, 0, 8, 1, 2, 9, 7, 9, 1, 1, 6, 7, 1, 1, 7, 1, 3, 9, 9, 1, 9, 4, 8, 6, 9, 0, 7, 6, 0, 6, 4, 0, 0, 0, 6, 0, 3, 1, 9, 0, 6, 1, 4, 0, 7, 7, 5, 7, 0, 6, 6, 6, 6, 3, 7, 6, 7, 1, 0, 0, 9, 3, 6, 9, 3, 0, 5, 1, 1, 0, 6, 4, 8, 9, 6, 7, 1, 1, 8, 8, 6, 1, 7, 4, 9, 0, 5, 6, 6, 3, 9, 7, 0, 2, 0, 1, 1, 2, 6, 5, 3, 1, 1, 4, 9, 0, 0, 1, 4, 1, 7, 7, 0, 1, 1, 8, 9, 9, 8, 3, 8, 2, 4, 1, 9, 5, 9, 0, 6, 4, 1, 7, 9, 9, 0, 7, 5, 0, 1, 2, 7, 7, 7, 9, 9, 8, 7, 1, 2, 1, 9, 4, 1, 8, 7, 6, 1, 5, 1, 6, 4, 4, 7, 6, 0, 6, 9, 1, 0, 6, 6, 6, 8, 1, 1, 2, 9, 5, 9, 0, 0, 1, 4, 8, 1, 1, 9, 5, 8, 1, 7, 8, 2, 0, 9, 0, 6, 3, 0, 5, 0, 2, 1, 2, 2, 5, 1, 6, 9, 4, 1, 3, 1, 8, 0, 2, 2, 7, 1, 5, 2, 1, 1, 7, 7, 5, 1, 6, 1, 2, 7, 7, 4, 2, 2, 1, 3, 1, 7, 6, 1, 9, 1, 3, 6, 8, 8, 0, 4, 9, 1, 2, 7, 6, 8, 7, 0, 3, 3, 8, 0, 0, 6, 4, 6, 7, 6, 0, 3, 0, 5, 8, 3, 1, 7, 2, 9, 9, 0, 7, 8, 7, 5, 5, 7, 7, 1, 6, 2, 8, 3, 1, 6, 5, 7, 0, 3, 1, 9, 0, 2, 3, 7, 7, 7, 7, 4, 8, 7, 3, 1, 9, 5, 1, 5, 3, 9, 2, 7, 5, 2, 8, 1, 7, 1, 1, 9, 1, 1, 1, 3, 0, 8, 9, 6, 9, 0, 5, 5, 9, 4, 7, 1, 1, 1, 3, 1, 2, 0, 2, 1, 4, 7, 7, 1, 3, 4, 5, 6, 3, 2, 6, 8, 1, 9, 1, 6, 8, 7, 5, 5, 7, 2, 8, 6, 0, 4, 5, 3, 7, 7, 9, 1, 2, 6, 0, 2, 1, 1, 6, 2, 0, 3, 4, 9, 9, 8, 5, 8, 6, 1, 1, 9, 7, 6, 7, 1, 1, 3, 6, 1, 0, 7, 4, 3, 3, 6, 5, 1, 2, 7, 7, 9, 1, 1, 1, 6, 9, 3, 9, 7, 4, 9, 2, 0, 6, 4, 0, 9, 4, 8, 6, 4, 1, 5, 3, 0, 0, 0, 8, 0, 4, 1, 3, 1, 3, 0, 0, 1, 5, 3, 9, 9, 6, 3, 4, 1, 7, 6, 2, 2, 0, 2, 2, 9, 8, 9, 4, 3, 2, 4, 3, 8, 8, 7, 9, 1, 6, 6, 4, 3, 0, 3, 1, 1, 9, 2, 5, 8, 1, 3, 7, 5, 2, 5, 7, 2, 1, 7, 2, 1, 0, 1, 1, 5, 5, 1, 7, 1, 4, 0, 0, 7, 9, 0, 8, 1, 5, 1, 3, 7, 7, 1, 6, 2, 1, 6, 7, 3, 5, 4, 0, 3, 3, 3, 1, 2, 1, 7, 9, 1, 1, 2, 1, 7, 3, 0, 1, 7, 7, 7, 1, 6, 3, 1, 1, 4, 9, 0, 5, 4, 2, 8, 4, 4, 1, 5, 0, 4, 4, 1, 7, 8, 9, 9, 1, 8, 5, 4, 3, 1, 4, 7, 4, 8, 6, 1, 4, 5, 1, 2, 1, 9, 6, 6, 9, 1, 1, 6, 4, 2, 6, 9, 9, 6, 1, 1, 1, 9, 7, 1, 1, 0, 7, 8, 3, 6, 0, 4, 1, 9, 3, 9, 9, 1, 4, 0, 5, 7, 4, 5, 4, 9, 1, 6, 2, 1, 1, 8, 0, 3, 0, 0, 7, 6, 0, 0, 9, 0, 3, 9, 7, 3, 4, 5, 9, 3, 0, 0, 2, 7, 9, 4, 2, 3, 0, 4, 0, 4, 9, 7, 0, 8, 8, 8, 7, 6, 1, 1, 1, 8, 0, 3, 1, 7, 6, 7, 6, 1, 6, 6, 6, 0, 9, 9, 3, 7, 6, 0, 9, 5, 4, 6, 1, 5, 5, 3, 5, 7, 5, 0, 3, 5, 5, 5, 3, 4, 8, 1, 9, 3, 8, 1, 2, 6, 9, 1, 1, 0, 4, 7, 1, 0, 0, 3, 0, 1, 0, 6, 9, 1, 9, 2, 0, 9, 0, 9, 6, 9, 3, 1, 3, 4, 4, 1, 7, 6, 1, 5, 9, 7, 7, 9, 0, 9, 1, 4, 0, 7, 1, 9, 4, 8, 7, 0, 3, 9, 9, 1, 3, 0, 7, 8, 2, 9, 6, 9, 4, 8, 5, 5, 7, 1, 2, 1, 1, 1, 7, 9, 2, 6, 0, 6, 1, 8, 4, 4, 0, 6, 6, 4, 1, 2, 1, 2, 2, 7, 1, 4, 4, 8, 8, 0, 8, 1, 0, 0, 6, 4, 4, 1, 9, 2, 6, 1, 4, 9, 3, 0, 1, 2, 1, 3, 8, 9, 0, 1, 6, 6, 0, 1, 4, 7, 9, 7, 3, 9, 3, 7, 3, 5, 1, 7, 7, 1, 1, 1, 7, 1, 1, 2, 9, 1, 4, 6, 0, 1, 1, 1, 3, 2, 4, 1, 1, 2, 1, 2, 4, 3, 7, 9, 4, 0, 6, 1, 8, 0, 4, 1, 1, 9, 1, 8, 6, 4, 0, 0, 9, 9, 3, 7, 6, 1, 1, 9, 5, 1, 7, 9, 0, 1, 0, 7, 1, 4, 1, 3, 8, 5, 1, 2, 8, 0, 7, 9, 2, 7, 2, 8, 0, 0, 2, 7, 5, 8, 9, 7, 5, 8, 4, 7, 7, 9, 0, 7, 7, 1, 1, 9, 8, 4, 8, 1, 9, 0, 1, 1, 5, 3, 1, 5, 0, 4, 1, 6, 8, 6, 9, 9, 1, 0, 3, 2, 0, 7, 7, 7, 0, 8, 7, 1, 1, 1, 6, 6, 3, 3, 2, 1, 0, 4, 5, 7, 0, 6, 1, 7, 2, 1, 1, 6, 5, 6, 9, 0, 7, 0, 3, 2, 3, 1, 8, 6, 8, 7, 5, 2, 3, 9, 9, 4, 7, 1, 6, 6, 0, 1, 0, 1, 1, 9, 9, 3, 7, 6, 1, 4, 8, 5, 7, 1, 6, 2, 0, 1, 8, 3, 5, 9, 0, 3, 9, 0, 1, 8, 4, 8, 5, 8, 2, 0, 0, 2, 9, 9, 1, 0, 9, 9, 0, 6, 0, 6, 0, 6, 2, 9, 6, 1, 6, 4, 8, 5, 6, 9, 7, 3, 1, 3, 7, 4, 9, 5, 8, 9, 0, 1, 3, 9, 2, 9, 6, 7, 2, 6, 8, 0, 1, 0, 1, 4, 8, 4, 1, 4, 5, 2, 5, 1, 9, 8, 1, 3, 9, 5, 9, 0, 0, 9, 5, 2, 8, 7, 8, 6, 1, 0, 1, 8, 5, 4, 5, 9, 6, 1, 9, 8, 1, 3, 7, 5, 1, 6, 1, 1, 7, 8, 9, 1, 9, 4, 6, 1, 3, 8, 9, 1, 6, 6, 6, 6, 2, 3, 8, 1, 0, 9, 9, 5, 7, 2, 6, 1, 8, 1, 9, 3, 8, 1, 9, 1, 0, 7, 1, 2, 1, 6, 4, 0, 4, 5, 3, 1, 9, 0, 1, 8, 0, 5, 9, 1, 5, 0, 5, 8, 2, 6, 4, 2, 2, 9, 9, 7, 7, 1, 5, 9, 7, 1, 6, 1, 2, 7, 0, 6, 4, 7, 7, 4, 0, 6, 2, 9, 1, 6, 7, 8, 2, 6, 0, 8, 7, 1, 2, 5, 3, 7, 4, 1, 9, 0, 9, 0, 8, 8, 1, 1, 4, 7, 3, 9, 4, 6, 7, 8, 3, 4, 0, 3, 5, 6, 5, 8, 0, 0, 1, 1, 1, 1, 3, 2, 8, 9, 1, 7, 1, 1, 1, 0, 4, 6, 1, 8, 3, 7, 6, 6, 1, 7, 4, 2, 1, 3, 9, 5, 6, 8, 5, 8, 4, 1, 1, 2, 1, 1, 5, 2, 9, 1, 8, 2, 0, 3, 0, 0, 8, 1, 4, 1, 4, 7, 0, 2, 7, 9, 0, 4, 3, 8, 5, 7, 9, 8, 1, 6, 4, 9, 7, 4, 2, 6, 0, 3, 1, 0, 1, 1, 8, 7, 1, 7, 8, 0, 4, 3, 8, 8, 0, 2, 2, 1, 3, 1, 7, 9, 0, 1, 6, 6, 0, 7, 6, 9, 9, 1, 8, 1, 1, 4, 1, 1, 1, 0, 1, 9, 1, 8, 8, 1, 7, 2, 1, 7, 0, 1, 4, 4, 8, 9, 0, 2, 0, 0, 2, 0, 7, 3, 7, 6, 0, 1, 1, 1, 0, 8, 0, 8, 5, 0, 3, 9, 3, 7, 0, 7, 1, 6, 1, 2, 6, 2, 0, 4, 7, 2, 1, 2, 2, 2, 4, 1, 3, 4, 6, 3, 0, 6, 3, 2, 4, 4, 0, 9, 5, 2, 1, 0, 0, 7, 0, 4, 1, 1, 1, 0, 1, 4, 3, 1, 1, 1, 1, 2, 9, 9, 6, 1, 0, 6, 0, 4, 1, 1, 1, 7, 9, 1, 7, 9, 1, 1, 7, 8, 0, 2, 1, 9, 5, 7, 2, 7, 9, 7, 4, 8, 6, 0, 2, 5, 7, 1, 5, 4, 4, 4, 4, 0, 8, 1, 0, 2, 9, 5, 8, 2, 9, 4, 4, 7, 8, 5, 4, 8, 0, 7, 5, 9, 4, 1, 1, 1, 1, 5, 2, 8, 8, 1, 0, 7, 1, 0, 5, 1, 8, 3, 7, 0, 0, 6, 7, 9, 3, 1, 2, 9, 5, 1, 6, 4, 3, 9, 2, 1, 2, 8, 0, 9, 8, 0, 2, 0, 4, 5, 1, 9, 3, 8, 0, 0, 5, 4, 8, 1, 3, 5, 9, 9, 0, 2, 7, 0, 3, 4, 1, 1, 6, 3, 4, 7, 1, 3, 1, 6, 6, 0, 8, 4, 5, 7, 1, 4, 4, 9, 6, 4, 7, 6, 1, 5, 6, 6, 1, 5, 1, 4, 2, 8, 7, 3, 5, 4, 4, 9, 1, 0, 4, 5, 8, 0, 2, 2, 1, 8, 1, 1, 8, 9, 7, 1, 1, 0, 0, 2, 1, 3, 2, 6, 8, 1, 1, 7, 0, 8, 0, 6, 4, 1, 1, 0, 1, 1, 6, 7, 7, 6, 8, 8, 9, 7, 7, 7, 7, 1, 3, 9, 1, 0, 7, 3, 6, 7, 1, 4, 1, 7, 1, 4, 7, 7, 5, 0, 1, 7, 1, 7, 2, 7, 3, 2, 2, 6, 7, 9, 0, 1, 7, 4, 9, 4, 1, 1, 0, 1, 7, 1, 4, 0, 1, 1, 1, 7, 1, 8, 2, 3, 0, 1, 1, 8, 0, 8, 7, 1, 0, 6, 0, 1, 4, 9, 1, 3, 2, 1, 1, 3, 3, 1, 9, 0, 7, 5, 9, 1, 9, 7, 6, 3, 3, 9, 0, 7, 7, 5, 9, 9, 1, 0, 3, 8, 2, 3, 1, 0, 7, 8, 8, 1, 7, 7, 0, 0, 5, 7, 7, 1, 1, 2, 0, 9, 6, 1, 1, 7, 8, 9, 7, 7, 9, 1, 1, 4, 0, 0, 4, 0, 1, 7, 9, 2, 8, 5, 1, 1, 7, 4, 5, 7, 9, 3, 8, 8, 1, 8, 6, 7, 2, 1, 7, 6, 9, 1, 0, 4, 5, 5, 1, 6, 1, 6, 5, 5, 3, 8, 1, 0, 2, 1, 3, 3, 1, 0, 1, 5, 6, 1, 0, 6, 2, 0, 0, 7, 1, 4, 4, 9, 8, 9, 8, 2, 8, 8, 4, 5, 3, 6, 1, 0, 7, 6, 4, 1, 9, 6, 7, 8, 5, 1, 8, 3, 7, 7, 4, 9, 1, 2, 1, 9, 9, 5, 4, 8, 1, 2, 5, 1, 6, 8, 8, 1, 2, 2, 0, 3, 3, 1, 1, 7, 1, 7, 0, 2, 1, 8, 1, 9, 9, 0, 3, 1, 9, 2, 7, 6, 1, 4, 0, 7, 1, 5, 2, 8, 5, 0, 0, 3, 1, 1, 3, 8, 8, 0, 0, 8, 8, 7, 5, 5, 7, 1, 1, 7, 9, 8, 9, 1, 7, 6, 7, 4, 3, 9, 9, 1, 7, 9, 6, 4, 7, 8, 2, 4, 1, 7, 7, 8, 9, 7, 7, 1, 7, 5, 7, 4, 0, 9, 7, 3, 1, 8, 1, 1, 3, 1, 3, 6, 0, 0, 3, 6, 1, 1, 3, 8, 0, 0, 0, 1, 9, 0, 4, 0, 3, 6, 4, 5, 2, 9, 1, 1, 4, 1, 7, 6, 6, 7, 1, 1, 2, 1, 0, 1, 1, 2, 4, 7, 0, 7, 1, 8, 2, 6, 2, 6, 0, 1, 7, 8, 2, 9, 7, 7, 1, 3, 6, 4, 1, 6, 0, 1, 5, 1, 8, 1, 6, 1, 0, 9, 1, 0, 1, 4, 7, 6, 9, 6, 8, 2, 2, 6, 8, 6, 6, 1, 9, 8, 9, 6, 9, 7, 8, 6, 7, 1, 1, 5, 7, 8, 0, 0, 8, 0, 1, 0, 3, 1, 6, 0, 2, 2, 2, 9, 6, 1, 1, 4, 7, 2, 0, 2, 1, 1, 7, 7, 1, 0, 8, 0, 4, 1, 4, 8, 1, 6, 0, 3, 7, 3, 8, 9, 2, 9, 7, 1, 3, 3, 9, 5, 2, 0, 5, 7, 7, 7, 6, 0, 0, 3, 3, 2, 9, 6, 0, 7, 7, 9, 3, 5, 1, 1, 1, 5, 3, 6, 6, 8, 1, 5, 7, 7, 8, 6, 0, 9, 1, 2, 9, 3, 4, 4, 1, 4, 0, 5, 2, 9, 0, 1, 1, 0, 6, 2, 5, 2, 7, 9, 9, 4, 1, 0, 6, 9, 2, 0, 3, 0, 6, 5, 7, 4, 2, 2, 2, 4, 9, 8, 2, 7, 1, 6, 1, 8, 9, 1, 4, 2, 3, 1, 7, 8, 1, 7, 5, 2, 1, 3, 4, 5, 6, 8, 0, 0, 8, 0, 1, 1, 2, 0, 4, 8, 7, 2, 9, 2, 1, 8, 0, 8, 3, 3, 1, 8, 1, 3, 1, 9, 2, 1, 3, 0, 1, 4, 9, 8, 2, 1, 3, 3, 9, 5, 3, 0, 3, 1, 9, 0, 0, 2, 0, 7, 9, 2, 6, 0, 0, 6, 0, 5, 7, 6, 8, 1, 1, 1, 0, 3, 3, 6, 0, 0, 0, 1, 5, 1, 2, 3, 3, 9, 1, 2, 7, 1, 7, 9, 3, 8, 2, 9, 1, 3, 7, 2, 0, 0, 1, 8, 5, 1, 1, 5, 1, 1, 2, 9, 6, 2, 3, 1, 6, 6, 1, 6, 0, 0, 1, 1, 8, 3, 1, 3, 1, 2, 5, 1, 0, 1, 1, 3, 2, 4, 6, 3, 6, 7, 8, 0, 7, 7, 1, 5, 6, 4, 4, 7, 1, 1, 1, 0, 3, 8, 5, 6, 5, 3, 3, 6, 3, 3, 9, 6, 8, 2, 4, 7, 1, 7, 3, 3, 8, 0, 1, 1, 0, 1, 2, 9, 1, 3, 9, 5, 1, 1, 3, 1, 2, 1, 9, 0, 1, 0, 0, 1, 1, 3, 9, 3, 3, 2, 7, 8, 6, 1, 0, 3, 5, 7, 1, 7, 3, 9, 7, 5, 1, 1, 1, 8, 8, 0, 9, 7, 6, 1, 0, 0, 7, 1, 6, 4, 8, 4, 8, 3, 2, 1, 9, 0, 1, 3, 8, 1, 1, 0, 6, 0, 4, 1, 1, 7, 8, 2, 6, 7, 9, 9, 6, 0, 6, 8, 6, 1, 9, 8, 8, 6, 5, 1, 7, 1, 1, 2, 1, 6, 7, 9, 9, 7, 5, 9, 0, 1, 8, 3, 8, 0, 8, 8, 7, 1, 3, 0, 8, 7, 7, 6, 4, 0, 3, 6, 9, 7, 5, 0, 1, 1, 6, 7, 6, 9, 5, 5, 2, 2, 4, 3, 9, 7, 2, 1, 0, 6, 7, 8, 2, 6, 8, 3, 4, 5, 0, 5, 6, 9, 1, 8, 1, 0, 9, 5, 7, 8, 1, 2, 1, 2, 5, 1, 6, 1, 7, 0, 2, 9, 1, 1, 8, 0, 3, 6, 6, 0, 0, 1, 8, 8, 3, 0, 7, 5, 6, 6, 2, 3, 1, 3, 0, 4, 9, 1, 6, 4, 8, 6, 9, 0, 1, 9, 9, 6, 0, 7, 0, 8, 1, 8, 3, 9, 9, 6, 0, 5, 1, 6, 8, 5, 8, 3, 8, 0, 3, 1, 4, 0, 1, 4, 5, 0, 2, 7, 9, 9, 1, 6, 7, 2, 8, 1, 8, 7, 8, 4, 3, 6, 5, 4, 9, 0, 5, 9, 1, 6, 6, 0, 9, 1, 7, 4, 7, 1, 4, 7, 8, 1, 0, 3, 6, 0, 0, 2, 4, 8, 7, 4, 1, 1, 1, 4, 0, 2, 5, 4, 1, 8, 8, 8, 0, 1, 5, 7, 8, 9, 3, 0, 5, 4, 0, 8, 9, 0, 1, 9, 2, 2, 3, 9, 1, 0, 6, 1, 6, 0, 6, 1, 0, 8, 1, 2, 0, 7, 1, 3, 1, 5, 6, 1, 2, 1, 2, 2, 1, 8, 1, 3, 7, 2, 2, 9, 2, 0, 0, 2, 6, 2, 6, 5, 1, 4, 7, 0, 1, 3, 8, 9, 1, 6, 2, 6, 1, 8, 2, 2, 6, 6, 7, 0, 0, 1, 3, 8, 8, 1, 8, 2, 7, 6, 0, 8, 0, 4, 1, 1, 1, 4, 7, 9, 9, 2, 0, 7, 4, 3, 5, 1, 8, 9, 2, 1, 6, 6, 9, 0, 1, 7, 4, 6, 2, 1, 4, 9, 2, 8, 0, 6, 1, 7, 0, 6, 1, 1, 3, 0, 6, 3, 2, 3, 1, 5, 7, 2, 2, 0, 8, 9, 9, 0, 9, 9, 0, 9, 2, 1, 5, 8, 1, 1, 7, 7, 7, 9, 7, 8, 0, 1, 4, 6, 1, 2, 3, 1, 8, 0, 1, 8, 3, 8, 0, 6, 7, 9, 2, 6, 1, 1, 1, 2, 6, 3, 3, 2, 3, 0, 1, 3, 2, 1, 3, 3, 0, 1, 4, 1, 4, 1, 2, 9, 9, 2, 8, 0, 8, 8, 9, 0, 7, 8, 6, 1, 1, 7, 1, 1, 6, 1, 7, 7, 4, 1, 0, 0, 2, 3, 4, 0, 1, 7, 6, 9, 6, 1, 1, 9, 4, 9, 0, 2, 3, 3, 8, 4, 7, 0, 9, 8, 4, 1, 1, 8, 5, 0, 4, 0, 3, 3, 1, 9, 0, 6, 1, 9, 2, 5, 0, 0, 1, 2, 6, 7, 0, 1, 1, 9, 9, 9, 0, 1, 1, 1, 3, 6, 6, 8, 9, 0, 7, 5, 8, 7, 4, 2, 9, 0, 3, 5, 8, 1, 9, 2, 5, 0, 2, 5, 5, 1, 4, 3, 2, 9, 1, 7, 0, 5, 6, 7, 1, 7, 1, 1, 1, 9, 6, 1, 9, 7, 9, 8, 9, 5, 9, 1, 2, 1, 9, 0, 4, 1, 4, 1, 3, 1, 1, 6, 1, 1, 0, 6, 1, 0, 2, 0, 0, 6, 1, 7, 2, 5, 7, 0, 2, 4, 5, 6, 1, 2, 7, 7, 2, 1, 0, 6, 8, 6, 6, 5, 6, 1, 2, 8, 5, 0, 0, 6, 4, 1, 8, 3, 7, 8, 8, 0, 1, 6, 5, 7, 7, 9, 8, 3, 6, 2, 5, 6, 0, 6, 5, 6, 1, 8, 8, 3, 9, 6, 5, 1, 1, 0, 6, 1, 4, 3, 7, 9, 0, 0, 4, 6, 3, 5, 1, 9, 1, 8, 1, 9, 6, 6, 0, 9, 8, 4, 0, 0, 1, 1, 0, 9, 0, 8, 1, 1, 7, 1, 6, 0, 9, 6, 4, 5, 1, 0, 7, 0, 1, 0, 2, 0, 6, 5, 0, 4, 3, 1, 0, 7, 9, 2, 1, 8, 1, 7, 2, 7, 0, 8, 9, 0, 1, 8, 2, 9, 6, 7, 6, 0, 9, 6, 7, 7, 0, 3, 0, 1, 6, 2, 7, 6, 6, 7, 1, 0, 1, 2, 0, 1, 6, 6, 2, 7, 0, 7, 8, 0, 9, 1, 8, 3, 7, 0, 5, 4, 3, 1, 2, 6, 4, 7, 1, 1, 6, 0, 6, 5, 5, 2, 5, 8, 5, 0, 0, 6, 2, 1, 9, 6, 9, 9, 2, 7, 9, 0, 1, 9, 2, 8, 3, 8, 1, 6, 6, 7, 0, 7, 3, 1, 2, 7, 2, 1, 4, 9, 1, 6, 1, 4, 9, 4, 6, 7, 6, 3, 0, 8, 7, 0, 1, 9, 9, 3, 8, 5, 1, 0, 9, 7, 9, 7, 3, 3, 9, 1, 0, 9, 9, 1, 6, 3, 0, 7, 8, 7, 5, 2, 8, 1, 8, 6, 7, 0, 0, 8, 0, 2, 2, 6, 9, 9, 1, 1, 0, 7, 7, 6, 1, 6, 9, 8, 4, 6, 0, 2, 1, 6, 0, 6, 0, 1, 8, 2, 8, 6, 0, 2, 7, 6, 2, 0, 3, 7, 2, 6, 2, 7, 4, 8, 5, 0, 7, 1, 9, 6, 8, 3, 1, 1, 1, 0, 1, 6, 1, 9, 6, 7, 0, 6, 1, 9, 1, 3, 6, 9, 9, 8, 0, 0, 6, 5, 5, 7, 1, 3, 1, 9, 0, 9, 5, 1, 0, 1, 0, 7, 7, 1, 6, 6, 8, 0, 1, 0, 9, 0, 1, 5, 3, 7, 7, 1, 0, 1, 0, 3, 6, 0, 7, 8, 9, 6, 4, 8, 1, 0, 9, 1, 1, 0, 5, 3, 9, 0, 8, 7, 7, 5, 5, 8, 0, 4, 1, 6, 8, 0, 1, 7, 2, 6, 6, 2, 5, 1, 7, 1, 3, 0, 6, 6, 2, 9, 2, 0, 6, 6, 1, 8, 4, 1, 9, 0, 3, 1, 5, 9, 1, 6, 8, 5, 7, 1, 2, 4, 2, 1, 5, 0, 4, 8, 5, 9, 0, 1, 3, 5, 3, 3, 3, 0, 9, 2, 9, 2, 4, 7, 0, 8, 5, 0, 2, 7, 7, 4, 1, 4, 3, 0, 0, 5, 2, 0, 0, 9, 3, 1, 1, 1, 6, 0, 6, 2, 5, 1, 9, 3, 4, 7, 8, 4, 0, 0, 6, 7, 8, 0, 8, 6, 8, 6, 8, 4, 6, 0, 7, 9, 1, 5, 7, 4, 0, 5, 1, 3, 1, 1, 3, 6, 6, 8, 0, 9, 1, 4, 8, 7, 4, 2, 4, 8, 4, 4, 0, 4, 5, 8, 3, 7, 1, 7, 4, 7, 9, 1, 0, 4, 3, 8, 4, 0, 6, 5, 5, 9, 1, 1, 6, 3, 1, 9, 6, 3, 0, 6, 5, 6, 1, 2, 5, 7, 3, 5, 5, 4, 0, 0, 4, 6, 8, 2, 4, 7, 5, 0, 4, 7, 0, 1, 2, 6, 1, 9, 8, 6, 5, 9, 3, 1, 8, 0, 4, 4, 6, 0, 5, 3, 6, 1, 3, 3, 0, 5, 1, 1, 6, 6, 9, 8, 5, 9, 9, 6, 3, 5, 1, 9, 0, 1, 9, 1, 3, 8, 1, 6, 1, 1, 5, 3, 5, 1, 8, 1, 9, 4, 1, 4, 0, 8, 2, 1, 1, 9, 6, 2, 1, 6, 3, 9, 6, 9, 4, 9, 0, 3, 0, 4, 2, 6, 8, 1, 8, 9, 1, 5, 0, 9, 3, 0, 9, 0, 5, 4, 0, 9, 1, 9, 9, 5, 6, 1, 9, 2, 3, 3, 5, 0, 8, 1, 8, 8, 1, 0, 4, 6, 8, 5, 1, 9, 7, 3, 4, 9, 8, 1, 2, 2, 2, 1, 9, 1, 4, 6, 1, 0, 4, 7, 2, 7, 0, 0, 1, 1, 6, 0, 9, 8, 6, 7, 1, 2, 3, 7, 2, 3, 8, 7, 8, 3, 1, 4, 0, 1, 4, 2, 6, 4, 7, 7, 0, 7, 3, 6, 8, 9, 4, 0, 4, 9, 7, 7, 9, 6, 1, 7, 9, 9, 0, 8, 9, 1, 3, 9, 0, 7, 7, 8, 1, 7, 1, 6, 4, 1, 6, 5, 3, 2, 4, 6, 8, 7, 6, 1, 8, 3, 7, 1, 8, 3, 0, 4, 3, 8, 7, 9, 9, 5, 7, 0, 0, 6, 1, 1, 8, 9, 9, 6, 5, 9, 5, 9, 1, 8, 0, 1, 5, 3, 3, 2, 1, 9, 2, 7, 9, 0, 7, 4, 0, 0, 6, 6, 0, 1, 2, 0, 6, 7, 1, 6, 3, 8, 8, 0, 4, 8, 1, 6, 3, 3, 9, 7, 3, 9, 4, 3, 5, 9, 1, 3, 0, 7, 0, 7, 3, 2, 7, 0, 2, 8, 8, 4, 0, 1, 0, 5, 9, 3, 5, 2, 7, 1, 1, 6, 1, 5, 0, 8, 9, 2, 1, 4, 4, 1, 3, 2, 1, 6, 6, 1, 4, 0, 1, 0, 7, 1, 1, 9, 9, 0, 0, 8, 4, 1, 1, 1, 9, 7, 1, 1, 0, 6, 0, 0, 7, 1, 5, 7, 1, 1, 4, 0, 3, 1, 3, 9, 7, 7, 6, 9, 1, 0, 4, 7, 7, 7, 7, 9, 3, 0, 8, 0, 7, 1, 1, 9, 9, 5, 1, 7, 3, 5, 9, 8, 6, 6, 9, 2, 6, 7, 7, 0, 7, 0, 4, 0, 7, 1, 9, 3, 0, 1, 8, 6, 1, 1, 9, 1, 1, 1, 2, 2, 0, 9, 9, 0, 6, 1, 1, 1, 1, 9, 4, 1, 0, 0, 8, 1, 7, 4, 7, 1, 6, 5, 5, 4, 1, 0, 3, 1, 7, 7, 2, 8, 7, 1, 1, 9, 3, 7, 1, 7, 4, 6, 3, 0, 8, 7, 3, 1, 8, 3, 0, 6, 1, 6, 1, 5, 7, 5, 8, 1, 3, 0, 6, 0, 6, 9, 1, 5, 8, 0, 8, 9, 6, 8, 1, 4, 0, 9, 6, 2, 5, 0, 9, 1, 4, 7, 6, 9, 4, 0, 8, 9, 6, 1, 0, 3, 6, 6, 7, 1, 6, 6, 1, 8, 1, 1, 3, 7, 6, 9, 2, 7, 5, 0, 6, 5, 2, 3, 7, 3, 6, 1, 1, 7, 1, 4, 3, 2, 0, 9, 1, 0, 9, 2, 1, 4, 3, 4, 3, 2, 0, 1, 6, 1, 3, 1, 0, 0, 5, 0, 9, 1, 3, 3, 1, 5, 1, 3, 9, 9, 0, 3, 6, 1, 6, 1, 2, 5, 2, 9, 2, 0, 6, 0, 2, 0, 6, 1, 1, 1, 4, 8, 3, 9, 2, 2, 7, 8, 8, 0, 1, 1, 6, 5, 9, 8, 7, 2, 6, 1, 0, 7, 8, 1, 7, 4, 4, 6, 8, 1, 5, 9, 6, 7, 8, 6, 3, 8, 8, 2, 4, 2, 9, 1, 8, 6, 9, 6, 8, 3, 5, 1, 6, 3, 0, 9, 0, 8, 0, 1, 9, 2, 7, 4, 4, 8, 4, 5, 1, 1, 1, 9, 1, 8, 9, 7, 7, 5, 1, 3, 6, 2, 4, 8, 8, 3, 1, 1, 5, 7, 1, 2, 9, 1, 9, 3, 1, 3, 1, 8, 0, 0, 0, 8, 5, 2]\n",
      "<function L1 at 0x7fcf645dc820> 3\n"
     ]
    },
    {
     "ename": "KeyboardInterrupt",
     "evalue": "",
     "output_type": "error",
     "traceback": [
      "\u001b[0;31m---------------------------------------------------------------------------\u001b[0m",
      "\u001b[0;31mKeyboardInterrupt\u001b[0m                         Traceback (most recent call last)",
      "\u001b[0;32m/tmp/ipykernel_11495/408796141.py\u001b[0m in \u001b[0;36m<module>\u001b[0;34m\u001b[0m\n\u001b[1;32m      7\u001b[0m         \u001b[0mstart\u001b[0m\u001b[0;34m=\u001b[0m\u001b[0mtime\u001b[0m\u001b[0;34m.\u001b[0m\u001b[0mtime\u001b[0m\u001b[0;34m(\u001b[0m\u001b[0;34m)\u001b[0m\u001b[0;34m\u001b[0m\u001b[0;34m\u001b[0m\u001b[0m\n\u001b[1;32m      8\u001b[0m         \u001b[0mprint\u001b[0m\u001b[0;34m(\u001b[0m\u001b[0mi\u001b[0m\u001b[0;34m,\u001b[0m\u001b[0mj\u001b[0m\u001b[0;34m)\u001b[0m\u001b[0;34m\u001b[0m\u001b[0;34m\u001b[0m\u001b[0m\n\u001b[0;32m----> 9\u001b[0;31m         \u001b[0mpred\u001b[0m\u001b[0;34m=\u001b[0m\u001b[0mpredict\u001b[0m\u001b[0;34m(\u001b[0m\u001b[0mX_train\u001b[0m\u001b[0;34m,\u001b[0m \u001b[0my_train\u001b[0m\u001b[0;34m,\u001b[0m \u001b[0mX_val\u001b[0m\u001b[0;34m,\u001b[0m \u001b[0mj\u001b[0m\u001b[0;34m,\u001b[0m \u001b[0mi\u001b[0m\u001b[0;34m)\u001b[0m\u001b[0;34m\u001b[0m\u001b[0;34m\u001b[0m\u001b[0m\n\u001b[0m\u001b[1;32m     10\u001b[0m         \u001b[0maccuracy\u001b[0m\u001b[0;34m.\u001b[0m\u001b[0mappend\u001b[0m\u001b[0;34m(\u001b[0m\u001b[0macc\u001b[0m\u001b[0;34m(\u001b[0m\u001b[0mpred\u001b[0m\u001b[0;34m,\u001b[0m\u001b[0my_val\u001b[0m\u001b[0;34m)\u001b[0m\u001b[0;34m*\u001b[0m\u001b[0;36m100\u001b[0m\u001b[0;34m)\u001b[0m\u001b[0;34m\u001b[0m\u001b[0;34m\u001b[0m\u001b[0m\n\u001b[1;32m     11\u001b[0m         \u001b[0mend\u001b[0m\u001b[0;34m=\u001b[0m\u001b[0mtime\u001b[0m\u001b[0;34m.\u001b[0m\u001b[0mtime\u001b[0m\u001b[0;34m(\u001b[0m\u001b[0;34m)\u001b[0m\u001b[0;34m\u001b[0m\u001b[0;34m\u001b[0m\u001b[0m\n",
      "\u001b[0;32m/tmp/ipykernel_11495/2587899506.py\u001b[0m in \u001b[0;36mpredict\u001b[0;34m(x_train, y_train, x_test, k, distance_metric)\u001b[0m\n\u001b[1;32m      3\u001b[0m \u001b[0;34m\u001b[0m\u001b[0m\n\u001b[1;32m      4\u001b[0m     \u001b[0;32mfor\u001b[0m \u001b[0mtest_point\u001b[0m \u001b[0;32min\u001b[0m \u001b[0mx_test\u001b[0m\u001b[0;34m:\u001b[0m\u001b[0;34m\u001b[0m\u001b[0;34m\u001b[0m\u001b[0m\n\u001b[0;32m----> 5\u001b[0;31m         \u001b[0mdistances\u001b[0m \u001b[0;34m=\u001b[0m \u001b[0mnp\u001b[0m\u001b[0;34m.\u001b[0m\u001b[0marray\u001b[0m\u001b[0;34m(\u001b[0m\u001b[0;34m[\u001b[0m\u001b[0mdistance_metric\u001b[0m\u001b[0;34m(\u001b[0m\u001b[0mtest_point\u001b[0m\u001b[0;34m,\u001b[0m \u001b[0mtrain_point\u001b[0m\u001b[0;34m)\u001b[0m \u001b[0;32mfor\u001b[0m \u001b[0mtrain_point\u001b[0m \u001b[0;32min\u001b[0m \u001b[0mx_train\u001b[0m\u001b[0;34m]\u001b[0m\u001b[0;34m)\u001b[0m\u001b[0;34m\u001b[0m\u001b[0;34m\u001b[0m\u001b[0m\n\u001b[0m\u001b[1;32m      6\u001b[0m         \u001b[0mnearest_indices\u001b[0m \u001b[0;34m=\u001b[0m \u001b[0mnp\u001b[0m\u001b[0;34m.\u001b[0m\u001b[0margsort\u001b[0m\u001b[0;34m(\u001b[0m\u001b[0mdistances\u001b[0m\u001b[0;34m)\u001b[0m\u001b[0;34m[\u001b[0m\u001b[0;34m:\u001b[0m\u001b[0mk\u001b[0m\u001b[0;34m]\u001b[0m\u001b[0;34m\u001b[0m\u001b[0;34m\u001b[0m\u001b[0m\n\u001b[1;32m      7\u001b[0m \u001b[0;34m\u001b[0m\u001b[0m\n",
      "\u001b[0;32m/tmp/ipykernel_11495/2587899506.py\u001b[0m in \u001b[0;36m<listcomp>\u001b[0;34m(.0)\u001b[0m\n\u001b[1;32m      3\u001b[0m \u001b[0;34m\u001b[0m\u001b[0m\n\u001b[1;32m      4\u001b[0m     \u001b[0;32mfor\u001b[0m \u001b[0mtest_point\u001b[0m \u001b[0;32min\u001b[0m \u001b[0mx_test\u001b[0m\u001b[0;34m:\u001b[0m\u001b[0;34m\u001b[0m\u001b[0;34m\u001b[0m\u001b[0m\n\u001b[0;32m----> 5\u001b[0;31m         \u001b[0mdistances\u001b[0m \u001b[0;34m=\u001b[0m \u001b[0mnp\u001b[0m\u001b[0;34m.\u001b[0m\u001b[0marray\u001b[0m\u001b[0;34m(\u001b[0m\u001b[0;34m[\u001b[0m\u001b[0mdistance_metric\u001b[0m\u001b[0;34m(\u001b[0m\u001b[0mtest_point\u001b[0m\u001b[0;34m,\u001b[0m \u001b[0mtrain_point\u001b[0m\u001b[0;34m)\u001b[0m \u001b[0;32mfor\u001b[0m \u001b[0mtrain_point\u001b[0m \u001b[0;32min\u001b[0m \u001b[0mx_train\u001b[0m\u001b[0;34m]\u001b[0m\u001b[0;34m)\u001b[0m\u001b[0;34m\u001b[0m\u001b[0;34m\u001b[0m\u001b[0m\n\u001b[0m\u001b[1;32m      6\u001b[0m         \u001b[0mnearest_indices\u001b[0m \u001b[0;34m=\u001b[0m \u001b[0mnp\u001b[0m\u001b[0;34m.\u001b[0m\u001b[0margsort\u001b[0m\u001b[0;34m(\u001b[0m\u001b[0mdistances\u001b[0m\u001b[0;34m)\u001b[0m\u001b[0;34m[\u001b[0m\u001b[0;34m:\u001b[0m\u001b[0mk\u001b[0m\u001b[0;34m]\u001b[0m\u001b[0;34m\u001b[0m\u001b[0;34m\u001b[0m\u001b[0m\n\u001b[1;32m      7\u001b[0m \u001b[0;34m\u001b[0m\u001b[0m\n",
      "\u001b[0;32m/tmp/ipykernel_11495/1532430593.py\u001b[0m in \u001b[0;36mL1\u001b[0;34m(x1, x2)\u001b[0m\n\u001b[1;32m      1\u001b[0m \u001b[0;32mdef\u001b[0m \u001b[0mL1\u001b[0m\u001b[0;34m(\u001b[0m\u001b[0mx1\u001b[0m\u001b[0;34m,\u001b[0m\u001b[0mx2\u001b[0m\u001b[0;34m)\u001b[0m\u001b[0;34m:\u001b[0m\u001b[0;34m\u001b[0m\u001b[0;34m\u001b[0m\u001b[0m\n\u001b[0;32m----> 2\u001b[0;31m     \u001b[0;32mreturn\u001b[0m \u001b[0mnp\u001b[0m\u001b[0;34m.\u001b[0m\u001b[0msum\u001b[0m\u001b[0;34m(\u001b[0m\u001b[0mnp\u001b[0m\u001b[0;34m.\u001b[0m\u001b[0mabs\u001b[0m\u001b[0;34m(\u001b[0m\u001b[0mx1\u001b[0m \u001b[0;34m-\u001b[0m \u001b[0mx2\u001b[0m\u001b[0;34m)\u001b[0m\u001b[0;34m)\u001b[0m\u001b[0;34m\u001b[0m\u001b[0;34m\u001b[0m\u001b[0m\n\u001b[0m\u001b[1;32m      3\u001b[0m \u001b[0;32mdef\u001b[0m \u001b[0mL2\u001b[0m\u001b[0;34m(\u001b[0m\u001b[0mx1\u001b[0m\u001b[0;34m,\u001b[0m\u001b[0mx2\u001b[0m\u001b[0;34m)\u001b[0m\u001b[0;34m:\u001b[0m\u001b[0;34m\u001b[0m\u001b[0;34m\u001b[0m\u001b[0m\n\u001b[1;32m      4\u001b[0m     \u001b[0;32mreturn\u001b[0m \u001b[0mnp\u001b[0m\u001b[0;34m.\u001b[0m\u001b[0msqrt\u001b[0m\u001b[0;34m(\u001b[0m\u001b[0mnp\u001b[0m\u001b[0;34m.\u001b[0m\u001b[0msum\u001b[0m\u001b[0;34m(\u001b[0m\u001b[0;34m(\u001b[0m\u001b[0mx1\u001b[0m \u001b[0;34m-\u001b[0m \u001b[0mx2\u001b[0m\u001b[0;34m)\u001b[0m\u001b[0;34m**\u001b[0m\u001b[0;36m2\u001b[0m\u001b[0;34m)\u001b[0m\u001b[0;34m)\u001b[0m\u001b[0;34m\u001b[0m\u001b[0;34m\u001b[0m\u001b[0m\n\u001b[1;32m      5\u001b[0m \u001b[0;32mdef\u001b[0m \u001b[0mLinf\u001b[0m\u001b[0;34m(\u001b[0m\u001b[0mx1\u001b[0m\u001b[0;34m,\u001b[0m\u001b[0mx2\u001b[0m\u001b[0;34m)\u001b[0m\u001b[0;34m:\u001b[0m\u001b[0;34m\u001b[0m\u001b[0;34m\u001b[0m\u001b[0m\n",
      "\u001b[0;32m/usr/local/lib/python3.10/dist-packages/numpy/core/overrides.py\u001b[0m in \u001b[0;36msum\u001b[0;34m(*args, **kwargs)\u001b[0m\n",
      "\u001b[0;32m/usr/local/lib/python3.10/dist-packages/numpy/core/fromnumeric.py\u001b[0m in \u001b[0;36msum\u001b[0;34m(a, axis, dtype, out, keepdims, initial, where)\u001b[0m\n\u001b[1;32m   2322\u001b[0m         \u001b[0;32mreturn\u001b[0m \u001b[0mres\u001b[0m\u001b[0;34m\u001b[0m\u001b[0;34m\u001b[0m\u001b[0m\n\u001b[1;32m   2323\u001b[0m \u001b[0;34m\u001b[0m\u001b[0m\n\u001b[0;32m-> 2324\u001b[0;31m     return _wrapreduction(a, np.add, 'sum', axis, dtype, out, keepdims=keepdims,\n\u001b[0m\u001b[1;32m   2325\u001b[0m                           initial=initial, where=where)\n\u001b[1;32m   2326\u001b[0m \u001b[0;34m\u001b[0m\u001b[0m\n",
      "\u001b[0;32m/usr/local/lib/python3.10/dist-packages/numpy/core/fromnumeric.py\u001b[0m in \u001b[0;36m_wrapreduction\u001b[0;34m(obj, ufunc, method, axis, dtype, out, **kwargs)\u001b[0m\n\u001b[1;32m     84\u001b[0m                 \u001b[0;32mreturn\u001b[0m \u001b[0mreduction\u001b[0m\u001b[0;34m(\u001b[0m\u001b[0maxis\u001b[0m\u001b[0;34m=\u001b[0m\u001b[0maxis\u001b[0m\u001b[0;34m,\u001b[0m \u001b[0mout\u001b[0m\u001b[0;34m=\u001b[0m\u001b[0mout\u001b[0m\u001b[0;34m,\u001b[0m \u001b[0;34m**\u001b[0m\u001b[0mpasskwargs\u001b[0m\u001b[0;34m)\u001b[0m\u001b[0;34m\u001b[0m\u001b[0;34m\u001b[0m\u001b[0m\n\u001b[1;32m     85\u001b[0m \u001b[0;34m\u001b[0m\u001b[0m\n\u001b[0;32m---> 86\u001b[0;31m     \u001b[0;32mreturn\u001b[0m \u001b[0mufunc\u001b[0m\u001b[0;34m.\u001b[0m\u001b[0mreduce\u001b[0m\u001b[0;34m(\u001b[0m\u001b[0mobj\u001b[0m\u001b[0;34m,\u001b[0m \u001b[0maxis\u001b[0m\u001b[0;34m,\u001b[0m \u001b[0mdtype\u001b[0m\u001b[0;34m,\u001b[0m \u001b[0mout\u001b[0m\u001b[0;34m,\u001b[0m \u001b[0;34m**\u001b[0m\u001b[0mpasskwargs\u001b[0m\u001b[0;34m)\u001b[0m\u001b[0;34m\u001b[0m\u001b[0;34m\u001b[0m\u001b[0m\n\u001b[0m\u001b[1;32m     87\u001b[0m \u001b[0;34m\u001b[0m\u001b[0m\n\u001b[1;32m     88\u001b[0m \u001b[0;34m\u001b[0m\u001b[0m\n",
      "\u001b[0;31mKeyboardInterrupt\u001b[0m: "
     ]
    }
   ],
   "source": [
    "p=[L1,L2,Linf]\n",
    "k= list(range(1,27,2))\n",
    "# accuracy=np.zeros((3,13))\n",
    "accuracy=[]\n",
    "for index1,i in enumerate(p):\n",
    "    for index2,j in enumerate(k):\n",
    "        start=time.time()\n",
    "        print(i,j)\n",
    "        pred=predict(X_train, y_train, X_val, j, i)\n",
    "        accuracy.append(acc(pred,y_val)*100)\n",
    "        end=time.time()\n",
    "        print(f\"Taken time: {end-start} sec.\")\n",
    "        print(accuracy)\n",
    "        print(pred)\n",
    "\n",
    "# pred=predict(X_train, y_train, X_val[7300:7301,:], 3, L1)\n",
    "# pred\n",
    "    "
   ]
  },
  {
   "cell_type": "code",
   "execution_count": null,
   "id": "52be4d1a",
   "metadata": {},
   "outputs": [],
   "source": [
    "np.array(accuracy).reshape(3,13)\n"
   ]
  },
  {
   "cell_type": "code",
   "execution_count": 131,
   "id": "b4f0c587",
   "metadata": {},
   "outputs": [
    {
     "name": "stdout",
     "output_type": "stream",
     "text": [
      "[ True  True  True  True  True  True  True False  True  True  True  True\n",
      "  True  True  True  True  True False  True  True  True  True  True  True\n",
      "  True False  True  True  True False  True False False  True  True False\n",
      "  True  True  True False  True  True  True  True  True False  True False\n",
      " False  True  True  True  True  True  True False  True  True  True False\n",
      " False  True  True  True  True  True  True  True False  True  True  True\n",
      " False  True  True  True  True False  True  True  True  True False  True\n",
      "  True  True  True False  True  True  True  True False False  True  True\n",
      "  True  True  True  True]\n"
     ]
    },
    {
     "data": {
      "text/plain": [
       "79"
      ]
     },
     "execution_count": 131,
     "metadata": {},
     "output_type": "execute_result"
    }
   ],
   "source": [
    "x=[3, 2, 4, 4, 8, 1, 1, 7, 4, 7, 8, 7, 0, 1, 4, 6, 9, 9, 0, 5, 7, 5, 0, 9, 3, 7, 0, 0, 5, 8, 5, 7, 0, 8, 6, 1, 6, 2, 3, 1, 7, 1, 3, 0, 8, 3, 2, 6, 1, 5, 0, 3, 4, 8, 7, 9, 7, 1, 5, 0, 0, 0, 3, 0, 9, 1, 7, 9, 1, 9, 5, 4, 9, 2, 7, 5, 7, 0, 9, 0, 1, 9, 0, 6, 3, 6, 7, 1, 2, 8, 3, 7, 1, 9, 4, 0, 0, 3, 1, 2]\n",
    "\n",
    "y=[3, 2, 4, 4, 8, 1, 1, 4, 4, 7, 8, 7, 0, 1, 4, 6, 9, 8, 0, 5, 7, 5,\n",
    "       0, 9, 3, 8, 0, 0, 5, 3, 5, 9, 4, 8, 6, 7, 6, 2, 3, 9, 7, 1, 3, 0,\n",
    "       8, 5, 2, 1, 4, 5, 0, 3, 4, 8, 7, 9, 7, 1, 5, 6, 4, 0, 3, 0, 9, 1,\n",
    "       7, 9, 3, 9, 5, 4, 7, 2, 7, 5, 7, 4, 9, 0, 1, 9, 5, 6, 3, 6, 7, 3,\n",
    "       2, 8, 3, 7, 3, 4, 4, 0, 0, 3, 1, 2]\n",
    "print(np.array(x)==np.array(y))\n",
    "np.sum(np.array(x)==np.array(y))\n",
    "# acc([3, 2, 4, 4, 8],[3, 2, 4, 4, 8])"
   ]
  },
  {
   "cell_type": "code",
   "execution_count": 116,
   "id": "059f67a4",
   "metadata": {},
   "outputs": [
    {
     "data": {
      "text/plain": [
       "array([[0.09725   , 0.09725   , 0.09725   , 0.09725   , 0.11633333,\n",
       "        0.09725   , 0.09725   , 0.09725   , 0.11633333, 0.11633333,\n",
       "        0.11633333, 0.11633333, 0.11633333],\n",
       "       [0.09975   , 0.09975   , 0.09975   , 0.09975   , 0.09975   ,\n",
       "        0.09975   , 0.10933333, 0.10933333, 0.10933333, 0.11633333,\n",
       "        0.11633333, 0.11633333, 0.11633333],\n",
       "       [0.09725   , 0.09725   , 0.09725   , 0.09725   , 0.09725   ,\n",
       "        0.0955    , 0.0955    , 0.0955    , 0.0955    , 0.0955    ,\n",
       "        0.0955    , 0.0955    , 0.0955    ]])"
      ]
     },
     "execution_count": 116,
     "metadata": {},
     "output_type": "execute_result"
    }
   ],
   "source": [
    "np.array(accuracy).reshape(3,13)"
   ]
  },
  {
   "cell_type": "code",
   "execution_count": 91,
   "id": "293e8b11",
   "metadata": {},
   "outputs": [
    {
     "name": "stdout",
     "output_type": "stream",
     "text": [
      "0 <function L1 at 0x7fcf645dc820>\n",
      "1 <function L2 at 0x7fcf645dc9d0>\n",
      "2 <function Linf at 0x7fcf64330700>\n",
      "0 1\n",
      "1 3\n",
      "2 5\n",
      "3 7\n",
      "4 9\n",
      "5 11\n",
      "6 13\n",
      "7 15\n",
      "8 17\n",
      "9 19\n",
      "10 21\n",
      "11 23\n",
      "12 25\n",
      "[[0. 0. 0. 0. 0. 0. 0. 0. 0. 0. 0. 0. 0.]\n",
      " [0. 0. 0. 0. 0. 0. 0. 0. 0. 0. 0. 0. 0.]\n",
      " [0. 0. 0. 0. 0. 0. 0. 0. 0. 0. 0. 0. 0.]]\n"
     ]
    }
   ],
   "source": [
    "for index,i in enumerate(p):\n",
    "    print(index,i)\n",
    "for index2,j in enumerate(k):\n",
    "    print(index2,j)\n",
    "accuracy=np.zeros((3,13))\n",
    "print(accuracy)"
   ]
  },
  {
   "cell_type": "code",
   "execution_count": null,
   "id": "b32fb964",
   "metadata": {},
   "outputs": [],
   "source": []
  }
 ],
 "metadata": {
  "kernelspec": {
   "display_name": "Python 3 (ipykernel)",
   "language": "python",
   "name": "python3"
  },
  "language_info": {
   "codemirror_mode": {
    "name": "ipython",
    "version": 3
   },
   "file_extension": ".py",
   "mimetype": "text/x-python",
   "name": "python",
   "nbconvert_exporter": "python",
   "pygments_lexer": "ipython3",
   "version": "3.10.12"
  }
 },
 "nbformat": 4,
 "nbformat_minor": 5
}
