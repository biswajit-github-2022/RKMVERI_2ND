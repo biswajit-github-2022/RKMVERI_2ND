{
 "cells": [
  {
   "cell_type": "code",
   "execution_count": 3,
   "id": "9b5bf43e",
   "metadata": {},
   "outputs": [],
   "source": [
    "\"\"\"\n",
    "-----------------------------------------------------------------------------\n",
    "MNIST digit data reading helper\n",
    "-----------------------------------------------------------------------------\n",
    "AUTHOR: Soumitra Samanta (soumitra.samanta@gm.rkmvu.ac.in)\n",
    "-----------------------------------------------------------------------------\n",
    "\"\"\"\n",
    "\n",
    "import gzip\n",
    "import numpy as np\n",
    "import matplotlib.pyplot as plt\n",
    "import pandas as pd"
   ]
  },
  {
   "cell_type": "markdown",
   "id": "55c9e6c7",
   "metadata": {},
   "source": [
    "# Read MNIST data:\n",
    "There are many [ways](https://stackoverflow.com/questions/40427435/extract-images-from-idx3-ubyte-file-or-gzip-via-python) you can read the MNIST data. Here is a [way](https://stackoverflow.com/a/62781370) to read all the information."
   ]
  },
  {
   "cell_type": "code",
   "execution_count": 4,
   "id": "47ce6c3c",
   "metadata": {},
   "outputs": [
    {
     "name": "stdout",
     "output_type": "stream",
     "text": [
      "Train data (X) size: (60000, 28, 28), and labels (Y) size: (60000,)\n",
      "Test data (X) size: (10000, 28, 28), and labels (Y) size: (10000,)\n"
     ]
    },
    {
     "data": {
      "image/png": "[encoded data removed]",
      "text/plain": [
       "<Figure size 640x480 with 1 Axes>"
      ]
     },
     "metadata": {},
     "output_type": "display_data"
    },
    {
     "name": "stdout",
     "output_type": "stream",
     "text": [
      "Train image 17230-th sample \n",
      "[[  0   0   0   0   0   0   0   0   0   0   0   0   0   0   0   0   0   0\n",
      "    0   0   0   0   0   0   0   0   0   0]\n",
      " [  0   0   0   0   0   0   0   0   0   0   0   0   0   0   0   0   0   0\n",
      "    0   0   0   0   0   0   0   0   0   0]\n",
      " [  0   0   0   0   0   0   0   0   0   0   0   0   0   0   0   0   0   0\n",
      "    0   0   0   0   0   0   0   0   0   0]\n",
      " [  0   0   0   0   0   0   0   0   0   0   0   0   0   0   0   0   0   0\n",
      "    0   0   0   0   0   0   0   0   0   0]\n",
      " [  0   0   0   0   0   0   0   0   0   0   0  16 101 143 239 255 253 253\n",
      "  100  50   0   0   0   0   0   0   0   0]\n",
      " [  0   0   0   0   0   0   0   0   0   0  24 204 252 252 194 187 203 252\n",
      "  252 164   0   0   0   0   0   0   0   0]\n",
      " [  0   0   0   0   0   0   0   0   0   0 179 205 134  44   6   0  12  87\n",
      "  248 107   0   0   0   0   0   0   0   0]\n",
      " [  0   0   0   0   0   0   0   0   0  49 190  15   0   0   0   0   6 157\n",
      "  250  80   0   0   0   0   0   0   0   0]\n",
      " [  0   0   0   0   0   0   0   0   0   0   0   0   0   0   0   0 138 252\n",
      "  206   0   0   0   0   0   0   0   0   0]\n",
      " [  0   0   0   0   0   0   0   0   0   0   0   0   0   0   0  65 236 252\n",
      "   34   0   0   0   0   0   0   0   0   0]\n",
      " [  0   0   0   0   0   0   0   0   0   0   0   0   0   0  10 196 249 198\n",
      "    6   0   0   0   0   0   0   0   0   0]\n",
      " [  0   0   0   0   0   0   0   0   0   0   0   0   0  14 226 214  73   0\n",
      "    0   0   0   0   0   0   0   0   0   0]\n",
      " [  0   0   0   0   0   0   0   0   0   0   0   0  14 179 252 111   0   0\n",
      "    0   0   0   0   0   0   0   0   0   0]\n",
      " [  0   0   0   0   0   0   0   0   0   0   0  54 183 252 204  14   0   0\n",
      "    0   0   0   0   0   0   0   0   0   0]\n",
      " [  0   0   0   0   0   0   0   0   0   0   0 136 253 243  28   0   0   0\n",
      "    0   0   0   0   0   0   0   0   0   0]\n",
      " [  0   0   0   0   0   0   0   0   0   0 138 246 241  82   0   0   0   0\n",
      "    0   0   0   0   0   0   0   0   0   0]\n",
      " [  0   0   0   0   0   0   0   0   0  22 219 252 165   0   0   0   0   0\n",
      "    0   0   0   0   0   0   0   0   0   0]\n",
      " [  0   0   0   0   0   0   0   0  12 206 252 184   4   0   0   0   0   0\n",
      "    0   0   0   0   0   0   0   0   0   0]\n",
      " [  0   0   0   0   0   0   0   0  23 252 252  60   0   0   0   0   0   0\n",
      "    0   0   0   0   0   0   0   0   0   0]\n",
      " [  0   0   0   0   0   0   0   0   5 184 252 108   0   0   0   0   0   0\n",
      "    0   0   0   0   0   0   0   0   0   0]\n",
      " [  0   0   0   0   0   0   0   0   0 165 252 233  10   0   0   0   0   0\n",
      "    0  32  83   1   0   0   0   0   0   0]\n",
      " [  0   0   0   0   0   0   0   0   0  65 200 252 235 121  45  45  74 154\n",
      "  154 209 170   9   0   0   0   0   0   0]\n",
      " [  0   0   0   0   0   0   0   0   0   0  23 122 252 252 252 253 252 252\n",
      "  246  89   0   0   0   0   0   0   0   0]\n",
      " [  0   0   0   0   0   0   0   0   0   0   0   2  52 142 190 191 142  51\n",
      "   30   0   0   0   0   0   0   0   0   0]\n",
      " [  0   0   0   0   0   0   0   0   0   0   0   0   0   0   0   0   0   0\n",
      "    0   0   0   0   0   0   0   0   0   0]\n",
      " [  0   0   0   0   0   0   0   0   0   0   0   0   0   0   0   0   0   0\n",
      "    0   0   0   0   0   0   0   0   0   0]\n",
      " [  0   0   0   0   0   0   0   0   0   0   0   0   0   0   0   0   0   0\n",
      "    0   0   0   0   0   0   0   0   0   0]\n",
      " [  0   0   0   0   0   0   0   0   0   0   0   0   0   0   0   0   0   0\n",
      "    0   0   0   0   0   0   0   0   0   0]]\n"
     ]
    }
   ],
   "source": [
    "def read_images(filename):\n",
    "    \"\"\"Read MNIST images\"\"\"\n",
    "    \n",
    "    with gzip.open(filename, 'r') as f:\n",
    "        # first 4 bytes is a magic number\n",
    "        magic_number = int.from_bytes(f.read(4), 'big')\n",
    "        # second 4 bytes is the number of images\n",
    "        image_count = int.from_bytes(f.read(4), 'big')\n",
    "        # third 4 bytes is the row count\n",
    "        row_count = int.from_bytes(f.read(4), 'big')\n",
    "        # fourth 4 bytes is the column count\n",
    "        column_count = int.from_bytes(f.read(4), 'big')\n",
    "        # rest is the image pixel data, each pixel is stored as an unsigned byte\n",
    "        # pixel values are 0 to 255\n",
    "        image_data = f.read()\n",
    "        images = np.frombuffer(image_data, dtype=np.uint8).reshape((image_count, row_count, column_count))\n",
    "        \n",
    "    return images\n",
    "\n",
    "def read_labels(filename):\n",
    "    \"\"\"Read MNIST labels\"\"\"\n",
    "    \n",
    "    with gzip.open(filename, 'r') as f:\n",
    "        # first 4 bytes is a magic number\n",
    "        magic_number = int.from_bytes(f.read(4), 'big')\n",
    "        # second 4 bytes is the number of labels\n",
    "        label_count = int.from_bytes(f.read(4), 'big')\n",
    "        # rest is the label data, each label is stored as unsigned byte\n",
    "        # label values are 0 to 9\n",
    "        label_data = f.read()\n",
    "        labels = np.frombuffer(label_data, dtype=np.uint8)\n",
    "        \n",
    "    return labels\n",
    "\n",
    "\n",
    "dataset_path = '/home/biswajitrana/Documents/2nd_semester/RKMVERI_2ND/class/ML/SS_assignments_1/'# Change your data path\n",
    "\n",
    "train_image_filename = ''.join([dataset_path, 'train-images-idx3-ubyte.gz'])\n",
    "train_label_filename = ''.join([dataset_path, 'train-labels-idx1-ubyte.gz'])\n",
    "\n",
    "test_image_filename = ''.join([dataset_path, 't10k-images-idx3-ubyte.gz'])\n",
    "test_label_filename = ''.join([dataset_path, 't10k-labels-idx1-ubyte.gz'])\n",
    "\n",
    "train_images = read_images(train_image_filename)\n",
    "train_labels = read_labels(train_label_filename)\n",
    "print('Train data (X) size: {}, and labels (Y) size: {}' .format(train_images.shape, train_labels.shape))\n",
    "\n",
    "test_images = read_images(test_image_filename)\n",
    "test_labels = read_labels(test_label_filename)\n",
    "print('Test data (X) size: {}, and labels (Y) size: {}' .format(test_images.shape, test_labels.shape))\n",
    "\n",
    "rand_ids = np.random.choice(train_images.shape[0])\n",
    "# rand_ids=12553\n",
    "plt.imshow(train_images[rand_ids, :, :], cmap='gray')\n",
    "plt.title('class-'+str(train_labels[rand_ids]))\n",
    "plt.show()\n",
    "\n",
    "print('Train image {}-th sample ' .format(rand_ids))\n",
    "print(train_images[rand_ids, :, :])\n",
    "\n"
   ]
  },
  {
   "cell_type": "markdown",
   "id": "54daa6a9",
   "metadata": {},
   "source": [
    "# Extract 20% data from thhe training data as a validation set. <font color='red'>Please do not use some standard function from scikit-learn or others!</font>"
   ]
  },
  {
   "cell_type": "code",
   "execution_count": 3,
   "id": "09a49711",
   "metadata": {},
   "outputs": [],
   "source": [
    "# Your validation set extraction script/code \n",
    "\n"
   ]
  },
  {
   "cell_type": "code",
   "execution_count": 4,
   "id": "0668cc39",
   "metadata": {},
   "outputs": [],
   "source": [
    "test_img= np.array(test_images.reshape(10000, 28*28), dtype = np.float64)"
   ]
  },
  {
   "cell_type": "code",
   "execution_count": 5,
   "id": "ba657589",
   "metadata": {},
   "outputs": [],
   "source": [
    "train_reshape = np.array(train_images.reshape(60000, 28*28), dtype = np.float64) #flattening train images\n",
    "\n",
    "np.random.seed(20)\n",
    "train_random = np.random.choice(range(60000), 60000, replace = False) #generating random indices\n",
    "train_df = train_reshape[train_random] #shuffeling train image data\n",
    "valid_img = train_df[:12000]    #first 12000 as validation images\n",
    "train_img = train_df[12000:]    #48000 as train images\n",
    "\n",
    "random_lab = train_labels[train_random]     #shuffeling labels\n",
    "valid_lab = random_lab[:12000]      #first 12000 as validation labels\n",
    "train_lab = random_lab[12000:]      #48000 as train labels\n",
    "\n",
    "test_img = np.array(test_images.reshape(10000, 28*28), dtype = np.float64)  #flattening train images\n",
    "# print(test_img)"
   ]
  },
  {
   "cell_type": "code",
   "execution_count": 6,
   "id": "7ce7e7ce",
   "metadata": {},
   "outputs": [
    {
     "name": "stdout",
     "output_type": "stream",
     "text": [
      "(48000, 784)\n",
      "(12000, 784)\n",
      "(48000,)\n",
      "(12000,)\n"
     ]
    }
   ],
   "source": [
    "# shapes\n",
    "print(train_img.shape)\n",
    "print(valid_img.shape)\n",
    "print(train_lab.shape)\n",
    "print(valid_lab.shape)"
   ]
  },
  {
   "cell_type": "code",
   "execution_count": 7,
   "id": "5b4242ed",
   "metadata": {},
   "outputs": [],
   "source": [
    "#peek\n",
    "\n",
    "# rand_ids = np.random.choice(X_train.shape[0])\n",
    "# print(rand_ids)\n",
    "# print(y_train[rand_ids])\n",
    "# plt.imshow(X_train[rand_ids, :].reshape(28,28), cmap='gray')\n",
    "# plt.title('class-'+str(y_train[rand_ids]))\n",
    "# plt.show()\n",
    "\n",
    "# rand_ids = np.random.choice(X_val.shape[0])\n",
    "# print(rand_ids)\n",
    "# print(y_val[rand_ids])\n",
    "# plt.imshow(X_val[rand_ids, :].reshape(28,28), cmap='gray')\n",
    "# plt.title('class-'+str(y_val[rand_ids]))\n",
    "# plt.show()"
   ]
  },
  {
   "cell_type": "markdown",
   "id": "d7570a8f",
   "metadata": {},
   "source": [
    "# Implement k-NN classification rule/algorithm, we have discussed in our class. <font color='red'>Please do not use some standard function from scikit-learn or others!</font>"
   ]
  },
  {
   "cell_type": "code",
   "execution_count": 8,
   "id": "939686e0",
   "metadata": {},
   "outputs": [],
   "source": [
    "# Your k-NN algorithm script/code \n"
   ]
  },
  {
   "cell_type": "code",
   "execution_count": 45,
   "id": "96b0f4f3",
   "metadata": {},
   "outputs": [],
   "source": [
    "# Your k-NN algorithm script/code \n",
    "\n",
    "# Distance Functions\n",
    "# 1. euclidean (L2)\n",
    "def L2(x):\n",
    "    return np.linalg.norm(train_img - x, axis = 1)\n",
    "# 2.Manhatten (L1)\n",
    "def L1(x):\n",
    "    return np.sum(np.abs(train_img - x), axis = 1)\n",
    "# 3. Linf Norm\n",
    "def Linf(x):\n",
    "    return np.max(np.abs(train_img - x), axis = 1)\n",
    "\n",
    "#Accuracy Function \n",
    "def acc_percentage(x,y):\n",
    "    z = (np.array(x) == np.array(y))\n",
    "    return (np.sum(z)*100)/len(x)\n",
    "\n",
    "\n",
    "# Defining Prediction Function for k = 1, 3, 5,..., 25\n",
    "\n",
    "def prediction(data, function):\n",
    "    a = {} # Dictionary\n",
    "    for i in range(1,26,2):\n",
    "        a[i] = []\n",
    "    for j in data:\n",
    "        dist = function(j)\n",
    "        dist_dataframe = pd.DataFrame(dist)\n",
    "        dist_dataframe[\"label\"] = train_lab\n",
    "        dist_sorted_dataframe = dist_dataframe.sort_values(by = [0])\n",
    "        # print(temp_sort)\n",
    "        for k in range(1,26,2):\n",
    "            shortest_k = dist_sorted_dataframe.iloc[0:k]\n",
    "            b = shortest_k.value_counts(\"label\").index[0]\n",
    "            a[k].append(b)\n",
    "    print(\"The values of k are in column indexes \\n the values along column are predictions \\n values on right most are sample no.\\n\")\n",
    "    return pd.DataFrame(a)\n",
    "    \n",
    "\n",
    "# Defining Prediction Function for a particular value of k\n",
    "    \n",
    "def prediction_k(data,label, k, function):\n",
    "    a = {} # Dictionary\n",
    "    for i in range(1,k+1,2):\n",
    "        a[i] = []\n",
    "    for j in data:\n",
    "        temp = function(j)\n",
    "        temp_dataframe = pd.DataFrame(temp)\n",
    "        temp_dataframe[\"label\"] = label\n",
    "        temp_sort = temp_dataframe.sort_values(by = [0])\n",
    "        temp_k = temp_sort.iloc[0:k]\n",
    "        b = temp_k.value_counts(\"label\").index[0]\n",
    "        a[k].append(b)\n",
    "    print(\"The values of {} are in column indexes and the values along column are predictions\". format(k))\n",
    "    return pd.DataFrame(a[k]) "
   ]
  },
  {
   "cell_type": "markdown",
   "id": "d5ff491c",
   "metadata": {},
   "source": [
    "# For P=2 , <span style=\"color:red\">L2 NORM (Euclidean)</span>"
   ]
  },
  {
   "cell_type": "code",
   "execution_count": 10,
   "id": "3cd03dcc",
   "metadata": {},
   "outputs": [
    {
     "name": "stdout",
     "output_type": "stream",
     "text": [
      "The values of k are in column indexes \n",
      " the values along column are predictions \n",
      " values on right most are sample no.\n",
      "\n",
      "       1   3   5   7   9   11  13  15  17  19  21  23  25\n",
      "0       9   9   9   9   9   9   9   9   9   9   9   9   9\n",
      "1       5   5   5   5   5   5   5   5   5   5   5   5   5\n",
      "2       7   7   7   7   7   7   7   7   7   7   7   7   7\n",
      "3       7   7   7   7   7   7   7   7   7   7   7   7   7\n",
      "4       1   1   1   1   1   1   1   1   1   1   1   1   1\n",
      "...    ..  ..  ..  ..  ..  ..  ..  ..  ..  ..  ..  ..  ..\n",
      "11995   2   2   2   2   2   2   2   2   2   2   2   2   2\n",
      "11996   9   9   9   9   9   9   9   9   9   9   9   9   9\n",
      "11997   8   8   8   8   8   8   8   8   8   8   8   8   8\n",
      "11998   1   1   1   1   1   1   1   1   1   1   1   1   1\n",
      "11999   4   4   4   4   4   4   4   4   4   9   9   9   9\n",
      "\n",
      "[12000 rows x 13 columns]\n",
      "Manhaten : Best k = 1 with highest accuracy = 97.15833333333333\n",
      "CPU times: user 48min 11s, sys: 23min, total: 1h 11min 12s\n",
      "Wall time: 1h 12min 4s\n"
     ]
    },
    {
     "data": {
      "text/plain": [
       "<matplotlib.collections.PathCollection at 0x7f69fca7a140>"
      ]
     },
     "execution_count": 10,
     "metadata": {},
     "output_type": "execute_result"
    },
    {
     "data": {
      "image/png": "[encoded data removed]",
      "text/plain": [
       "<Figure size 432x288 with 1 Axes>"
      ]
     },
     "metadata": {
      "needs_background": "light"
     },
     "output_type": "display_data"
    }
   ],
   "source": [
    "%%time\n",
    "Euclid = prediction(valid_img, L2) #getting predicted array\n",
    "print(Euclid)\n",
    "acc_Euclid = Euclid.apply(acc_percentage, y = valid_lab)\n",
    "sort_acc_Euclid=acc_Euclid.sort_values(ascending = False)\n",
    "\n",
    "# plot using acc_Euclid\n",
    "\n",
    "# Finding the Highest k\n",
    "Euclid_k_highest = sort_acc_Euclid.index[0]\n",
    "Euclid_k_highest\n",
    "# Finding the Highest Accuracy\n",
    "Euclid_Value = sort_acc_Euclid.values[0]\n",
    "Euclid_Value\n",
    "print(f\"Manhaten : Best k = {Euclid_k_highest} with highest accuracy = {Euclid_Value}\")\n",
    "plt.scatter(sort_acc_Euclid.index, sort_acc_Euclid.values)"
   ]
  },
  {
   "cell_type": "code",
   "execution_count": 11,
   "id": "f4697504",
   "metadata": {},
   "outputs": [
    {
     "data": {
      "text/plain": [
       "1     97.158333\n",
       "3     97.125000\n",
       "5     97.041667\n",
       "7     96.875000\n",
       "9     96.691667\n",
       "11    96.525000\n",
       "13    96.458333\n",
       "15    96.250000\n",
       "17    96.191667\n",
       "19    96.083333\n",
       "21    95.925000\n",
       "23    95.841667\n",
       "25    95.783333\n",
       "dtype: float64"
      ]
     },
     "execution_count": 11,
     "metadata": {},
     "output_type": "execute_result"
    }
   ],
   "source": [
    "sort_acc_Euclid"
   ]
  },
  {
   "cell_type": "markdown",
   "id": "1e1d3cc5",
   "metadata": {},
   "source": [
    "# For P=1 , <span style=\"color:red\">L1 NORM (Manhaten)</span>\n"
   ]
  },
  {
   "cell_type": "code",
   "execution_count": 12,
   "id": "5c2346de",
   "metadata": {},
   "outputs": [
    {
     "name": "stdout",
     "output_type": "stream",
     "text": [
      "The values of k are in column indexes \n",
      " the values along column are predictions \n",
      " values on right most are sample no.\n",
      "\n",
      "       1   3   5   7   9   11  13  15  17  19  21  23  25\n",
      "0       9   9   9   9   9   9   9   9   9   9   9   9   9\n",
      "1       5   5   5   5   5   5   5   5   5   5   5   5   5\n",
      "2       7   7   7   7   7   7   7   7   7   7   7   7   7\n",
      "3       7   7   7   7   7   7   7   7   7   7   7   7   7\n",
      "4       1   1   1   1   1   1   1   1   1   1   1   1   1\n",
      "...    ..  ..  ..  ..  ..  ..  ..  ..  ..  ..  ..  ..  ..\n",
      "11995   2   2   2   2   2   2   2   2   2   2   2   2   2\n",
      "11996   9   9   9   9   9   9   9   9   9   9   9   9   9\n",
      "11997   8   8   8   8   8   8   8   8   8   8   8   8   8\n",
      "11998   1   1   1   1   1   1   1   1   1   1   1   1   1\n",
      "11999   4   4   4   4   4   4   4   4   4   4   4   4   9\n",
      "\n",
      "[12000 rows x 13 columns]\n",
      "Manhaten : Best k = 3 with highest accuracy = 96.60833333333333\n",
      "CPU times: user 25min 29s, sys: 11min 41s, total: 37min 11s\n",
      "Wall time: 37min 16s\n"
     ]
    },
    {
     "data": {
      "text/plain": [
       "<matplotlib.collections.PathCollection at 0x7f69fc916cb0>"
      ]
     },
     "execution_count": 12,
     "metadata": {},
     "output_type": "execute_result"
    },
    {
     "data": {
      "image/png": "[encoded data removed]",
      "text/plain": [
       "<Figure size 432x288 with 1 Axes>"
      ]
     },
     "metadata": {
      "needs_background": "light"
     },
     "output_type": "display_data"
    }
   ],
   "source": [
    "%%time\n",
    "Manhaten = prediction(valid_img, L1) #getting predictions for all k\n",
    "print(Manhaten)\n",
    "acc_Manhaten = Manhaten.apply(acc_percentage, y = valid_lab)  #acc_Manhaten\n",
    "sort_acc_Manhaten=acc_Manhaten.sort_values(ascending = False) # accuracy array for all k\n",
    "\n",
    "# plot using acc_Manhaten\n",
    "\n",
    "# Finding the Highest k\n",
    "Manhaten_k_highest = sort_acc_Manhaten.index[0]\n",
    "Manhaten_k_highest\n",
    "# Finding the Highest Accuracy\n",
    "Manhaten_Value = sort_acc_Manhaten.values[0]\n",
    "Manhaten_Value\n",
    "\n",
    "print(f\"Manhaten : Best k = {Manhaten_k_highest} with highest accuracy = {Manhaten_Value}\")\n",
    "plt.scatter(sort_acc_Manhaten.index, sort_acc_Manhaten.values)"
   ]
  },
  {
   "cell_type": "code",
   "execution_count": 13,
   "id": "aaafcf71",
   "metadata": {},
   "outputs": [
    {
     "data": {
      "text/plain": [
       "3     96.608333\n",
       "1     96.500000\n",
       "5     96.425000\n",
       "7     96.300000\n",
       "9     96.066667\n",
       "11    95.908333\n",
       "13    95.641667\n",
       "15    95.608333\n",
       "17    95.366667\n",
       "19    95.191667\n",
       "21    95.025000\n",
       "23    95.000000\n",
       "25    94.875000\n",
       "dtype: float64"
      ]
     },
     "execution_count": 13,
     "metadata": {},
     "output_type": "execute_result"
    }
   ],
   "source": [
    "sort_acc_Manhaten"
   ]
  },
  {
   "cell_type": "markdown",
   "id": "b30165c1",
   "metadata": {},
   "source": [
    "# For P=1 , <span style=\"color:red\">L-inf NORM</span>"
   ]
  },
  {
   "cell_type": "code",
   "execution_count": 14,
   "id": "9f1bd9a0",
   "metadata": {},
   "outputs": [
    {
     "name": "stdout",
     "output_type": "stream",
     "text": [
      "The values of k are in column indexes \n",
      " the values along column are predictions \n",
      " values on right most are sample no.\n",
      "\n",
      "       1   3   5   7   9   11  13  15  17  19  21  23  25\n",
      "0       9   9   9   9   9   9   9   9   9   9   9   9   9\n",
      "1       0   0   3   0   7   7   7   7   7   3   7   7   7\n",
      "2       6   4   4   4   4   4   4   4   4   4   4   4   4\n",
      "3       7   7   7   7   7   7   7   7   7   7   7   7   7\n",
      "4       1   1   1   1   1   1   1   1   1   1   1   1   1\n",
      "...    ..  ..  ..  ..  ..  ..  ..  ..  ..  ..  ..  ..  ..\n",
      "11995   6   6   6   6   6   6   2   2   2   6   6   6   6\n",
      "11996   9   9   9   9   9   9   9   9   9   9   9   9   9\n",
      "11997   3   3   3   3   3   3   3   3   3   3   3   3   3\n",
      "11998   1   1   1   1   1   1   1   1   1   1   1   1   1\n",
      "11999   9   8   8   8   8   8   8   8   8   8   8   8   8\n",
      "\n",
      "[12000 rows x 13 columns]\n",
      "Chebychev : Best k = 1 with highest accuracy = 81.66666666666667\n",
      "CPU times: user 24min 36s, sys: 11min 25s, total: 36min 2s\n",
      "Wall time: 36min 2s\n"
     ]
    },
    {
     "data": {
      "text/plain": [
       "<matplotlib.collections.PathCollection at 0x7f69fc97a830>"
      ]
     },
     "execution_count": 14,
     "metadata": {},
     "output_type": "execute_result"
    },
    {
     "data": {
      "image/png": "[encoded data removed]",
      "text/plain": [
       "<Figure size 432x288 with 1 Axes>"
      ]
     },
     "metadata": {
      "needs_background": "light"
     },
     "output_type": "display_data"
    }
   ],
   "source": [
    "%%time\n",
    "L_inf = prediction(valid_img, Linf)\n",
    "print(L_inf)\n",
    "acc_Linf = L_inf.apply(acc_percentage, y = valid_lab)\n",
    "sort_acc_Linf=acc_Linf.sort_values(ascending = False)\n",
    "\n",
    "# plot using acc_Linf\n",
    "\n",
    "# Finding the Highest k\n",
    "Linf_k_highest = sort_acc_Linf.index[0]\n",
    "Linf_k_highest\n",
    "# Finding the Highest Accuracy\n",
    "Linf_Value = sort_acc_Linf.values[0]\n",
    "Linf_Value\n",
    "print(f\"Chebychev : Best k = {Linf_k_highest} with highest accuracy = {Linf_Value}\")\n",
    "plt.scatter(sort_acc_Linf.index, sort_acc_Linf.values)"
   ]
  },
  {
   "cell_type": "code",
   "execution_count": 15,
   "id": "f7159413",
   "metadata": {},
   "outputs": [
    {
     "data": {
      "text/plain": [
       "1     81.666667\n",
       "5     80.300000\n",
       "7     80.125000\n",
       "3     80.075000\n",
       "9     79.841667\n",
       "11    79.541667\n",
       "13    79.400000\n",
       "15    79.000000\n",
       "17    78.858333\n",
       "19    78.300000\n",
       "21    78.208333\n",
       "23    77.825000\n",
       "25    77.516667\n",
       "dtype: float64"
      ]
     },
     "execution_count": 15,
     "metadata": {},
     "output_type": "execute_result"
    }
   ],
   "source": [
    "sort_acc_Linf"
   ]
  },
  {
   "cell_type": "markdown",
   "id": "912bccc3",
   "metadata": {},
   "source": [
    "# Accuracy Matrices"
   ]
  },
  {
   "cell_type": "code",
   "execution_count": 16,
   "id": "1dbf3fa1",
   "metadata": {},
   "outputs": [
    {
     "data": {
      "text/plain": [
       "1     97.158333\n",
       "3     97.125000\n",
       "5     97.041667\n",
       "7     96.875000\n",
       "9     96.691667\n",
       "11    96.525000\n",
       "13    96.458333\n",
       "15    96.250000\n",
       "17    96.191667\n",
       "19    96.083333\n",
       "21    95.925000\n",
       "23    95.841667\n",
       "25    95.783333\n",
       "dtype: float64"
      ]
     },
     "execution_count": 16,
     "metadata": {},
     "output_type": "execute_result"
    }
   ],
   "source": [
    "acc_Euclid"
   ]
  },
  {
   "cell_type": "code",
   "execution_count": 17,
   "id": "f12faa22",
   "metadata": {},
   "outputs": [
    {
     "data": {
      "text/plain": [
       "1     96.500000\n",
       "3     96.608333\n",
       "5     96.425000\n",
       "7     96.300000\n",
       "9     96.066667\n",
       "11    95.908333\n",
       "13    95.641667\n",
       "15    95.608333\n",
       "17    95.366667\n",
       "19    95.191667\n",
       "21    95.025000\n",
       "23    95.000000\n",
       "25    94.875000\n",
       "dtype: float64"
      ]
     },
     "execution_count": 17,
     "metadata": {},
     "output_type": "execute_result"
    }
   ],
   "source": [
    "acc_Manhaten"
   ]
  },
  {
   "cell_type": "code",
   "execution_count": 18,
   "id": "24addaac",
   "metadata": {},
   "outputs": [
    {
     "data": {
      "text/plain": [
       "1     81.666667\n",
       "3     80.075000\n",
       "5     80.300000\n",
       "7     80.125000\n",
       "9     79.841667\n",
       "11    79.541667\n",
       "13    79.400000\n",
       "15    79.000000\n",
       "17    78.858333\n",
       "19    78.300000\n",
       "21    78.208333\n",
       "23    77.825000\n",
       "25    77.516667\n",
       "dtype: float64"
      ]
     },
     "execution_count": 18,
     "metadata": {},
     "output_type": "execute_result"
    }
   ],
   "source": [
    "acc_Linf"
   ]
  },
  {
   "cell_type": "code",
   "execution_count": 19,
   "id": "d1c111e6",
   "metadata": {},
   "outputs": [
    {
     "data": {
      "text/html": [
       "<div>\n",
       "<style scoped>\n",
       "    .dataframe tbody tr th:only-of-type {\n",
       "        vertical-align: middle;\n",
       "    }\n",
       "\n",
       "    .dataframe tbody tr th {\n",
       "        vertical-align: top;\n",
       "    }\n",
       "\n",
       "    .dataframe thead th {\n",
       "        text-align: right;\n",
       "    }\n",
       "</style>\n",
       "<table border=\"1\" class=\"dataframe\">\n",
       "  <thead>\n",
       "    <tr style=\"text-align: right;\">\n",
       "      <th></th>\n",
       "      <th>1</th>\n",
       "      <th>3</th>\n",
       "      <th>5</th>\n",
       "      <th>7</th>\n",
       "      <th>9</th>\n",
       "      <th>11</th>\n",
       "      <th>13</th>\n",
       "      <th>15</th>\n",
       "      <th>17</th>\n",
       "      <th>19</th>\n",
       "      <th>21</th>\n",
       "      <th>23</th>\n",
       "      <th>25</th>\n",
       "    </tr>\n",
       "  </thead>\n",
       "  <tbody>\n",
       "    <tr>\n",
       "      <th>1</th>\n",
       "      <td>96.500000</td>\n",
       "      <td>96.608333</td>\n",
       "      <td>96.425000</td>\n",
       "      <td>96.300</td>\n",
       "      <td>96.066667</td>\n",
       "      <td>95.908333</td>\n",
       "      <td>95.641667</td>\n",
       "      <td>95.608333</td>\n",
       "      <td>95.366667</td>\n",
       "      <td>95.191667</td>\n",
       "      <td>95.025000</td>\n",
       "      <td>95.000000</td>\n",
       "      <td>94.875000</td>\n",
       "    </tr>\n",
       "    <tr>\n",
       "      <th>2</th>\n",
       "      <td>97.158333</td>\n",
       "      <td>97.125000</td>\n",
       "      <td>97.041667</td>\n",
       "      <td>96.875</td>\n",
       "      <td>96.691667</td>\n",
       "      <td>96.525000</td>\n",
       "      <td>96.458333</td>\n",
       "      <td>96.250000</td>\n",
       "      <td>96.191667</td>\n",
       "      <td>96.083333</td>\n",
       "      <td>95.925000</td>\n",
       "      <td>95.841667</td>\n",
       "      <td>95.783333</td>\n",
       "    </tr>\n",
       "    <tr>\n",
       "      <th>3</th>\n",
       "      <td>81.666667</td>\n",
       "      <td>80.075000</td>\n",
       "      <td>80.300000</td>\n",
       "      <td>80.125</td>\n",
       "      <td>79.841667</td>\n",
       "      <td>79.541667</td>\n",
       "      <td>79.400000</td>\n",
       "      <td>79.000000</td>\n",
       "      <td>78.858333</td>\n",
       "      <td>78.300000</td>\n",
       "      <td>78.208333</td>\n",
       "      <td>77.825000</td>\n",
       "      <td>77.516667</td>\n",
       "    </tr>\n",
       "  </tbody>\n",
       "</table>\n",
       "</div>"
      ],
      "text/plain": [
       "          1          3          5       7          9          11         13  \\\n",
       "1  96.500000  96.608333  96.425000  96.300  96.066667  95.908333  95.641667   \n",
       "2  97.158333  97.125000  97.041667  96.875  96.691667  96.525000  96.458333   \n",
       "3  81.666667  80.075000  80.300000  80.125  79.841667  79.541667  79.400000   \n",
       "\n",
       "          15         17         19         21         23         25  \n",
       "1  95.608333  95.366667  95.191667  95.025000  95.000000  94.875000  \n",
       "2  96.250000  96.191667  96.083333  95.925000  95.841667  95.783333  \n",
       "3  79.000000  78.858333  78.300000  78.208333  77.825000  77.516667  "
      ]
     },
     "execution_count": 19,
     "metadata": {},
     "output_type": "execute_result"
    }
   ],
   "source": [
    "p=[1,2,3]\n",
    "\n",
    "k = list(range(1,26,2))\n",
    "\n",
    "# Create DataFrame\n",
    "df = pd.DataFrame([acc_Manhaten,acc_Euclid , acc_Linf], columns=k, index=p)\n",
    "\n",
    "df"
   ]
  },
  {
   "cell_type": "markdown",
   "id": "b4883420",
   "metadata": {},
   "source": [
    "# Best value of K = <span style=\"color:red\">1<span>\n",
    "# Best value of P = <span style=\"color:red\">2 (Eulidean)<span>"
   ]
  },
  {
   "cell_type": "markdown",
   "id": "2acfbc40",
   "metadata": {},
   "source": [
    "# ---------------------------------------------------------------------------------------------------------------------------"
   ]
  },
  {
   "cell_type": "markdown",
   "id": "a1877a9b",
   "metadata": {},
   "source": [
    "# <span style=\"color:green\"> Plotting K vs P vs Accuracy </span>"
   ]
  },
  {
   "cell_type": "code",
   "execution_count": 20,
   "id": "82c413e1",
   "metadata": {},
   "outputs": [
    {
     "data": {
      "text/plain": [
       "[<mpl_toolkits.mplot3d.art3d.Line3D at 0x7f69fc4fb040>]"
      ]
     },
     "execution_count": 20,
     "metadata": {},
     "output_type": "execute_result"
    },
    {
     "data": {
      "image/png": "[encoded data removed]",
      "text/plain": [
       "<Figure size 432x288 with 1 Axes>"
      ]
     },
     "metadata": {
      "needs_background": "light"
     },
     "output_type": "display_data"
    }
   ],
   "source": [
    "# 3D Plot of X = p vs Y = k vs Z = Accuracy Percentage\n",
    "\n",
    "ax = plt.axes(projection='3d')\n",
    "\n",
    "x1 = [1]*13 # Manhaten i.e. p = 1\n",
    "x2 = [2]*13 # Euclidean i.e. p = 2\n",
    "x3 = [3]*13 # Chebyshev i.e. p = 3\n",
    "\n",
    "y1 = np.array(acc_Manhaten.index)\n",
    "y2 = np.array(acc_Euclid.index)\n",
    "y3 = np.array(acc_Linf.index)\n",
    "\n",
    "z1 = acc_Manhaten.values\n",
    "z2 = acc_Euclid.values\n",
    "z3 = acc_Linf.values\n",
    "\n",
    "ax.plot3D(x1, y1, z1, 'red')\n",
    "ax.plot3D(x2, y2, z2, 'green')\n",
    "ax.plot3D(x3, y3, z3, 'blue')"
   ]
  },
  {
   "cell_type": "markdown",
   "id": "cfe367f3",
   "metadata": {},
   "source": [
    "#### 3-D interactive plot"
   ]
  },
  {
   "cell_type": "code",
   "execution_count": 21,
   "id": "162f43c6",
   "metadata": {},
   "outputs": [
    {
     "data": {
      "image/png": "[encoded data removed]",
      "text/plain": [
       "<Figure size 432x288 with 1 Axes>"
      ]
     },
     "metadata": {
      "needs_background": "light"
     },
     "output_type": "display_data"
    }
   ],
   "source": [
    "# 3D Plot of X = p vs Y = k vs Z = Accuracy Percentage\n",
    "\n",
    "X = np.array(df.index)\n",
    "Y = np.array(df.columns)\n",
    "X, Y = np.meshgrid(Y, X)\n",
    "\n",
    "Z = df.values\n",
    "\n",
    "# Flatten the arrays for scatter plot\n",
    "X = X.flatten()\n",
    "Y = Y.flatten()\n",
    "Z = Z.flatten()\n",
    "\n",
    "# Create a color array for each row\n",
    "colors = ['red', 'green', 'blue']\n",
    "row_colors = np.repeat(colors, len(df.columns))\n",
    "\n",
    "fig = plt.figure()\n",
    "ax = fig.add_subplot(111, projection='3d')\n",
    "ax.scatter(X, Y, Z, c=row_colors)\n",
    "\n",
    "ax.set_xlabel('P')\n",
    "ax.set_ylabel('K')\n",
    "ax.set_zlabel('Accuracy')\n",
    "\n",
    "plt.savefig('3d_plot.png') #saving the image of the plot\n",
    "\n",
    "plt.show()\n"
   ]
  },
  {
   "cell_type": "markdown",
   "id": "f34e4a9a",
   "metadata": {},
   "source": [
    "##### Hover on points to see the values"
   ]
  },
  {
   "cell_type": "code",
   "execution_count": 22,
   "id": "a8ca57a6",
   "metadata": {},
   "outputs": [
    {
     "data": {
      "application/vnd.plotly.v1+json": {
       "config": {
        "plotlyServerURL": "https://plot.ly"
       },
       "data": [
        {
         "hovertemplate": "Index: %{x}<br>Column: %{y}<br>Data: %{z}<extra></extra>",
         "marker": {
          "color": [
           96.5,
           96.60833333333333,
           96.425,
           96.3,
           96.06666666666666,
           95.90833333333333,
           95.64166666666667,
           95.60833333333333,
           95.36666666666666,
           95.19166666666666,
           95.025,
           95,
           94.875,
           97.15833333333333,
           97.125,
           97.04166666666667,
           96.875,
           96.69166666666666,
           96.525,
           96.45833333333333,
           96.25,
           96.19166666666666,
           96.08333333333333,
           95.925,
           95.84166666666667,
           95.78333333333333,
           81.66666666666667,
           80.075,
           80.3,
           80.125,
           79.84166666666667,
           79.54166666666667,
           79.4,
           79,
           78.85833333333333,
           78.3,
           78.20833333333333,
           77.825,
           77.51666666666667
          ],
          "colorscale": [
           [
            0,
            "#440154"
           ],
           [
            0.1111111111111111,
            "#482878"
           ],
           [
            0.2222222222222222,
            "#3e4989"
           ],
           [
            0.3333333333333333,
            "#31688e"
           ],
           [
            0.4444444444444444,
            "#26828e"
           ],
           [
            0.5555555555555556,
            "#1f9e89"
           ],
           [
            0.6666666666666666,
            "#35b779"
           ],
           [
            0.7777777777777778,
            "#6ece58"
           ],
           [
            0.8888888888888888,
            "#b5de2b"
           ],
           [
            1,
            "#fde725"
           ]
          ],
          "size": 4
         },
         "mode": "markers",
         "type": "scatter3d",
         "x": [
          1,
          3,
          5,
          7,
          9,
          11,
          13,
          15,
          17,
          19,
          21,
          23,
          25,
          1,
          3,
          5,
          7,
          9,
          11,
          13,
          15,
          17,
          19,
          21,
          23,
          25,
          1,
          3,
          5,
          7,
          9,
          11,
          13,
          15,
          17,
          19,
          21,
          23,
          25
         ],
         "y": [
          1,
          1,
          1,
          1,
          1,
          1,
          1,
          1,
          1,
          1,
          1,
          1,
          1,
          2,
          2,
          2,
          2,
          2,
          2,
          2,
          2,
          2,
          2,
          2,
          2,
          2,
          3,
          3,
          3,
          3,
          3,
          3,
          3,
          3,
          3,
          3,
          3,
          3,
          3
         ],
         "z": [
          96.5,
          96.60833333333333,
          96.425,
          96.3,
          96.06666666666666,
          95.90833333333333,
          95.64166666666667,
          95.60833333333333,
          95.36666666666666,
          95.19166666666666,
          95.025,
          95,
          94.875,
          97.15833333333333,
          97.125,
          97.04166666666667,
          96.875,
          96.69166666666666,
          96.525,
          96.45833333333333,
          96.25,
          96.19166666666666,
          96.08333333333333,
          95.925,
          95.84166666666667,
          95.78333333333333,
          81.66666666666667,
          80.075,
          80.3,
          80.125,
          79.84166666666667,
          79.54166666666667,
          79.4,
          79,
          78.85833333333333,
          78.3,
          78.20833333333333,
          77.825,
          77.51666666666667
         ]
        }
       ],
       "layout": {
        "scene": {
         "xaxis": {
          "title": {
           "text": "K"
          }
         },
         "yaxis": {
          "title": {
           "text": "P"
          }
         },
         "zaxis": {
          "title": {
           "text": "Accuracy"
          }
         }
        },
        "template": {
         "data": {
          "bar": [
           {
            "error_x": {
             "color": "#2a3f5f"
            },
            "error_y": {
             "color": "#2a3f5f"
            },
            "marker": {
             "line": {
              "color": "#E5ECF6",
              "width": 0.5
             },
             "pattern": {
              "fillmode": "overlay",
              "size": 10,
              "solidity": 0.2
             }
            },
            "type": "bar"
           }
          ],
          "barpolar": [
           {
            "marker": {
             "line": {
              "color": "#E5ECF6",
              "width": 0.5
             },
             "pattern": {
              "fillmode": "overlay",
              "size": 10,
              "solidity": 0.2
             }
            },
            "type": "barpolar"
           }
          ],
          "carpet": [
           {
            "aaxis": {
             "endlinecolor": "#2a3f5f",
             "gridcolor": "white",
             "linecolor": "white",
             "minorgridcolor": "white",
             "startlinecolor": "#2a3f5f"
            },
            "baxis": {
             "endlinecolor": "#2a3f5f",
             "gridcolor": "white",
             "linecolor": "white",
             "minorgridcolor": "white",
             "startlinecolor": "#2a3f5f"
            },
            "type": "carpet"
           }
          ],
          "choropleth": [
           {
            "colorbar": {
             "outlinewidth": 0,
             "ticks": ""
            },
            "type": "choropleth"
           }
          ],
          "contour": [
           {
            "colorbar": {
             "outlinewidth": 0,
             "ticks": ""
            },
            "colorscale": [
             [
              0,
              "#0d0887"
             ],
             [
              0.1111111111111111,
              "#46039f"
             ],
             [
              0.2222222222222222,
              "#7201a8"
             ],
             [
              0.3333333333333333,
              "#9c179e"
             ],
             [
              0.4444444444444444,
              "#bd3786"
             ],
             [
              0.5555555555555556,
              "#d8576b"
             ],
             [
              0.6666666666666666,
              "#ed7953"
             ],
             [
              0.7777777777777778,
              "#fb9f3a"
             ],
             [
              0.8888888888888888,
              "#fdca26"
             ],
             [
              1,
              "#f0f921"
             ]
            ],
            "type": "contour"
           }
          ],
          "contourcarpet": [
           {
            "colorbar": {
             "outlinewidth": 0,
             "ticks": ""
            },
            "type": "contourcarpet"
           }
          ],
          "heatmap": [
           {
            "colorbar": {
             "outlinewidth": 0,
             "ticks": ""
            },
            "colorscale": [
             [
              0,
              "#0d0887"
             ],
             [
              0.1111111111111111,
              "#46039f"
             ],
             [
              0.2222222222222222,
              "#7201a8"
             ],
             [
              0.3333333333333333,
              "#9c179e"
             ],
             [
              0.4444444444444444,
              "#bd3786"
             ],
             [
              0.5555555555555556,
              "#d8576b"
             ],
             [
              0.6666666666666666,
              "#ed7953"
             ],
             [
              0.7777777777777778,
              "#fb9f3a"
             ],
             [
              0.8888888888888888,
              "#fdca26"
             ],
             [
              1,
              "#f0f921"
             ]
            ],
            "type": "heatmap"
           }
          ],
          "heatmapgl": [
           {
            "colorbar": {
             "outlinewidth": 0,
             "ticks": ""
            },
            "colorscale": [
             [
              0,
              "#0d0887"
             ],
             [
              0.1111111111111111,
              "#46039f"
             ],
             [
              0.2222222222222222,
              "#7201a8"
             ],
             [
              0.3333333333333333,
              "#9c179e"
             ],
             [
              0.4444444444444444,
              "#bd3786"
             ],
             [
              0.5555555555555556,
              "#d8576b"
             ],
             [
              0.6666666666666666,
              "#ed7953"
             ],
             [
              0.7777777777777778,
              "#fb9f3a"
             ],
             [
              0.8888888888888888,
              "#fdca26"
             ],
             [
              1,
              "#f0f921"
             ]
            ],
            "type": "heatmapgl"
           }
          ],
          "histogram": [
           {
            "marker": {
             "pattern": {
              "fillmode": "overlay",
              "size": 10,
              "solidity": 0.2
             }
            },
            "type": "histogram"
           }
          ],
          "histogram2d": [
           {
            "colorbar": {
             "outlinewidth": 0,
             "ticks": ""
            },
            "colorscale": [
             [
              0,
              "#0d0887"
             ],
             [
              0.1111111111111111,
              "#46039f"
             ],
             [
              0.2222222222222222,
              "#7201a8"
             ],
             [
              0.3333333333333333,
              "#9c179e"
             ],
             [
              0.4444444444444444,
              "#bd3786"
             ],
             [
              0.5555555555555556,
              "#d8576b"
             ],
             [
              0.6666666666666666,
              "#ed7953"
             ],
             [
              0.7777777777777778,
              "#fb9f3a"
             ],
             [
              0.8888888888888888,
              "#fdca26"
             ],
             [
              1,
              "#f0f921"
             ]
            ],
            "type": "histogram2d"
           }
          ],
          "histogram2dcontour": [
           {
            "colorbar": {
             "outlinewidth": 0,
             "ticks": ""
            },
            "colorscale": [
             [
              0,
              "#0d0887"
             ],
             [
              0.1111111111111111,
              "#46039f"
             ],
             [
              0.2222222222222222,
              "#7201a8"
             ],
             [
              0.3333333333333333,
              "#9c179e"
             ],
             [
              0.4444444444444444,
              "#bd3786"
             ],
             [
              0.5555555555555556,
              "#d8576b"
             ],
             [
              0.6666666666666666,
              "#ed7953"
             ],
             [
              0.7777777777777778,
              "#fb9f3a"
             ],
             [
              0.8888888888888888,
              "#fdca26"
             ],
             [
              1,
              "#f0f921"
             ]
            ],
            "type": "histogram2dcontour"
           }
          ],
          "mesh3d": [
           {
            "colorbar": {
             "outlinewidth": 0,
             "ticks": ""
            },
            "type": "mesh3d"
           }
          ],
          "parcoords": [
           {
            "line": {
             "colorbar": {
              "outlinewidth": 0,
              "ticks": ""
             }
            },
            "type": "parcoords"
           }
          ],
          "pie": [
           {
            "automargin": true,
            "type": "pie"
           }
          ],
          "scatter": [
           {
            "fillpattern": {
             "fillmode": "overlay",
             "size": 10,
             "solidity": 0.2
            },
            "type": "scatter"
           }
          ],
          "scatter3d": [
           {
            "line": {
             "colorbar": {
              "outlinewidth": 0,
              "ticks": ""
             }
            },
            "marker": {
             "colorbar": {
              "outlinewidth": 0,
              "ticks": ""
             }
            },
            "type": "scatter3d"
           }
          ],
          "scattercarpet": [
           {
            "marker": {
             "colorbar": {
              "outlinewidth": 0,
              "ticks": ""
             }
            },
            "type": "scattercarpet"
           }
          ],
          "scattergeo": [
           {
            "marker": {
             "colorbar": {
              "outlinewidth": 0,
              "ticks": ""
             }
            },
            "type": "scattergeo"
           }
          ],
          "scattergl": [
           {
            "marker": {
             "colorbar": {
              "outlinewidth": 0,
              "ticks": ""
             }
            },
            "type": "scattergl"
           }
          ],
          "scattermapbox": [
           {
            "marker": {
             "colorbar": {
              "outlinewidth": 0,
              "ticks": ""
             }
            },
            "type": "scattermapbox"
           }
          ],
          "scatterpolar": [
           {
            "marker": {
             "colorbar": {
              "outlinewidth": 0,
              "ticks": ""
             }
            },
            "type": "scatterpolar"
           }
          ],
          "scatterpolargl": [
           {
            "marker": {
             "colorbar": {
              "outlinewidth": 0,
              "ticks": ""
             }
            },
            "type": "scatterpolargl"
           }
          ],
          "scatterternary": [
           {
            "marker": {
             "colorbar": {
              "outlinewidth": 0,
              "ticks": ""
             }
            },
            "type": "scatterternary"
           }
          ],
          "surface": [
           {
            "colorbar": {
             "outlinewidth": 0,
             "ticks": ""
            },
            "colorscale": [
             [
              0,
              "#0d0887"
             ],
             [
              0.1111111111111111,
              "#46039f"
             ],
             [
              0.2222222222222222,
              "#7201a8"
             ],
             [
              0.3333333333333333,
              "#9c179e"
             ],
             [
              0.4444444444444444,
              "#bd3786"
             ],
             [
              0.5555555555555556,
              "#d8576b"
             ],
             [
              0.6666666666666666,
              "#ed7953"
             ],
             [
              0.7777777777777778,
              "#fb9f3a"
             ],
             [
              0.8888888888888888,
              "#fdca26"
             ],
             [
              1,
              "#f0f921"
             ]
            ],
            "type": "surface"
           }
          ],
          "table": [
           {
            "cells": {
             "fill": {
              "color": "#EBF0F8"
             },
             "line": {
              "color": "white"
             }
            },
            "header": {
             "fill": {
              "color": "#C8D4E3"
             },
             "line": {
              "color": "white"
             }
            },
            "type": "table"
           }
          ]
         },
         "layout": {
          "annotationdefaults": {
           "arrowcolor": "#2a3f5f",
           "arrowhead": 0,
           "arrowwidth": 1
          },
          "autotypenumbers": "strict",
          "coloraxis": {
           "colorbar": {
            "outlinewidth": 0,
            "ticks": ""
           }
          },
          "colorscale": {
           "diverging": [
            [
             0,
             "#8e0152"
            ],
            [
             0.1,
             "#c51b7d"
            ],
            [
             0.2,
             "#de77ae"
            ],
            [
             0.3,
             "#f1b6da"
            ],
            [
             0.4,
             "#fde0ef"
            ],
            [
             0.5,
             "#f7f7f7"
            ],
            [
             0.6,
             "#e6f5d0"
            ],
            [
             0.7,
             "#b8e186"
            ],
            [
             0.8,
             "#7fbc41"
            ],
            [
             0.9,
             "#4d9221"
            ],
            [
             1,
             "#276419"
            ]
           ],
           "sequential": [
            [
             0,
             "#0d0887"
            ],
            [
             0.1111111111111111,
             "#46039f"
            ],
            [
             0.2222222222222222,
             "#7201a8"
            ],
            [
             0.3333333333333333,
             "#9c179e"
            ],
            [
             0.4444444444444444,
             "#bd3786"
            ],
            [
             0.5555555555555556,
             "#d8576b"
            ],
            [
             0.6666666666666666,
             "#ed7953"
            ],
            [
             0.7777777777777778,
             "#fb9f3a"
            ],
            [
             0.8888888888888888,
             "#fdca26"
            ],
            [
             1,
             "#f0f921"
            ]
           ],
           "sequentialminus": [
            [
             0,
             "#0d0887"
            ],
            [
             0.1111111111111111,
             "#46039f"
            ],
            [
             0.2222222222222222,
             "#7201a8"
            ],
            [
             0.3333333333333333,
             "#9c179e"
            ],
            [
             0.4444444444444444,
             "#bd3786"
            ],
            [
             0.5555555555555556,
             "#d8576b"
            ],
            [
             0.6666666666666666,
             "#ed7953"
            ],
            [
             0.7777777777777778,
             "#fb9f3a"
            ],
            [
             0.8888888888888888,
             "#fdca26"
            ],
            [
             1,
             "#f0f921"
            ]
           ]
          },
          "colorway": [
           "#636efa",
           "#EF553B",
           "#00cc96",
           "#ab63fa",
           "#FFA15A",
           "#19d3f3",
           "#FF6692",
           "#B6E880",
           "#FF97FF",
           "#FECB52"
          ],
          "font": {
           "color": "#2a3f5f"
          },
          "geo": {
           "bgcolor": "white",
           "lakecolor": "white",
           "landcolor": "#E5ECF6",
           "showlakes": true,
           "showland": true,
           "subunitcolor": "white"
          },
          "hoverlabel": {
           "align": "left"
          },
          "hovermode": "closest",
          "mapbox": {
           "style": "light"
          },
          "paper_bgcolor": "white",
          "plot_bgcolor": "#E5ECF6",
          "polar": {
           "angularaxis": {
            "gridcolor": "white",
            "linecolor": "white",
            "ticks": ""
           },
           "bgcolor": "#E5ECF6",
           "radialaxis": {
            "gridcolor": "white",
            "linecolor": "white",
            "ticks": ""
           }
          },
          "scene": {
           "xaxis": {
            "backgroundcolor": "#E5ECF6",
            "gridcolor": "white",
            "gridwidth": 2,
            "linecolor": "white",
            "showbackground": true,
            "ticks": "",
            "zerolinecolor": "white"
           },
           "yaxis": {
            "backgroundcolor": "#E5ECF6",
            "gridcolor": "white",
            "gridwidth": 2,
            "linecolor": "white",
            "showbackground": true,
            "ticks": "",
            "zerolinecolor": "white"
           },
           "zaxis": {
            "backgroundcolor": "#E5ECF6",
            "gridcolor": "white",
            "gridwidth": 2,
            "linecolor": "white",
            "showbackground": true,
            "ticks": "",
            "zerolinecolor": "white"
           }
          },
          "shapedefaults": {
           "line": {
            "color": "#2a3f5f"
           }
          },
          "ternary": {
           "aaxis": {
            "gridcolor": "white",
            "linecolor": "white",
            "ticks": ""
           },
           "baxis": {
            "gridcolor": "white",
            "linecolor": "white",
            "ticks": ""
           },
           "bgcolor": "#E5ECF6",
           "caxis": {
            "gridcolor": "white",
            "linecolor": "white",
            "ticks": ""
           }
          },
          "title": {
           "x": 0.05
          },
          "xaxis": {
           "automargin": true,
           "gridcolor": "white",
           "linecolor": "white",
           "ticks": "",
           "title": {
            "standoff": 15
           },
           "zerolinecolor": "white",
           "zerolinewidth": 2
          },
          "yaxis": {
           "automargin": true,
           "gridcolor": "white",
           "linecolor": "white",
           "ticks": "",
           "title": {
            "standoff": 15
           },
           "zerolinecolor": "white",
           "zerolinewidth": 2
          }
         }
        }
       }
      }
     },
     "metadata": {},
     "output_type": "display_data"
    }
   ],
   "source": [
    "\n",
    "# Hover on points to see the values\n",
    "import plotly.graph_objects as go\n",
    "\n",
    "# Assuming 'df' is your DataFrame\n",
    "X = np.array(df.index)\n",
    "Y = np.array(df.columns)\n",
    "X, Y = np.meshgrid(Y, X)\n",
    "\n",
    "Z = df.values\n",
    "\n",
    "# Flatten the arrays for scatter plot\n",
    "X = X.flatten()\n",
    "Y = Y.flatten()\n",
    "Z = Z.flatten()\n",
    "\n",
    "fig = go.Figure(data=[go.Scatter3d(x=X, y=Y, z=Z, mode='markers', \n",
    "                                   marker=dict(size=4, color=Z, colorscale='Viridis'), \n",
    "                                   hovertemplate='Index: %{x}<br>Column: %{y}<br>Data: %{z}<extra></extra>')])\n",
    "\n",
    "fig.update_layout(scene = dict(\n",
    "                    xaxis_title='K',\n",
    "                    yaxis_title='P',\n",
    "                    zaxis_title='Accuracy'))\n",
    "fig.show()"
   ]
  },
  {
   "cell_type": "markdown",
   "id": "20868199",
   "metadata": {},
   "source": [
    "# Predicting labels of Test Images and finding the Accuracy"
   ]
  },
  {
   "cell_type": "code",
   "execution_count": 34,
   "id": "75824cd1",
   "metadata": {},
   "outputs": [
    {
     "data": {
      "text/plain": [
       "(60000, 784)"
      ]
     },
     "execution_count": 34,
     "metadata": {},
     "output_type": "execute_result"
    }
   ],
   "source": [
    "original_train_img_set= np.concatenate((train_img,valid_img),axis=0)"
   ]
  },
  {
   "cell_type": "code",
   "execution_count": 39,
   "id": "eb3277ef",
   "metadata": {},
   "outputs": [],
   "source": [
    "original_train_label_set = np.concatenate((train_lab,valid_lab),axis=0)"
   ]
  },
  {
   "cell_type": "code",
   "execution_count": 38,
   "id": "3262751f",
   "metadata": {},
   "outputs": [
    {
     "data": {
      "text/plain": [
       "(60000, 784)"
      ]
     },
     "execution_count": 38,
     "metadata": {},
     "output_type": "execute_result"
    }
   ],
   "source": [
    "original_train_img_set.shape"
   ]
  },
  {
   "cell_type": "code",
   "execution_count": 42,
   "id": "6ff8be1f",
   "metadata": {},
   "outputs": [
    {
     "data": {
      "text/plain": [
       "(60000,)"
      ]
     },
     "execution_count": 42,
     "metadata": {},
     "output_type": "execute_result"
    }
   ],
   "source": [
    "original_train_label_set.shape"
   ]
  },
  {
   "cell_type": "code",
   "execution_count": 43,
   "id": "75abb7a6",
   "metadata": {},
   "outputs": [],
   "source": [
    "def L2_dist(x):\n",
    "    return np.linalg.norm(original_train_img_set - x, axis = 1)"
   ]
  },
  {
   "cell_type": "code",
   "execution_count": 46,
   "id": "cbbe29e1",
   "metadata": {},
   "outputs": [
    {
     "name": "stdout",
     "output_type": "stream",
     "text": [
      "The values of 1 are in column indexes and the values along column are predictions\n",
      "      0\n",
      "0     7\n",
      "1     2\n",
      "2     1\n",
      "3     0\n",
      "4     4\n",
      "...  ..\n",
      "9995  2\n",
      "9996  3\n",
      "9997  4\n",
      "9998  5\n",
      "9999  6\n",
      "\n",
      "[10000 rows x 1 columns]\n",
      "Accuracy on test set for k=1 and L2: 0    96.91\n",
      "dtype: float64\n"
     ]
    }
   ],
   "source": [
    "test_pred=prediction_k(test_img,original_train_label_set, 1, L2_dist)\n",
    "print(test_pred)\n",
    "\n",
    "test_accuracy = test_pred.apply(acc_percentage, y = test_labels)\n",
    "print(f\"Accuracy on test set for k=1 and L2: {test_accuracy}\")"
   ]
  },
  {
   "cell_type": "code",
   "execution_count": 48,
   "id": "038a6364",
   "metadata": {},
   "outputs": [
    {
     "name": "stdout",
     "output_type": "stream",
     "text": [
      "Accuracy on test set for k=1 and L2: 96.91\n"
     ]
    }
   ],
   "source": [
    "print(f\"Accuracy on test set for k=1 and L2: {test_accuracy.values[0]}\")"
   ]
  }
 ],
 "metadata": {
  "kernelspec": {
   "display_name": "Python 3 (ipykernel)",
   "language": "python",
   "name": "python3"
  },
  "language_info": {
   "codemirror_mode": {
    "name": "ipython",
    "version": 3
   },
   "file_extension": ".py",
   "mimetype": "text/x-python",
   "name": "python",
   "nbconvert_exporter": "python",
   "pygments_lexer": "ipython3",
   "version": "3.10.12"
  }
 },
 "nbformat": 4,
 "nbformat_minor": 5
}
