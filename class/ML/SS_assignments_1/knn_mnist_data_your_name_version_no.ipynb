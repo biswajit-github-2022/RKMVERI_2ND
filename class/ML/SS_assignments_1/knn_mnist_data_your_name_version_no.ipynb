{
 "cells": [
  {
   "cell_type": "code",
   "execution_count": 1,
   "id": "9b5bf43e",
   "metadata": {},
   "outputs": [],
   "source": [
    "\"\"\"\n",
    "-----------------------------------------------------------------------------\n",
    "MNIST digit data reading helper\n",
    "-----------------------------------------------------------------------------\n",
    "AUTHOR: Soumitra Samanta (soumitra.samanta@gm.rkmvu.ac.in)\n",
    "-----------------------------------------------------------------------------\n",
    "\"\"\"\n",
    "\n",
    "import gzip\n",
    "import numpy as np\n",
    "import matplotlib.pyplot as plt\n"
   ]
  },
  {
   "cell_type": "markdown",
   "id": "55c9e6c7",
   "metadata": {},
   "source": [
    "# Read MNIST data:\n",
    "There are many [ways](https://stackoverflow.com/questions/40427435/extract-images-from-idx3-ubyte-file-or-gzip-via-python) you can read the MNIST data. Here is a [way](https://stackoverflow.com/a/62781370) to read all the information."
   ]
  },
  {
   "cell_type": "code",
   "execution_count": 85,
   "id": "47ce6c3c",
   "metadata": {},
   "outputs": [
    {
     "name": "stdout",
     "output_type": "stream",
     "text": [
      "Train data (X) size: (60000, 28, 28), and labels (Y) size: (60000,)\n",
      "Test data (X) size: (10000, 28, 28), and labels (Y) size: (10000,)\n"
     ]
    },
    {
     "data": {
      "image/png": "[encoded data removed]",
      "text/plain": [
       "<Figure size 432x288 with 1 Axes>"
      ]
     },
     "metadata": {
      "needs_background": "light"
     },
     "output_type": "display_data"
    },
    {
     "name": "stdout",
     "output_type": "stream",
     "text": [
      "Train image 12553-th sample \n",
      "[[  0   0   0   0   0   0   0   0   0   0   0   0   0   0   0   0   0   0\n",
      "    0   0   0   0   0   0   0   0   0   0]\n",
      " [  0   0   0   0   0   0   0   0   0   0   0   0   0   0   0   0   0   0\n",
      "    0   0   0   0   0   0   0   0   0   0]\n",
      " [  0   0   0   0   0   0   0   0   0   0   0   0   0   0   0   0   0   0\n",
      "    0   0   0   0   0   0   0   0   0   0]\n",
      " [  0   0   0   0   0   0   0   0   0   0   0   0   0   0   0   0   0   0\n",
      "    0   0   0   0   0   0   0   0   0   0]\n",
      " [  0   0   0   0   0   0   0   0   0   0   0   0   0   0   0   0   0   0\n",
      "    0   0   0   0   0   0   0   0   0   0]\n",
      " [  0   0   0   0   0   0   0   0   0   0   0   0   0   0   0   0   0   0\n",
      "    0   0   0   0   0   0   0   0   0   0]\n",
      " [  0   0   0   0   0   0   0   0   0   0   0   0   0   0   0   0   0   0\n",
      "    0   0   0   0   0   0   0   0   0   0]\n",
      " [  0   0   0   0   0   0   0   0   0   0   0   0   0   0   0  31 154 244\n",
      "  251 187 154 152  43   0   0   0   0   0]\n",
      " [  0   0   0   0   0   0   0   0   0   0   0   0   0  49 175 233 254 254\n",
      "  254 238 252 254 245 155   6   0   0   0]\n",
      " [  0   0   0   0   0   0   0   0   0   0   0  19 130 233 254 254 228 151\n",
      "   72  25  65 112 254 254 164   0   0   0]\n",
      " [  0   0   0   0   0   0   0   0   0   6 123 208 254 254 244 159  37   0\n",
      "    0   0   0   1 111 254 254   0   0   0]\n",
      " [  0   0   0   0   0   0   0   0   5 151 254 254 253 204  40   0   0   0\n",
      "    0   0   0   0  75 254 247   0   0   0]\n",
      " [  0   0   0   0   0   0   0   0 193 254 254 206 124   0   0   0   0   0\n",
      "    0   0   0   2 193 254 128   0   0   0]\n",
      " [  0   0   0   0   0   0  17 179 254 254 187   9   0   0   0   0   0   0\n",
      "    0   0   0 115 254 222   4   0   0   0]\n",
      " [  0   0   0   0   0   4 188 254 254 151  14   0   0   0   0   0   0   0\n",
      "    0   0  80 244 251  99   0   0   0   0]\n",
      " [  0   0   0   0   0  93 254 254 186  12   0   0   0   0   0   0   0   0\n",
      "    0  52 238 254 158   0   0   0   0   0]\n",
      " [  0   0   0   0   0 212 254 239  11   0   0   0   0   0   0   0   0   8\n",
      "  124 248 254 235  41   0   0   0   0   0]\n",
      " [  0   0   0   0   0 252 254 201  12   2   0   0   0   0   0   1  39 204\n",
      "  254 254 231  54   0   0   0   0   0   0]\n",
      " [  0   0   0   0   0  96 254 254 254 181 100  73  73  73  91 173 254 254\n",
      "  254 142   8   0   0   0   0   0   0   0]\n",
      " [  0   0   0   0   0   6 119 230 254 254 254 254 254 254 254 254 254 217\n",
      "   43   8   0   0   0   0   0   0   0   0]\n",
      " [  0   0   0   0   0   0   0  21 152 199 250 250 250 250 250 244 153  33\n",
      "    0   0   0   0   0   0   0   0   0   0]\n",
      " [  0   0   0   0   0   0   0   0   0   0   0   0   0   0   0   0   0   0\n",
      "    0   0   0   0   0   0   0   0   0   0]\n",
      " [  0   0   0   0   0   0   0   0   0   0   0   0   0   0   0   0   0   0\n",
      "    0   0   0   0   0   0   0   0   0   0]\n",
      " [  0   0   0   0   0   0   0   0   0   0   0   0   0   0   0   0   0   0\n",
      "    0   0   0   0   0   0   0   0   0   0]\n",
      " [  0   0   0   0   0   0   0   0   0   0   0   0   0   0   0   0   0   0\n",
      "    0   0   0   0   0   0   0   0   0   0]\n",
      " [  0   0   0   0   0   0   0   0   0   0   0   0   0   0   0   0   0   0\n",
      "    0   0   0   0   0   0   0   0   0   0]\n",
      " [  0   0   0   0   0   0   0   0   0   0   0   0   0   0   0   0   0   0\n",
      "    0   0   0   0   0   0   0   0   0   0]\n",
      " [  0   0   0   0   0   0   0   0   0   0   0   0   0   0   0   0   0   0\n",
      "    0   0   0   0   0   0   0   0   0   0]]\n"
     ]
    }
   ],
   "source": [
    "def read_images(filename):\n",
    "    \"\"\"Read MNIST images\"\"\"\n",
    "    \n",
    "    with gzip.open(filename, 'r') as f:\n",
    "        # first 4 bytes is a magic number\n",
    "        magic_number = int.from_bytes(f.read(4), 'big')\n",
    "        # second 4 bytes is the number of images\n",
    "        image_count = int.from_bytes(f.read(4), 'big')\n",
    "        # third 4 bytes is the row count\n",
    "        row_count = int.from_bytes(f.read(4), 'big')\n",
    "        # fourth 4 bytes is the column count\n",
    "        column_count = int.from_bytes(f.read(4), 'big')\n",
    "        # rest is the image pixel data, each pixel is stored as an unsigned byte\n",
    "        # pixel values are 0 to 255\n",
    "        image_data = f.read()\n",
    "        images = np.frombuffer(image_data, dtype=np.uint8).reshape((image_count, row_count, column_count))\n",
    "        \n",
    "    return images\n",
    "\n",
    "def read_labels(filename):\n",
    "    \"\"\"Read MNIST labels\"\"\"\n",
    "    \n",
    "    with gzip.open(filename, 'r') as f:\n",
    "        # first 4 bytes is a magic number\n",
    "        magic_number = int.from_bytes(f.read(4), 'big')\n",
    "        # second 4 bytes is the number of labels\n",
    "        label_count = int.from_bytes(f.read(4), 'big')\n",
    "        # rest is the label data, each label is stored as unsigned byte\n",
    "        # label values are 0 to 9\n",
    "        label_data = f.read()\n",
    "        labels = np.frombuffer(label_data, dtype=np.uint8)\n",
    "        \n",
    "    return labels\n",
    "\n",
    "\n",
    "dataset_path = '/home/sysadm/Documents/sem_2_Biswajit_rana/RKMVERI_2ND/class/ML/SS_assignments_1/'# Change your data path\n",
    "\n",
    "train_image_filename = ''.join([dataset_path, 'train-images-idx3-ubyte.gz'])\n",
    "train_label_filename = ''.join([dataset_path, 'train-labels-idx1-ubyte.gz'])\n",
    "\n",
    "test_image_filename = ''.join([dataset_path, 't10k-images-idx3-ubyte.gz'])\n",
    "test_label_filename = ''.join([dataset_path, 't10k-labels-idx1-ubyte.gz'])\n",
    "\n",
    "train_images = read_images(train_image_filename)\n",
    "train_labels = read_labels(train_label_filename)\n",
    "print('Train data (X) size: {}, and labels (Y) size: {}' .format(train_images.shape, train_labels.shape))\n",
    "\n",
    "test_images = read_images(test_image_filename)\n",
    "test_labels = read_labels(test_label_filename)\n",
    "print('Test data (X) size: {}, and labels (Y) size: {}' .format(test_images.shape, test_labels.shape))\n",
    "\n",
    "rand_ids = np.random.choice(train_images.shape[0])\n",
    "rand_ids=12553\n",
    "plt.imshow(train_images[rand_ids, :, :], cmap='gray')\n",
    "plt.title('class-'+str(train_labels[rand_ids]))\n",
    "plt.show()\n",
    "\n",
    "print('Train image {}-th sample ' .format(rand_ids))\n",
    "print(train_images[rand_ids, :, :])\n",
    "\n"
   ]
  },
  {
   "cell_type": "code",
   "execution_count": 77,
   "id": "f6bedb93",
   "metadata": {},
   "outputs": [
    {
     "data": {
      "text/plain": [
       "(60000, 784)"
      ]
     },
     "execution_count": 77,
     "metadata": {},
     "output_type": "execute_result"
    }
   ],
   "source": [
    "train_images=train_images.reshape(60000,28*28)\n",
    "train_images.shape"
   ]
  },
  {
   "cell_type": "markdown",
   "id": "54daa6a9",
   "metadata": {},
   "source": [
    "# Extract 20% data from thhe training data as a validation set. <font color='red'>Please do not use some standard function from scikit-learn or others!</font>"
   ]
  },
  {
   "cell_type": "code",
   "execution_count": 78,
   "id": "09a49711",
   "metadata": {},
   "outputs": [],
   "source": [
    "# Your validation set extraction script/code \n",
    "def simple_split(X, y, test_size):\n",
    "  num_samples = len(X)\n",
    "  val_size = int(test_size * num_samples)\n",
    "  indices = np.random.permutation(num_samples)\n",
    "  indices_val = indices[:val_size]\n",
    "  indices_train = indices[val_size:]\n",
    "  X_train = X[indices_train]\n",
    "  X_val = X[indices_val]\n",
    "  y_train = y[indices_train]\n",
    "  y_val = y[indices_val]\n",
    "  return X_train, X_val, y_train, y_val\n",
    "\n",
    "# Usage:\n",
    "X_train, X_val, y_train, y_val = simple_split(train_images, train_labels, 0.2)\n"
   ]
  },
  {
   "cell_type": "code",
   "execution_count": 79,
   "id": "6b0b5d97",
   "metadata": {},
   "outputs": [
    {
     "name": "stdout",
     "output_type": "stream",
     "text": [
      "(48000, 784)\n",
      "(48000,)\n",
      "(12000, 784)\n",
      "(12000,)\n"
     ]
    }
   ],
   "source": [
    "print(X_train.shape)#img\n",
    "print(y_train.shape)#lab\n",
    "print(X_val.shape)#img\n",
    "print(y_val.shape)#lab"
   ]
  },
  {
   "cell_type": "code",
   "execution_count": 63,
   "id": "7df19199",
   "metadata": {},
   "outputs": [],
   "source": [
    "# print(np.bincount(y_val))\n",
    "# print(y_val[:1000])"
   ]
  },
  {
   "cell_type": "code",
   "execution_count": 84,
   "id": "5b4242ed",
   "metadata": {},
   "outputs": [
    {
     "name": "stdout",
     "output_type": "stream",
     "text": [
      "12553\n",
      "1\n"
     ]
    },
    {
     "data": {
      "image/png": "[encoded data removed]",
      "text/plain": [
       "<Figure size 432x288 with 1 Axes>"
      ]
     },
     "metadata": {
      "needs_background": "light"
     },
     "output_type": "display_data"
    },
    {
     "name": "stdout",
     "output_type": "stream",
     "text": [
      "2798\n",
      "2\n"
     ]
    },
    {
     "data": {
      "image/png": "[encoded data removed]",
      "text/plain": [
       "<Figure size 432x288 with 1 Axes>"
      ]
     },
     "metadata": {
      "needs_background": "light"
     },
     "output_type": "display_data"
    }
   ],
   "source": [
    "#peek\n",
    "\n",
    "rand_ids = np.random.choice(X_train.shape[0])\n",
    "print(rand_ids)\n",
    "print(y_train[rand_ids])\n",
    "plt.imshow(X_train[rand_ids, :].reshape(28,28), cmap='gray')\n",
    "plt.title('class-'+str(y_train[rand_ids]))\n",
    "plt.show()\n",
    "\n",
    "rand_ids = np.random.choice(X_val.shape[0])\n",
    "print(rand_ids)\n",
    "print(y_val[rand_ids])\n",
    "plt.imshow(X_val[rand_ids, :].reshape(28,28), cmap='gray')\n",
    "plt.title('class-'+str(y_val[rand_ids]))\n",
    "plt.show()"
   ]
  },
  {
   "cell_type": "markdown",
   "id": "d7570a8f",
   "metadata": {},
   "source": [
    "# Implement k-NN classification rule/algorithm, we have discussed in our class. <font color='red'>Please do not use some standard function from scikit-learn or others!</font>"
   ]
  },
  {
   "cell_type": "code",
   "execution_count": 49,
   "id": "939686e0",
   "metadata": {},
   "outputs": [],
   "source": [
    "# Your k-NN algorithm script/code \n"
   ]
  },
  {
   "cell_type": "code",
   "execution_count": 86,
   "id": "9b7e0990",
   "metadata": {},
   "outputs": [],
   "source": [
    "import numpy as np\n",
    "from math import sqrt\n",
    "\n",
    "def euclidean_distance(x1, x2):\n",
    "    \"\"\"Calculates the Euclidean distance between two data points.\"\"\"\n",
    "    return sqrt(np.sum((x1 - x2)**2))\n",
    "\n",
    "def knn_predict(X_train, y_train, X_test, k):\n",
    "    \"\"\"Predicts class labels for test data using KNN without scikit-learn.\"\"\"\n",
    "\n",
    "    predictions = []\n",
    "    for x in X_test:\n",
    "        distances = np.array([euclidean_distance(x, t) for t in X_train])\n",
    "        nearest_neighbors = np.argsort(distances)[:k]\n",
    "        neighbor_labels = y_train[nearest_neighbors]\n",
    "        prediction = np.argmax(np.bincount(neighbor_labels))\n",
    "        predictions.append(prediction)\n",
    "    return predictions\n",
    "\n",
    "\n",
    "def calculate_accuracy(y_true, y_pred):\n",
    "    \"\"\"Calculates accuracy metrics.\"\"\"\n",
    "    correct = np.sum(y_true == y_pred)\n",
    "    accuracy = correct / len(y_true)\n",
    "    precision = correct / np.sum(y_pred == y_true)  # For label 1 prediction\n",
    "    return accuracy, precision\n",
    "\n"
   ]
  },
  {
   "cell_type": "code",
   "execution_count": 89,
   "id": "442e299b",
   "metadata": {},
   "outputs": [],
   "source": [
    "# Load and normalize MNIST data (e.g., using TensorFlow or custom loading)\n",
    "\n",
    "# Assuming X_train is (48000, 28, 28) and y_train is (48000,)\n",
    "\n",
    "# Normalize data (consider standardization or min-max scaling)\n",
    "# X_train = ... (normalize your training data)\n",
    "# X_test = ... (normalize your test data)\n",
    "\n",
    "# Stratified split without scikit-learn\n",
    "X_train, X_val, y_train, y_val = X_train, X_val, y_train, y_val\n",
    "\n",
    "# Find the best k value through grid search\n",
    "best_k = None\n",
    "best_accuracy = 0\n",
    "best_precision = 0\n",
    "k_values = range(1, 27)  # Include k=25\n",
    "# k_values=[3,5]\n",
    "for k in k_values:\n",
    "    y_pred_val = knn_predict(X_train, y_train, X_val, k)\n",
    "    accuracy, precision = calculate_accuracy(y_val, y_pred_val)\n",
    "    print(f\"k={k}, Accuracy: {accuracy:.4f}, Precision (label 1): {precision:.4f}\")\n",
    "    if accuracy > best_accuracy:\n",
    "        best_k = k\n",
    "        best_accuracy = accuracy\n",
    "        best_precision = precision\n",
    "\n",
    "print(f\"Best k: {best_k}, Best Accuracy: {best_accuracy:.4f}, Best Precision (label 1): {best_precision:.4f}\")\n",
    "\n",
    "# Final evaluation on test data using the best k\n",
    "# y_pred_test = knn_predict(X_train, y_train, X_test, best_k)\n",
    "# test_accuracy, test_precision = calculate_accuracy(y_test, y_pred_test)\n"
   ]
  }
 ],
 "metadata": {
  "kernelspec": {
   "display_name": "Python 3 (ipykernel)",
   "language": "python",
   "name": "python3"
  },
  "language_info": {
   "codemirror_mode": {
    "name": "ipython",
    "version": 3
   },
   "file_extension": ".py",
   "mimetype": "text/x-python",
   "name": "python",
   "nbconvert_exporter": "python",
   "pygments_lexer": "ipython3",
   "version": "3.10.12"
  }
 },
 "nbformat": 4,
 "nbformat_minor": 5
}
