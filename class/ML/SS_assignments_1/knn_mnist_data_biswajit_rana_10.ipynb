{
 "cells": [
  {
   "cell_type": "code",
   "execution_count": 1,
   "id": "9b5bf43e",
   "metadata": {},
   "outputs": [],
   "source": [
    "\"\"\"\n",
    "-----------------------------------------------------------------------------\n",
    "MNIST digit data reading helper\n",
    "-----------------------------------------------------------------------------\n",
    "AUTHOR: Soumitra Samanta (soumitra.samanta@gm.rkmvu.ac.in)\n",
    "-----------------------------------------------------------------------------\n",
    "\"\"\"\n",
    "\n",
    "import gzip\n",
    "import numpy as np\n",
    "import matplotlib.pyplot as plt\n",
    "import pandas as pd"
   ]
  },
  {
   "cell_type": "markdown",
   "id": "55c9e6c7",
   "metadata": {},
   "source": [
    "# Read MNIST data:\n",
    "There are many [ways](https://stackoverflow.com/questions/40427435/extract-images-from-idx3-ubyte-file-or-gzip-via-python) you can read the MNIST data. Here is a [way](https://stackoverflow.com/a/62781370) to read all the information."
   ]
  },
  {
   "cell_type": "code",
   "execution_count": 2,
   "id": "47ce6c3c",
   "metadata": {},
   "outputs": [
    {
     "name": "stdout",
     "output_type": "stream",
     "text": [
      "Train data (X) size: (60000, 28, 28), and labels (Y) size: (60000,)\n",
      "Test data (X) size: (10000, 28, 28), and labels (Y) size: (10000,)\n"
     ]
    },
    {
     "data": {
      "image/png": "[encoded data removed]",
      "text/plain": [
       "<Figure size 432x288 with 1 Axes>"
      ]
     },
     "metadata": {
      "needs_background": "light"
     },
     "output_type": "display_data"
    },
    {
     "name": "stdout",
     "output_type": "stream",
     "text": [
      "Train image 11376-th sample \n",
      "[[  0   0   0   0   0   0   0   0   0   0   0   0   0   0   0   0   0   0\n",
      "    0   0   0   0   0   0   0   0   0   0]\n",
      " [  0   0   0   0   0   0   0   0   0   0   0   0   0   0   0   0   0   0\n",
      "    0   0   0   0   0   0   0   0   0   0]\n",
      " [  0   0   0   0   0   0   0   0   0   0   0   0   0   0   0   0   0   0\n",
      "    0   0   0   0   0   0   0   0   0   0]\n",
      " [  0   0   0   0   0   0   0   0   0   0   0   0   0   0   0   0   0   0\n",
      "    0   0   0   0   0   0   0   0   0   0]\n",
      " [  0   0   0   0   0   0   0   0   0   0   0   0   0   0   0   0   0   0\n",
      "    0   0   0   0   0   0   0   0   0   0]\n",
      " [  0   0   0   0   0   0   0   0   0   0   0   0   0   0   0   0   0   0\n",
      "    0   0   0   0   0   0   0   0   0   0]\n",
      " [  0   0   0   0   0   0   0   0   0   0   0  65 165 176 255 190 137  30\n",
      "    0   0   0   0   0   0   0   0   0   0]\n",
      " [  0   0   0   0   0   0   0   0   0  73 208 248 254 254 209 254 254 246\n",
      "   97   0   0   0   0   0   0   0   0   0]\n",
      " [  0   0   0   0   0   0   0   5 150 245 254 187 100  26   8  26 115 252\n",
      "  248  32   0   0   0   0   0   0   0   0]\n",
      " [  0   0   0   0   0   0   0  98 254 212 104   3   0   0   0   0   0 201\n",
      "  254  48   0   0   0   0   0   0   0   0]\n",
      " [  0   0   0   0   0   0   4 187 250  64   0   0   0   0   0   0   0 195\n",
      "  254 125   0   0   0   0   0   0   0   0]\n",
      " [  0   0   0   0   0   0 102 254 178   0   0   0   0   0   0   1  38 249\n",
      "  254  59   0   0   0   0   0   0   0   0]\n",
      " [  0   0   0   0   0   0 126 254 155   0   0   0   0   0   0  35 254 254\n",
      "  254  35   0   0   0   0   0   0   0   0]\n",
      " [  0   0   0   0   0   0 126 254 155   0   0   0   0   0  62 226 254 254\n",
      "  201   1   0   0   0   0   0   0   0   0]\n",
      " [  0   0   0   0   0   0  74 254 244  67   0   0  11 112 250 253 234 254\n",
      "  200   0   0   0   0   0   0   0   0   0]\n",
      " [  0   0   0   0   0   0   5 160 254 243 223 223 229 232 171  55 169 254\n",
      "  200   0   0   0   0   0   0   0   0   0]\n",
      " [  0   0   0   0   0   0   0  20 144 222 233 222 175  39   0   0 169 254\n",
      "  200   0   0   0   0   0   0   0   0   0]\n",
      " [  0   0   0   0   0   0   0   0   0   0  21   0   0   0   0   0 169 254\n",
      "  194   0   0   0   0   0   0   0   0   0]\n",
      " [  0   0   0   0   0   0   0   0   0   0   0   0   0   0   0   2 201 254\n",
      "  111   0   0   0   0   0   0   0   0   0]\n",
      " [  0   0   0   0   0   0   0   0   0   0   0   0   0   0   0   5 254 254\n",
      "  111   0   0   0   0   0   0   0   0   0]\n",
      " [  0   0   0   0   0   0   0   0   0   0   0   0   0   0   0   5 254 254\n",
      "  111   0   0   0   0   0   0   0   0   0]\n",
      " [  0   0   0   0   0   0   0   0   0   0   0   0   0   0   0   5 254 254\n",
      "   30   0   0   0   0   0   0   0   0   0]\n",
      " [  0   0   0   0   0   0   0   0   0   0   0   0   0   0   0   5 254 254\n",
      "   22   0   0   0   0   0   0   0   0   0]\n",
      " [  0   0   0   0   0   0   0   0   0   0   0   0   0   0   0   5 254 254\n",
      "   22   0   0   0   0   0   0   0   0   0]\n",
      " [  0   0   0   0   0   0   0   0   0   0   0   0   0   0   0   5 254 254\n",
      "   22   0   0   0   0   0   0   0   0   0]\n",
      " [  0   0   0   0   0   0   0   0   0   0   0   0   0   0   0   3 192 254\n",
      "   22   0   0   0   0   0   0   0   0   0]\n",
      " [  0   0   0   0   0   0   0   0   0   0   0   0   0   0   0   0   0   0\n",
      "    0   0   0   0   0   0   0   0   0   0]\n",
      " [  0   0   0   0   0   0   0   0   0   0   0   0   0   0   0   0   0   0\n",
      "    0   0   0   0   0   0   0   0   0   0]]\n"
     ]
    }
   ],
   "source": [
    "def read_images(filename):\n",
    "    \"\"\"Read MNIST images\"\"\"\n",
    "    \n",
    "    with gzip.open(filename, 'r') as f:\n",
    "        # first 4 bytes is a magic number\n",
    "        magic_number = int.from_bytes(f.read(4), 'big')\n",
    "        # second 4 bytes is the number of images\n",
    "        image_count = int.from_bytes(f.read(4), 'big')\n",
    "        # third 4 bytes is the row count\n",
    "        row_count = int.from_bytes(f.read(4), 'big')\n",
    "        # fourth 4 bytes is the column count\n",
    "        column_count = int.from_bytes(f.read(4), 'big')\n",
    "        # rest is the image pixel data, each pixel is stored as an unsigned byte\n",
    "        # pixel values are 0 to 255\n",
    "        image_data = f.read()\n",
    "        images = np.frombuffer(image_data, dtype=np.uint8).reshape((image_count, row_count, column_count))\n",
    "        \n",
    "    return images\n",
    "\n",
    "def read_labels(filename):\n",
    "    \"\"\"Read MNIST labels\"\"\"\n",
    "    \n",
    "    with gzip.open(filename, 'r') as f:\n",
    "        # first 4 bytes is a magic number\n",
    "        magic_number = int.from_bytes(f.read(4), 'big')\n",
    "        # second 4 bytes is the number of labels\n",
    "        label_count = int.from_bytes(f.read(4), 'big')\n",
    "        # rest is the label data, each label is stored as unsigned byte\n",
    "        # label values are 0 to 9\n",
    "        label_data = f.read()\n",
    "        labels = np.frombuffer(label_data, dtype=np.uint8)\n",
    "        \n",
    "    return labels\n",
    "\n",
    "\n",
    "dataset_path = '/home/sysadm/Documents/sem_2_Biswajit_rana/RKMVERI_2ND/class/ML/SS_assignments_1/'# Change your data path\n",
    "\n",
    "train_image_filename = ''.join([dataset_path, 'train-images-idx3-ubyte.gz'])\n",
    "train_label_filename = ''.join([dataset_path, 'train-labels-idx1-ubyte.gz'])\n",
    "\n",
    "test_image_filename = ''.join([dataset_path, 't10k-images-idx3-ubyte.gz'])\n",
    "test_label_filename = ''.join([dataset_path, 't10k-labels-idx1-ubyte.gz'])\n",
    "\n",
    "train_images = read_images(train_image_filename)\n",
    "train_labels = read_labels(train_label_filename)\n",
    "print('Train data (X) size: {}, and labels (Y) size: {}' .format(train_images.shape, train_labels.shape))\n",
    "\n",
    "test_images = read_images(test_image_filename)\n",
    "test_labels = read_labels(test_label_filename)\n",
    "print('Test data (X) size: {}, and labels (Y) size: {}' .format(test_images.shape, test_labels.shape))\n",
    "\n",
    "rand_ids = np.random.choice(train_images.shape[0])\n",
    "# rand_ids=12553\n",
    "plt.imshow(train_images[rand_ids, :, :], cmap='gray')\n",
    "plt.title('class-'+str(train_labels[rand_ids]))\n",
    "plt.show()\n",
    "\n",
    "print('Train image {}-th sample ' .format(rand_ids))\n",
    "print(train_images[rand_ids, :, :])\n",
    "\n"
   ]
  },
  {
   "cell_type": "markdown",
   "id": "54daa6a9",
   "metadata": {},
   "source": [
    "# Extract 20% data from thhe training data as a validation set. <font color='red'>Please do not use some standard function from scikit-learn or others!</font>"
   ]
  },
  {
   "cell_type": "code",
   "execution_count": 3,
   "id": "09a49711",
   "metadata": {},
   "outputs": [],
   "source": [
    "# Your validation set extraction script/code \n",
    "\n"
   ]
  },
  {
   "cell_type": "code",
   "execution_count": 52,
   "id": "0668cc39",
   "metadata": {},
   "outputs": [],
   "source": [
    "test_img= np.array(test_images.reshape(10000, 28*28), dtype = np.float64)"
   ]
  },
  {
   "cell_type": "code",
   "execution_count": 4,
   "id": "ba657589",
   "metadata": {},
   "outputs": [],
   "source": [
    "train_reshape = np.array(train_images.reshape(60000, 28*28), dtype = np.float64) #flattening train images\n",
    "\n",
    "np.random.seed(20)\n",
    "train_random = np.random.choice(range(60000), 60000, replace = False) #generating random indices\n",
    "train_df = train_reshape[train_random] #shuffeling train image data\n",
    "valid_img = train_df[:12000]    #first 12000 as validation images\n",
    "train_img = train_df[12000:]    #48000 as train images\n",
    "\n",
    "random_lab = train_labels[train_random]     #shuffeling labels\n",
    "valid_lab = random_lab[:12000]      #first 12000 as validation labels\n",
    "train_lab = random_lab[12000:]      #48000 as train labels\n",
    "\n",
    "test_img = np.array(test_images.reshape(10000, 28*28), dtype = np.float64)  #flattening train images\n",
    "# print(test_img)"
   ]
  },
  {
   "cell_type": "code",
   "execution_count": 5,
   "id": "7ce7e7ce",
   "metadata": {},
   "outputs": [
    {
     "name": "stdout",
     "output_type": "stream",
     "text": [
      "(48000, 784)\n",
      "(12000, 784)\n",
      "(48000,)\n",
      "(12000,)\n"
     ]
    }
   ],
   "source": [
    "# shapes\n",
    "print(train_img.shape)\n",
    "print(valid_img.shape)\n",
    "print(train_lab.shape)\n",
    "print(valid_lab.shape)"
   ]
  },
  {
   "cell_type": "code",
   "execution_count": 6,
   "id": "5b4242ed",
   "metadata": {},
   "outputs": [],
   "source": [
    "#peek\n",
    "\n",
    "# rand_ids = np.random.choice(X_train.shape[0])\n",
    "# print(rand_ids)\n",
    "# print(y_train[rand_ids])\n",
    "# plt.imshow(X_train[rand_ids, :].reshape(28,28), cmap='gray')\n",
    "# plt.title('class-'+str(y_train[rand_ids]))\n",
    "# plt.show()\n",
    "\n",
    "# rand_ids = np.random.choice(X_val.shape[0])\n",
    "# print(rand_ids)\n",
    "# print(y_val[rand_ids])\n",
    "# plt.imshow(X_val[rand_ids, :].reshape(28,28), cmap='gray')\n",
    "# plt.title('class-'+str(y_val[rand_ids]))\n",
    "# plt.show()"
   ]
  },
  {
   "cell_type": "markdown",
   "id": "d7570a8f",
   "metadata": {},
   "source": [
    "# Implement k-NN classification rule/algorithm, we have discussed in our class. <font color='red'>Please do not use some standard function from scikit-learn or others!</font>"
   ]
  },
  {
   "cell_type": "code",
   "execution_count": 7,
   "id": "939686e0",
   "metadata": {},
   "outputs": [],
   "source": [
    "# Your k-NN algorithm script/code \n"
   ]
  },
  {
   "cell_type": "code",
   "execution_count": 8,
   "id": "96b0f4f3",
   "metadata": {},
   "outputs": [],
   "source": [
    "# Your k-NN algorithm script/code \n",
    "\n",
    "# Distance Functions\n",
    "# 1. euclidean (L2)\n",
    "def L2(x):\n",
    "    return np.linalg.norm(train_img - x, axis = 1)\n",
    "# 2.Manhatten (L1)\n",
    "def L1(x):\n",
    "    return np.sum(np.abs(train_img - x), axis = 1)\n",
    "# 3. Linf Norm\n",
    "def Linf(x):\n",
    "    return np.max(np.abs(train_img - x), axis = 1)\n",
    "\n",
    "#Accuracy Function \n",
    "def acc_percentage(x,y):\n",
    "    z = (np.array(x) == np.array(y))\n",
    "    return (np.sum(z)*100)/len(x)\n",
    "\n",
    "\n",
    "# Defining Prediction Function for k = 1, 3, 5,..., 25\n",
    "\n",
    "def prediction(data, function):\n",
    "    a = {} # Dictionary\n",
    "    for i in range(1,26,2):\n",
    "        a[i] = []\n",
    "    for j in data:\n",
    "        dist = function(j)\n",
    "        dist_dataframe = pd.DataFrame(dist)\n",
    "        dist_dataframe[\"label\"] = train_lab\n",
    "        dist_sorted_dataframe = dist_dataframe.sort_values(by = [0])\n",
    "        # print(temp_sort)\n",
    "        for k in range(1,26,2):\n",
    "            shortest_k = dist_sorted_dataframe.iloc[0:k]\n",
    "            b = shortest_k.value_counts(\"label\").index[0]\n",
    "            a[k].append(b)\n",
    "    print(\"The values of k are in column indexes \\n the values along column are predictions \\n values on right most are sample no.\\n\")\n",
    "    return pd.DataFrame(a)\n",
    "    \n",
    "\n",
    "# Defining Prediction Function for a particular value of k\n",
    "    \n",
    "def prediction_k(data, k, function):\n",
    "    a = {} # Dictionary\n",
    "    for i in range(1,k+1,2):\n",
    "        a[i] = []\n",
    "    for j in data:\n",
    "        temp = function(j)\n",
    "        temp_dataframe = pd.DataFrame(temp)\n",
    "        temp_dataframe[\"label\"] = train_lab\n",
    "        temp_sort = temp_dataframe.sort_values(by = [0])\n",
    "        temp_k = temp_sort.iloc[0:k]\n",
    "        b = temp_k.value_counts(\"label\").index[0]\n",
    "        a[k].append(b)\n",
    "    print(\"The values of {} are in column indexes and the values along column are predictions\". format(k))\n",
    "    return pd.DataFrame(a[k]) "
   ]
  },
  {
   "cell_type": "markdown",
   "id": "d5ff491c",
   "metadata": {},
   "source": [
    "# For P=2 , <span style=\"color:red\">L2 NORM (Euclidean)</span>"
   ]
  },
  {
   "cell_type": "code",
   "execution_count": 15,
   "id": "3cd03dcc",
   "metadata": {},
   "outputs": [
    {
     "name": "stdout",
     "output_type": "stream",
     "text": [
      "The values of k are in column indexes \n",
      " the values along column are predictions \n",
      " values on right most are sample no.\n",
      "\n",
      "       1   3   5   7   9   11  13  15  17  19  21  23  25\n",
      "0       9   9   9   9   9   9   9   9   9   9   9   9   9\n",
      "1       5   5   5   5   5   5   5   5   5   5   5   5   5\n",
      "2       7   7   7   7   7   7   7   7   7   7   7   7   7\n",
      "3       7   7   7   7   7   7   7   7   7   7   7   7   7\n",
      "4       1   1   1   1   1   1   1   1   1   1   1   1   1\n",
      "...    ..  ..  ..  ..  ..  ..  ..  ..  ..  ..  ..  ..  ..\n",
      "11995   2   2   2   2   2   2   2   2   2   2   2   2   2\n",
      "11996   9   9   9   9   9   9   9   9   9   9   9   9   9\n",
      "11997   8   8   8   8   8   8   8   8   8   8   8   8   8\n",
      "11998   1   1   1   1   1   1   1   1   1   1   1   1   1\n",
      "11999   4   4   4   4   4   4   4   4   4   9   9   9   9\n",
      "\n",
      "[12000 rows x 13 columns]\n",
      "Manhaten : Best k = 1 with highest accuracy = 97.15833333333333\n",
      "CPU times: user 26min 16s, sys: 12min 16s, total: 38min 32s\n",
      "Wall time: 38min 37s\n"
     ]
    },
    {
     "data": {
      "text/plain": [
       "<matplotlib.collections.PathCollection at 0x7f509d3de470>"
      ]
     },
     "execution_count": 15,
     "metadata": {},
     "output_type": "execute_result"
    },
    {
     "data": {
      "image/png": "[encoded data removed]",
      "text/plain": [
       "<Figure size 432x288 with 1 Axes>"
      ]
     },
     "metadata": {
      "needs_background": "light"
     },
     "output_type": "display_data"
    }
   ],
   "source": [
    "%%time\n",
    "Euclid = prediction(valid_img, L2) #getting predicted array\n",
    "print(Euclid)\n",
    "acc_Euclid = Euclid.apply(acc_percentage, y = valid_lab)\n",
    "sort_acc_Euclid=acc_Euclid.sort_values(ascending = False)\n",
    "\n",
    "# plot using acc_Euclid\n",
    "\n",
    "# Finding the Highest k\n",
    "Euclid_k_highest = sort_acc_Euclid.index[0]\n",
    "Euclid_k_highest\n",
    "# Finding the Highest Accuracy\n",
    "Euclid_Value = sort_acc_Euclid.values[0]\n",
    "Euclid_Value\n",
    "print(f\"Manhaten : Best k = {Euclid_k_highest} with highest accuracy = {Euclid_Value}\")\n",
    "plt.scatter(sort_acc_Euclid.index, sort_acc_Euclid.values)"
   ]
  },
  {
   "cell_type": "code",
   "execution_count": 16,
   "id": "f4697504",
   "metadata": {},
   "outputs": [
    {
     "data": {
      "text/plain": [
       "1     97.158333\n",
       "3     97.125000\n",
       "5     97.041667\n",
       "7     96.875000\n",
       "9     96.691667\n",
       "11    96.525000\n",
       "13    96.458333\n",
       "15    96.250000\n",
       "17    96.191667\n",
       "19    96.083333\n",
       "21    95.925000\n",
       "23    95.841667\n",
       "25    95.783333\n",
       "dtype: float64"
      ]
     },
     "execution_count": 16,
     "metadata": {},
     "output_type": "execute_result"
    }
   ],
   "source": [
    "sort_acc_Euclid"
   ]
  },
  {
   "cell_type": "markdown",
   "id": "1e1d3cc5",
   "metadata": {},
   "source": [
    "# For P=1 , <span style=\"color:red\">L1 NORM (Manhaten)</span>\n"
   ]
  },
  {
   "cell_type": "code",
   "execution_count": 17,
   "id": "5c2346de",
   "metadata": {},
   "outputs": [
    {
     "name": "stdout",
     "output_type": "stream",
     "text": [
      "The values of k are in column indexes \n",
      " the values along column are predictions \n",
      " values on right most are sample no.\n",
      "\n",
      "       1   3   5   7   9   11  13  15  17  19  21  23  25\n",
      "0       9   9   9   9   9   9   9   9   9   9   9   9   9\n",
      "1       5   5   5   5   5   5   5   5   5   5   5   5   5\n",
      "2       7   7   7   7   7   7   7   7   7   7   7   7   7\n",
      "3       7   7   7   7   7   7   7   7   7   7   7   7   7\n",
      "4       1   1   1   1   1   1   1   1   1   1   1   1   1\n",
      "...    ..  ..  ..  ..  ..  ..  ..  ..  ..  ..  ..  ..  ..\n",
      "11995   2   2   2   2   2   2   2   2   2   2   2   2   2\n",
      "11996   9   9   9   9   9   9   9   9   9   9   9   9   9\n",
      "11997   8   8   8   8   8   8   8   8   8   8   8   8   8\n",
      "11998   1   1   1   1   1   1   1   1   1   1   1   1   1\n",
      "11999   4   4   4   4   4   4   4   4   4   4   4   4   9\n",
      "\n",
      "[12000 rows x 13 columns]\n",
      "Manhaten : Best k = 3 with highest accuracy = 96.60833333333333\n",
      "CPU times: user 24min 55s, sys: 11min 17s, total: 36min 13s\n",
      "Wall time: 36min 14s\n"
     ]
    },
    {
     "data": {
      "text/plain": [
       "<matplotlib.collections.PathCollection at 0x7f509d17e230>"
      ]
     },
     "execution_count": 17,
     "metadata": {},
     "output_type": "execute_result"
    },
    {
     "data": {
      "image/png": "[encoded data removed]",
      "text/plain": [
       "<Figure size 432x288 with 1 Axes>"
      ]
     },
     "metadata": {
      "needs_background": "light"
     },
     "output_type": "display_data"
    }
   ],
   "source": [
    "%%time\n",
    "Manhaten = prediction(valid_img, L1) #getting predictions for all k\n",
    "print(Manhaten)\n",
    "acc_Manhaten = Manhaten.apply(acc_percentage, y = valid_lab)  #acc_Manhaten\n",
    "sort_acc_Manhaten=acc_Manhaten.sort_values(ascending = False) # accuracy array for all k\n",
    "\n",
    "# plot using acc_Manhaten\n",
    "\n",
    "# Finding the Highest k\n",
    "Manhaten_k_highest = sort_acc_Manhaten.index[0]\n",
    "Manhaten_k_highest\n",
    "# Finding the Highest Accuracy\n",
    "Manhaten_Value = sort_acc_Manhaten.values[0]\n",
    "Manhaten_Value\n",
    "\n",
    "print(f\"Manhaten : Best k = {Manhaten_k_highest} with highest accuracy = {Manhaten_Value}\")\n",
    "plt.scatter(sort_acc_Manhaten.index, sort_acc_Manhaten.values)"
   ]
  },
  {
   "cell_type": "code",
   "execution_count": 18,
   "id": "aaafcf71",
   "metadata": {},
   "outputs": [
    {
     "data": {
      "text/plain": [
       "3     96.608333\n",
       "1     96.500000\n",
       "5     96.425000\n",
       "7     96.300000\n",
       "9     96.066667\n",
       "11    95.908333\n",
       "13    95.641667\n",
       "15    95.608333\n",
       "17    95.366667\n",
       "19    95.191667\n",
       "21    95.025000\n",
       "23    95.000000\n",
       "25    94.875000\n",
       "dtype: float64"
      ]
     },
     "execution_count": 18,
     "metadata": {},
     "output_type": "execute_result"
    }
   ],
   "source": [
    "sort_acc_Manhaten"
   ]
  },
  {
   "cell_type": "markdown",
   "id": "b30165c1",
   "metadata": {},
   "source": [
    "# For P=1 , <span style=\"color:red\">L-inf NORM</span>"
   ]
  },
  {
   "cell_type": "code",
   "execution_count": 19,
   "id": "9f1bd9a0",
   "metadata": {},
   "outputs": [
    {
     "name": "stdout",
     "output_type": "stream",
     "text": [
      "The values of k are in column indexes \n",
      " the values along column are predictions \n",
      " values on right most are sample no.\n",
      "\n",
      "       1   3   5   7   9   11  13  15  17  19  21  23  25\n",
      "0       9   9   9   9   9   9   9   9   9   9   9   9   9\n",
      "1       0   0   3   0   7   7   7   7   7   3   7   7   7\n",
      "2       6   4   4   4   4   4   4   4   4   4   4   4   4\n",
      "3       7   7   7   7   7   7   7   7   7   7   7   7   7\n",
      "4       1   1   1   1   1   1   1   1   1   1   1   1   1\n",
      "...    ..  ..  ..  ..  ..  ..  ..  ..  ..  ..  ..  ..  ..\n",
      "11995   6   6   6   6   6   6   2   2   2   6   6   6   6\n",
      "11996   9   9   9   9   9   9   9   9   9   9   9   9   9\n",
      "11997   3   3   3   3   3   3   3   3   3   3   3   3   3\n",
      "11998   1   1   1   1   1   1   1   1   1   1   1   1   1\n",
      "11999   9   8   8   8   8   8   8   8   8   8   8   8   8\n",
      "\n",
      "[12000 rows x 13 columns]\n",
      "Chebychev : Best k = 1 with highest accuracy = 81.66666666666667\n",
      "CPU times: user 26min 25s, sys: 12min 11s, total: 38min 37s\n",
      "Wall time: 38min 40s\n"
     ]
    },
    {
     "data": {
      "text/plain": [
       "<matplotlib.collections.PathCollection at 0x7f509d1e9f60>"
      ]
     },
     "execution_count": 19,
     "metadata": {},
     "output_type": "execute_result"
    },
    {
     "data": {
      "image/png": "[encoded data removed]",
      "text/plain": [
       "<Figure size 432x288 with 1 Axes>"
      ]
     },
     "metadata": {
      "needs_background": "light"
     },
     "output_type": "display_data"
    }
   ],
   "source": [
    "%%time\n",
    "L_inf = prediction(valid_img, Linf)\n",
    "print(L_inf)\n",
    "acc_Linf = L_inf.apply(acc_percentage, y = valid_lab)\n",
    "sort_acc_Linf=acc_Linf.sort_values(ascending = False)\n",
    "\n",
    "# plot using acc_Linf\n",
    "\n",
    "# Finding the Highest k\n",
    "Linf_k_highest = sort_acc_Linf.index[0]\n",
    "Linf_k_highest\n",
    "# Finding the Highest Accuracy\n",
    "Linf_Value = sort_acc_Linf.values[0]\n",
    "Linf_Value\n",
    "print(f\"Chebychev : Best k = {Linf_k_highest} with highest accuracy = {Linf_Value}\")\n",
    "plt.scatter(sort_acc_Linf.index, sort_acc_Linf.values)"
   ]
  },
  {
   "cell_type": "code",
   "execution_count": 20,
   "id": "f7159413",
   "metadata": {},
   "outputs": [
    {
     "data": {
      "text/plain": [
       "1     81.666667\n",
       "5     80.300000\n",
       "7     80.125000\n",
       "3     80.075000\n",
       "9     79.841667\n",
       "11    79.541667\n",
       "13    79.400000\n",
       "15    79.000000\n",
       "17    78.858333\n",
       "19    78.300000\n",
       "21    78.208333\n",
       "23    77.825000\n",
       "25    77.516667\n",
       "dtype: float64"
      ]
     },
     "execution_count": 20,
     "metadata": {},
     "output_type": "execute_result"
    }
   ],
   "source": [
    "sort_acc_Linf"
   ]
  },
  {
   "cell_type": "markdown",
   "id": "912bccc3",
   "metadata": {},
   "source": [
    "# Accuracy Matrices"
   ]
  },
  {
   "cell_type": "code",
   "execution_count": 21,
   "id": "1dbf3fa1",
   "metadata": {},
   "outputs": [
    {
     "data": {
      "text/plain": [
       "1     97.158333\n",
       "3     97.125000\n",
       "5     97.041667\n",
       "7     96.875000\n",
       "9     96.691667\n",
       "11    96.525000\n",
       "13    96.458333\n",
       "15    96.250000\n",
       "17    96.191667\n",
       "19    96.083333\n",
       "21    95.925000\n",
       "23    95.841667\n",
       "25    95.783333\n",
       "dtype: float64"
      ]
     },
     "execution_count": 21,
     "metadata": {},
     "output_type": "execute_result"
    }
   ],
   "source": [
    "acc_Euclid"
   ]
  },
  {
   "cell_type": "code",
   "execution_count": 22,
   "id": "f12faa22",
   "metadata": {},
   "outputs": [
    {
     "data": {
      "text/plain": [
       "1     96.500000\n",
       "3     96.608333\n",
       "5     96.425000\n",
       "7     96.300000\n",
       "9     96.066667\n",
       "11    95.908333\n",
       "13    95.641667\n",
       "15    95.608333\n",
       "17    95.366667\n",
       "19    95.191667\n",
       "21    95.025000\n",
       "23    95.000000\n",
       "25    94.875000\n",
       "dtype: float64"
      ]
     },
     "execution_count": 22,
     "metadata": {},
     "output_type": "execute_result"
    }
   ],
   "source": [
    "acc_Manhaten"
   ]
  },
  {
   "cell_type": "code",
   "execution_count": 23,
   "id": "24addaac",
   "metadata": {},
   "outputs": [
    {
     "data": {
      "text/plain": [
       "1     81.666667\n",
       "3     80.075000\n",
       "5     80.300000\n",
       "7     80.125000\n",
       "9     79.841667\n",
       "11    79.541667\n",
       "13    79.400000\n",
       "15    79.000000\n",
       "17    78.858333\n",
       "19    78.300000\n",
       "21    78.208333\n",
       "23    77.825000\n",
       "25    77.516667\n",
       "dtype: float64"
      ]
     },
     "execution_count": 23,
     "metadata": {},
     "output_type": "execute_result"
    }
   ],
   "source": [
    "acc_Linf"
   ]
  },
  {
   "cell_type": "code",
   "execution_count": 28,
   "id": "d1c111e6",
   "metadata": {},
   "outputs": [
    {
     "data": {
      "text/html": [
       "<div>\n",
       "<style scoped>\n",
       "    .dataframe tbody tr th:only-of-type {\n",
       "        vertical-align: middle;\n",
       "    }\n",
       "\n",
       "    .dataframe tbody tr th {\n",
       "        vertical-align: top;\n",
       "    }\n",
       "\n",
       "    .dataframe thead th {\n",
       "        text-align: right;\n",
       "    }\n",
       "</style>\n",
       "<table border=\"1\" class=\"dataframe\">\n",
       "  <thead>\n",
       "    <tr style=\"text-align: right;\">\n",
       "      <th></th>\n",
       "      <th>1</th>\n",
       "      <th>3</th>\n",
       "      <th>5</th>\n",
       "      <th>7</th>\n",
       "      <th>9</th>\n",
       "      <th>11</th>\n",
       "      <th>13</th>\n",
       "      <th>15</th>\n",
       "      <th>17</th>\n",
       "      <th>19</th>\n",
       "      <th>21</th>\n",
       "      <th>23</th>\n",
       "      <th>25</th>\n",
       "    </tr>\n",
       "  </thead>\n",
       "  <tbody>\n",
       "    <tr>\n",
       "      <th>1</th>\n",
       "      <td>96.500000</td>\n",
       "      <td>96.608333</td>\n",
       "      <td>96.425000</td>\n",
       "      <td>96.300</td>\n",
       "      <td>96.066667</td>\n",
       "      <td>95.908333</td>\n",
       "      <td>95.641667</td>\n",
       "      <td>95.608333</td>\n",
       "      <td>95.366667</td>\n",
       "      <td>95.191667</td>\n",
       "      <td>95.025000</td>\n",
       "      <td>95.000000</td>\n",
       "      <td>94.875000</td>\n",
       "    </tr>\n",
       "    <tr>\n",
       "      <th>2</th>\n",
       "      <td>97.158333</td>\n",
       "      <td>97.125000</td>\n",
       "      <td>97.041667</td>\n",
       "      <td>96.875</td>\n",
       "      <td>96.691667</td>\n",
       "      <td>96.525000</td>\n",
       "      <td>96.458333</td>\n",
       "      <td>96.250000</td>\n",
       "      <td>96.191667</td>\n",
       "      <td>96.083333</td>\n",
       "      <td>95.925000</td>\n",
       "      <td>95.841667</td>\n",
       "      <td>95.783333</td>\n",
       "    </tr>\n",
       "    <tr>\n",
       "      <th>3</th>\n",
       "      <td>81.666667</td>\n",
       "      <td>80.075000</td>\n",
       "      <td>80.300000</td>\n",
       "      <td>80.125</td>\n",
       "      <td>79.841667</td>\n",
       "      <td>79.541667</td>\n",
       "      <td>79.400000</td>\n",
       "      <td>79.000000</td>\n",
       "      <td>78.858333</td>\n",
       "      <td>78.300000</td>\n",
       "      <td>78.208333</td>\n",
       "      <td>77.825000</td>\n",
       "      <td>77.516667</td>\n",
       "    </tr>\n",
       "  </tbody>\n",
       "</table>\n",
       "</div>"
      ],
      "text/plain": [
       "          1          3          5       7          9          11         13  \\\n",
       "1  96.500000  96.608333  96.425000  96.300  96.066667  95.908333  95.641667   \n",
       "2  97.158333  97.125000  97.041667  96.875  96.691667  96.525000  96.458333   \n",
       "3  81.666667  80.075000  80.300000  80.125  79.841667  79.541667  79.400000   \n",
       "\n",
       "          15         17         19         21         23         25  \n",
       "1  95.608333  95.366667  95.191667  95.025000  95.000000  94.875000  \n",
       "2  96.250000  96.191667  96.083333  95.925000  95.841667  95.783333  \n",
       "3  79.000000  78.858333  78.300000  78.208333  77.825000  77.516667  "
      ]
     },
     "execution_count": 28,
     "metadata": {},
     "output_type": "execute_result"
    }
   ],
   "source": [
    "p=[1,2,3]\n",
    "\n",
    "k = list(range(1,26,2))\n",
    "\n",
    "# Create DataFrame\n",
    "df = pd.DataFrame([acc_Manhaten,acc_Euclid , acc_Linf], columns=k, index=p)\n",
    "\n",
    "df"
   ]
  },
  {
   "cell_type": "markdown",
   "id": "b4883420",
   "metadata": {},
   "source": [
    "# Best value of K = <span style=\"color:red\">1<span>\n",
    "# Best value of P = <span style=\"color:red\">2<span>"
   ]
  },
  {
   "cell_type": "markdown",
   "id": "2acfbc40",
   "metadata": {},
   "source": [
    "# ---------------------------------------------------------------------------------------------------------------------------"
   ]
  },
  {
   "cell_type": "markdown",
   "id": "a1877a9b",
   "metadata": {},
   "source": [
    "# <span style=\"color:green\"> Plotting K vs P vs Accuracy </span>"
   ]
  },
  {
   "cell_type": "markdown",
   "id": "cfe367f3",
   "metadata": {},
   "source": [
    "#### 3-D interactive plot"
   ]
  },
  {
   "cell_type": "code",
   "execution_count": 57,
   "id": "226cf129",
   "metadata": {},
   "outputs": [],
   "source": [
    "fig.canvas.header_visible = False\n",
    "fig.canvas.footer_visible = False"
   ]
  },
  {
   "cell_type": "code",
   "execution_count": 58,
   "id": "162f43c6",
   "metadata": {},
   "outputs": [
    {
     "data": {
      "application/vnd.jupyter.widget-view+json": {
       "model_id": "61f9cc15a0e6441d92944d8155c8279e",
       "version_major": 2,
       "version_minor": 0
      },
      "image/png": "[encoded data removed]",
      "text/html": [
       "\n",
       "            <div style=\"display: inline-block;\">\n",
       "                <div class=\"jupyter-widgets widget-label\" style=\"text-align: center;\">\n",
       "                    Figure\n",
       "                </div>\n",
       "                <img src='data:image/png;base64,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' width=640.0/>\n",
       "            </div>\n",
       "        "
      ],
      "text/plain": [
       "Canvas(toolbar=Toolbar(toolitems=[('Home', 'Reset original view', 'home', 'home'), ('Back', 'Back to previous …"
      ]
     },
     "metadata": {},
     "output_type": "display_data"
    }
   ],
   "source": [
    "# 3D Plot of X = p vs Y = k vs Z = Accuracy Percentage\n",
    "\n",
    "X = np.array(df.index)\n",
    "Y = np.array(df.columns)\n",
    "X, Y = np.meshgrid(Y, X)\n",
    "\n",
    "Z = df.values\n",
    "\n",
    "# Flatten the arrays for scatter plot\n",
    "X = X.flatten()\n",
    "Y = Y.flatten()\n",
    "Z = Z.flatten()\n",
    "\n",
    "# Create a color array for each row\n",
    "colors = ['red', 'green', 'blue']\n",
    "row_colors = np.repeat(colors, len(df.columns))\n",
    "\n",
    "fig = plt.figure()\n",
    "ax = fig.add_subplot(111, projection='3d')\n",
    "ax.scatter(X, Y, Z, c=row_colors)\n",
    "\n",
    "ax.set_xlabel('P')\n",
    "ax.set_ylabel('K')\n",
    "ax.set_zlabel('Accuracy')\n",
    "\n",
    "plt.savefig('3d_plot.png') #saving the image of the plot\n",
    "\n",
    "plt.show()\n"
   ]
  },
  {
   "cell_type": "markdown",
   "id": "f34e4a9a",
   "metadata": {},
   "source": [
    "##### Hover on points to see the values"
   ]
  },
  {
   "cell_type": "code",
   "execution_count": 34,
   "id": "a8ca57a6",
   "metadata": {},
   "outputs": [
    {
     "data": {
      "application/vnd.plotly.v1+json": {
       "config": {
        "plotlyServerURL": "https://plot.ly"
       },
       "data": [
        {
         "hovertemplate": "Index: %{x}<br>Column: %{y}<br>Data: %{z}<extra></extra>",
         "marker": {
          "color": [
           96.5,
           96.60833333333333,
           96.425,
           96.3,
           96.06666666666666,
           95.90833333333333,
           95.64166666666667,
           95.60833333333333,
           95.36666666666666,
           95.19166666666666,
           95.025,
           95,
           94.875,
           97.15833333333333,
           97.125,
           97.04166666666667,
           96.875,
           96.69166666666666,
           96.525,
           96.45833333333333,
           96.25,
           96.19166666666666,
           96.08333333333333,
           95.925,
           95.84166666666667,
           95.78333333333333,
           81.66666666666667,
           80.075,
           80.3,
           80.125,
           79.84166666666667,
           79.54166666666667,
           79.4,
           79,
           78.85833333333333,
           78.3,
           78.20833333333333,
           77.825,
           77.51666666666667
          ],
          "colorscale": [
           [
            0,
            "#440154"
           ],
           [
            0.1111111111111111,
            "#482878"
           ],
           [
            0.2222222222222222,
            "#3e4989"
           ],
           [
            0.3333333333333333,
            "#31688e"
           ],
           [
            0.4444444444444444,
            "#26828e"
           ],
           [
            0.5555555555555556,
            "#1f9e89"
           ],
           [
            0.6666666666666666,
            "#35b779"
           ],
           [
            0.7777777777777778,
            "#6ece58"
           ],
           [
            0.8888888888888888,
            "#b5de2b"
           ],
           [
            1,
            "#fde725"
           ]
          ],
          "size": 4
         },
         "mode": "markers",
         "type": "scatter3d",
         "x": [
          1,
          3,
          5,
          7,
          9,
          11,
          13,
          15,
          17,
          19,
          21,
          23,
          25,
          1,
          3,
          5,
          7,
          9,
          11,
          13,
          15,
          17,
          19,
          21,
          23,
          25,
          1,
          3,
          5,
          7,
          9,
          11,
          13,
          15,
          17,
          19,
          21,
          23,
          25
         ],
         "y": [
          1,
          1,
          1,
          1,
          1,
          1,
          1,
          1,
          1,
          1,
          1,
          1,
          1,
          2,
          2,
          2,
          2,
          2,
          2,
          2,
          2,
          2,
          2,
          2,
          2,
          2,
          3,
          3,
          3,
          3,
          3,
          3,
          3,
          3,
          3,
          3,
          3,
          3,
          3
         ],
         "z": [
          96.5,
          96.60833333333333,
          96.425,
          96.3,
          96.06666666666666,
          95.90833333333333,
          95.64166666666667,
          95.60833333333333,
          95.36666666666666,
          95.19166666666666,
          95.025,
          95,
          94.875,
          97.15833333333333,
          97.125,
          97.04166666666667,
          96.875,
          96.69166666666666,
          96.525,
          96.45833333333333,
          96.25,
          96.19166666666666,
          96.08333333333333,
          95.925,
          95.84166666666667,
          95.78333333333333,
          81.66666666666667,
          80.075,
          80.3,
          80.125,
          79.84166666666667,
          79.54166666666667,
          79.4,
          79,
          78.85833333333333,
          78.3,
          78.20833333333333,
          77.825,
          77.51666666666667
         ]
        }
       ],
       "layout": {
        "scene": {
         "xaxis": {
          "title": {
           "text": "K"
          }
         },
         "yaxis": {
          "title": {
           "text": "P"
          }
         },
         "zaxis": {
          "title": {
           "text": "Accuracy"
          }
         }
        },
        "template": {
         "data": {
          "bar": [
           {
            "error_x": {
             "color": "#2a3f5f"
            },
            "error_y": {
             "color": "#2a3f5f"
            },
            "marker": {
             "line": {
              "color": "#E5ECF6",
              "width": 0.5
             },
             "pattern": {
              "fillmode": "overlay",
              "size": 10,
              "solidity": 0.2
             }
            },
            "type": "bar"
           }
          ],
          "barpolar": [
           {
            "marker": {
             "line": {
              "color": "#E5ECF6",
              "width": 0.5
             },
             "pattern": {
              "fillmode": "overlay",
              "size": 10,
              "solidity": 0.2
             }
            },
            "type": "barpolar"
           }
          ],
          "carpet": [
           {
            "aaxis": {
             "endlinecolor": "#2a3f5f",
             "gridcolor": "white",
             "linecolor": "white",
             "minorgridcolor": "white",
             "startlinecolor": "#2a3f5f"
            },
            "baxis": {
             "endlinecolor": "#2a3f5f",
             "gridcolor": "white",
             "linecolor": "white",
             "minorgridcolor": "white",
             "startlinecolor": "#2a3f5f"
            },
            "type": "carpet"
           }
          ],
          "choropleth": [
           {
            "colorbar": {
             "outlinewidth": 0,
             "ticks": ""
            },
            "type": "choropleth"
           }
          ],
          "contour": [
           {
            "colorbar": {
             "outlinewidth": 0,
             "ticks": ""
            },
            "colorscale": [
             [
              0,
              "#0d0887"
             ],
             [
              0.1111111111111111,
              "#46039f"
             ],
             [
              0.2222222222222222,
              "#7201a8"
             ],
             [
              0.3333333333333333,
              "#9c179e"
             ],
             [
              0.4444444444444444,
              "#bd3786"
             ],
             [
              0.5555555555555556,
              "#d8576b"
             ],
             [
              0.6666666666666666,
              "#ed7953"
             ],
             [
              0.7777777777777778,
              "#fb9f3a"
             ],
             [
              0.8888888888888888,
              "#fdca26"
             ],
             [
              1,
              "#f0f921"
             ]
            ],
            "type": "contour"
           }
          ],
          "contourcarpet": [
           {
            "colorbar": {
             "outlinewidth": 0,
             "ticks": ""
            },
            "type": "contourcarpet"
           }
          ],
          "heatmap": [
           {
            "colorbar": {
             "outlinewidth": 0,
             "ticks": ""
            },
            "colorscale": [
             [
              0,
              "#0d0887"
             ],
             [
              0.1111111111111111,
              "#46039f"
             ],
             [
              0.2222222222222222,
              "#7201a8"
             ],
             [
              0.3333333333333333,
              "#9c179e"
             ],
             [
              0.4444444444444444,
              "#bd3786"
             ],
             [
              0.5555555555555556,
              "#d8576b"
             ],
             [
              0.6666666666666666,
              "#ed7953"
             ],
             [
              0.7777777777777778,
              "#fb9f3a"
             ],
             [
              0.8888888888888888,
              "#fdca26"
             ],
             [
              1,
              "#f0f921"
             ]
            ],
            "type": "heatmap"
           }
          ],
          "heatmapgl": [
           {
            "colorbar": {
             "outlinewidth": 0,
             "ticks": ""
            },
            "colorscale": [
             [
              0,
              "#0d0887"
             ],
             [
              0.1111111111111111,
              "#46039f"
             ],
             [
              0.2222222222222222,
              "#7201a8"
             ],
             [
              0.3333333333333333,
              "#9c179e"
             ],
             [
              0.4444444444444444,
              "#bd3786"
             ],
             [
              0.5555555555555556,
              "#d8576b"
             ],
             [
              0.6666666666666666,
              "#ed7953"
             ],
             [
              0.7777777777777778,
              "#fb9f3a"
             ],
             [
              0.8888888888888888,
              "#fdca26"
             ],
             [
              1,
              "#f0f921"
             ]
            ],
            "type": "heatmapgl"
           }
          ],
          "histogram": [
           {
            "marker": {
             "pattern": {
              "fillmode": "overlay",
              "size": 10,
              "solidity": 0.2
             }
            },
            "type": "histogram"
           }
          ],
          "histogram2d": [
           {
            "colorbar": {
             "outlinewidth": 0,
             "ticks": ""
            },
            "colorscale": [
             [
              0,
              "#0d0887"
             ],
             [
              0.1111111111111111,
              "#46039f"
             ],
             [
              0.2222222222222222,
              "#7201a8"
             ],
             [
              0.3333333333333333,
              "#9c179e"
             ],
             [
              0.4444444444444444,
              "#bd3786"
             ],
             [
              0.5555555555555556,
              "#d8576b"
             ],
             [
              0.6666666666666666,
              "#ed7953"
             ],
             [
              0.7777777777777778,
              "#fb9f3a"
             ],
             [
              0.8888888888888888,
              "#fdca26"
             ],
             [
              1,
              "#f0f921"
             ]
            ],
            "type": "histogram2d"
           }
          ],
          "histogram2dcontour": [
           {
            "colorbar": {
             "outlinewidth": 0,
             "ticks": ""
            },
            "colorscale": [
             [
              0,
              "#0d0887"
             ],
             [
              0.1111111111111111,
              "#46039f"
             ],
             [
              0.2222222222222222,
              "#7201a8"
             ],
             [
              0.3333333333333333,
              "#9c179e"
             ],
             [
              0.4444444444444444,
              "#bd3786"
             ],
             [
              0.5555555555555556,
              "#d8576b"
             ],
             [
              0.6666666666666666,
              "#ed7953"
             ],
             [
              0.7777777777777778,
              "#fb9f3a"
             ],
             [
              0.8888888888888888,
              "#fdca26"
             ],
             [
              1,
              "#f0f921"
             ]
            ],
            "type": "histogram2dcontour"
           }
          ],
          "mesh3d": [
           {
            "colorbar": {
             "outlinewidth": 0,
             "ticks": ""
            },
            "type": "mesh3d"
           }
          ],
          "parcoords": [
           {
            "line": {
             "colorbar": {
              "outlinewidth": 0,
              "ticks": ""
             }
            },
            "type": "parcoords"
           }
          ],
          "pie": [
           {
            "automargin": true,
            "type": "pie"
           }
          ],
          "scatter": [
           {
            "fillpattern": {
             "fillmode": "overlay",
             "size": 10,
             "solidity": 0.2
            },
            "type": "scatter"
           }
          ],
          "scatter3d": [
           {
            "line": {
             "colorbar": {
              "outlinewidth": 0,
              "ticks": ""
             }
            },
            "marker": {
             "colorbar": {
              "outlinewidth": 0,
              "ticks": ""
             }
            },
            "type": "scatter3d"
           }
          ],
          "scattercarpet": [
           {
            "marker": {
             "colorbar": {
              "outlinewidth": 0,
              "ticks": ""
             }
            },
            "type": "scattercarpet"
           }
          ],
          "scattergeo": [
           {
            "marker": {
             "colorbar": {
              "outlinewidth": 0,
              "ticks": ""
             }
            },
            "type": "scattergeo"
           }
          ],
          "scattergl": [
           {
            "marker": {
             "colorbar": {
              "outlinewidth": 0,
              "ticks": ""
             }
            },
            "type": "scattergl"
           }
          ],
          "scattermapbox": [
           {
            "marker": {
             "colorbar": {
              "outlinewidth": 0,
              "ticks": ""
             }
            },
            "type": "scattermapbox"
           }
          ],
          "scatterpolar": [
           {
            "marker": {
             "colorbar": {
              "outlinewidth": 0,
              "ticks": ""
             }
            },
            "type": "scatterpolar"
           }
          ],
          "scatterpolargl": [
           {
            "marker": {
             "colorbar": {
              "outlinewidth": 0,
              "ticks": ""
             }
            },
            "type": "scatterpolargl"
           }
          ],
          "scatterternary": [
           {
            "marker": {
             "colorbar": {
              "outlinewidth": 0,
              "ticks": ""
             }
            },
            "type": "scatterternary"
           }
          ],
          "surface": [
           {
            "colorbar": {
             "outlinewidth": 0,
             "ticks": ""
            },
            "colorscale": [
             [
              0,
              "#0d0887"
             ],
             [
              0.1111111111111111,
              "#46039f"
             ],
             [
              0.2222222222222222,
              "#7201a8"
             ],
             [
              0.3333333333333333,
              "#9c179e"
             ],
             [
              0.4444444444444444,
              "#bd3786"
             ],
             [
              0.5555555555555556,
              "#d8576b"
             ],
             [
              0.6666666666666666,
              "#ed7953"
             ],
             [
              0.7777777777777778,
              "#fb9f3a"
             ],
             [
              0.8888888888888888,
              "#fdca26"
             ],
             [
              1,
              "#f0f921"
             ]
            ],
            "type": "surface"
           }
          ],
          "table": [
           {
            "cells": {
             "fill": {
              "color": "#EBF0F8"
             },
             "line": {
              "color": "white"
             }
            },
            "header": {
             "fill": {
              "color": "#C8D4E3"
             },
             "line": {
              "color": "white"
             }
            },
            "type": "table"
           }
          ]
         },
         "layout": {
          "annotationdefaults": {
           "arrowcolor": "#2a3f5f",
           "arrowhead": 0,
           "arrowwidth": 1
          },
          "autotypenumbers": "strict",
          "coloraxis": {
           "colorbar": {
            "outlinewidth": 0,
            "ticks": ""
           }
          },
          "colorscale": {
           "diverging": [
            [
             0,
             "#8e0152"
            ],
            [
             0.1,
             "#c51b7d"
            ],
            [
             0.2,
             "#de77ae"
            ],
            [
             0.3,
             "#f1b6da"
            ],
            [
             0.4,
             "#fde0ef"
            ],
            [
             0.5,
             "#f7f7f7"
            ],
            [
             0.6,
             "#e6f5d0"
            ],
            [
             0.7,
             "#b8e186"
            ],
            [
             0.8,
             "#7fbc41"
            ],
            [
             0.9,
             "#4d9221"
            ],
            [
             1,
             "#276419"
            ]
           ],
           "sequential": [
            [
             0,
             "#0d0887"
            ],
            [
             0.1111111111111111,
             "#46039f"
            ],
            [
             0.2222222222222222,
             "#7201a8"
            ],
            [
             0.3333333333333333,
             "#9c179e"
            ],
            [
             0.4444444444444444,
             "#bd3786"
            ],
            [
             0.5555555555555556,
             "#d8576b"
            ],
            [
             0.6666666666666666,
             "#ed7953"
            ],
            [
             0.7777777777777778,
             "#fb9f3a"
            ],
            [
             0.8888888888888888,
             "#fdca26"
            ],
            [
             1,
             "#f0f921"
            ]
           ],
           "sequentialminus": [
            [
             0,
             "#0d0887"
            ],
            [
             0.1111111111111111,
             "#46039f"
            ],
            [
             0.2222222222222222,
             "#7201a8"
            ],
            [
             0.3333333333333333,
             "#9c179e"
            ],
            [
             0.4444444444444444,
             "#bd3786"
            ],
            [
             0.5555555555555556,
             "#d8576b"
            ],
            [
             0.6666666666666666,
             "#ed7953"
            ],
            [
             0.7777777777777778,
             "#fb9f3a"
            ],
            [
             0.8888888888888888,
             "#fdca26"
            ],
            [
             1,
             "#f0f921"
            ]
           ]
          },
          "colorway": [
           "#636efa",
           "#EF553B",
           "#00cc96",
           "#ab63fa",
           "#FFA15A",
           "#19d3f3",
           "#FF6692",
           "#B6E880",
           "#FF97FF",
           "#FECB52"
          ],
          "font": {
           "color": "#2a3f5f"
          },
          "geo": {
           "bgcolor": "white",
           "lakecolor": "white",
           "landcolor": "#E5ECF6",
           "showlakes": true,
           "showland": true,
           "subunitcolor": "white"
          },
          "hoverlabel": {
           "align": "left"
          },
          "hovermode": "closest",
          "mapbox": {
           "style": "light"
          },
          "paper_bgcolor": "white",
          "plot_bgcolor": "#E5ECF6",
          "polar": {
           "angularaxis": {
            "gridcolor": "white",
            "linecolor": "white",
            "ticks": ""
           },
           "bgcolor": "#E5ECF6",
           "radialaxis": {
            "gridcolor": "white",
            "linecolor": "white",
            "ticks": ""
           }
          },
          "scene": {
           "xaxis": {
            "backgroundcolor": "#E5ECF6",
            "gridcolor": "white",
            "gridwidth": 2,
            "linecolor": "white",
            "showbackground": true,
            "ticks": "",
            "zerolinecolor": "white"
           },
           "yaxis": {
            "backgroundcolor": "#E5ECF6",
            "gridcolor": "white",
            "gridwidth": 2,
            "linecolor": "white",
            "showbackground": true,
            "ticks": "",
            "zerolinecolor": "white"
           },
           "zaxis": {
            "backgroundcolor": "#E5ECF6",
            "gridcolor": "white",
            "gridwidth": 2,
            "linecolor": "white",
            "showbackground": true,
            "ticks": "",
            "zerolinecolor": "white"
           }
          },
          "shapedefaults": {
           "line": {
            "color": "#2a3f5f"
           }
          },
          "ternary": {
           "aaxis": {
            "gridcolor": "white",
            "linecolor": "white",
            "ticks": ""
           },
           "baxis": {
            "gridcolor": "white",
            "linecolor": "white",
            "ticks": ""
           },
           "bgcolor": "#E5ECF6",
           "caxis": {
            "gridcolor": "white",
            "linecolor": "white",
            "ticks": ""
           }
          },
          "title": {
           "x": 0.05
          },
          "xaxis": {
           "automargin": true,
           "gridcolor": "white",
           "linecolor": "white",
           "ticks": "",
           "title": {
            "standoff": 15
           },
           "zerolinecolor": "white",
           "zerolinewidth": 2
          },
          "yaxis": {
           "automargin": true,
           "gridcolor": "white",
           "linecolor": "white",
           "ticks": "",
           "title": {
            "standoff": 15
           },
           "zerolinecolor": "white",
           "zerolinewidth": 2
          }
         }
        }
       }
      }
     },
     "metadata": {},
     "output_type": "display_data"
    }
   ],
   "source": [
    "\n",
    "# Hover on points to see the values\n",
    "import plotly.graph_objects as go\n",
    "\n",
    "# Assuming 'df' is your DataFrame\n",
    "X = np.array(df.index)\n",
    "Y = np.array(df.columns)\n",
    "X, Y = np.meshgrid(Y, X)\n",
    "\n",
    "Z = df.values\n",
    "\n",
    "# Flatten the arrays for scatter plot\n",
    "X = X.flatten()\n",
    "Y = Y.flatten()\n",
    "Z = Z.flatten()\n",
    "\n",
    "fig = go.Figure(data=[go.Scatter3d(x=X, y=Y, z=Z, mode='markers', \n",
    "                                   marker=dict(size=4, color=Z, colorscale='Viridis'), \n",
    "                                   hovertemplate='Index: %{x}<br>Column: %{y}<br>Data: %{z}<extra></extra>')])\n",
    "\n",
    "fig.update_layout(scene = dict(\n",
    "                    xaxis_title='K',\n",
    "                    yaxis_title='P',\n",
    "                    zaxis_title='Accuracy'))\n",
    "fig.show()"
   ]
  },
  {
   "cell_type": "markdown",
   "id": "20868199",
   "metadata": {},
   "source": [
    "# Predicting labels of Test Images and finding the Accuracy"
   ]
  },
  {
   "cell_type": "code",
   "execution_count": 53,
   "id": "495ca30c",
   "metadata": {},
   "outputs": [
    {
     "data": {
      "text/plain": [
       "(10000, 784)"
      ]
     },
     "execution_count": 53,
     "metadata": {},
     "output_type": "execute_result"
    }
   ],
   "source": [
    "test_img.shape"
   ]
  },
  {
   "cell_type": "code",
   "execution_count": 55,
   "id": "cbbe29e1",
   "metadata": {},
   "outputs": [
    {
     "name": "stdout",
     "output_type": "stream",
     "text": [
      "The values of 1 are in column indexes and the values along column are predictions\n",
      "      0\n",
      "0     7\n",
      "1     2\n",
      "2     1\n",
      "3     0\n",
      "4     4\n",
      "...  ..\n",
      "9995  2\n",
      "9996  3\n",
      "9997  4\n",
      "9998  5\n",
      "9999  6\n",
      "\n",
      "[10000 rows x 1 columns]\n",
      "Accuracy on test set for k=1 and L2: 0    96.65\n",
      "dtype: float64\n"
     ]
    }
   ],
   "source": [
    "test_pred=prediction_k(test_img, 1, L2)\n",
    "print(test_pred)\n",
    "\n",
    "test_accuracy = test_pred.apply(acc_percentage, y = test_labels)\n",
    "print(f\"Accuracy on test set for k=1 and L2: {test_accuracy}\")"
   ]
  }
 ],
 "metadata": {
  "kernelspec": {
   "display_name": "Python 3 (ipykernel)",
   "language": "python",
   "name": "python3"
  },
  "language_info": {
   "codemirror_mode": {
    "name": "ipython",
    "version": 3
   },
   "file_extension": ".py",
   "mimetype": "text/x-python",
   "name": "python",
   "nbconvert_exporter": "python",
   "pygments_lexer": "ipython3",
   "version": "3.10.12"
  }
 },
 "nbformat": 4,
 "nbformat_minor": 5
}
