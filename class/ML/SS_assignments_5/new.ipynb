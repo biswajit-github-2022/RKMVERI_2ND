{
 "cells": [
  {
   "cell_type": "markdown",
   "metadata": {},
   "source": [
    "# Import libs"
   ]
  },
  {
   "cell_type": "code",
   "execution_count": 6,
   "metadata": {},
   "outputs": [],
   "source": [
    "import gzip\n",
    "import numpy as np\n",
    "import matplotlib.pyplot as plt\n",
    "import pandas as pd\n",
    "\n",
    "import numpy as np\n",
    "from sklearn.manifold import MDS\n",
    "import matplotlib.pyplot as plt"
   ]
  },
  {
   "cell_type": "markdown",
   "metadata": {},
   "source": [
    "# Read image data"
   ]
  },
  {
   "cell_type": "code",
   "execution_count": 9,
   "metadata": {},
   "outputs": [
    {
     "name": "stdout",
     "output_type": "stream",
     "text": [
      "Train data (X) size: (60000, 28, 28), and labels (Y) size: (60000,)\n",
      "Test data (X) size: (10000, 28, 28), and labels (Y) size: (10000,)\n"
     ]
    },
    {
     "data": {
      "image/png": "[encoded data removed]",
      "text/plain": [
       "<Figure size 640x480 with 1 Axes>"
      ]
     },
     "metadata": {},
     "output_type": "display_data"
    },
    {
     "name": "stdout",
     "output_type": "stream",
     "text": [
      "Train image 23795-th sample \n",
      "[[  0   0   0   0   0   0   0   0   0   0   0   0   0   0   0   0   0   0\n",
      "    0   0   0   0   0   0   0   0   0   0]\n",
      " [  0   0   0   0   0   0   0   0   0   0   0   0   0   0   0   0   0   0\n",
      "    0   0   0   0   0   0   0   0   0   0]\n",
      " [  0   0   0   0   0   0   0   0   0   0   0   0   0   0   0   0   0   0\n",
      "    0   0   0   0   0   0   0   0   0   0]\n",
      " [  0   0   0   0   0   0   0   0   0   0   0   0   0   0   0   0   0   0\n",
      "    0   0   0   0   0   0   0   0   0   0]\n",
      " [  0   0   0   0   0   0   0   0   0   0   0   0   0   0   0   0   0   0\n",
      "    0   0   0   0   0   0   0   0   0   0]\n",
      " [  0   0   0   0   0   0   0   0   0   0   0   0   0   0   0   0   0  10\n",
      "  133 253 253 174   0   0   0   0   0   0]\n",
      " [  0   0   0   0   0   0   0   0   0   0   0   0   0   0   0   0   0 129\n",
      "  251 251 251 173   0   0   0   0   0   0]\n",
      " [  0   0   0   0   0   0   0   0   0   0   0   0   0   0   0   0   0 233\n",
      "  251 251 251 173   0   0   0   0   0   0]\n",
      " [  0   0   0   0   0   0   0   0   0   0   0   0   0   0   0   0  28 236\n",
      "  251 251 248 146   0   0   0   0   0   0]\n",
      " [  0   0   0   0   0   0   0   0   0   0   0   0   0   0   0  46 204 251\n",
      "  251 251 156   0   0   0   0   0   0   0]\n",
      " [  0   0   0   0   0   0   0   0   0   0   0   0   0   0  37 200 251 251\n",
      "  251 154  15   0   0   0   0   0   0   0]\n",
      " [  0   0   0   0   0   0   0   0   0   0   0   0   0   0  74 251 251 251\n",
      "  243  88   0   0   0   0   0   0   0   0]\n",
      " [  0   0   0   0   0   0   0   0   0   0   0   0   0  61 253 251 251 251\n",
      "  153   0   0   0   0   0   0   0   0   0]\n",
      " [  0   0   0   0   0   0   0   0   0   0   0   0  74 225 253 251 251 229\n",
      "   71   0   0   0   0   0   0   0   0   0]\n",
      " [  0   0   0   0   0   0   0   0   0   0   0   0 136 251 253 251 251  62\n",
      "    0   0   0   0   0   0   0   0   0   0]\n",
      " [  0   0   0   0   0   0   0   0   0   0   5 119 253 253 255 253 212  14\n",
      "    0   0   0   0   0   0   0   0   0   0]\n",
      " [  0   0   0   0   0   0   0   0   0   0 110 251 251 251 253 196  41   0\n",
      "    0   0   0   0   0   0   0   0   0   0]\n",
      " [  0   0   0   0   0   0   0   0   0   0 214 251 251 251 212  41   0   0\n",
      "    0   0   0   0   0   0   0   0   0   0]\n",
      " [  0   0   0   0   0   0   0   7 115 233 248 251 251 220  14   0   0   0\n",
      "    0   0   0   0   0   0   0   0   0   0]\n",
      " [  0   0   0   0   0   0   0  39 251 251 251 251 198  35   0   0   0   0\n",
      "    0   0   0   0   0   0   0   0   0   0]\n",
      " [  0   0   0   0   0   0   0  39 251 251 251 202  44   0   0   0   0   0\n",
      "    0   0   0   0   0   0   0   0   0   0]\n",
      " [  0   0   0   0   0   0  14 206 251 251 219  26   0   0   0   0   0   0\n",
      "    0   0   0   0   0   0   0   0   0   0]\n",
      " [  0   0   0   0   0   0 175 251 251 251  37   0   0   0   0   0   0   0\n",
      "    0   0   0   0   0   0   0   0   0   0]\n",
      " [  0   0   0   0   0   0 175 251 251 251  37   0   0   0   0   0   0   0\n",
      "    0   0   0   0   0   0   0   0   0   0]\n",
      " [  0   0   0   0   0   0 175 251 251 251  37   0   0   0   0   0   0   0\n",
      "    0   0   0   0   0   0   0   0   0   0]\n",
      " [  0   0   0   0   0   0   0   0   0   0   0   0   0   0   0   0   0   0\n",
      "    0   0   0   0   0   0   0   0   0   0]\n",
      " [  0   0   0   0   0   0   0   0   0   0   0   0   0   0   0   0   0   0\n",
      "    0   0   0   0   0   0   0   0   0   0]\n",
      " [  0   0   0   0   0   0   0   0   0   0   0   0   0   0   0   0   0   0\n",
      "    0   0   0   0   0   0   0   0   0   0]]\n"
     ]
    }
   ],
   "source": [
    "def read_images(filename):\n",
    "    \"\"\"Read MNIST images\"\"\"\n",
    "    \n",
    "    with gzip.open(filename, 'r') as f:\n",
    "        # first 4 bytes is a magic number\n",
    "        magic_number = int.from_bytes(f.read(4), 'big')\n",
    "        # second 4 bytes is the number of images\n",
    "        image_count = int.from_bytes(f.read(4), 'big')\n",
    "        # third 4 bytes is the row count\n",
    "        row_count = int.from_bytes(f.read(4), 'big')\n",
    "        # fourth 4 bytes is the column count\n",
    "        column_count = int.from_bytes(f.read(4), 'big')\n",
    "        # rest is the image pixel data, each pixel is stored as an unsigned byte\n",
    "        # pixel values are 0 to 255\n",
    "        image_data = f.read()\n",
    "        images = np.frombuffer(image_data, dtype=np.uint8).reshape((image_count, row_count, column_count))\n",
    "        \n",
    "    return images\n",
    "\n",
    "def read_labels(filename):\n",
    "    \"\"\"Read MNIST labels\"\"\"\n",
    "    \n",
    "    with gzip.open(filename, 'r') as f:\n",
    "        # first 4 bytes is a magic number\n",
    "        magic_number = int.from_bytes(f.read(4), 'big')\n",
    "        # second 4 bytes is the number of labels\n",
    "        label_count = int.from_bytes(f.read(4), 'big')\n",
    "        # rest is the label data, each label is stored as unsigned byte\n",
    "        # label values are 0 to 9\n",
    "        label_data = f.read()\n",
    "        labels = np.frombuffer(label_data, dtype=np.uint8)\n",
    "        \n",
    "    return labels\n",
    "\n",
    "\n",
    "dataset_path = '/home/biswajitrana/Documents/2nd_semester/RKMVERI_2ND/class/ML/SS_assignments_1/'# Change your data path\n",
    "\n",
    "train_image_filename = ''.join([dataset_path, 'train-images-idx3-ubyte.gz'])\n",
    "train_label_filename = ''.join([dataset_path, 'train-labels-idx1-ubyte.gz'])\n",
    "\n",
    "test_image_filename = ''.join([dataset_path, 't10k-images-idx3-ubyte.gz'])\n",
    "test_label_filename = ''.join([dataset_path, 't10k-labels-idx1-ubyte.gz'])\n",
    "\n",
    "train_images = read_images(train_image_filename)\n",
    "train_labels = read_labels(train_label_filename)\n",
    "print('Train data (X) size: {}, and labels (Y) size: {}' .format(train_images.shape, train_labels.shape))\n",
    "\n",
    "test_images = read_images(test_image_filename)\n",
    "test_labels = read_labels(test_label_filename)\n",
    "print('Test data (X) size: {}, and labels (Y) size: {}' .format(test_images.shape, test_labels.shape))\n",
    "\n",
    "rand_ids = np.random.choice(train_images.shape[0])\n",
    "# rand_ids=12553\n",
    "plt.imshow(train_images[rand_ids, :, :], cmap='gray')\n",
    "plt.title('class-'+str(train_labels[rand_ids]))\n",
    "plt.show()\n",
    "\n",
    "print('Train image {}-th sample ' .format(rand_ids))\n",
    "print(train_images[rand_ids, :, :])\n",
    "\n"
   ]
  },
  {
   "cell_type": "code",
   "execution_count": 14,
   "metadata": {},
   "outputs": [
    {
     "name": "stdout",
     "output_type": "stream",
     "text": [
      "(60000, 28, 28)\n",
      "(60000,)\n",
      "(10000, 28, 28)\n",
      "(10000,)\n"
     ]
    }
   ],
   "source": [
    "print(train_images.shape)\n",
    "print(train_labels.shape)\n",
    "print(test_images.shape)\n",
    "print(test_labels.shape)"
   ]
  },
  {
   "cell_type": "code",
   "execution_count": 16,
   "metadata": {},
   "outputs": [
    {
     "name": "stdout",
     "output_type": "stream",
     "text": [
      "Element\tFrequency\n",
      "5 \t 5421\n",
      "0 \t 5923\n",
      "4 \t 5842\n",
      "1 \t 6742\n",
      "9 \t 5949\n",
      "2 \t 5958\n",
      "3 \t 6131\n",
      "6 \t 5918\n",
      "7 \t 6265\n",
      "8 \t 5851\n"
     ]
    }
   ],
   "source": [
    "def find_frequency(arr):\n",
    "    frequency = {}\n",
    "    \n",
    "    # Count frequency of each element\n",
    "    for element in arr:\n",
    "        if element in frequency:\n",
    "            frequency[element] += 1\n",
    "        else:\n",
    "            frequency[element] = 1\n",
    "            \n",
    "    return frequency\n",
    "\n",
    "# Example usage:\n",
    "frequency = find_frequency(train_labels)\n",
    "print(\"Element\\tFrequency\")\n",
    "for element, freq in frequency.items():\n",
    "    print(element, \"\\t\", freq)\n"
   ]
  },
  {
   "cell_type": "code",
   "execution_count": 24,
   "metadata": {},
   "outputs": [
    {
     "name": "stdout",
     "output_type": "stream",
     "text": [
      "Array for value 0: 600 elements\n",
      "Array for value 1: 600 elements\n",
      "Array for value 2: 600 elements\n",
      "Array for value 3: 600 elements\n",
      "Array for value 4: 600 elements\n",
      "Array for value 5: 600 elements\n",
      "Array for value 6: 600 elements\n",
      "Array for value 7: 600 elements\n",
      "Array for value 8: 600 elements\n",
      "Array for value 9: 600 elements\n"
     ]
    }
   ],
   "source": [
    "def split_array_by_value(array):\n",
    "    split_arrays = {}\n",
    "    for value in range(10):  # Values range from 0 to 9\n",
    "        indices = np.where(array == value)[0]\n",
    "        random_indices = np.random.choice(indices, size=600, replace=False)\n",
    "        split_arrays[value] = random_indices\n",
    "    return split_arrays\n",
    "\n",
    "# Example usage:\n",
    "# original_array = np.random.randint(0, 10, size=60000)  # Generating random 1D array with values from 0 to 9\n",
    "split_arrays = split_array_by_value(train_labels)\n",
    "\n",
    "# Printing the lengths of each split array\n",
    "for value, indices in split_arrays.items():\n",
    "    print(f\"Array for value {value}: {len(indices)} elements\")\n"
   ]
  },
  {
   "cell_type": "code",
   "execution_count": 30,
   "metadata": {},
   "outputs": [
    {
     "data": {
      "text/plain": [
       "array([42552, 28993,  4488, 53747, 54303, 42270, 41789, 42764,  5583,\n",
       "       34985,  5462, 10045, 10195, 58462, 47786,  6341, 53403, 40217,\n",
       "       45952, 16192, 25252, 41857,  4505, 37854,  7243,  6593, 25919,\n",
       "        1000, 42783, 11742,  3610,  6421, 13528, 45383,  8935, 17606,\n",
       "        1606, 12716, 58492, 30320, 49575, 24698,  1209, 46763,  3016,\n",
       "       14557, 31361, 28002, 47976, 12796, 35261, 16031, 43074, 41338,\n",
       "       53401, 59878, 20591,  9402, 17095, 59363, 18936, 37559, 38929,\n",
       "       16217,  2435, 21614,  1605, 43169, 53575, 27170, 52305, 30119,\n",
       "       37656, 32268, 36737, 40613, 20292, 34580, 32086,   326,  2899,\n",
       "       58532, 53256, 59723,  1386, 53353, 19774, 11077, 19732, 41756,\n",
       "       49716, 31095, 56353,  4653, 48578, 51006, 39615, 10221,  1471,\n",
       "        5393, 20391, 47740, 29055, 22929, 44838,  9934,  7649, 42053,\n",
       "       45833,  1837, 33983, 20388, 26645, 48263, 49208, 12504, 54089,\n",
       "       39581, 15383, 35525, 29468, 41052, 31389, 42632,  7669, 46992,\n",
       "       42945, 19565,  1796, 50924, 27805, 44606, 12665, 51618, 19504,\n",
       "       19376, 53174, 12195, 12703, 19492, 43273, 11588, 43020, 15566,\n",
       "       54108, 21612, 25137, 40833, 18102, 48638,  5330, 19990,   997,\n",
       "       19787, 23616, 50390, 54755,  8894, 35343, 52865, 44029, 40958,\n",
       "       23095, 57720, 56626, 23067, 29474, 33219, 21971, 25460, 25427,\n",
       "       58658, 59696, 29873, 24495, 10168,  7728, 11022, 41331, 59142,\n",
       "        4849, 26277, 18132,  4656, 59901,  7485, 17293, 29926, 53734,\n",
       "        7338, 30156, 25701, 53657, 31154, 49953,  4629,  1015, 25051,\n",
       "       19361, 59175, 17611, 26191,  4500, 44326, 18137, 38579, 40633,\n",
       "       17245, 16619, 29750, 14919,  7978, 10849, 49952,  4047, 28242,\n",
       "       16083, 26436, 36929,  8272, 30790,  9750, 27307,  4145, 19760,\n",
       "       32459, 50256,  7589, 18273,   296,  8885, 26038,  3673, 38232,\n",
       "       35681, 11675, 48180, 30141,  1454, 34097, 33501, 19801,  1502,\n",
       "       26820, 16987,  4389, 28357, 20256,  1742, 48434, 45129,   192,\n",
       "       53509, 20608, 15692,  7548, 16607, 18881, 44278,  2404, 13547,\n",
       "       55246, 47247, 48479, 48012, 11071, 39075, 49075, 50774, 29386,\n",
       "       36689,  3964, 41465, 45997,  1076,  2621,  4951, 35063, 17968,\n",
       "       28328, 57154, 30220,  7018, 55029, 34977,  1930, 36107, 18263,\n",
       "       25932, 39956, 56389, 42610,  2082,  5615,  5641, 12897, 14644,\n",
       "       55217, 15407, 15583, 28855, 35646, 23980, 46871, 12217,  5563,\n",
       "       27257,  7894, 24640,  7566, 57912, 17214, 39623, 48529, 32144,\n",
       "       51167, 22749, 59017, 28423, 11597, 24078, 35708, 46975,  5541,\n",
       "       46007, 40825,  6619, 15150,  3829, 36272, 32621, 51997,  3012,\n",
       "       29345,  3391, 46628, 20681,  3337, 49737, 13203, 13734, 29336,\n",
       "       15648, 58457, 57685, 40582, 34639,  5048,  5288, 34421, 52313,\n",
       "       30653, 50435, 30871, 44897, 26475, 41350, 23504, 34708, 37467,\n",
       "       58062,   320, 36894, 49949, 15108, 30087, 51147, 18022, 28840,\n",
       "       40778, 10245,  2532,  5560, 26184, 25039, 44096,  3490, 45812,\n",
       "        9003, 15600,  2218, 14319, 23032, 44811, 33292, 25839, 33066,\n",
       "       38054,  5886, 55681, 45823, 41315, 19258, 16244, 57073, 50385,\n",
       "       21350,  5808, 40457, 45386, 10689, 17133, 58575, 34771,   427,\n",
       "       44900, 20392, 29498, 40103, 20622, 34392, 55922, 59786, 50727,\n",
       "       15325, 37047, 51148, 10599, 47267, 45189, 47714, 50586,  8813,\n",
       "       39360, 15753,  8855, 15882, 30891, 58594, 15480, 51121,  9032,\n",
       "       21759, 38100, 23882, 56005, 26044, 24345,  4289, 16178, 57995,\n",
       "        6034, 59868, 22111, 50024, 19798, 51774, 41606, 42776,  2298,\n",
       "       33723, 59911, 17169, 50637, 32568, 40179, 24872, 53994, 22405,\n",
       "       19581,  7813,  7038, 25497, 27050, 38816, 50828,  1712, 38332,\n",
       "        9994, 48023, 11712, 58247, 22511, 41122, 59510,  4607, 48438,\n",
       "       15868, 41041, 31497, 37705, 57364, 53027, 40648, 54368, 34064,\n",
       "       54900, 59898, 51375, 53857, 15542, 53861, 11462, 12421, 59095,\n",
       "       13921, 12360, 57962, 34699, 10705, 46603, 42402, 16679, 55917,\n",
       "        6819, 53814,  8449, 13799, 11335, 19454, 32880, 52245,  2493,\n",
       "       33534, 27247,  1179, 27951, 10579, 10691, 41341, 44060, 55400,\n",
       "       28489, 39023, 55622, 21454, 49243, 18208, 49278, 28946, 15237,\n",
       "        9666, 42614, 12477, 10505, 48173, 54620, 46653, 30926,  7911,\n",
       "       44159, 43083, 48337, 12266, 34555, 30496, 25092,  2642, 38573,\n",
       "         156, 42131, 46944, 53073, 29907, 14773, 13544, 15516, 32727,\n",
       "       36476, 27512, 53185, 52130, 46375,  3568, 32666, 53934, 11559,\n",
       "       41927, 50526, 11615, 23289, 51649, 55457, 33677, 35192, 25065,\n",
       "       52628, 29676, 44121, 31470, 40237, 33945, 29579, 39801,  4729,\n",
       "        4539,   526, 19769,  6979, 32162, 43624, 59859,  9671, 10531,\n",
       "       28105, 51186, 22744, 10107, 45402, 44023])"
      ]
     },
     "execution_count": 30,
     "metadata": {},
     "output_type": "execute_result"
    }
   ],
   "source": [
    "# split_arrays[0]"
   ]
  },
  {
   "cell_type": "code",
   "execution_count": 34,
   "metadata": {},
   "outputs": [],
   "source": [
    "# train_labels[split_arrays[0]]"
   ]
  },
  {
   "cell_type": "code",
   "execution_count": 82,
   "metadata": {},
   "outputs": [
    {
     "name": "stdout",
     "output_type": "stream",
     "text": [
      "Shape of the empty array: (6000, 28, 28)\n"
     ]
    }
   ],
   "source": [
    "#  Create an empty array of shape (6000, 28, 28)\n",
    "new_array = np.empty((6000, 28, 28))\n",
    "\n",
    "# Verify the shape of the empty array\n",
    "print(\"Shape of the empty array:\", new_array.shape)\n",
    "j=0\n",
    "k=600\n",
    "for i in range(0, len(split_arrays)):\n",
    "    new_array[j:k,:,:] = train_images[split_arrays[i]]\n",
    "    j+=600\n",
    "    k+=600"
   ]
  },
  {
   "cell_type": "code",
   "execution_count": 83,
   "metadata": {},
   "outputs": [
    {
     "data": {
      "text/plain": [
       "array([[  0.,   0.,   0.,   0.,   0.,   0.,   0.,   0.,   0.,   0.,   0.,\n",
       "          0.,   0.,   0.,   0.,   0.,   0.,   0.,   0.,   0.,   0.,   0.,\n",
       "          0.,   0.,   0.,   0.,   0.,   0.],\n",
       "       [  0.,   0.,   0.,   0.,   0.,   0.,   0.,   0.,   0.,   0.,   0.,\n",
       "          0.,   0.,   0.,   0.,   0.,   0.,   0.,   0.,   0.,   0.,   0.,\n",
       "          0.,   0.,   0.,   0.,   0.,   0.],\n",
       "       [  0.,   0.,   0.,   0.,   0.,   0.,   0.,   0.,   0.,   0.,   0.,\n",
       "          0.,   0.,   0.,   0.,   0.,   0.,   0.,   0.,   0.,   0.,   0.,\n",
       "          0.,   0.,   0.,   0.,   0.,   0.],\n",
       "       [  0.,   0.,   0.,   0.,   0.,   0.,   0.,   0.,   0.,   0.,   0.,\n",
       "          0.,   0.,   0.,   0.,   0.,   0.,   0.,   0.,   0.,   0.,   0.,\n",
       "          0.,   0.,   0.,   0.,   0.,   0.],\n",
       "       [  0.,   0.,   0.,   0.,   0.,   0.,   0.,   0.,   0.,   0.,   0.,\n",
       "          0.,   0.,   0.,   0.,   0.,   0.,   0.,   0.,   0.,   0.,   0.,\n",
       "          0.,   0.,   0.,   0.,   0.,   0.],\n",
       "       [  0.,   0.,   0.,   0.,   0.,   0.,   0.,   0.,   0.,   0.,   0.,\n",
       "          0.,   0.,   0.,   0.,   0.,   0.,   0.,   0.,   0.,   0.,   0.,\n",
       "          0.,   0.,   0.,   0.,   0.,   0.],\n",
       "       [  0.,   0.,   0.,   0.,   0.,   0.,   0.,   0.,   0.,   0.,   0.,\n",
       "          0.,   0.,   0.,   0.,   0.,   0.,   0.,   0.,   0.,   0.,   0.,\n",
       "          0.,   0.,   0.,   0.,   0.,   0.],\n",
       "       [  0.,   0.,   0.,   0.,   0.,   0.,   0.,   0.,   0.,   0.,   5.,\n",
       "        138., 253., 253., 255., 253., 169.,  44.,   3.,   0.,   0.,   0.,\n",
       "          0.,   0.,   0.,   0.,   0.,   0.],\n",
       "       [  0.,   0.,   0.,   0.,   0.,   0.,   0.,   0.,   0.,  15., 178.,\n",
       "        252., 252., 252., 253., 252., 252., 252.,  65.,   0.,   0.,   0.,\n",
       "          0.,   0.,   0.,   0.,   0.,   0.],\n",
       "       [  0.,   0.,   0.,   0.,   0.,   0.,   0.,   0.,   0., 191., 252.,\n",
       "        252., 252., 252., 137., 252., 252., 252., 252.,  85.,   0.,   0.,\n",
       "          0.,   0.,   0.,   0.,   0.,   0.],\n",
       "       [  0.,   0.,   0.,   0.,   0.,   0.,   0.,   0., 136., 253., 252.,\n",
       "        227.,  66., 150.,   5.,  45., 154., 252., 252., 116.,   0.,   0.,\n",
       "          0.,   0.,   0.,   0.,   0.,   0.],\n",
       "       [  0.,   0.,   0.,   0.,   0.,   0.,   0.,   0., 178., 253., 252.,\n",
       "         79.,   0.,   0.,   0.,   0.,  38., 232., 252., 116.,   0.,   0.,\n",
       "          0.,   0.,   0.,   0.,   0.,   0.],\n",
       "       [  0.,   0.,   0.,   0.,   0.,   0.,   0.,   0., 106., 255., 253.,\n",
       "        253., 159., 138., 139., 191., 222., 253., 253., 116.,   0.,   0.,\n",
       "          0.,   0.,   0.,   0.,   0.,   0.],\n",
       "       [  0.,   0.,   0.,   0.,   0.,   0.,   0.,   0.,   0., 253., 252.,\n",
       "        252., 252., 252., 253., 252., 252., 252., 252., 116.,   0.,   0.,\n",
       "          0.,   0.,   0.,   0.,   0.,   0.],\n",
       "       [  0.,   0.,   0.,   0.,   0.,   0.,   0.,   0.,   0.,  79., 196.,\n",
       "        252., 252., 252., 253., 221., 252., 252., 252.,  32.,   0.,   0.,\n",
       "          0.,   0.,   0.,   0.,   0.,   0.],\n",
       "       [  0.,   0.,   0.,   0.,   0.,   0.,   0.,   0.,   0.,   0.,   9.,\n",
       "         45.,  45.,  98., 109., 146., 252., 252., 116.,   0.,   0.,   0.,\n",
       "          0.,   0.,   0.,   0.,   0.,   0.],\n",
       "       [  0.,   0.,   0.,   0.,   0.,   0.,   0.,   0.,   0.,   0.,   0.,\n",
       "          0.,   0.,   0.,  11., 203., 252., 168.,   2.,   0.,   0.,   0.,\n",
       "          0.,   0.,   0.,   0.,   0.,   0.],\n",
       "       [  0.,   0.,   0.,   0.,   0.,   0.,   0.,   0.,   0.,   0.,   0.,\n",
       "          0.,   0.,   0.,  97., 253., 253., 161.,   0.,   0.,   0.,   0.,\n",
       "          0.,   0.,   0.,   0.,   0.,   0.],\n",
       "       [  0.,   0.,   0.,   0.,   0.,   0.,   0.,   0.,   0.,   0.,   0.,\n",
       "          0.,   0.,  22., 253., 252., 252.,  87.,   0.,   0.,   0.,   0.,\n",
       "          0.,   0.,   0.,   0.,   0.,   0.],\n",
       "       [  0.,   0.,   0.,   0.,   0.,   0.,   0.,   0.,   0.,   0.,   0.,\n",
       "          0.,   0., 146., 253., 240., 100.,  13.,   0.,   0.,   0.,   0.,\n",
       "          0.,   0.,   0.,   0.,   0.,   0.],\n",
       "       [  0.,   0.,   0.,   0.,   0.,   0.,   0.,   0.,   0.,   0.,   0.,\n",
       "          0.,  76., 248., 253., 112.,   0.,   0.,   0.,   0.,   0.,   0.,\n",
       "          0.,   0.,   0.,   0.,   0.,   0.],\n",
       "       [  0.,   0.,   0.,   0.,   0.,   0.,   0.,   0.,   0.,   0.,   0.,\n",
       "          0., 144., 252., 253.,  92.,   0.,   0.,   0.,   0.,   0.,   0.,\n",
       "          0.,   0.,   0.,   0.,   0.,   0.],\n",
       "       [  0.,   0.,   0.,   0.,   0.,   0.,   0.,   0.,   0.,   0.,   0.,\n",
       "         81., 253., 253., 231.,   0.,   0.,   0.,   0.,   0.,   0.,   0.,\n",
       "          0.,   0.,   0.,   0.,   0.,   0.],\n",
       "       [  0.,   0.,   0.,   0.,   0.,   0.,   0.,   0.,   0.,   0.,  30.,\n",
       "        228., 252., 252.,  84.,   0.,   0.,   0.,   0.,   0.,   0.,   0.,\n",
       "          0.,   0.,   0.,   0.,   0.,   0.],\n",
       "       [  0.,   0.,   0.,   0.,   0.,   0.,   0.,   0.,   0.,   7., 155.,\n",
       "        252., 252., 136.,   0.,   0.,   0.,   0.,   0.,   0.,   0.,   0.,\n",
       "          0.,   0.,   0.,   0.,   0.,   0.],\n",
       "       [  0.,   0.,   0.,   0.,   0.,   0.,   0.,   0.,   0.,  24., 252.,\n",
       "        252., 176.,   4.,   0.,   0.,   0.,   0.,   0.,   0.,   0.,   0.,\n",
       "          0.,   0.,   0.,   0.,   0.,   0.],\n",
       "       [  0.,   0.,   0.,   0.,   0.,   0.,   0.,   0.,   0.,  13., 211.,\n",
       "        189.,  14.,   0.,   0.,   0.,   0.,   0.,   0.,   0.,   0.,   0.,\n",
       "          0.,   0.,   0.,   0.,   0.,   0.],\n",
       "       [  0.,   0.,   0.,   0.,   0.,   0.,   0.,   0.,   0.,   0.,   0.,\n",
       "          0.,   0.,   0.,   0.,   0.,   0.,   0.,   0.,   0.,   0.,   0.,\n",
       "          0.,   0.,   0.,   0.,   0.,   0.]])"
      ]
     },
     "execution_count": 83,
     "metadata": {},
     "output_type": "execute_result"
    }
   ],
   "source": [
    "new_array[5999,:,:]"
   ]
  },
  {
   "cell_type": "code",
   "execution_count": 85,
   "metadata": {},
   "outputs": [
    {
     "data": {
      "image/png": "[encoded data removed]",
      "text/plain": [
       "<Figure size 640x480 with 1 Axes>"
      ]
     },
     "metadata": {},
     "output_type": "display_data"
    }
   ],
   "source": [
    "plt.imshow(new_array[600, :, :], cmap='gray')\n",
    "plt.title('class-'+str(train_labels[rand_ids]))\n",
    "plt.show()"
   ]
  },
  {
   "cell_type": "code",
   "execution_count": 87,
   "metadata": {},
   "outputs": [
    {
     "data": {
      "text/plain": [
       "(6000, 28, 28)"
      ]
     },
     "execution_count": 87,
     "metadata": {},
     "output_type": "execute_result"
    }
   ],
   "source": [
    "new_array.shape"
   ]
  },
  {
   "cell_type": "code",
   "execution_count": null,
   "metadata": {},
   "outputs": [],
   "source": [
    "\n",
    "\n",
    "# Assuming you have a 6000x28x28 array named 'data'\n",
    "data = np.random.rand(6000, 28, 28)  # Example data, replace it with your actual data\n",
    "\n",
    "# Flatten the data to be suitable for MDS\n",
    "flattened_data = data.reshape(data.shape[0], -1)\n",
    "\n",
    "# Apply Multidimensional Scaling\n",
    "mds = MDS(n_components=2)\n",
    "mds_result = mds.fit_transform(flattened_data)\n",
    "\n",
    "# Plot the 2D representation\n",
    "plt.scatter(mds_result[:, 0], mds_result[:, 1], s=5)\n",
    "plt.title('2D representation using Multidimensional Scaling')\n",
    "plt.xlabel('Feature 1')\n",
    "plt.ylabel('Feature 2')\n",
    "plt.show()\n"
   ]
  }
 ],
 "metadata": {
  "kernelspec": {
   "display_name": "Python 3",
   "language": "python",
   "name": "python3"
  },
  "language_info": {
   "codemirror_mode": {
    "name": "ipython",
    "version": 3
   },
   "file_extension": ".py",
   "mimetype": "text/x-python",
   "name": "python",
   "nbconvert_exporter": "python",
   "pygments_lexer": "ipython3",
   "version": "3.10.12"
  }
 },
 "nbformat": 4,
 "nbformat_minor": 2
}
