{
 "cells": [
  {
   "cell_type": "code",
   "execution_count": 2,
   "metadata": {},
   "outputs": [],
   "source": [
    "import numpy as np"
   ]
  },
  {
   "cell_type": "code",
   "execution_count": 3,
   "metadata": {},
   "outputs": [
    {
     "name": "stdout",
     "output_type": "stream",
     "text": [
      "(5, 5)\n"
     ]
    }
   ],
   "source": [
    "def customkernel(X,a=1):\n",
    "    m,n = np.shape(X)\n",
    "    k = np.zeros((m,m))\n",
    "    for i in range(n):\n",
    "        for j in range(n):\n",
    "            k[i,j] = np.prod(np.cos(5*(X[i,:]-X[j,:])/a)*np.exp(-(X[i,:]-X[j,:])**2)/a)\n",
    "    return k\n",
    "\n",
    "matrix = np.array([\n",
    "    [1, 2, 3],\n",
    "    [4, 5, 6],\n",
    "    [7, 8, 9],\n",
    "    [10, 11, 12],\n",
    "    [13, 14, 15]\n",
    "])\n",
    "\n",
    "gram_matrix = customkernel(matrix)\n",
    "print(np.shape(gram_matrix))"
   ]
  },
  {
   "cell_type": "code",
   "execution_count": 4,
   "metadata": {},
   "outputs": [
    {
     "name": "stdout",
     "output_type": "stream",
     "text": [
      "The matrix is Positive Semi-Definite (PSD).\n"
     ]
    }
   ],
   "source": [
    "def is_psd(matrix):\n",
    "    eigenvalues = np.linalg.eigvals(matrix)\n",
    "    return np.all(eigenvalues >= 0)\n",
    "\n",
    "if is_psd(gram_matrix):\n",
    "    print(\"The matrix is Positive Semi-Definite (PSD).\")\n",
    "else:\n",
    "    print(\"The matrix is not Positive Semi-Definite (PSD).\")"
   ]
  }
 ],
 "metadata": {
  "kernelspec": {
   "display_name": "base",
   "language": "python",
   "name": "python3"
  },
  "language_info": {
   "codemirror_mode": {
    "name": "ipython",
    "version": 3
   },
   "file_extension": ".py",
   "mimetype": "text/x-python",
   "name": "python",
   "nbconvert_exporter": "python",
   "pygments_lexer": "ipython3",
   "version": "3.10.5"
  }
 },
 "nbformat": 4,
 "nbformat_minor": 2
}
