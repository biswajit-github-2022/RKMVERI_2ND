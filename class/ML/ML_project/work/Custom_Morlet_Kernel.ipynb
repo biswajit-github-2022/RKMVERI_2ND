{
 "cells": [
  {
   "cell_type": "code",
   "execution_count": 1,
   "metadata": {},
   "outputs": [],
   "source": [
    "import numpy as np"
   ]
  },
  {
   "cell_type": "code",
   "execution_count": 8,
   "metadata": {},
   "outputs": [
    {
     "name": "stderr",
     "output_type": "stream",
     "text": [
      "/tmp/ipykernel_8474/3348773142.py:6: RuntimeWarning: overflow encountered in exp\n",
      "  k[i,j] = np.prod(np.cos(5*(X[i,:]-X[j,:])/a)*np.exp(-(X[i,:]-X[j,:])**2)/a)\n"
     ]
    },
    {
     "ename": "IndexError",
     "evalue": "index 3000 is out of bounds for axis 0 with size 3000",
     "output_type": "error",
     "traceback": [
      "\u001b[0;31m---------------------------------------------------------------------------\u001b[0m",
      "\u001b[0;31mIndexError\u001b[0m                                Traceback (most recent call last)",
      "Cell \u001b[0;32mIn[8], line 19\u001b[0m\n\u001b[1;32m      9\u001b[0m \u001b[38;5;66;03m# matrix = np.array([\u001b[39;00m\n\u001b[1;32m     10\u001b[0m \u001b[38;5;66;03m#     [1, 2, 3],\u001b[39;00m\n\u001b[1;32m     11\u001b[0m \u001b[38;5;66;03m#     [4, 5, 6],\u001b[39;00m\n\u001b[0;32m   (...)\u001b[0m\n\u001b[1;32m     14\u001b[0m \u001b[38;5;66;03m#     [13, 14, 15]\u001b[39;00m\n\u001b[1;32m     15\u001b[0m \u001b[38;5;66;03m# ])\u001b[39;00m\n\u001b[1;32m     17\u001b[0m matrix \u001b[38;5;241m=\u001b[39m image[\u001b[38;5;241m0\u001b[39m]\n\u001b[0;32m---> 19\u001b[0m gram_matrix \u001b[38;5;241m=\u001b[39m \u001b[43mcustomkernel\u001b[49m\u001b[43m(\u001b[49m\u001b[43mmatrix\u001b[49m\u001b[43m)\u001b[49m\n\u001b[1;32m     20\u001b[0m \u001b[38;5;28mprint\u001b[39m(np\u001b[38;5;241m.\u001b[39mshape(gram_matrix))\n",
      "Cell \u001b[0;32mIn[8], line 6\u001b[0m, in \u001b[0;36mcustomkernel\u001b[0;34m(X, a)\u001b[0m\n\u001b[1;32m      4\u001b[0m \u001b[38;5;28;01mfor\u001b[39;00m i \u001b[38;5;129;01min\u001b[39;00m \u001b[38;5;28mrange\u001b[39m(n):\n\u001b[1;32m      5\u001b[0m     \u001b[38;5;28;01mfor\u001b[39;00m j \u001b[38;5;129;01min\u001b[39;00m \u001b[38;5;28mrange\u001b[39m(n):\n\u001b[0;32m----> 6\u001b[0m         k[i,j] \u001b[38;5;241m=\u001b[39m np\u001b[38;5;241m.\u001b[39mprod(np\u001b[38;5;241m.\u001b[39mcos(\u001b[38;5;241m5\u001b[39m\u001b[38;5;241m*\u001b[39m(X[i,:]\u001b[38;5;241m-\u001b[39m\u001b[43mX\u001b[49m\u001b[43m[\u001b[49m\u001b[43mj\u001b[49m\u001b[43m,\u001b[49m\u001b[43m:\u001b[49m\u001b[43m]\u001b[49m)\u001b[38;5;241m/\u001b[39ma)\u001b[38;5;241m*\u001b[39mnp\u001b[38;5;241m.\u001b[39mexp(\u001b[38;5;241m-\u001b[39m(X[i,:]\u001b[38;5;241m-\u001b[39mX[j,:])\u001b[38;5;241m*\u001b[39m\u001b[38;5;241m*\u001b[39m\u001b[38;5;241m2\u001b[39m)\u001b[38;5;241m/\u001b[39ma)\n\u001b[1;32m      7\u001b[0m \u001b[38;5;28;01mreturn\u001b[39;00m k\n",
      "\u001b[0;31mIndexError\u001b[0m: index 3000 is out of bounds for axis 0 with size 3000"
     ]
    }
   ],
   "source": [
    "def customkernel(X,a=1):\n",
    "    m,n = np.shape(X)\n",
    "    k = np.zeros((m,m))\n",
    "    for i in range(n):\n",
    "        for j in range(n):\n",
    "            k[i,j] = np.prod(np.cos(5*(X[i,:]-X[j,:])/a)*np.exp(-(X[i,:]-X[j,:])**2)/a)\n",
    "    return k\n",
    "\n",
    "matrix = np.array([\n",
    "    [1, 2, 3],\n",
    "    [4, 5, 6],\n",
    "    [7, 8, 9],\n",
    "    [10, 11, 12],\n",
    "    [13, 14, 15]\n",
    "])\n",
    "\n",
    "gram_matrix = customkernel(matrix)\n",
    "print(np.shape(gram_matrix))"
   ]
  },
  {
   "cell_type": "code",
   "execution_count": 4,
   "metadata": {},
   "outputs": [
    {
     "name": "stdout",
     "output_type": "stream",
     "text": [
      "The matrix is Positive Semi-Definite (PSD).\n"
     ]
    }
   ],
   "source": [
    "def is_psd(matrix):\n",
    "    eigenvalues = np.linalg.eigvals(matrix)\n",
    "    return np.all(eigenvalues >= 0)\n",
    "\n",
    "if is_psd(gram_matrix):\n",
    "    print(\"The matrix is Positive Semi-Definite (PSD).\")\n",
    "else:\n",
    "    print(\"The matrix is not Positive Semi-Definite (PSD).\")"
   ]
  }
 ],
 "metadata": {
  "kernelspec": {
   "display_name": "base",
   "language": "python",
   "name": "python3"
  },
  "language_info": {
   "codemirror_mode": {
    "name": "ipython",
    "version": 3
   },
   "file_extension": ".py",
   "mimetype": "text/x-python",
   "name": "python",
   "nbconvert_exporter": "python",
   "pygments_lexer": "ipython3",
   "version": "3.10.12"
  }
 },
 "nbformat": 4,
 "nbformat_minor": 2
}
