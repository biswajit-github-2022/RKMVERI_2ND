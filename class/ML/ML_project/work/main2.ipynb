{
 "cells": [
  {
   "cell_type": "code",
   "execution_count": 8,
   "metadata": {},
   "outputs": [],
   "source": [
    "import os\n",
    "import shutil\n",
    "import sys\n"
   ]
  },
  {
   "cell_type": "code",
   "execution_count": 2,
   "metadata": {},
   "outputs": [],
   "source": [
    "def extract_noisy_images(source_folder, destination_folder):\n",
    "    \"\"\"\n",
    "    Extracts images containing \"NOISY\" in their names from subfolders of the source folder \n",
    "    and copies them to the destination folder.\n",
    "\n",
    "    Args:\n",
    "        source_folder (str): Path to the folder containing subfolders with images.\n",
    "        destination_folder (str): Path to the folder where extracted images will be copied.\n",
    "    \"\"\"\n",
    "\n",
    "    os.makedirs(destination_folder, exist_ok=True)  # Create destination folder if needed\n",
    "\n",
    "    for subfolder in os.listdir(source_folder):\n",
    "        subfolder_path = os.path.join(source_folder, subfolder)\n",
    "\n",
    "        if os.path.isdir(subfolder_path):\n",
    "            for image in os.listdir(subfolder_path):\n",
    "                if \"NOISY\" in image:\n",
    "                    image_path = os.path.join(subfolder_path, image)\n",
    "                    shutil.copy(image_path, destination_folder)\n",
    "\n",
    "    print(\"Images containing 'NOISY' have been copied to the new folder.\")"
   ]
  },
  {
   "cell_type": "code",
   "execution_count": 3,
   "metadata": {},
   "outputs": [],
   "source": [
    "def extract_non_noisy_images(source_folder, destination_folder):\n",
    "    \"\"\"\n",
    "    Extracts images NOT containing \"NOISY\" in their names from subfolders of the source folder \n",
    "    and copies them to the destination folder.\n",
    "\n",
    "    Args:\n",
    "        source_folder (str): Path to the folder containing subfolders with images.\n",
    "        destination_folder (str): Path to the folder where extracted images will be copied.\n",
    "    \"\"\"\n",
    "\n",
    "    os.makedirs(destination_folder, exist_ok=True)  # Create destination folder if needed\n",
    "\n",
    "    for subfolder in os.listdir(source_folder):\n",
    "        subfolder_path = os.path.join(source_folder, subfolder)\n",
    "\n",
    "        if os.path.isdir(subfolder_path):\n",
    "            for image in os.listdir(subfolder_path):\n",
    "                if \"NOISY\" not in image:  # Check for the absence of \"NOISY\"\n",
    "                    image_path = os.path.join(subfolder_path, image)\n",
    "                    shutil.copy(image_path, destination_folder)\n",
    "\n",
    "    print(\"Images NOT containing 'NOISY' have been copied to the new folder.\")"
   ]
  },
  {
   "cell_type": "code",
   "execution_count": 4,
   "metadata": {},
   "outputs": [
    {
     "name": "stdout",
     "output_type": "stream",
     "text": [
      "Images containing 'NOISY' have been copied to the new folder.\n"
     ]
    }
   ],
   "source": [
    "source_path = \"/home/biswajitrana/Downloads/Data/SIDD_Medium_Srgb/Data\"\n",
    "destination_path = \"/home/biswajitrana/Downloads/Data/Noisy_Data\"\n",
    "\n",
    "extract_noisy_images(source_path, destination_path)"
   ]
  },
  {
   "cell_type": "code",
   "execution_count": 5,
   "metadata": {},
   "outputs": [
    {
     "name": "stdout",
     "output_type": "stream",
     "text": [
      "Images NOT containing 'NOISY' have been copied to the new folder.\n"
     ]
    }
   ],
   "source": [
    "source_path = \"/home/biswajitrana/Downloads/Data/SIDD_Medium_Srgb/Data\"\n",
    "destination_path = \"/home/biswajitrana/Downloads/Data/True_Data\"\n",
    "\n",
    "extract_non_noisy_images(source_path, destination_path)"
   ]
  }
 ],
 "metadata": {
  "kernelspec": {
   "display_name": "Python 3",
   "language": "python",
   "name": "python3"
  },
  "language_info": {
   "codemirror_mode": {
    "name": "ipython",
    "version": 3
   },
   "file_extension": ".py",
   "mimetype": "text/x-python",
   "name": "python",
   "nbconvert_exporter": "python",
   "pygments_lexer": "ipython3",
   "version": "3.10.12"
  }
 },
 "nbformat": 4,
 "nbformat_minor": 2
}
