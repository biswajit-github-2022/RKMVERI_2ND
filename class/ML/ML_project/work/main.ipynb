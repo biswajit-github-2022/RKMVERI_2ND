{
 "cells": [
  {
   "cell_type": "code",
   "execution_count": 4,
   "metadata": {},
   "outputs": [],
   "source": [
    "import os\n",
    "import shutil\n",
    "\n",
    "def copy_noisy_images(source_dir, destination_dir):\n",
    "    # Create the destination directory if it doesn't exist\n",
    "    if not os.path.exists(destination_dir):\n",
    "        os.makedirs(destination_dir)\n",
    "    \n",
    "    # Initialize a counter for renaming\n",
    "    counter = 1\n",
    "\n",
    "    # Iterate through each folder in the source directory\n",
    "    for foldername in os.listdir(source_dir):\n",
    "        folder_path = os.path.join(source_dir, foldername)\n",
    "\n",
    "        # Check if it's a directory\n",
    "        if os.path.isdir(folder_path):\n",
    "            # Iterate through files in the folder\n",
    "            for filename in os.listdir(folder_path):\n",
    "                # Check if it's a noisy image\n",
    "                if filename.startswith(\"NOISY\"):\n",
    "                    # Get the full path of the noisy image\n",
    "                    noisy_image_path = os.path.join(folder_path, filename)\n",
    "                    \n",
    "                    # Determine the new filename\n",
    "                    new_filename = f\"Noisy_Image_{counter}.jpg\"\n",
    "                    \n",
    "                    # Copy the image to the destination directory with the new name\n",
    "                    shutil.copy(noisy_image_path, os.path.join(destination_dir, new_filename))\n",
    "                    \n",
    "                    # Increment the counter\n",
    "                    counter += 1\n",
    "\n",
    "# Set your source directory containing multiple folders with noisy images\n",
    "source_directory = \"D:\\sample\"\n",
    "\n",
    "# Set the destination directory where you want to copy the images\n",
    "destination_directory = \"D:\\sample_noisy\"\n",
    "\n",
    "# Call the function to copy noisy images\n",
    "copy_noisy_images(source_directory, destination_directory)\n"
   ]
  },
  {
   "cell_type": "code",
   "execution_count": 5,
   "metadata": {},
   "outputs": [
    {
     "name": "stdout",
     "output_type": "stream",
     "text": [
      "Shape of the resulting array: (512, 512, 15)\n"
     ]
    }
   ],
   "source": [
    "import os\n",
    "import cv2\n",
    "import numpy as np\n",
    "\n",
    "def read_images_and_create_array(source_dir):\n",
    "    images = []\n",
    "    \n",
    "    # Iterate through each file in the directory\n",
    "    for filename in os.listdir(source_dir):\n",
    "        file_path = os.path.join(source_dir, filename)\n",
    "        \n",
    "        # Check if it's a file\n",
    "        if os.path.isfile(file_path):\n",
    "            # Check if it's an image file\n",
    "            if filename.startswith(\"Noisy_Image_\") and (filename.endswith(\".jpg\") or filename.endswith(\".png\")):\n",
    "                # Read the image\n",
    "                image = cv2.imread(file_path, cv2.IMREAD_GRAYSCALE)\n",
    "                \n",
    "                # Resize the image to 512x512 if it's not already\n",
    "                if image.shape != (512, 512):\n",
    "                    image = cv2.resize(image, (512, 512))\n",
    "                \n",
    "                # Append the image to the list\n",
    "                images.append(image)\n",
    "\n",
    "    # Stack the images to create a 3D numpy array\n",
    "    image_array = np.stack(images, axis=-1)\n",
    "    \n",
    "    return image_array\n",
    "\n",
    "# Set the directory where you copied the noisy images\n",
    "source_directory = \"D:\\sample_noisy\"\n",
    "\n",
    "# Call the function to read images and create the array\n",
    "image_array = read_images_and_create_array(source_directory)\n",
    "\n",
    "# Print the shape of the resulting array\n",
    "print(\"Shape of the resulting array:\", image_array.shape)\n"
   ]
  },
  {
   "cell_type": "code",
   "execution_count": 11,
   "metadata": {},
   "outputs": [
    {
     "data": {
      "text/plain": [
       "(512, 512)"
      ]
     },
     "execution_count": 11,
     "metadata": {},
     "output_type": "execute_result"
    }
   ],
   "source": [
    "image_array[0:,0:,0].shape"
   ]
  }
 ],
 "metadata": {
  "kernelspec": {
   "display_name": "Python 3",
   "language": "python",
   "name": "python3"
  },
  "language_info": {
   "codemirror_mode": {
    "name": "ipython",
    "version": 3
   },
   "file_extension": ".py",
   "mimetype": "text/x-python",
   "name": "python",
   "nbconvert_exporter": "python",
   "pygments_lexer": "ipython3",
   "version": "3.10.5"
  }
 },
 "nbformat": 4,
 "nbformat_minor": 2
}
