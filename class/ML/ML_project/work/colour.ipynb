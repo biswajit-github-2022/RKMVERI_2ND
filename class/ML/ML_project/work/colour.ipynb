{
 "cells": [
  {
   "cell_type": "code",
   "execution_count": 2,
   "metadata": {},
   "outputs": [],
   "source": [
    "\n",
    "import cv2\n",
    "\n",
    "# Load the noisy colored image and the denoised grayscale image\n",
    "noisy_colored_image = cv2.imread('/home/biswajitrana/Downloads/Data/Noisy_Data/0003_NOISY_SRGB_010.PNG')\n",
    "denoised_gray_image = cv2.imread('/home/biswajitrana/Downloads/Data/Output_Data/KPCA/0003_NOISY_SRGB_010.jpg', cv2.IMREAD_GRAYSCALE)\n",
    "\n",
    "# Convert the denoised grayscale image back to colored image\n",
    "denoised_colored_image = cv2.cvtColor(denoised_gray_image, cv2.COLOR_GRAY2BGR)\n",
    "\n",
    "# Ensure dimensions match\n",
    "denoised_colored_image = cv2.resize(denoised_colored_image, (noisy_colored_image.shape[1], noisy_colored_image.shape[0]))\n",
    "\n",
    "# Use the noisy colored image as reference to colorize the denoised grayscale image\n",
    "colored_denoised_image = cv2.addWeighted(denoised_colored_image, 0.8, noisy_colored_image, 0.2, 0)\n",
    "\n",
    "# Save or display the resulting colored image\n",
    "cv2.imwrite('/home/biswajitrana/Downloads/Data/Output_Data/KPCA/0003_NOISY_SRGB_010_KPCA_colored.jpg', colored_denoised_image)\n",
    "# or\n"
   ]
  },
  {
   "cell_type": "markdown",
   "metadata": {},
   "source": [
    "# GRAY LEVEL TO COLOUR"
   ]
  },
  {
   "cell_type": "code",
   "execution_count": 4,
   "metadata": {},
   "outputs": [
    {
     "data": {
      "text/plain": [
       "True"
      ]
     },
     "execution_count": 4,
     "metadata": {},
     "output_type": "execute_result"
    }
   ],
   "source": [
    "\n",
    "import cv2\n",
    "\n",
    "# Load the noisy colored image and the denoised grayscale image\n",
    "noisy_colored_image = cv2.imread(\"C:\\\\Users\\\\biswajit\\\\Downloads\\\\DAta\\\\Noisy\\\\0003_NOISY_SRGB_010.PNG\")\n",
    "denoised_gray_image = cv2.imread(\"C:\\\\Users\\\\biswajit\\\\Downloads\\\\DAta\\\\Wavelet\\\\0003_NOISY_SRGB_010.jpg\", cv2.IMREAD_GRAYSCALE)\n",
    "\n",
    "# Convert the denoised grayscale image back to colored image\n",
    "denoised_colored_image = cv2.cvtColor(denoised_gray_image, cv2.COLOR_GRAY2BGR)\n",
    "\n",
    "# Ensure dimensions match\n",
    "denoised_colored_image = cv2.resize(denoised_colored_image, (noisy_colored_image.shape[1], noisy_colored_image.shape[0]))\n",
    "\n",
    "# Use the noisy colored image as reference to colorize the denoised grayscale image\n",
    "colored_denoised_image = cv2.addWeighted(denoised_colored_image, 0.8, noisy_colored_image, 0.2, 0)\n",
    "\n",
    "# Save or display the resulting colored image\n",
    "cv2.imwrite('C:\\\\Users\\\\biswajit\\\\Downloads\\\\DAta\\\\Wavelet\\\\0003_NOISY_SRGB_010_coloured.jpg', colored_denoised_image)\n",
    "# or\n"
   ]
  },
  {
   "cell_type": "code",
   "execution_count": null,
   "metadata": {},
   "outputs": [],
   "source": []
  },
  {
   "cell_type": "code",
   "execution_count": null,
   "metadata": {},
   "outputs": [],
   "source": []
  },
  {
   "cell_type": "code",
   "execution_count": 18,
   "metadata": {},
   "outputs": [
    {
     "data": {
      "text/plain": [
       "True"
      ]
     },
     "execution_count": 18,
     "metadata": {},
     "output_type": "execute_result"
    }
   ],
   "source": [
    "import cv2\n",
    "\n",
    "def luminance_transfer(source, target):\n",
    "    # Convert images to Lab color space\n",
    "    source_lab = cv2.cvtColor(source, cv2.COLOR_BGR2Lab)\n",
    "    target_lab = cv2.cvtColor(target, cv2.COLOR_BGR2Lab)\n",
    "\n",
    "    # Extract the L channel (lightness) from Lab color space\n",
    "    source_l = source_lab[:,:,0]\n",
    "    target_l = target_lab[:,:,0]\n",
    "\n",
    "    # Transfer luminance from source to target\n",
    "    result_lab = target_lab.copy()\n",
    "    result_lab[:,:,0] = source_l\n",
    "\n",
    "    # Convert back to BGR color space\n",
    "    result_bgr = cv2.cvtColor(result_lab, cv2.COLOR_Lab2BGR)\n",
    "\n",
    "    return result_bgr\n",
    "\n",
    "# Load the noisy colored image and the denoised grayscale image\n",
    "noisy_colored_image = cv2.imread('/home/biswajitrana/Downloads/Data/Noisy_Data/0098_NOISY_SRGB_010.PNG')\n",
    "denoised_gray_image = cv2.imread('/home/biswajitrana/Downloads/Data/OUTPUT/WAVELET/0098_NOISY_SRGB_010_coloured.jpg')  # Remove cv2.IMREAD_GRAYSCALE\n",
    "\n",
    "# Apply luminance transfer\n",
    "colored_denoised_image = luminance_transfer(noisy_colored_image, denoised_gray_image)\n",
    "\n",
    "# Save the resulting colored image\n",
    "cv2.imwrite('/home/biswajitrana/Downloads/Data/OUTPUT/WAVELET/0098_NOISY_SRGB_010_coloured_inc.jpg', colored_denoised_image)\n"
   ]
  },
  {
   "cell_type": "markdown",
   "metadata": {},
   "source": [
    "# Increment Colour Intensity"
   ]
  },
  {
   "cell_type": "code",
   "execution_count": 16,
   "metadata": {},
   "outputs": [
    {
     "data": {
      "text/plain": [
       "True"
      ]
     },
     "execution_count": 16,
     "metadata": {},
     "output_type": "execute_result"
    }
   ],
   "source": [
    "import cv2\n",
    "\n",
    "# Read the first image\n",
    "image1 = cv2.imread('/home/biswajitrana/Downloads/Data/Noisy_Data/0134_NOISY_SRGB_010.PNG')\n",
    "\n",
    "# Read the second image\n",
    "image2 = cv2.imread('/home/biswajitrana/Downloads/Data/OUTPUT/KPCA/0088_NOISY_SRGB_010_coloured.jpg')\n",
    "\n",
    "# Convert both images to HSV color space\n",
    "hsv1 = cv2.cvtColor(image1, cv2.COLOR_BGR2HSV)\n",
    "hsv2 = cv2.cvtColor(image2, cv2.COLOR_BGR2HSV)\n",
    "\n",
    "# Increase the saturation and value channels of the second image\n",
    "hsv2[:, :, 1] = hsv2[:, :, 1] * 1.6\n",
    "hsv2[:, :, 2] = hsv2[:, :, 2] * 1.6\n",
    "# Convert the second image back to BGR color space\n",
    "image2_enhanced = cv2.cvtColor(hsv2, cv2.COLOR_HSV2BGR)\n",
    "\n",
    "cv2.imwrite('/home/biswajitrana/Downloads/Data/OUTPUT/KPCA/0088_NOISY_SRGB_010_coloured_corrected.jpg', image2_enhanced)"
   ]
  },
  {
   "cell_type": "code",
   "execution_count": 5,
   "metadata": {},
   "outputs": [
    {
     "name": "stdout",
     "output_type": "stream",
     "text": [
      "Enhanced image saved to: C:\\Users\\biswajit\\Downloads\\DAta\\Wavelet\\0003_NOISY_SRGB_010_coloured_intense.jpg\n"
     ]
    }
   ],
   "source": [
    "import cv2\n",
    "import numpy as np\n",
    "\n",
    "def increase_saturation_and_brightness(image, saturation_factor, brightness_factor):\n",
    "    # Convert the image from BGR to HSV color space\n",
    "    hsv_image = cv2.cvtColor(image, cv2.COLOR_BGR2HSV)\n",
    "\n",
    "    # Split the HSV image into its components\n",
    "    h, s, v = cv2.split(hsv_image)\n",
    "\n",
    "    # Increase the saturation component\n",
    "    s = np.clip(s * saturation_factor, 0, 255).astype(np.uint8)\n",
    "\n",
    "    # Increase the value (brightness) component\n",
    "    v = np.clip(v * brightness_factor, 0, 255).astype(np.uint8)\n",
    "\n",
    "    # Merge the modified components back into an HSV image\n",
    "    enhanced_hsv_image = cv2.merge([h, s, v])\n",
    "\n",
    "    # Convert the HSV image back to BGR color space\n",
    "    enhanced_image = cv2.cvtColor(enhanced_hsv_image, cv2.COLOR_HSV2BGR)\n",
    "\n",
    "    return enhanced_image\n",
    "\n",
    "# Load the image\n",
    "image = cv2.imread('C:\\\\Users\\\\biswajit\\\\Downloads\\\\DAta\\\\Wavelet\\\\0003_NOISY_SRGB_010_coloured.jpg')\n",
    "\n",
    "# Increase the saturation by a factor (adjust this value as needed)\n",
    "saturation_factor = 1.7\n",
    "\n",
    "# Increase the brightness by a factor (adjust this value as needed)\n",
    "brightness_factor = 1.7  # Increase brightness by 20%\n",
    "\n",
    "# Enhance the image\n",
    "enhanced_image = increase_saturation_and_brightness(image, saturation_factor, brightness_factor)\n",
    "\n",
    "# Save the enhanced image\n",
    "output_path = 'C:\\\\Users\\\\biswajit\\\\Downloads\\\\DAta\\\\Wavelet\\\\0003_NOISY_SRGB_010_coloured_intense.jpg'\n",
    "cv2.imwrite(output_path, enhanced_image)\n",
    "\n",
    "print(\"Enhanced image saved to:\", output_path)\n"
   ]
  },
  {
   "cell_type": "code",
   "execution_count": 44,
   "metadata": {},
   "outputs": [
    {
     "name": "stdout",
     "output_type": "stream",
     "text": [
      "Enhanced image saved to: /home/biswajitrana/Downloads/Data/OUTPUT/WAVELET/0134_NOISY_SRGB_010_coloured_corrected.jpg\n"
     ]
    }
   ],
   "source": [
    "import cv2\n",
    "import numpy as np\n",
    "\n",
    "def increase_saturation_and_brightness(image, saturation_factor, brightness_factor, threshold=220):\n",
    "    # Convert the image from BGR to HSV color space\n",
    "    hsv_image = cv2.cvtColor(image, cv2.COLOR_BGR2HSV)\n",
    "\n",
    "    # Split the HSV image into its components\n",
    "    h, s, v = cv2.split(hsv_image)\n",
    "\n",
    "    # Define a mask for whitish pixels\n",
    "    mask = (v > threshold)\n",
    "\n",
    "    # Increase the saturation component for non-whitish pixels\n",
    "    s = np.where(mask, s, np.clip(s * saturation_factor, 0, 255).astype(np.uint8))\n",
    "\n",
    "    # Increase the value (brightness) component for non-whitish pixels\n",
    "    v = np.where(mask, v, np.clip(v * brightness_factor, 0, 255).astype(np.uint8))\n",
    "\n",
    "    # Merge the modified components back into an HSV image\n",
    "    enhanced_hsv_image = cv2.merge([h, s, v])\n",
    "\n",
    "    # Convert the HSV image back to BGR color space\n",
    "    enhanced_image = cv2.cvtColor(enhanced_hsv_image, cv2.COLOR_HSV2BGR)\n",
    "\n",
    "    return enhanced_image\n",
    "\n",
    "# Load the image\n",
    "image = cv2.imread('/home/biswajitrana/Downloads/Data/OUTPUT/WAVELET/0134_NOISY_SRGB_010_coloured.jpg')\n",
    "\n",
    "# Increase the saturation by a factor (adjust this value as needed)\n",
    "saturation_factor = 1.7\n",
    "\n",
    "# Increase the brightness by a factor (adjust this value as needed)\n",
    "brightness_factor = 1.99\n",
    "\n",
    "# Set the intensity threshold for whitish pixels\n",
    "threshold = 220  # Adjust this value as needed\n",
    "\n",
    "# Enhance the image\n",
    "enhanced_image = increase_saturation_and_brightness(image, saturation_factor, brightness_factor, threshold)\n",
    "\n",
    "# Save the enhanced image\n",
    "output_path = '/home/biswajitrana/Downloads/Data/OUTPUT/WAVELET/0134_NOISY_SRGB_010_coloured_corrected.jpg'\n",
    "cv2.imwrite(output_path, enhanced_image)\n",
    "\n",
    "print(\"Enhanced image saved to:\", output_path)\n"
   ]
  }
 ],
 "metadata": {
  "kernelspec": {
   "display_name": "Python 3",
   "language": "python",
   "name": "python3"
  },
  "language_info": {
   "codemirror_mode": {
    "name": "ipython",
    "version": 3
   },
   "file_extension": ".py",
   "mimetype": "text/x-python",
   "name": "python",
   "nbconvert_exporter": "python",
   "pygments_lexer": "ipython3",
   "version": "3.10.5"
  }
 },
 "nbformat": 4,
 "nbformat_minor": 2
}
