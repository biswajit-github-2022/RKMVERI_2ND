{
 "cells": [
  {
   "cell_type": "code",
   "execution_count": 182,
   "metadata": {},
   "outputs": [],
   "source": [
    "import numpy as np\n",
    "import pandas as pd\n",
    "import matplotlib.pyplot as plt"
   ]
  },
  {
   "cell_type": "code",
   "execution_count": 183,
   "metadata": {},
   "outputs": [],
   "source": [
    "df =pd.read_csv(\"annotated_points_np_200.csv\")"
   ]
  },
  {
   "cell_type": "code",
   "execution_count": 184,
   "metadata": {},
   "outputs": [],
   "source": [
    "data=np.array(df)"
   ]
  },
  {
   "cell_type": "markdown",
   "metadata": {},
   "source": [
    "### Changing labels"
   ]
  },
  {
   "cell_type": "code",
   "execution_count": 185,
   "metadata": {},
   "outputs": [],
   "source": [
    "data[data == 2.0] = -1"
   ]
  },
  {
   "cell_type": "code",
   "execution_count": 186,
   "metadata": {},
   "outputs": [
    {
     "data": {
      "text/plain": [
       "array([[ 1.51209677,  3.58766234,  1.        ],\n",
       "       [ 4.41532258,  6.42857143,  1.        ],\n",
       "       [ 2.78225806,  6.59090909,  1.        ],\n",
       "       [ 1.875     ,  8.37662338,  1.        ],\n",
       "       [ 2.96370968, 10.73051948,  1.        ],\n",
       "       [ 3.75      , 11.86688312,  1.        ],\n",
       "       [ 5.2016129 , 12.43506494,  1.        ],\n",
       "       [ 7.25806452, 12.02922078,  1.        ],\n",
       "       [ 7.68145161, 11.2987013 ,  1.        ],\n",
       "       [ 7.5       , 10.40584416,  1.        ],\n",
       "       [ 6.89516129,  9.91883117,  1.        ],\n",
       "       [ 6.29032258, 10.        ,  1.        ],\n",
       "       [ 5.80645161, 12.43506494,  1.        ],\n",
       "       [ 5.74596774, 15.60064935,  1.        ],\n",
       "       [ 6.16935484, 16.08766234,  1.        ],\n",
       "       [ 7.86290323, 15.27597403,  1.        ],\n",
       "       [ 9.25403226, 13.40909091,  1.        ],\n",
       "       [ 9.01209677, 11.21753247,  1.        ],\n",
       "       [ 7.0766129 ,  8.7012987 ,  1.        ],\n",
       "       [ 5.26209677,  7.24025974,  1.        ],\n",
       "       [ 5.08064516,  7.15909091,  1.        ],\n",
       "       [ 5.08064516,  7.07792208,  1.        ],\n",
       "       [ 5.74596774,  5.69805195,  1.        ],\n",
       "       [ 6.10887097,  3.83116883,  1.        ],\n",
       "       [ 6.10887097,  3.18181818,  1.        ],\n",
       "       [ 5.14112903,  2.93831169,  1.        ],\n",
       "       [ 1.33064516,  2.20779221,  1.        ],\n",
       "       [ 0.96774194,  2.20779221,  1.        ],\n",
       "       [ 3.81048387,  5.53571429,  1.        ],\n",
       "       [ 8.22580645, 10.        ,  1.        ],\n",
       "       [ 9.01209677, 10.81168831,  1.        ],\n",
       "       [ 9.01209677, 10.81168831,  1.        ],\n",
       "       [ 9.01209677, 10.81168831,  1.        ],\n",
       "       [ 8.9516129 , 11.2987013 ,  1.        ],\n",
       "       [ 8.58870968, 12.02922078,  1.        ],\n",
       "       [ 7.19758065, 13.49025974,  1.        ],\n",
       "       [ 6.47177419, 14.13961039,  1.        ],\n",
       "       [ 6.47177419, 14.13961039,  1.        ],\n",
       "       [ 6.53225806, 12.75974026,  1.        ],\n",
       "       [ 7.80241935,  9.59415584,  1.        ],\n",
       "       [10.64516129,  6.18506494,  1.        ],\n",
       "       [12.21774194,  5.37337662,  1.        ],\n",
       "       [12.21774194,  5.12987013,  1.        ],\n",
       "       [10.46370968,  3.75      ,  1.        ],\n",
       "       [10.28225806,  2.69480519,  1.        ],\n",
       "       [12.7016129 ,  2.37012987,  1.        ],\n",
       "       [12.88306452,  2.37012987,  1.        ],\n",
       "       [10.8266129 ,  2.37012987,  1.        ],\n",
       "       [ 9.31451613,  2.61363636,  1.        ],\n",
       "       [ 9.7983871 ,  7.4025974 ,  1.        ],\n",
       "       [ 9.43548387, 14.70779221,  1.        ],\n",
       "       [ 8.22580645, 17.14285714,  1.        ],\n",
       "       [ 8.10483871, 17.30519481,  1.        ],\n",
       "       [ 8.10483871, 17.30519481,  1.        ],\n",
       "       [ 7.25806452, 17.38636364,  1.        ],\n",
       "       [ 5.38306452, 15.76298701,  1.        ],\n",
       "       [ 5.74596774, 14.46428571,  1.        ],\n",
       "       [ 7.56048387, 14.38311688,  1.        ],\n",
       "       [ 4.65725806,  9.91883117,  1.        ],\n",
       "       [ 5.32258065,  8.37662338,  1.        ],\n",
       "       [ 7.13709677,  5.77922078,  1.        ],\n",
       "       [ 7.0766129 ,  9.10714286,  1.        ],\n",
       "       [ 3.87096774, 13.6525974 ,  1.        ],\n",
       "       [ 3.26612903, 15.27597403,  1.        ],\n",
       "       [ 2.66129032, 15.76298701,  1.        ],\n",
       "       [ 2.11693548, 11.70454545,  1.        ],\n",
       "       [ 2.72177419,  7.97077922,  1.        ],\n",
       "       [ 9.19354839,  4.64285714,  1.        ],\n",
       "       [14.09274194,  8.94480519,  1.        ],\n",
       "       [10.88709677, 13.81493506,  1.        ],\n",
       "       [ 9.7983871 , 11.21753247,  1.        ],\n",
       "       [10.64516129,  7.32142857,  1.        ],\n",
       "       [ 8.52822581,  5.12987013,  1.        ],\n",
       "       [ 3.87096774, 10.81168831,  1.        ],\n",
       "       [ 4.59677419, 11.62337662,  1.        ],\n",
       "       [ 5.14112903,  9.75649351,  1.        ],\n",
       "       [ 6.53225806,  6.02272727,  1.        ],\n",
       "       [ 4.59677419,  3.91233766,  1.        ],\n",
       "       [ 2.05645161, 15.43831169,  1.        ],\n",
       "       [ 3.20564516, 17.71103896,  1.        ],\n",
       "       [ 5.74596774, 16.33116883,  1.        ],\n",
       "       [ 7.5       , 15.03246753,  1.        ],\n",
       "       [ 9.25403226,  7.97077922,  1.        ],\n",
       "       [ 9.85887097,  4.96753247,  1.        ],\n",
       "       [13.60887097,  4.80519481,  1.        ],\n",
       "       [11.31048387, 15.11363636,  1.        ],\n",
       "       [ 9.07258065, 16.08766234,  1.        ],\n",
       "       [ 3.56854839, 18.19805195,  1.        ],\n",
       "       [ 4.29435484, 10.64935065,  1.        ],\n",
       "       [ 6.89516129,  5.0487013 ,  1.        ],\n",
       "       [ 9.67741935,  4.48051948,  1.        ],\n",
       "       [11.18951613,  5.21103896,  1.        ],\n",
       "       [ 8.28629032, 16.08766234,  1.        ],\n",
       "       [ 5.38306452, 17.30519481,  1.        ],\n",
       "       [ 5.44354839, 10.16233766,  1.        ],\n",
       "       [ 7.62096774,  4.15584416,  1.        ],\n",
       "       [10.88709677,  9.26948052,  1.        ],\n",
       "       [11.85483871, 12.11038961,  1.        ],\n",
       "       [12.58064516,  8.86363636,  1.        ],\n",
       "       [14.69758065,  6.26623377,  1.        ],\n",
       "       [19.59677419, 27.61363636, -1.        ],\n",
       "       [27.45967742, 27.77597403, -1.        ],\n",
       "       [26.37096774, 27.93831169, -1.        ],\n",
       "       [24.91935484, 27.69480519, -1.        ],\n",
       "       [24.73790323, 27.53246753, -1.        ],\n",
       "       [24.55645161, 27.12662338, -1.        ],\n",
       "       [24.55645161, 26.3961039 , -1.        ],\n",
       "       [24.91935484, 25.58441558, -1.        ],\n",
       "       [25.58467742, 24.52922078, -1.        ],\n",
       "       [25.8266129 , 24.12337662, -1.        ],\n",
       "       [25.64516129, 23.31168831, -1.        ],\n",
       "       [22.68145161, 20.79545455, -1.        ],\n",
       "       [20.98790323, 19.9025974 , -1.        ],\n",
       "       [20.68548387, 19.9025974 , -1.        ],\n",
       "       [19.53629032, 22.01298701, -1.        ],\n",
       "       [18.81048387, 23.63636364, -1.        ],\n",
       "       [18.87096774, 24.77272727, -1.        ],\n",
       "       [19.53629032, 25.66558442, -1.        ],\n",
       "       [20.74596774, 25.74675325, -1.        ],\n",
       "       [22.25806452, 25.66558442, -1.        ],\n",
       "       [22.43951613, 25.50324675, -1.        ],\n",
       "       [22.13709677, 25.34090909, -1.        ],\n",
       "       [20.44354839, 25.34090909, -1.        ],\n",
       "       [18.3266129 , 25.34090909, -1.        ],\n",
       "       [16.99596774, 25.58441558, -1.        ],\n",
       "       [16.57258065, 25.99025974, -1.        ],\n",
       "       [16.33064516, 26.07142857, -1.        ],\n",
       "       [16.02822581, 26.07142857, -1.        ],\n",
       "       [15.84677419, 25.58441558, -1.        ],\n",
       "       [15.96774194, 24.28571429, -1.        ],\n",
       "       [16.63306452, 23.23051948, -1.        ],\n",
       "       [19.1733871 , 22.82467532, -1.        ],\n",
       "       [23.89112903, 22.82467532, -1.        ],\n",
       "       [25.88709677, 22.82467532, -1.        ],\n",
       "       [26.31048387, 22.58116883, -1.        ],\n",
       "       [26.73387097, 22.01298701, -1.        ],\n",
       "       [27.09677419, 20.71428571, -1.        ],\n",
       "       [27.09677419, 18.52272727, -1.        ],\n",
       "       [26.79435484, 17.38636364, -1.        ],\n",
       "       [26.18951613, 16.81818182, -1.        ],\n",
       "       [24.49596774, 15.84415584, -1.        ],\n",
       "       [24.13306452, 15.60064935, -1.        ],\n",
       "       [24.07258065, 15.92532468, -1.        ],\n",
       "       [23.77016129, 18.27922078, -1.        ],\n",
       "       [22.74193548, 22.98701299, -1.        ],\n",
       "       [22.01612903, 26.07142857, -1.        ],\n",
       "       [21.53225806, 27.04545455, -1.        ],\n",
       "       [20.80645161, 27.4512987 , -1.        ],\n",
       "       [17.84274194, 27.53246753, -1.        ],\n",
       "       [15.90725806, 27.53246753, -1.        ],\n",
       "       [15.24193548, 27.53246753, -1.        ],\n",
       "       [15.24193548, 27.53246753, -1.        ],\n",
       "       [15.24193548, 27.53246753, -1.        ],\n",
       "       [14.93951613, 27.4512987 , -1.        ],\n",
       "       [14.69758065, 25.82792208, -1.        ],\n",
       "       [14.75806452, 23.7987013 , -1.        ],\n",
       "       [15.54435484, 22.58116883, -1.        ],\n",
       "       [16.875     , 21.76948052, -1.        ],\n",
       "       [18.14516129, 20.38961039, -1.        ],\n",
       "       [19.41532258, 19.17207792, -1.        ],\n",
       "       [19.53629032, 18.8474026 , -1.        ],\n",
       "       [19.77822581, 17.87337662, -1.        ],\n",
       "       [20.68548387, 17.14285714, -1.        ],\n",
       "       [21.77419355, 16.33116883, -1.        ],\n",
       "       [22.13709677, 15.92532468, -1.        ],\n",
       "       [22.80241935, 15.68181818, -1.        ],\n",
       "       [23.10483871, 15.68181818, -1.        ],\n",
       "       [23.40725806, 15.84415584, -1.        ],\n",
       "       [23.77016129, 18.68506494, -1.        ],\n",
       "       [22.74193548, 23.14935065, -1.        ],\n",
       "       [22.37903226, 23.63636364, -1.        ],\n",
       "       [21.16935484, 23.7987013 , -1.        ],\n",
       "       [26.6733871 , 11.54220779, -1.        ],\n",
       "       [29.15322581, 19.25324675, -1.        ],\n",
       "       [28.24596774, 21.44480519, -1.        ],\n",
       "       [26.31048387, 26.07142857, -1.        ],\n",
       "       [23.89112903, 28.10064935, -1.        ],\n",
       "       [21.53225806, 29.39935065, -1.        ],\n",
       "       [17.41935484, 28.91233766, -1.        ],\n",
       "       [14.15322581, 28.58766234, -1.        ],\n",
       "       [13.42741935, 24.12337662, -1.        ],\n",
       "       [15.96774194, 18.44155844, -1.        ],\n",
       "       [22.19758065, 13.32792208, -1.        ],\n",
       "       [25.16129032, 14.70779221, -1.        ],\n",
       "       [20.38306452, 16.73701299, -1.        ],\n",
       "       [16.93548387, 18.76623377, -1.        ],\n",
       "       [19.23387097, 15.76298701, -1.        ],\n",
       "       [19.23387097, 15.76298701, -1.        ],\n",
       "       [18.50806452, 19.00974026, -1.        ],\n",
       "       [20.98790323, 13.81493506, -1.        ],\n",
       "       [26.43145161, 15.68181818, -1.        ],\n",
       "       [28.36693548, 22.25649351, -1.        ],\n",
       "       [28.42741935, 25.74675325, -1.        ],\n",
       "       [27.45967742, 23.23051948, -1.        ],\n",
       "       [24.07258065, 21.52597403, -1.        ],\n",
       "       [24.61693548, 19.82142857, -1.        ],\n",
       "       [22.68145161, 20.95779221, -1.        ],\n",
       "       [23.9516129 , 18.92857143, -1.        ],\n",
       "       [25.70564516, 18.19805195, -1.        ],\n",
       "       [23.58870968, 25.0974026 , -1.        ]])"
      ]
     },
     "execution_count": 186,
     "metadata": {},
     "output_type": "execute_result"
    }
   ],
   "source": [
    "data"
   ]
  },
  {
   "cell_type": "markdown",
   "metadata": {},
   "source": [
    "### Data and Label division"
   ]
  },
  {
   "cell_type": "code",
   "execution_count": 187,
   "metadata": {},
   "outputs": [],
   "source": [
    "coord_data=data[:,0:2]\n",
    "y=data[:,2]"
   ]
  },
  {
   "cell_type": "code",
   "execution_count": 188,
   "metadata": {},
   "outputs": [
    {
     "data": {
      "text/plain": [
       "(200, 2)"
      ]
     },
     "execution_count": 188,
     "metadata": {},
     "output_type": "execute_result"
    }
   ],
   "source": [
    "coord_data.shape"
   ]
  },
  {
   "cell_type": "code",
   "execution_count": 189,
   "metadata": {},
   "outputs": [
    {
     "data": {
      "text/plain": [
       "(200,)"
      ]
     },
     "execution_count": 189,
     "metadata": {},
     "output_type": "execute_result"
    }
   ],
   "source": [
    "y.shape"
   ]
  },
  {
   "cell_type": "code",
   "execution_count": 190,
   "metadata": {},
   "outputs": [],
   "source": [
    "one=np.ones(coord_data.shape[0]).reshape(200,1)\n",
    "X=np.concatenate([coord_data,one],axis=1)"
   ]
  },
  {
   "cell_type": "markdown",
   "metadata": {},
   "source": [
    "### Algorithm implementation"
   ]
  },
  {
   "cell_type": "code",
   "execution_count": 191,
   "metadata": {},
   "outputs": [
    {
     "name": "stdout",
     "output_type": "stream",
     "text": [
      "(200,)\n",
      "(200, 2)\n",
      "(200, 3)\n"
     ]
    }
   ],
   "source": [
    "print(y.shape)\n",
    "print(coord_data.shape)\n",
    "print(data.shape)"
   ]
  },
  {
   "cell_type": "code",
   "execution_count": 204,
   "metadata": {},
   "outputs": [],
   "source": [
    "W=np.array([0,0,0])"
   ]
  },
  {
   "cell_type": "code",
   "execution_count": 206,
   "metadata": {},
   "outputs": [
    {
     "data": {
      "text/plain": [
       "array([0, 0, 0])"
      ]
     },
     "execution_count": 206,
     "metadata": {},
     "output_type": "execute_result"
    }
   ],
   "source": [
    "W"
   ]
  },
  {
   "cell_type": "code",
   "execution_count": 207,
   "metadata": {},
   "outputs": [
    {
     "data": {
      "text/plain": [
       "array([0, 0, 0])"
      ]
     },
     "execution_count": 207,
     "metadata": {},
     "output_type": "execute_result"
    }
   ],
   "source": [
    "W.T"
   ]
  },
  {
   "cell_type": "code",
   "execution_count": 208,
   "metadata": {},
   "outputs": [],
   "source": [
    "while (1):\n",
    "    m=0\n",
    "    for i in range(X.shape[0]):\n",
    "        if(y[i]*np.dot(W.T,X[i])<=0):\n",
    "            W=W+y[i]*X[i]\n",
    "            m=m+1\n",
    "    if(m==0):\n",
    "        break"
   ]
  },
  {
   "cell_type": "code",
   "execution_count": 211,
   "metadata": {},
   "outputs": [
    {
     "data": {
      "text/plain": [
       "array([-31.63306452,  -7.48376623, 604.        ])"
      ]
     },
     "execution_count": 211,
     "metadata": {},
     "output_type": "execute_result"
    }
   ],
   "source": [
    "W"
   ]
  },
  {
   "cell_type": "code",
   "execution_count": 213,
   "metadata": {},
   "outputs": [
    {
     "data": {
      "image/png": "[encoded data removed]",
      "text/plain": [
       "<Figure size 640x480 with 1 Axes>"
      ]
     },
     "metadata": {},
     "output_type": "display_data"
    }
   ],
   "source": [
    "import numpy as np\n",
    "import matplotlib.pyplot as plt\n",
    "\n",
    "def plot_line(coefficients):\n",
    "    # Extract coefficients for x, y, and the constant term\n",
    "    a, b, c = coefficients\n",
    "\n",
    "    # Generate x values\n",
    "    x_values = np.linspace(-10, 10, 100)\n",
    "\n",
    "    # Calculate corresponding y values using the equation of the line\n",
    "    y_values = (-a * x_values + c) / b\n",
    "\n",
    "    plt.scatter(coord_data[:, 0], coord_data[:, 1], c=y, cmap='viridis')\n",
    "    # Plot the line\n",
    "    plt.plot(x_values, y_values, label=f'{a}x + {b}y + {c} = 0')\n",
    "\n",
    "    # Add labels and title\n",
    "    plt.xlabel('x')\n",
    "    plt.ylabel('y')\n",
    "    plt.title('Plot of the Line')\n",
    "\n",
    "    # Add a grid for better readability\n",
    "    plt.grid(True)\n",
    "\n",
    "    # Add a legend\n",
    "    plt.legend()\n",
    "\n",
    "    # Show the plot\n",
    "    plt.show()\n",
    "\n",
    "# Example usage with your coefficients\n",
    "coefficients = W\n",
    "plot_line(coefficients)\n"
   ]
  }
 ],
 "metadata": {
  "kernelspec": {
   "display_name": "Python 3",
   "language": "python",
   "name": "python3"
  },
  "language_info": {
   "codemirror_mode": {
    "name": "ipython",
    "version": 3
   },
   "file_extension": ".py",
   "mimetype": "text/x-python",
   "name": "python",
   "nbconvert_exporter": "python",
   "pygments_lexer": "ipython3",
   "version": "3.10.12"
  }
 },
 "nbformat": 4,
 "nbformat_minor": 2
}
