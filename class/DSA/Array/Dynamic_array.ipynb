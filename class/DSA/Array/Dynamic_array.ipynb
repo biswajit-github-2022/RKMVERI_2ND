{
 "cells": [
  {
   "cell_type": "code",
   "execution_count": 8,
   "metadata": {},
   "outputs": [],
   "source": [
    "import ctypes\n",
    "\n",
    "class DynamicArrays:\n",
    "    def __init__(self):\n",
    "        self._n=0\n",
    "        self._capacity=1\n",
    "        self._A=self._make_array(self._capacity)\n",
    "    def __len__(self):\n",
    "        return self._n\n",
    "    def __getitem__(self,k):\n",
    "        if not 0<=k<=self._n:\n",
    "            raise IndexError(\"Invalid Index\")\n",
    "        return self._A[k]\n",
    "    def append(self,obj):\n",
    "        if self._n==self._capacity:\n",
    "            self._resize(2*self._capacity)\n",
    "        self._A[self._n]=obj\n",
    "        self._n+=1\n",
    "    def _resize(self,c):\n",
    "        B=self._make_array(c)\n",
    "        for i in range(self._n):\n",
    "            B[i]=self._A[i]\n",
    "        self._A=B\n",
    "        self._capacity=c    \n",
    "    def _make_array(self,c):\n",
    "        return (ctypes.py_object*c)()"
   ]
  },
  {
   "cell_type": "code",
   "execution_count": 10,
   "metadata": {},
   "outputs": [
    {
     "data": {
      "text/plain": [
       "4"
      ]
     },
     "execution_count": 10,
     "metadata": {},
     "output_type": "execute_result"
    }
   ],
   "source": [
    "arr = DynamicArrays()\n",
    "arr.append(1)\n",
    "arr.append(2)\n",
    "arr.append(3)\n",
    "arr.append(4)\n",
    "arr.__getitem__(2)\n",
    "arr.__len__()"
   ]
  },
  {
   "cell_type": "code",
   "execution_count": 50,
   "metadata": {},
   "outputs": [
    {
     "name": "stdout",
     "output_type": "stream",
     "text": [
      "HARD\n"
     ]
    }
   ],
   "source": [
    "s=\"EXOA\"\n",
    "lag=3\n",
    "newstr=\"\"\n",
    "for i in s:\n",
    "    newstr+=chr(((int(i,36)+lag-10)%26)+65)\n",
    "print(newstr)\n"
   ]
  }
 ],
 "metadata": {
  "kernelspec": {
   "display_name": "Python 3",
   "language": "python",
   "name": "python3"
  },
  "language_info": {
   "codemirror_mode": {
    "name": "ipython",
    "version": 3
   },
   "file_extension": ".py",
   "mimetype": "text/x-python",
   "name": "python",
   "nbconvert_exporter": "python",
   "pygments_lexer": "ipython3",
   "version": "3.10.12"
  }
 },
 "nbformat": 4,
 "nbformat_minor": 2
}
