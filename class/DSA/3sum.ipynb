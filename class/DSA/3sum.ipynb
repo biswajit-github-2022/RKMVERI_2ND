{
 "cells": [
  {
   "cell_type": "code",
   "execution_count": 10,
   "metadata": {},
   "outputs": [
    {
     "name": "stdout",
     "output_type": "stream",
     "text": [
      "2\n",
      "[[-2, -3, 5], [-2, 7, -5]]\n"
     ]
    }
   ],
   "source": [
    "count=0\n",
    "l=[]\n",
    "x=[1,3,-2,-3,5,6,7,-5]\n",
    "for i in range(len(x)):\n",
    "    for j in range(i+1,len(x)):\n",
    "        for k in range(j+1,len(x)):\n",
    "            if x[i]+x[j]+x[k]==0:\n",
    "                count+=1\n",
    "                l.append([x[i],x[j],x[k]])\n",
    "print(count)\n",
    "print(l)"
   ]
  },
  {
   "cell_type": "code",
   "execution_count": null,
   "metadata": {},
   "outputs": [],
   "source": []
  },
  {
   "cell_type": "code",
   "execution_count": 20,
   "metadata": {},
   "outputs": [
    {
     "name": "stdout",
     "output_type": "stream",
     "text": [
      "[-5, -3, -2, 1, 3, 5, 6, 7]\n",
      "2\n"
     ]
    },
    {
     "data": {
      "text/plain": [
       "2"
      ]
     },
     "execution_count": 20,
     "metadata": {},
     "output_type": "execute_result"
    }
   ],
   "source": [
    "import insertio_sort as I\n",
    "import binary_search as B\n",
    "I.insertion_sort(x)\n",
    "print(x)\n",
    "\n",
    "def count_3_sums(x):\n",
    "    count=0\n",
    "    pair=[]\n",
    "    for i in range(len(x)):\n",
    "        for j in range(i+1,len(x)):\n",
    "            if x[i]<x[j]:\n",
    "                pair.append((x[i],x[j]))\n",
    "    for i in pair:\n",
    "        key=-(i[0]+i[1])\n",
    "        if i[0]<i[1]<key:\n",
    "            if B.binary_search(x,key):\n",
    "                count+=1\n",
    "    return count\n",
    "count_3_sums(x)"
   ]
  }
 ],
 "metadata": {
  "kernelspec": {
   "display_name": "Python 3",
   "language": "python",
   "name": "python3"
  },
  "language_info": {
   "codemirror_mode": {
    "name": "ipython",
    "version": 3
   },
   "file_extension": ".py",
   "mimetype": "text/x-python",
   "name": "python",
   "nbconvert_exporter": "python",
   "pygments_lexer": "ipython3",
   "version": "3.10.5"
  }
 },
 "nbformat": 4,
 "nbformat_minor": 2
}
