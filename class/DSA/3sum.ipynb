{
 "cells": [
  {
   "cell_type": "code",
   "execution_count": 54,
   "metadata": {},
   "outputs": [],
   "source": [
    "import time\n",
    "import numpy as np"
   ]
  },
  {
   "cell_type": "code",
   "execution_count": 62,
   "metadata": {},
   "outputs": [
    {
     "data": {
      "text/plain": [
       "2"
      ]
     },
     "execution_count": 62,
     "metadata": {},
     "output_type": "execute_result"
    }
   ],
   "source": [
    "def three_sum_brute_force(x):\n",
    "    count=0\n",
    "    for i in range(len(x)):\n",
    "        for j in range(i+1,len(x)):\n",
    "            for k in range(j+1,len(x)):\n",
    "                if x[i]+x[j]+x[k]==0:\n",
    "                    count+=1\n",
    "                    \n",
    "    return count\n",
    "y=[1,3,-2,-3,5,6,7,-5]\n",
    "three_sum_brute_force(y)"
   ]
  },
  {
   "cell_type": "code",
   "execution_count": 4,
   "metadata": {},
   "outputs": [
    {
     "data": {
      "text/plain": [
       "(0, [])"
      ]
     },
     "execution_count": 4,
     "metadata": {},
     "output_type": "execute_result"
    }
   ],
   "source": [
    "def three_sum_brute_force(x):\n",
    "    count=0\n",
    "    l=[]\n",
    "    for i in range(len(x)):\n",
    "        for j in range(i+1,len(x)):\n",
    "            for k in range(j+1,len(x)):\n",
    "                if x[i]+x[j]+x[k]==30:\n",
    "                    count+=1\n",
    "                    l.append((x[i],x[j],x[k]))\n",
    "                    \n",
    "    return count,l\n",
    "y=[1,3,5,7,9,11,13,15]\n",
    "three_sum_brute_force(y)"
   ]
  },
  {
   "cell_type": "code",
   "execution_count": 78,
   "metadata": {},
   "outputs": [
    {
     "data": {
      "text/plain": [
       "2"
      ]
     },
     "execution_count": 78,
     "metadata": {},
     "output_type": "execute_result"
    }
   ],
   "source": [
    "def binary_search(x,key):\n",
    "    l=0;r=len(x)-1\n",
    "    while l<=r:\n",
    "        mid=int((r+l)/2)\n",
    "        if x[mid]==key:\n",
    "            return 1 \n",
    "        if key<x[mid]:\n",
    "            r=mid-1\n",
    "        if x[mid]<key:\n",
    "            l=mid+1\n",
    "    return 0\n",
    "def insertion_sort(x):\n",
    "    for i in range(1,len(x)):\n",
    "        key=x[i]\n",
    "        j=i-1\n",
    "        while(x[j]>key and j>=0):\n",
    "            x[j+1]=x[j]\n",
    "            j=j-1\n",
    "        x[j+1]=key\n",
    "    return x\n",
    "\n",
    "def count_3_sums(x):\n",
    "    count=0\n",
    "    x=insertion_sort(x)\n",
    "    for i in range(len(x)):\n",
    "        for j in range(i+1,len(x)):\n",
    "            key=-(x[i]+x[j])\n",
    "            if x[i]<x[j]<key:\n",
    "                if binary_search(x,key):\n",
    "                    count+=1\n",
    "    \n",
    "    return count\n",
    "\n",
    "x_1=[1,3,-2,-3,5,6,7,-5]\n",
    "count_3_sums(x_1)"
   ]
  },
  {
   "cell_type": "code",
   "execution_count": 80,
   "metadata": {},
   "outputs": [
    {
     "name": "stdout",
     "output_type": "stream",
     "text": [
      "Execution time of N^2logN (s): 626.7781751155853\n"
     ]
    }
   ],
   "source": [
    "\n",
    "array=np.random.randint(-10,10,25600) \n",
    "\n",
    "# start=time.time()\n",
    "# three_sum_brute_force(array)\n",
    "# end=time.time()\n",
    "# print(\"Execution time of brute force (s):\",end-start)\n",
    "\n",
    "start=time.time()\n",
    "count_3_sums(array)\n",
    "end=time.time()\n",
    "print(\"Execution time of N^2logN (s):\",end-start)"
   ]
  },
  {
   "cell_type": "code",
   "execution_count": null,
   "metadata": {},
   "outputs": [],
   "source": []
  },
  {
   "cell_type": "code",
   "execution_count": 89,
   "metadata": {},
   "outputs": [],
   "source": [
    "class F:\n",
    "    a=0\n",
    "    b=823\n",
    "    c=3"
   ]
  },
  {
   "cell_type": "code",
   "execution_count": 82,
   "metadata": {},
   "outputs": [
    {
     "name": "stdout",
     "output_type": "stream",
     "text": [
      "My dog's name is Buddy and is 3 years old.\n",
      "Buddy says Woof!\n",
      "Buddy is now 4 years old!\n"
     ]
    }
   ],
   "source": [
    "class Dog:\n",
    "    def __init__(self, name, age):\n",
    "        self.name = name\n",
    "        self.age = age\n",
    "\n",
    "    def bark(self):\n",
    "        print(f\"{self.name} says Woof!\")\n",
    "\n",
    "    def celebrate_birthday(self):\n",
    "        self.age += 1\n",
    "        print(f\"{self.name} is now {self.age} years old!\")\n",
    "\n",
    "# Creating an instance of the Dog class\n",
    "my_dog = Dog(name=\"Buddy\", age=3)\n",
    "\n",
    "# Accessing attributes of the instance\n",
    "print(f\"My dog's name is {my_dog.name} and is {my_dog.age} years old.\")\n",
    "\n",
    "# Calling a method of the instance\n",
    "my_dog.bark()\n",
    "\n",
    "# Celebrating the birthday of the dog\n",
    "my_dog.celebrate_birthday()\n"
   ]
  },
  {
   "cell_type": "code",
   "execution_count": 94,
   "metadata": {},
   "outputs": [
    {
     "name": "stdout",
     "output_type": "stream",
     "text": [
      "1072\n"
     ]
    }
   ],
   "source": [
    "import sys\n",
    "print(sys.getsizeof(F))"
   ]
  },
  {
   "cell_type": "code",
   "execution_count": 154,
   "metadata": {},
   "outputs": [
    {
     "name": "stdout",
     "output_type": "stream",
     "text": [
      "72\n"
     ]
    }
   ],
   "source": [
    "x=[1,3]\n",
    "print(sys.getsizeof(x))"
   ]
  }
 ],
 "metadata": {
  "kernelspec": {
   "display_name": "Python 3",
   "language": "python",
   "name": "python3"
  },
  "language_info": {
   "codemirror_mode": {
    "name": "ipython",
    "version": 3
   },
   "file_extension": ".py",
   "mimetype": "text/x-python",
   "name": "python",
   "nbconvert_exporter": "python",
   "pygments_lexer": "ipython3",
   "version": "3.10.12"
  }
 },
 "nbformat": 4,
 "nbformat_minor": 2
}
