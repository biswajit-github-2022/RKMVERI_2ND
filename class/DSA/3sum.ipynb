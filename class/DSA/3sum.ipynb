{
 "cells": [
  {
   "cell_type": "code",
   "execution_count": 22,
   "metadata": {},
   "outputs": [
    {
     "name": "stdout",
     "output_type": "stream",
     "text": [
      "10\n",
      "[[1, 2, -3], [1, 5, -6], [1, 6, -7], [2, 3, -5], [2, 5, -7], [3, -1, -2], [-1, 6, -5], [-1, 7, -6], [-2, -3, 5], [-2, 7, -5]]\n"
     ]
    }
   ],
   "source": [
    "count=0\n",
    "l=[]\n",
    "x=[1,2,3,-1,-2,-3,5,6,7,-5,-6,-7]\n",
    "for i in range(len(x)):\n",
    "    for j in range(i+1,len(x)):\n",
    "        for k in range(j+1,len(x)):\n",
    "            if x[i]+x[j]+x[k]==0:\n",
    "                count+=1\n",
    "                l.append([x[i],x[j],x[k]])\n",
    "print(count)\n",
    "print(l)"
   ]
  }
 ],
 "metadata": {
  "kernelspec": {
   "display_name": "Python 3",
   "language": "python",
   "name": "python3"
  },
  "language_info": {
   "codemirror_mode": {
    "name": "ipython",
    "version": 3
   },
   "file_extension": ".py",
   "mimetype": "text/x-python",
   "name": "python",
   "nbconvert_exporter": "python",
   "pygments_lexer": "ipython3",
   "version": "3.10.12"
  }
 },
 "nbformat": 4,
 "nbformat_minor": 2
}
