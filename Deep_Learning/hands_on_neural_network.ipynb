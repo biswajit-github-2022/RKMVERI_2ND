{
  "nbformat": 4,
  "nbformat_minor": 0,
  "metadata": {
    "colab": {
      "provenance": [],
      "toc_visible": true,
      "gpuType": "T4",
      "authorship_tag": "ABX9TyMLYyZJ1MwLkC8GrqbmO1Fp",
      "include_colab_link": true
    },
    "kernelspec": {
      "name": "python3",
      "display_name": "Python 3"
    },
    "language_info": {
      "name": "python"
    },
    "accelerator": "GPU"
  },
  "cells": [
    {
      "cell_type": "markdown",
      "metadata": {
        "id": "view-in-github",
        "colab_type": "text"
      },
      "source": [
        "<a href=\"https://colab.research.google.com/github/biswajit-github-2022/RKMVERI_2ND/blob/main/Deep_Learning/hands_on_neural_network.ipynb\" target=\"_parent\"><img src=\"https://colab.research.google.com/assets/colab-badge.svg\" alt=\"Open In Colab\"/></a>"
      ]
    },
    {
      "cell_type": "code",
      "execution_count": null,
      "metadata": {
        "id": "xNVdr5qnvXxq"
      },
      "outputs": [],
      "source": []
    },
    {
      "cell_type": "markdown",
      "source": [
        "# New section"
      ],
      "metadata": {
        "id": "KTCeNAVVvcWl"
      }
    },
    {
      "cell_type": "code",
      "source": [
        "import tensorflow as tf\n",
        "print(tf.__version__)"
      ],
      "metadata": {
        "colab": {
          "base_uri": "https://localhost:8080/"
        },
        "id": "oOD8FHhwveEJ",
        "outputId": "d1abc357-86f7-4e79-dce3-8f1cf2db06f3"
      },
      "execution_count": 3,
      "outputs": [
        {
          "output_type": "stream",
          "name": "stdout",
          "text": [
            "2.15.0\n"
          ]
        }
      ]
    },
    {
      "cell_type": "markdown",
      "source": [],
      "metadata": {
        "id": "6ZXIw4oq4rJq"
      }
    },
    {
      "cell_type": "code",
      "source": [
        "x=tf.constant(4, shape=(1,1), dtype=tf.float32)\n",
        "x=tf.constant([[1,2,3],[1,2,3]])\n",
        "# print(y)\n",
        "x=tf.ones((2,3))\n",
        "x=tf.zeros((2,3))\n",
        "x=tf.eye((2))\n",
        "\n",
        "# dist\n",
        "x=tf.random.normal((3,3),mean=0,stddev=1)\n",
        "x=tf.random.uniform((3,3),minval=0,maxval=1)\n",
        "x=tf.range(start=1,limit=10,delta=2)\n",
        "x=tf.cast(x,tf.float16)\n",
        "\n",
        "\n",
        "# math\n",
        "x=tf.constant([1,2,3])\n",
        "y=tf.constant([9,8,7])\n",
        "# z=x+y\n",
        "z=tf.add(x,y)\n",
        "z=tf.subtract(x,y)\n",
        "z=tf.divide(x,y)\n",
        "z=tf.multiply(x,y)\n",
        "z=tf.tensordot(x,y,axes=0)#3*3\n",
        "z=tf.tensordot(x,y,axes=1)#same\n",
        "z=tf.reduce_sum(x*y,axis=0)#same\n",
        "z**=5\n",
        "print(z)\n",
        "print(x)"
      ],
      "metadata": {
        "colab": {
          "base_uri": "https://localhost:8080/"
        },
        "id": "K9tMUH7-wSlD",
        "outputId": "7572c656-8d51-4084-bae2-7692f7f7ad03"
      },
      "execution_count": 52,
      "outputs": [
        {
          "output_type": "stream",
          "name": "stdout",
          "text": [
            "tf.Tensor(205962976, shape=(), dtype=int32)\n",
            "tf.Tensor([1 2 3], shape=(3,), dtype=int32)\n"
          ]
        }
      ]
    },
    {
      "cell_type": "code",
      "source": [
        "\n",
        "\n",
        "x=tf.random.normal((2,3))\n",
        "y=tf.random.normal((3,4))\n",
        "z=tf.matmul(x,y)\n",
        "z=x@y\n",
        "print(z)\n",
        "\n",
        "\n",
        "# indexing\n",
        "x=tf.constant([0,1,2,3,1,2,3])\n",
        "# print(x[0])\n",
        "# print(x[:])\n",
        "# print(x[1:])\n",
        "# print(x[1:3])\n",
        "# print(x[::2])\n",
        "# print(x[::-1])\n",
        "# want index 0,2\n",
        "indices=tf.constant([0,6])\n",
        "x_index=tf.gather(x,indices)\n",
        "print(x_index)\n",
        "\n",
        "# matrix index\n",
        "x=tf.constant([[1,2],[3,4],[5,6]])\n",
        "print(x[1:2,0:1])#-->3\n",
        "print(x[1:,:1])\n",
        "\n",
        "# reshaping\n",
        "x=tf.range(9)\n",
        "x=tf.reshape(x,(3,3))\n",
        "print(x)\n",
        "y=tf.transpose(x,perm=[1,0])\n",
        "print(y)"
      ],
      "metadata": {
        "colab": {
          "base_uri": "https://localhost:8080/"
        },
        "id": "WmAMOzZs0ukU",
        "outputId": "a3bdb42f-78ae-41aa-d981-ac64ee542dd1"
      },
      "execution_count": 78,
      "outputs": [
        {
          "output_type": "stream",
          "name": "stdout",
          "text": [
            "tf.Tensor(\n",
            "[[ 0.89116335 -1.1899775  -1.9823257  -1.2180679 ]\n",
            " [-0.9232565   1.4684417   2.3125591   0.11903507]], shape=(2, 4), dtype=float32)\n",
            "tf.Tensor([0 3], shape=(2,), dtype=int32)\n",
            "tf.Tensor([[3]], shape=(1, 1), dtype=int32)\n",
            "tf.Tensor(\n",
            "[[3]\n",
            " [5]], shape=(2, 1), dtype=int32)\n",
            "tf.Tensor(\n",
            "[[0 1 2]\n",
            " [3 4 5]\n",
            " [6 7 8]], shape=(3, 3), dtype=int32)\n",
            "tf.Tensor(\n",
            "[[0 3 6]\n",
            " [1 4 7]\n",
            " [2 5 8]], shape=(3, 3), dtype=int32)\n"
          ]
        }
      ]
    },
    {
      "cell_type": "markdown",
      "source": [
        "# Basic NN"
      ],
      "metadata": {
        "id": "YOJYv9VB4543"
      }
    },
    {
      "cell_type": "code",
      "source": [
        "from tensorflow import keras\n",
        "from tensorflow.keras import layers\n",
        "from tensorflow.keras.datasets import mnist\n",
        "# print(mnist)\n",
        "\n",
        "(x_train,y_train),(x_test,y_test)=mnist.load_data()\n",
        "# print(x_train.shape,y_train.shape,x_test.shape,y_test.shape)\n",
        "x_train=x_train.reshape(-1,28*28).astype(\"float32\")/255.0\n",
        "x_test=x_test.reshape(-1,28*28).astype(\"float32\")/255.0\n",
        "# print(x_train.shape)\n",
        "\n",
        "# sequensial API(convinent but not flexible)\n",
        "# model=keras.Sequential(\n",
        "#     [\n",
        "#         keras.Input(shape=(28*28)),\n",
        "#         layers.Dense(512,activation='relu'),\n",
        "#         layers.Dense(256,activation='relu'),\n",
        "#         layers.Dense(10),\n",
        "#     ]\n",
        "# )\n",
        "\n",
        "# another way to add layers to model using Squensial API\n",
        "# model=keras.Sequential()\n",
        "# model.add(layers.Dense(512,activation='relu'))\n",
        "# model.add(layers.Dense(256,activation='relu'))\n",
        "# model.add(layers.Dense(10))\n",
        "\n",
        "\n",
        "# Functional API\n",
        "inputs=keras.Input(shape=(28*28))\n",
        "x=layers.Dense(512,activation='relu',name='Fist_layer')(inputs)\n",
        "x=layers.Dense(256,activation='relu',name='Second_layer')(x)\n",
        "outputs=layers.Dense(10,activation='softmax',name='Third_layer')(x)\n",
        "model=keras.Model(inputs=inputs,outputs=outputs)\n",
        "# model=keras.Model(inputs=model.inputs,\n",
        "#                   outputs=[model.layers[-2].output])\n",
        "model=keras.Model(inputs=model.inputs,\n",
        "                  outputs=[layer.output for layer in model.layers]) ##for all layers\n",
        "# model=keras.Model(inputs=model.inputs,\n",
        "#                   outputs=[model.get_layer('Third_layer').output])\n",
        "features=model.predict(x_train)\n",
        "for feature in features:\n",
        "  print(feature.shape)\n",
        "\n",
        "\n",
        "print(model.summary())\n",
        "model.compile(\n",
        "    loss=keras.losses.SparseCategoricalCrossentropy(from_logits=True),\n",
        "    optimizer=keras.optimizers.Adam(lr=0.001),\n",
        "    metrics=[\"accuracy\"],\n",
        ")\n",
        "model.fit(x_train,y_train,batch_size=32,epochs=5,verbose=2)\n",
        "model.evaluate(x_test,y_test,batch_size=32,verbose=2)"
      ],
      "metadata": {
        "colab": {
          "base_uri": "https://localhost:8080/"
        },
        "id": "k1VYqaw449Gs",
        "outputId": "21672e28-0668-469f-b6f1-38eb005d10ae"
      },
      "execution_count": 96,
      "outputs": [
        {
          "output_type": "stream",
          "name": "stdout",
          "text": [
            "1875/1875 [==============================] - 3s 2ms/step\n",
            "(60000, 784)\n",
            "(60000, 512)\n",
            "(60000, 256)\n",
            "(60000, 10)\n",
            "Model: \"model_2\"\n",
            "_________________________________________________________________\n",
            " Layer (type)                Output Shape              Param #   \n",
            "=================================================================\n",
            " input_5 (InputLayer)        [(None, 784)]             0         \n",
            "                                                                 \n",
            " Fist_layer (Dense)          (None, 512)               401920    \n",
            "                                                                 \n",
            " Second_layer (Dense)        (None, 256)               131328    \n",
            "                                                                 \n",
            " Third_layer (Dense)         (None, 10)                2570      \n",
            "                                                                 \n",
            "=================================================================\n",
            "Total params: 535818 (2.04 MB)\n",
            "Trainable params: 535818 (2.04 MB)\n",
            "Non-trainable params: 0 (0.00 Byte)\n",
            "_________________________________________________________________\n"
          ]
        },
        {
          "output_type": "stream",
          "name": "stderr",
          "text": [
            "WARNING:absl:`lr` is deprecated in Keras optimizer, please use `learning_rate` or use the legacy optimizer, e.g.,tf.keras.optimizers.legacy.Adam.\n"
          ]
        },
        {
          "output_type": "stream",
          "name": "stdout",
          "text": [
            "None\n",
            "Epoch 1/5\n"
          ]
        },
        {
          "output_type": "stream",
          "name": "stderr",
          "text": [
            "/usr/local/lib/python3.10/dist-packages/keras/src/backend.py:5727: UserWarning: \"`sparse_categorical_crossentropy` received `from_logits=True`, but the `output` argument was produced by a Softmax activation and thus does not represent logits. Was this intended?\n",
            "  output, from_logits = _get_logits(\n"
          ]
        },
        {
          "output_type": "stream",
          "name": "stdout",
          "text": [
            "1875/1875 - 6s - loss: 8.6819 - input_5_loss: 6.8522 - Fist_layer_loss: 1.3824 - Second_layer_loss: 0.2401 - Third_layer_loss: 0.2072 - input_5_accuracy: 0.0000e+00 - Fist_layer_accuracy: 0.7603 - Second_layer_accuracy: 0.9379 - Third_layer_accuracy: 0.9373 - 6s/epoch - 3ms/step\n",
            "Epoch 2/5\n",
            "1875/1875 - 5s - loss: 7.5418 - input_5_loss: 6.8522 - Fist_layer_loss: 0.5172 - Second_layer_loss: 0.0835 - Third_layer_loss: 0.0889 - input_5_accuracy: 0.0000e+00 - Fist_layer_accuracy: 0.8856 - Second_layer_accuracy: 0.9752 - Third_layer_accuracy: 0.9722 - 5s/epoch - 3ms/step\n",
            "Epoch 3/5\n",
            "1875/1875 - 5s - loss: 7.2621 - input_5_loss: 6.8522 - Fist_layer_loss: 0.2921 - Second_layer_loss: 0.0553 - Third_layer_loss: 0.0625 - input_5_accuracy: 0.0000e+00 - Fist_layer_accuracy: 0.9202 - Second_layer_accuracy: 0.9832 - Third_layer_accuracy: 0.9806 - 5s/epoch - 3ms/step\n",
            "Epoch 4/5\n",
            "1875/1875 - 5s - loss: 7.2148 - input_5_loss: 6.8521 - Fist_layer_loss: 0.2788 - Second_layer_loss: 0.0381 - Third_layer_loss: 0.0457 - input_5_accuracy: 0.0000e+00 - Fist_layer_accuracy: 0.9234 - Second_layer_accuracy: 0.9880 - Third_layer_accuracy: 0.9854 - 5s/epoch - 3ms/step\n",
            "Epoch 5/5\n",
            "1875/1875 - 6s - loss: 7.1875 - input_5_loss: 6.8522 - Fist_layer_loss: 0.2709 - Second_layer_loss: 0.0287 - Third_layer_loss: 0.0358 - input_5_accuracy: 0.0000e+00 - Fist_layer_accuracy: 0.9255 - Second_layer_accuracy: 0.9906 - Third_layer_accuracy: 0.9886 - 6s/epoch - 3ms/step\n",
            "313/313 - 1s - loss: 7.2641 - input_5_loss: 6.8548 - Fist_layer_loss: 0.2700 - Second_layer_loss: 0.0674 - Third_layer_loss: 0.0718 - input_5_accuracy: 0.0000e+00 - Fist_layer_accuracy: 0.9260 - Second_layer_accuracy: 0.9786 - Third_layer_accuracy: 0.9785 - 1s/epoch - 4ms/step\n"
          ]
        },
        {
          "output_type": "execute_result",
          "data": {
            "text/plain": [
              "[7.2640533447265625,\n",
              " 6.854820251464844,\n",
              " 0.2700355648994446,\n",
              " 0.06740257889032364,\n",
              " 0.07179230451583862,\n",
              " 0.0,\n",
              " 0.9259999990463257,\n",
              " 0.978600025177002,\n",
              " 0.9785000085830688]"
            ]
          },
          "metadata": {},
          "execution_count": 96
        }
      ]
    },
    {
      "cell_type": "code",
      "source": [
        "from google.colab import drive\n",
        "drive.mount('/content/drive')"
      ],
      "metadata": {
        "id": "z8D4pLTJGl-9"
      },
      "execution_count": null,
      "outputs": []
    },
    {
      "cell_type": "code",
      "source": [
        "\n"
      ],
      "metadata": {
        "id": "gFhWdARm45Nq"
      },
      "execution_count": null,
      "outputs": []
    }
  ]
}