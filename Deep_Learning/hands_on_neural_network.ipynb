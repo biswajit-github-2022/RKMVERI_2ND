{
  "cells": [
    {
      "cell_type": "markdown",
      "metadata": {
        "colab_type": "text",
        "id": "view-in-github"
      },
      "source": [
        "<a href=\"https://colab.research.google.com/github/biswajit-github-2022/RKMVERI_2ND/blob/main/Deep_Learning/hands_on_neural_network.ipynb\" target=\"_parent\"><img src=\"https://colab.research.google.com/assets/colab-badge.svg\" alt=\"Open In Colab\"/></a>"
      ]
    },
    {
      "cell_type": "code",
      "execution_count": null,
      "metadata": {
        "id": "xNVdr5qnvXxq"
      },
      "outputs": [],
      "source": []
    },
    {
      "cell_type": "markdown",
      "metadata": {
        "id": "KTCeNAVVvcWl"
      },
      "source": [
        "# New section"
      ]
    },
    {
      "cell_type": "code",
      "execution_count": 3,
      "metadata": {
        "colab": {
          "base_uri": "https://localhost:8080/"
        },
        "id": "oOD8FHhwveEJ",
        "outputId": "d1abc357-86f7-4e79-dce3-8f1cf2db06f3"
      },
      "outputs": [
        {
          "name": "stdout",
          "output_type": "stream",
          "text": [
            "2.15.0\n"
          ]
        }
      ],
      "source": [
        "import tensorflow as tf\n",
        "print(tf.__version__)"
      ]
    },
    {
      "cell_type": "markdown",
      "metadata": {
        "id": "6ZXIw4oq4rJq"
      },
      "source": []
    },
    {
      "cell_type": "code",
      "execution_count": 5,
      "metadata": {
        "colab": {
          "base_uri": "https://localhost:8080/"
        },
        "id": "K9tMUH7-wSlD",
        "outputId": "7572c656-8d51-4084-bae2-7692f7f7ad03"
      },
      "outputs": [
        {
          "name": "stdout",
          "output_type": "stream",
          "text": [
            "tf.Tensor(205962976, shape=(), dtype=int32)\n",
            "tf.Tensor([1 2 3], shape=(3,), dtype=int32)\n"
          ]
        }
      ],
      "source": [
        "x=tf.constant(4, shape=(1,1), dtype=tf.float32)\n",
        "x=tf.constant([[1,2,3],[1,2,3]])\n",
        "# print(y)\n",
        "x=tf.ones((2,3))\n",
        "x=tf.zeros((2,3))\n",
        "x=tf.eye((2))\n",
        "\n",
        "# dist\n",
        "x=tf.random.normal((3,3),mean=0,stddev=1)\n",
        "x=tf.random.uniform((3,3),minval=0,maxval=1)\n",
        "x=tf.range(start=1,limit=10,delta=2)\n",
        "x=tf.cast(x,tf.float16)\n",
        "\n",
        "\n",
        "# math\n",
        "x=tf.constant([1,2,3])\n",
        "y=tf.constant([9,8,7])\n",
        "# z=x+y\n",
        "z=tf.add(x,y)\n",
        "z=tf.subtract(x,y)\n",
        "z=tf.divide(x,y)\n",
        "z=tf.multiply(x,y)\n",
        "z=tf.tensordot(x,y,axes=0)#3*3\n",
        "z=tf.tensordot(x,y,axes=1)#same\n",
        "z=tf.reduce_sum(x*y,axis=0)#same\n",
        "z**=5\n",
        "print(z)\n",
        "print(x)"
      ]
    },
    {
      "cell_type": "code",
      "execution_count": 6,
      "metadata": {
        "colab": {
          "base_uri": "https://localhost:8080/"
        },
        "id": "WmAMOzZs0ukU",
        "outputId": "a3bdb42f-78ae-41aa-d981-ac64ee542dd1"
      },
      "outputs": [
        {
          "name": "stdout",
          "output_type": "stream",
          "text": [
            "tf.Tensor(\n",
            "[[-2.5806358   0.46112704  2.820477    1.7840967 ]\n",
            " [-1.6166298   0.4712274   1.6844383   0.63475925]], shape=(2, 4), dtype=float32)\n",
            "tf.Tensor([0 3], shape=(2,), dtype=int32)\n",
            "tf.Tensor([[3]], shape=(1, 1), dtype=int32)\n",
            "tf.Tensor(\n",
            "[[3]\n",
            " [5]], shape=(2, 1), dtype=int32)\n",
            "tf.Tensor(\n",
            "[[0 1 2]\n",
            " [3 4 5]\n",
            " [6 7 8]], shape=(3, 3), dtype=int32)\n",
            "tf.Tensor(\n",
            "[[0 3 6]\n",
            " [1 4 7]\n",
            " [2 5 8]], shape=(3, 3), dtype=int32)\n"
          ]
        }
      ],
      "source": [
        "\n",
        "\n",
        "x=tf.random.normal((2,3))\n",
        "y=tf.random.normal((3,4))\n",
        "z=tf.matmul(x,y)\n",
        "z=x@y\n",
        "print(z)\n",
        "\n",
        "\n",
        "# indexing\n",
        "x=tf.constant([0,1,2,3,1,2,3])\n",
        "# print(x[0])\n",
        "# print(x[:])\n",
        "# print(x[1:])\n",
        "# print(x[1:3])\n",
        "# print(x[::2])\n",
        "# print(x[::-1])\n",
        "# want index 0,2\n",
        "indices=tf.constant([0,6])\n",
        "x_index=tf.gather(x,indices)\n",
        "print(x_index)\n",
        "\n",
        "# matrix index\n",
        "x=tf.constant([[1,2],[3,4],[5,6]])\n",
        "print(x[1:2,0:1])#-->3\n",
        "print(x[1:,:1])\n",
        "\n",
        "# reshaping\n",
        "x=tf.range(9)\n",
        "x=tf.reshape(x,(3,3))\n",
        "print(x)\n",
        "y=tf.transpose(x,perm=[1,0])\n",
        "print(y)"
      ]
    },
    {
      "cell_type": "markdown",
      "metadata": {
        "id": "YOJYv9VB4543"
      },
      "source": [
        "# Basic NN"
      ]
    },
    {
      "cell_type": "code",
      "execution_count": 7,
      "metadata": {
        "colab": {
          "base_uri": "https://localhost:8080/"
        },
        "id": "k1VYqaw449Gs",
        "outputId": "21672e28-0668-469f-b6f1-38eb005d10ae"
      },
      "outputs": [
        {
          "name": "stdout",
          "output_type": "stream",
          "text": [
            "Downloading data from https://storage.googleapis.com/tensorflow/tf-keras-datasets/mnist.npz\n"
          ]
        },
        {
          "name": "stdout",
          "output_type": "stream",
          "text": [
            "11490434/11490434 [==============================] - 2s 0us/step\n",
            "1875/1875 [==============================] - 2s 872us/step\n",
            "(60000, 784)\n",
            "(60000, 512)\n",
            "(60000, 256)\n",
            "(60000, 10)\n",
            "Model: \"model_1\"\n",
            "_________________________________________________________________\n",
            " Layer (type)                Output Shape              Param #   \n",
            "=================================================================\n",
            " input_1 (InputLayer)        [(None, 784)]             0         \n",
            "                                                                 \n",
            " Fist_layer (Dense)          (None, 512)               401920    \n",
            "                                                                 \n",
            " Second_layer (Dense)        (None, 256)               131328    \n",
            "                                                                 \n",
            " Third_layer (Dense)         (None, 10)                2570      \n",
            "                                                                 \n",
            "=================================================================\n",
            "Total params: 535818 (2.04 MB)\n",
            "Trainable params: 535818 (2.04 MB)\n",
            "Non-trainable params: 0 (0.00 Byte)\n",
            "_________________________________________________________________\n"
          ]
        },
        {
          "name": "stderr",
          "output_type": "stream",
          "text": [
            "WARNING:absl:`lr` is deprecated in Keras optimizer, please use `learning_rate` or use the legacy optimizer, e.g.,tf.keras.optimizers.legacy.Adam.\n"
          ]
        },
        {
          "name": "stdout",
          "output_type": "stream",
          "text": [
            "None\n",
            "Epoch 1/5\n"
          ]
        },
        {
          "name": "stderr",
          "output_type": "stream",
          "text": [
            "/home/biswajitrana/.local/lib/python3.10/site-packages/keras/src/backend.py:5727: UserWarning: \"`sparse_categorical_crossentropy` received `from_logits=True`, but the `output` argument was produced by a Softmax activation and thus does not represent logits. Was this intended?\n",
            "  output, from_logits = _get_logits(\n"
          ]
        },
        {
          "name": "stdout",
          "output_type": "stream",
          "text": [
            "1875/1875 - 9s - loss: 8.1060 - input_1_loss: 6.8522 - Fist_layer_loss: 0.6598 - Second_layer_loss: 0.3830 - Third_layer_loss: 0.2110 - input_1_accuracy: 0.0000e+00 - Fist_layer_accuracy: 0.8609 - Second_layer_accuracy: 0.9144 - Third_layer_accuracy: 0.9364 - 9s/epoch - 5ms/step\n",
            "Epoch 2/5\n",
            "1875/1875 - 8s - loss: 7.3388 - input_1_loss: 6.8521 - Fist_layer_loss: 0.3135 - Second_layer_loss: 0.0838 - Third_layer_loss: 0.0894 - input_1_accuracy: 0.0000e+00 - Fist_layer_accuracy: 0.9144 - Second_layer_accuracy: 0.9751 - Third_layer_accuracy: 0.9724 - 8s/epoch - 4ms/step\n",
            "Epoch 3/5\n",
            "1875/1875 - 8s - loss: 7.2560 - input_1_loss: 6.8521 - Fist_layer_loss: 0.2888 - Second_layer_loss: 0.0549 - Third_layer_loss: 0.0602 - input_1_accuracy: 0.0000e+00 - Fist_layer_accuracy: 0.9209 - Second_layer_accuracy: 0.9837 - Third_layer_accuracy: 0.9809 - 8s/epoch - 4ms/step\n",
            "Epoch 4/5\n",
            "1875/1875 - 8s - loss: 7.2156 - input_1_loss: 6.8521 - Fist_layer_loss: 0.2776 - Second_layer_loss: 0.0398 - Third_layer_loss: 0.0460 - input_1_accuracy: 0.0000e+00 - Fist_layer_accuracy: 0.9236 - Second_layer_accuracy: 0.9876 - Third_layer_accuracy: 0.9854 - 8s/epoch - 4ms/step\n",
            "Epoch 5/5\n",
            "1875/1875 - 8s - loss: 7.1879 - input_1_loss: 6.8521 - Fist_layer_loss: 0.2702 - Second_layer_loss: 0.0297 - Third_layer_loss: 0.0359 - input_1_accuracy: 0.0000e+00 - Fist_layer_accuracy: 0.9250 - Second_layer_accuracy: 0.9905 - Third_layer_accuracy: 0.9886 - 8s/epoch - 4ms/step\n",
            "313/313 - 0s - loss: 7.2916 - input_1_loss: 6.8548 - Fist_layer_loss: 0.2683 - Second_layer_loss: 0.0745 - Third_layer_loss: 0.0940 - input_1_accuracy: 0.0000e+00 - Fist_layer_accuracy: 0.9267 - Second_layer_accuracy: 0.9799 - Third_layer_accuracy: 0.9776 - 445ms/epoch - 1ms/step\n"
          ]
        },
        {
          "data": {
            "text/plain": [
              "[7.291595935821533,\n",
              " 6.854820251464844,\n",
              " 0.26830387115478516,\n",
              " 0.07446655631065369,\n",
              " 0.09400609880685806,\n",
              " 0.0,\n",
              " 0.9266999959945679,\n",
              " 0.9799000024795532,\n",
              " 0.9775999784469604]"
            ]
          },
          "execution_count": 7,
          "metadata": {},
          "output_type": "execute_result"
        }
      ],
      "source": [
        "from tensorflow import keras\n",
        "from tensorflow.keras import layers\n",
        "from tensorflow.keras.datasets import mnist\n",
        "# print(mnist)\n",
        "\n",
        "(x_train,y_train),(x_test,y_test)=mnist.load_data()\n",
        "# print(x_train.shape,y_train.shape,x_test.shape,y_test.shape)\n",
        "x_train=x_train.reshape(-1,28*28).astype(\"float32\")/255.0\n",
        "x_test=x_test.reshape(-1,28*28).astype(\"float32\")/255.0\n",
        "# print(x_train.shape)\n",
        "\n",
        "# sequensial API(convinent but not flexible)\n",
        "# model=keras.Sequential(\n",
        "#     [\n",
        "#         keras.Input(shape=(28*28)),\n",
        "#         layers.Dense(512,activation='relu'),\n",
        "#         layers.Dense(256,activation='relu'),\n",
        "#         layers.Dense(10),\n",
        "#     ]\n",
        "# )\n",
        "\n",
        "# another way to add layers to model using Squensial API\n",
        "# model=keras.Sequential()\n",
        "# model.add(layers.Dense(512,activation='relu'))\n",
        "# model.add(layers.Dense(256,activation='relu'))\n",
        "# model.add(layers.Dense(10))\n",
        "\n",
        "\n",
        "# Functional API\n",
        "inputs=keras.Input(shape=(28*28))\n",
        "x=layers.Dense(512,activation='relu',name='Fist_layer')(inputs)\n",
        "x=layers.Dense(256,activation='relu',name='Second_layer')(x)\n",
        "outputs=layers.Dense(10,activation='softmax',name='Third_layer')(x)\n",
        "model=keras.Model(inputs=inputs,outputs=outputs)\n",
        "# model=keras.Model(inputs=model.inputs,\n",
        "#                   outputs=[model.layers[-2].output])\n",
        "model=keras.Model(inputs=model.inputs,\n",
        "                  outputs=[layer.output for layer in model.layers]) ##for all layers\n",
        "# model=keras.Model(inputs=model.inputs,\n",
        "#                   outputs=[model.get_layer('Third_layer').output])\n",
        "features=model.predict(x_train)\n",
        "for feature in features:\n",
        "  print(feature.shape)\n",
        "\n",
        "\n",
        "print(model.summary())\n",
        "model.compile(\n",
        "    loss=keras.losses.SparseCategoricalCrossentropy(from_logits=True),\n",
        "    optimizer=keras.optimizers.Adam(lr=0.001),\n",
        "    metrics=[\"accuracy\"],\n",
        ")\n",
        "model.fit(x_train,y_train,batch_size=32,epochs=5,verbose=2)\n",
        "model.evaluate(x_test,y_test,batch_size=32,verbose=2)"
      ]
    },
    {
      "cell_type": "code",
      "execution_count": null,
      "metadata": {
        "id": "z8D4pLTJGl-9"
      },
      "outputs": [],
      "source": [
        "from google.colab import drive\n",
        "drive.mount('/content/drive')"
      ]
    },
    {
      "cell_type": "code",
      "execution_count": null,
      "metadata": {
        "id": "gFhWdARm45Nq"
      },
      "outputs": [],
      "source": [
        "\n"
      ]
    }
  ],
  "metadata": {
    "accelerator": "GPU",
    "colab": {
      "authorship_tag": "ABX9TyMLYyZJ1MwLkC8GrqbmO1Fp",
      "gpuType": "T4",
      "include_colab_link": true,
      "provenance": [],
      "toc_visible": true
    },
    "kernelspec": {
      "display_name": "Python 3",
      "name": "python3"
    },
    "language_info": {
      "codemirror_mode": {
        "name": "ipython",
        "version": 3
      },
      "file_extension": ".py",
      "mimetype": "text/x-python",
      "name": "python",
      "nbconvert_exporter": "python",
      "pygments_lexer": "ipython3",
      "version": "3.10.12"
    }
  },
  "nbformat": 4,
  "nbformat_minor": 0
}
